{
 "cells": [
  {
   "cell_type": "code",
   "execution_count": 1,
   "id": "5945b617",
   "metadata": {},
   "outputs": [],
   "source": [
    "# !pip install ultralytics opencv-python matplotlib"
   ]
  },
  {
   "cell_type": "code",
   "execution_count": null,
   "id": "e1a7aa5c",
   "metadata": {},
   "outputs": [],
   "source": [
    "# 셀 2: YOLO 모델 로드 및 영상 캡처 코드\n",
    "from ultralytics import YOLO\n",
    "import cv2\n",
    "import threading\n",
    "from IPython.display import display, clear_output\n",
    "import PIL.Image\n",
    "import numpy as np\n",
    "\n",
    "# 모델 불러오기 (YOLOv8n: 경량 모델)\n",
    "model = YOLO('yolov8n.pt')\n",
    "\n",
    "# 웹캠 열기 (노트북 기본 카메라는 일반적으로 index 0)\n",
    "cap = cv2.VideoCapture(1)\n",
    "\n",
    "def detect_and_display():\n",
    "    while True:\n",
    "        ret, frame = cap.read()\n",
    "        if not ret:\n",
    "            break\n",
    "\n",
    "        # 객체 탐지 수행\n",
    "        results = model(frame)[0]\n",
    "        annotated_frame = results.plot()\n",
    "\n",
    "        # BGR → RGB 변환 후 이미지 표시\n",
    "        img_rgb = cv2.cvtColor(annotated_frame, cv2.COLOR_BGR2RGB)\n",
    "        pil_img = PIL.Image.fromarray(img_rgb)\n",
    "\n",
    "        # Jupyter 출력\n",
    "        clear_output(wait=True)\n",
    "        display(pil_img)\n",
    "\n",
    "        # 0.1초 대기 (프레임 속도 조절)\n",
    "        if cv2.waitKey(100) & 0xFF == 27:\n",
    "            break\n",
    "\n",
    "# 스레드로 실행 (Jupyter에서 끊기지 않게)\n",
    "threading.Thread(target=detect_and_display).start()\n"
   ]
  },
  {
   "cell_type": "code",
   "execution_count": 3,
   "id": "becc2fae-bdb9-46be-b19b-8767db3b51d3",
   "metadata": {},
   "outputs": [],
   "source": [
    "# # 객체 탐지 수행\n",
    "# results = model(frame)[0]\n",
    "# annotated_frame = results.plot()\n",
    "\n",
    "# # === 🔍 객체별 정보 출력 ===\n",
    "# boxes = results.boxes\n",
    "\n",
    "# for i in range(len(boxes)):\n",
    "#     cls_id = int(boxes.cls[i].item())\n",
    "#     confidence = float(boxes.conf[i].item())\n",
    "#     xyxy = boxes.xyxy[i].tolist()  # [x1, y1, x2, y2]\n",
    "\n",
    "#     class_name = model.names[cls_id]\n",
    "#     print(f\"탐지된 객체: {class_name} (신뢰도: {confidence:.2f}), 좌표: {xyxy}\")\n"
   ]
  },
  {
   "cell_type": "code",
   "execution_count": null,
   "id": "682bc53b",
   "metadata": {},
   "outputs": [],
   "source": []
  }
 ],
 "metadata": {
  "kernelspec": {
   "display_name": "Python 3 (ipykernel)",
   "language": "python",
   "name": "python3"
  },
  "language_info": {
   "codemirror_mode": {
    "name": "ipython",
    "version": 3
   },
   "file_extension": ".py",
   "mimetype": "text/x-python",
   "name": "python",
   "nbconvert_exporter": "python",
   "pygments_lexer": "ipython3",
   "version": "3.13.5"
  }
 },
 "nbformat": 4,
 "nbformat_minor": 5
}
