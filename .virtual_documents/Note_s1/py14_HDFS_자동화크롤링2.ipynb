from hdfs import InsecureClient
from io import BytesIO
import pandas as pd


# !pip install xlrd
# !pip install openpyxl ; xlsx 용


hdfs = InsecureClient('http://namenode:9870',user="hadoop")
hdfs_path ='/user/hadoop/autoupload/'
file_name = '지역_위치별(주유소).xls'
full_path = hdfs_path + file_name


file_list = hdfs.list(hdfs_path)
datas =[]
for n in file_list:
    with hdfs.read(full_path) as reader:
        raw_data = reader.read()  # 전체 내용을 바이트로 읽음
        buffer = BytesIO(raw_data)  # 메모리에서 seek 가능한 객체 생성
        df = pd.read_excel(buffer, skiprows=2,  engine='xlrd')  # 필요시 engine 
        datas.append(df)
total = pd.concat(datas)


total



