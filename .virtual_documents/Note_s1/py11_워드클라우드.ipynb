# !pip install wordcloud


import matplotlib.pyplot as plt
from wordcloud import WordCloud

# 샘플 텍스트
text = """
"I swear to God I need help," said the man quietly on the other end of the line.

The Ethiopian, who calls himself Mike, said he is being held with 450 others in a building inside Myanmar, along the country's border with Thailand.

They are among the thousands of people who have been freed from the notorious scam compounds that have thrived on the border for years, in what appears to be the toughest action so far against the industry along the Thai-Myanmar border.

But many of them are now stranded in Myanmar in makeshift camps because the process of assessing them and arranging flights back to their own countries is so slow.

The armed militia groups who are holding them have a very limited capacity to support so many people – more than 7,000. One of them has said they have stopped freeing people from the compounds because they are not being moved to Thailand fast enough.

The BBC understands that conditions in the camps are unsanitary, food barely sufficient, and many of the freed workers, like Mike, are in poor health. He is suffering from panic attacks, after working for a year in a scam centre where he was routinely beaten.

He told us they got two very basic meals a day, there were only two toilets for 450 people, who he said were now relieving themselves wherever they could.

Casinos, high-rises and fraud: The BBC visits a bizarre city built on scams
The Chinese mafia's downfall in a lawless casino town
Mike described being invited a year ago to take up what he was promised would be a good job, in Thailand, requiring only good English language and typing skills.

Instead he found himself subjected to a brutal regime, forced to work long hours every day to meet the target for defrauding people online set by his Chinese bosses.

"It was the worst experience of my life. Of course I was beaten. But believe me I have seen a lot worse done to other people."

Getty Images Alleged scam centre workers and victims rest in a row. Getty Images
Those being held in the camps have complained of cramped and unsanitary conditions
Mike is one of an estimated 100,000 people who are believed to have been lured to work in the scam operations along the Thai-Myanmar border, most of them run by Chinese fraud and gambling operatives who have taken advantage of the lawlessness in this part of Myanmar.

Despite horrifying accounts of abuse from those who escaped in the past, thousands still come from parts of the world where good jobs are scarce, enticed by promises of good money.

China, where many of the scam victims come from, has acted to shut down scam operations along its own border with Myanmar, but until this year neither China nor Thailand had done much about the Thai-Myanmar border.

Ariyan, a young man from Bangladesh, has come back to Thailand to try to help 17 friends who are still there. He said he made a promise to himself to do this after his own gruelling escape from one of the most notorious scam centres last October.

He showed us a brief, shaky video of the compound, still under construction in a remote, forested valley, where he was held, and remembers the terrible treatment he and his friends suffered at the hands of their Chinese boss.

"They gave us a target every week, $5,000. If not, they gave us two electric shocks. Or they put us in a dark room, with no windows. But if we earned a lot of money, they were very happy with us."

Ariyan had to approach men in the Middle East and lure them into transferring funds to fictitious investments. Using AI, the scammers made him appear on the screen to be an attractive young woman, altering his voice as well.

He says he hated doing it. He remembers one man who was willing to sell his wife's jewellery to fund the fraudulent investment, and wishing he could warn him. But he said the bosses monitored all their calls.
"""

# 워드클라우드
wordcloud = WordCloud(width=800, height=400, background_color='white').generate(text)

# 시각화
plt.figure(figsize=(10,5))
plt.imshow(wordcloud, interpolation="bilinear")
plt.axis('off')
plt.show()


# 필요한 라이브러리 가져오기
import matplotlib.pyplot as plt # 데이터 시각화를 위한 라이브러리
from wordcloud import WordCloud # 워드 클라우드를 생성하는 라이브러리
import matplotlib.font_manager as fm
from konlpy.tag import Komoran # 명사만 분리하기

# 한글 폰트 설정
font_path = "./ref/D2Coding-Ver1.3.2-20180524.ttf"

# 분석할 텍스트 초기화
text ="""
국내 연구팀이 차세대 배터리인 무음극배터리의 수명과 안전성 문제를 해결할 수 있는 신소재를 개발하고 성능을 입증하는 데 성공했다.
한국원자력연구원은 충남대, 경북대 연구팀과 협력해 미세한 은 입자를 주입한 맥신 복합체 소재를 개발하고 무음극배터리의 안정성을 강화했다고 27일 밝혔다. 맥신은 탄소(C)와 티타늄(Ti)으로 이뤄진 얇은 층으로 구성된 소재로 금속처럼 전기를 잘 전달하면서도 유연한 소재다. 연구결과는 국제학술지 '물리화학 레터스'에 공개됐다.
무음극배터리는 기존 배터리에서 음극을 제거해 작고 가벼우면서도 에너지 저장용량을 늘린 차세대 배터리다. 전기차나 에너지저장장치 등 높은 에너지밀도와 경량화가 필요한 분야에서 주목하고 있다.
무음극배터리는 배터리 내부 이온이 고르게 이동하지 않아 금속이 불규칙하고 뾰족하게 증착되는 수지상돌기가 쉽게 형성돼 배터리 수명과 안전성이 저하되는 문제가 있다.
연구팀은 기존 맥신 소재만으로는 배터리 내 이온 흐름이 원활하지 않다는 점을 개선하기 위해 맥신 층 사이에 미세한 은 입자를 삽입한 복합체를 개발했다. 은 입자는 전기전도성이 높고 경제적인 물질이다.
맥신과 은 입자는 모두 음전하(-)를 띠며 서로 밀어내기 때문에 주입이 어렵다. 연구팀은 이 문제를 압력 차이로 해결했다. 맥신 내부 압력을 낮춰 대기압이 은 입자를 맥신 층 사이로 밀어 넣도록 한 것이다.
맥신과 은 복합체를 배터리 내부에서 이온이 저장되는 금속판 위에 도포한 결과 이온의 이동 통로 넓이가 10배 이상 커져 이온이 배터리 내부에 고르게 흘러 들어간다는 사실이 확인됐다. 이온 흐름이 균일하면 수지상돌기 형성이 줄어 배터리 성능과 안전성이 향상된다.
연구팀은 원자력연 중성자 소각산란장치를 활용해 배터리 내 맥신 복합체가 이온 흐름을 원활히 한다는 사실을 확인했다. 전기전도도를 측정해 맥신 복합체를 삽입한 무음극배터리가 정상 작동한다는 것도 확인했다.
중성자 소각산란장치는 냉중성자원을 샘플에 조사하고 튕겨 나온 중성자를 통해 물질의 배치나 구조 등을 정밀하게 분석하는 장치다. 냉중성자는 연구용원자로인 하나로에서 생산된 고온의 중성자를 극저온까지 식힌 중성자로 나노미터 크기의 물질 구조를 연구하는 데 활용된다.
논문 제1저자인 참여한 이상호 원자력연 중성자과학부 선임연구원은 "맥신과 같은 2차원 소재의 미세 경로 조절 기술은 무음극전지에서 안전성과 수명을 연장하는 핵심기술로 향후 이차전지 연구에 다양성을 제공할 것으로 기대된다"고 전했다.
""" # wordcloud에서 사용할 텍스트 문자열 (여기에 사용할 텍스트를 넣으세요)


# data = [t for t in text if bool(t.strip())]
# print(data)
komoran = Komoran()
nouns = komoran.nouns(text)
nouns_text = " ".join(nouns)
print(nouns_text)


# 워드 클라우드 생성
# WordCloud 객체를 생성할 때의 매개변수:
# width=800: 워드 클라우드의 너비를 800 픽셀로 설정
# height=400: 워드 클라우드의 높이를 400 픽셀로 설정
# background_color='white': 워드 클라우드의 배경색을 흰색으로 설정
wordcloud = WordCloud(font_path= font_path, width=800, height=400, background_color='white').generate(nouns_text)

# 시각화
plt.figure(figsize=(10,5)) # 시각화할 그림 크기를 설정 (가로 10인치, 세로 5인치)
plt.imshow(wordcloud, interpolation="bilinear") # 생성된 워드 클라우드를 그림으로 표시
plt.axis('off') # x, y 축을 표시하지 않도록 설정
plt.savefig("word2.png")
plt.show() # 그림을 화면에 표시



from collections import Counter
word_counts = Counter(nouns_text.split())
print(word_counts)


# 필요한 라이브러리 가져오기
import matplotlib.pyplot as plt # 데이터 시각화를 위한 라이브러리
from wordcloud import WordCloud # 워드 클라우드를 생성하는 라이브러리
import matplotlib.font_manager as fm
from konlpy.tag import Komoran # 명사만 분리하기

# 한글 폰트 설정
font_path = "./ref/D2Coding-Ver1.3.2-20180524.ttf"

# 분석할 텍스트 초기화
text ="""세종실록25권, 세종 6년 7월
원경 황태후의 존호를 창덕 소열 원경 왕태후로 하다
광효전에서 태종 공정 대왕의 담제를 지내다
기일 전에 통례문이 자리 배치를 하고 대왕과 왕후의 신주 앞에 담제를 지내다
대제학 변계량과 성산 부원군 이직이 사신을 영접, 연회 베풀 것을 아뢰다
대마주의 종언륙의 모친에게 정포를 하사하다
건주위 군인을 황제의 성지가 없이 함길도에 왕래하지 못하게 하다
내관 왕현을 비의 어머니 김씨의 제사에 보내 애도를 표하다
지신사 곽존중에게 국가의 대사로 인해 무역할 수 없음을 사신에게 말하게 하다
내관 김순을 보내어 내선을 사신에게 대접하게 하다
종친과 부마가 사신을 위로하는 연회를 베풀어 처음으로 풍악을 연주하다
황제에게 처녀를 진헌하게 하고 진헌색을 설치, 판돈녕 김구덕 등을 제조로 삼다
진헌할 은구어·연어·문어 등을 각도에서 철따라 잡아서 간이 맞게 말리게 하다
광효전에 나가 종묘에 사배하고 수강궁 악차에 머물다
부원군 문충공 하윤에게 교서를 보내 태종의 배향 공신의 사당에 제사를 지내다
광효전에서 제사를 지내고 종묘에서 추향 대제를 행하다
대제학 변계량이 왕을 공정왕의 손자로 칭할 것을 아뢰었으나 중의가 논박하다
사신이 물건을 바꾸어 달라 하였으나 호조의 청으로 모시와 마포를 사서 주다
주문사 총제 원민생이 북경에서 돌아오다
사신에게 근정전에서 연회를 베풀어 주고 안장 갖춘 말을 선사하다
조용의 졸기
진헌색이 처녀를 제대로 신고할 수 있도록 법을 간청하여 그대로 하다
망제에 쓸 향과 축문을 친히 전하다
내관 김부를 보내어 내선을 사신에게 대접하게 하다
조용의 죽음으로 연회를 정지시키려 하였으나 신상의 청으로 그대로 하다
대마주 수호 종정성 등의 우리 나라에 사는 왜인의 송환을 청하다
뇌물을 준 자와 받은 자는 모두 죄주도록 사헌부에 명령를 내리다
지신사 곽존중을 보내 중국 사신이 더 머물길 청하다
병조에서 사신의 짐을 각역의 우마와 백성이 메고가게 하도록 청하다
각도 감사에게 태종의 후궁이 있는 수강궁에 육선을 진상하게 하다
도형 등을 받은 죄인 84인을 석방하고, 김효손 등 13인을 사면하다
광연루에서 군신들과 연회하다
진헌할 어물의 수를 채우게 하였음을 지신사 곽존중을 보내어 사신에게 말하다
정사를 보다
지신사 곽존중을 보내어 사신에게 초구를 선사하게 하다
이지강 등이 권희달을 찬소로 귀양보내기를 청하다
의정부와 육조에서 사신에게 위로하는 연회를 베풀다
귀화한 사람은 토지 조세는 3년, 요역은 10년을 기한으로 면제하게 하다
정사를 보다
내관 김부를 보내어 내선을 사신에게 대접하다
의산군 남휘를 불러 윤자당의 첩 윤이를 간통하고 폭행한 것에 대해 꾸짖다
이조에서 외방 수령은 권농병마만을 경대하고 관학(管學) 두 글자는 사용하지 말게 할 것을 청하다
죽은 판우군도총제부사로서 치사한 조용에게 제사와 교서를 내리다
곽존중을 보내어 사신에게 문안하고 저포 10필·마포 25필 등을 주다
태평관에 거동하여 전송하는 연회를 베풀다
죄를 범한 사람들의 직첩을 거둬들일 때 정·종으로 차등을 두게 하다
반석로·권희달 등의 죄에 대한 겸대사헌 이지강·우사간 이반의 두가지 상소문
전 도관찰사 이귀산의 졸기
정사를 보다
곽존중이 마포 2필·허성이 백저포 1필을 사신에게 답례하다
유후사 선위사 권진이 출발하다
함양의 강송이 얻은 백은 4근을 경상도 감사가 올렸기에 국고의 쌀로 보상하다
진헌색이 간선에서 제외시킬 대상에 대해 아뢰다
경기·강원도의 정역 찰방이 각관 역리들의 호구 장부를 만들 것을 청하다
사신을 전송하고 군신들은 벽제역에서 전송케 하고 또 의주까지 배행하게 하다
여흥 부원군의 묘표와 지석을 부인과 아울러 기록하게 하다
정사를 보다
맹인 26인이 국상 때문에 음악을 금지하여 생계가 어려움을 상언하다
예조에서 처녀를 수종할 화자 선발에 대해 아뢰다
평양 선위사 이수가 길을 떠나다
허권·원윤·유계문·김반·조수량·조상치 등에게 관직을 제수하다
의주 선위사 성억이 길을 떠나다
헌릉의 비문을 짓고 쓴 변계량·성개·권홍에게 안장 갖춘 말을 하사하다
진헌색 별감과 내사를 각도에 보내 처녀를 고르게 하다
술과 고기를 양녕 대군에게 하사하다
정사를 보다
의산군 남휘를 죄 줄것에 대한 겸대사헌 이지강의 상소문
병선을 오래 쓸 방도를 병조에서 아뢰니 이를 허락하다
사섬시 제조가 동전 주조에 관해 아뢰다
편전에서 여천 부원군 민여익·한평 부원군 조연을 위로하는 연회를 열다
충청도 감사가 표지 96권과 도련지 48권을 올리다
경연에 나아가 처음으로 《맹자》를 강연하다
겸대사헌 이지강이 의산군의 죄를 상소하니 왕이 29일 조계 때 말하기로 하다
경주 부윤 이지실을 한 등을 감하고 자자는 면제하여 광양으로 귀양보내다
경상도 병마 도절제사가 동 32관을 올리니 이후로 직접 사섬시에 바치게 하다
정사를 보고 경연에 나아갔다
삭제에 쓸 향과 축문을 친히 전하다
돈을 두루 통행케 하고 강무할 때의 경상·전라의 별도 진상 토산물은 면제하다
경기도 임강현의 강도인 금음동·오마대를 목베다
호조에서 회양과 춘천 경내의 군현의 소속 변경에 대해 아뢰다
""" # wordcloud에서 사용할 텍스트 문자열 (여기에 사용할 텍스트를 넣으세요)


# data = [t for t in text if bool(t.strip())]
# print(data)
komoran = Komoran()
nouns = komoran.nouns(text)
nouns_text = " ".join(nouns)
print(nouns_text)


# 워드 클라우드 생성
# WordCloud 객체를 생성할 때의 매개변수:
# width=800: 워드 클라우드의 너비를 800 픽셀로 설정
# height=400: 워드 클라우드의 높이를 400 픽셀로 설정
# background_color='white': 워드 클라우드의 배경색을 흰색으로 설정
wordcloud = WordCloud(font_path= font_path, width=800, height=400, background_color='white').generate(nouns_text)

# 시각화
plt.figure(figsize=(10,5)) # 시각화할 그림 크기를 설정 (가로 10인치, 세로 5인치)
plt.imshow(wordcloud, interpolation="bilinear") # 생성된 워드 클라우드를 그림으로 표시
plt.axis('off') # x, y 축을 표시하지 않도록 설정
plt.savefig("word2.png")
plt.show() # 그림을 화면에 표시



from collections import Counter
word_counts = Counter(nouns_text.split())
print(word_counts)






