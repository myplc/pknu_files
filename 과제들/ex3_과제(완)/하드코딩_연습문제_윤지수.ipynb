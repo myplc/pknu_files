{
 "cells": [
  {
   "cell_type": "code",
   "execution_count": 7,
   "id": "81c38a02-7003-4e78-b6bd-6090d60be82e",
   "metadata": {},
   "outputs": [
    {
     "name": "stdout",
     "output_type": "stream",
     "text": [
      "11 22 33\n",
      "제일 큰 수는: 33\n",
      "11 22 33 44\n",
      "제일 큰 수는: 44\n"
     ]
    }
   ],
   "source": [
    "# 하드코딩으로 연습문제 풀기\n",
    "# 1)-1\n",
    "a = [33, 11, 22]\n",
    "if a[1] < a[2] and a[1] < a[0] and a[2] < a[0]:\n",
    "    print(a[1],a[2],a[0])\n",
    "elif a[1] < a[2] and a[1] < a[0] and a[0] < a[2]:\n",
    "    print(a[1],a[0],a[2])\n",
    "elif a[2] < a[1] and a[2] < a[0] and a[1] < a[0]:\n",
    "    print(a[2],a[1],a[0])\n",
    "elif a[2] < a[1] and a[2] < a[0] and a[0] < a[1]:\n",
    "    print(a[2],a[0],a[1])\n",
    "elif a[0] < a[2] and a[0] < a[1] and a[2] < a[1]:\n",
    "    print(a[0],a[2],a[1])\n",
    "else:\n",
    "    print(a[0],a[1],a[2])\n",
    "\n",
    "# 2)-1\n",
    "if a[0] > a[1] and a[0] > a[2]:\n",
    "    print(f\"제일 큰 수는:\",a[0])\n",
    "elif a[1] > a[0] and a[1] > a[2]:\n",
    "    print(f\"제일 큰 수는:\",a[1])\n",
    "else:\n",
    "    print(f\"제일 큰 수는:\",a[2])\n",
    "\n",
    "# 1)-2\n",
    "a = [33, 11, 22, 44]\n",
    "print(a[1], a[2], a[0], a[3])\n",
    "\n",
    "# 2)-2\n",
    "if a[3] > a[0] and a[3] > a[1] and a[3] > a[2]:\n",
    "    print(f\"제일 큰 수는:\",a[3])\n",
    "elif a[2] > a[0] and a[2] > a[1] and a[2] > a[4]:\n",
    "    print(f\"제일 큰 수는:\",a[2])\n",
    "elif a[1] > a[0] and a[1] > a[2] and a[1] > a[3]:\n",
    "    print(f\"제일 큰 수는:\",a[1])\n",
    "else:\n",
    "    print(f\"제일 큰 수는:\",a[0])"
   ]
  },
  {
   "cell_type": "code",
   "execution_count": 8,
   "id": "542a1e4f-a9f4-4de5-9168-8a703b416f40",
   "metadata": {},
   "outputs": [],
   "source": [
    "# 3) 잔돈계산 프로그램"
   ]
  }
 ],
 "metadata": {
  "kernelspec": {
   "display_name": "Python 3 (ipykernel)",
   "language": "python",
   "name": "python3"
  },
  "language_info": {
   "codemirror_mode": {
    "name": "ipython",
    "version": 3
   },
   "file_extension": ".py",
   "mimetype": "text/x-python",
   "name": "python",
   "nbconvert_exporter": "python",
   "pygments_lexer": "ipython3",
   "version": "3.13.1"
  }
 },
 "nbformat": 4,
 "nbformat_minor": 5
}
