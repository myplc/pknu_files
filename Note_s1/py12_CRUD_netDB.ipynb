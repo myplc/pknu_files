{
 "cells": [
  {
   "cell_type": "code",
   "execution_count": 2,
   "id": "04b60ad0-df59-45db-8732-d8fe03f6ff7a",
   "metadata": {},
   "outputs": [
    {
     "name": "stdout",
     "output_type": "stream",
     "text": [
      "Defaulting to user installation because normal site-packages is not writeable\n",
      "Collecting mysql-connector-python\n",
      "  Downloading mysql_connector_python-9.2.0-cp310-cp310-manylinux_2_28_x86_64.whl.metadata (6.0 kB)\n",
      "Downloading mysql_connector_python-9.2.0-cp310-cp310-manylinux_2_28_x86_64.whl (33.9 MB)\n",
      "\u001b[2K   \u001b[90m━━━━━━━━━━━━━━━━━━━━━━━━━━━━━━━━━━━━━━━━\u001b[0m \u001b[32m33.9/33.9 MB\u001b[0m \u001b[31m22.7 MB/s\u001b[0m eta \u001b[36m0:00:00\u001b[0ma \u001b[36m0:00:01\u001b[0m\n",
      "\u001b[?25hInstalling collected packages: mysql-connector-python\n",
      "Successfully installed mysql-connector-python-9.2.0\n"
     ]
    }
   ],
   "source": [
    "!pip install mysql-connector-python"
   ]
  },
  {
   "cell_type": "code",
   "execution_count": 8,
   "id": "4750c5d6-f79a-4edf-ba21-3818831bc338",
   "metadata": {},
   "outputs": [
    {
     "name": "stdout",
     "output_type": "stream",
     "text": [
      "MySQL 서버1에 성공적으로 연결되었습니다.\n",
      "MySQL 서버2에 성공적으로 연결되었습니다.\n",
      "연결중...\n"
     ]
    }
   ],
   "source": [
    "import mysql.connector\n",
    "\n",
    "try:\n",
    "    conn1 = mysql.connector.connect(\n",
    "        host=\"mysql\", # MySQL 서버1 주소\n",
    "        user=\"root\",\n",
    "        password=\"1234\"\n",
    "    )\n",
    "    conn2 = mysql.connector.connect(\n",
    "        host=\"210.119.14.60\", # MySQL 서버2 주소\n",
    "        user=\"root\",\n",
    "        password=\"1234\"\n",
    "    )    \n",
    "    if conn1.is_connected():\n",
    "        print(\"MySQL 서버1에 성공적으로 연결되었습니다.\")\n",
    "    if conn2.is_connected():\n",
    "        print(\"MySQL 서버2에 성공적으로 연결되었습니다.\")\n",
    "except mysql.connector.Error as err:\n",
    "    print(\"MySQL 연결 실패:\", err)\n",
    "finally:\n",
    "    if all([conn1.is_connected(),conn2.is_connected()]):\n",
    "        print(\"연결중...\")"
   ]
  },
  {
   "cell_type": "code",
   "execution_count": 9,
   "id": "b4f96a5e-ad30-477e-9d9d-1a3cea7fbd69",
   "metadata": {},
   "outputs": [],
   "source": [
    "# 커서 생성\n",
    "cursor1 = conn1.cursor()\n",
    "cursor2 = conn2.cursor()\n",
    "que = \"CREATE DATABASE IF NOT EXISTS ysdb\"\n",
    "cursor1.execute(que)\n",
    "cursor2.execute(que)\n",
    "conn1.close()\n",
    "conn2.close()"
   ]
  },
  {
   "cell_type": "code",
   "execution_count": 10,
   "id": "5ec9070e-1e81-4ca8-a9f7-bffd502b8811",
   "metadata": {},
   "outputs": [
    {
     "name": "stdout",
     "output_type": "stream",
     "text": [
      "MySQL 연결 성공!\n"
     ]
    }
   ],
   "source": [
    "# MySQL 에 연결\n",
    "conn1 = mysql.connector.connect(\n",
    "        host=\"mysql\", # MySQL 서버 주소\n",
    "        user=\"root\",\n",
    "        password=\"1234\",\n",
    "        database=\"ysdb\" # 사용할 데이터 베이스\n",
    "    )\n",
    "conn2 = mysql.connector.connect(\n",
    "        host=\"210.119.14.60\", # MySQL 서버 주소\n",
    "        user=\"root\",\n",
    "        password=\"1234\",\n",
    "        database=\"ysdb\" # 사용할 데이터 베이스\n",
    "    )\n",
    "cursor1 = conn1.cursor()\n",
    "cursor2 = conn2.cursor()\n",
    "print(\"MySQL 연결 성공!\")"
   ]
  },
  {
   "cell_type": "code",
   "execution_count": 12,
   "id": "1654aca7-03d0-402e-871e-c0e93da0d987",
   "metadata": {},
   "outputs": [
    {
     "name": "stdout",
     "output_type": "stream",
     "text": [
      "테이블 생성완료\n"
     ]
    }
   ],
   "source": [
    "# 테이블 생성\n",
    "query = \"CREATE TABLE IF NOT EXISTS users(id INT AUTO_INCREMENT PRIMARY KEY ,name VARCHAR(50), age INT, city VARCHAR(50))\"\n",
    "cursor1.execute(query)\n",
    "cursor2.execute(query)\n",
    "print(\"테이블 생성완료\")"
   ]
  },
  {
   "cell_type": "code",
   "execution_count": 13,
   "id": "86586542-782c-4c99-bf93-417888be08b2",
   "metadata": {},
   "outputs": [
    {
     "name": "stdout",
     "output_type": "stream",
     "text": [
      "여러개의 데이터를 두대의 DB에 삽입 완료!\n"
     ]
    }
   ],
   "source": [
    "# 여러개의 데이터 삽입\n",
    "sql = \"INSERT INTO users (name, age, city) VALUES (%s, %s, %s)\"\n",
    "m_values=[(\"superman\",33,\"Busan\"),(\"Cutegirl\",17,\"jeju\"),(\"Coolboy\",22,\"Jeju\")]\n",
    "cursor1.executemany(sql, m_values)\n",
    "cursor2.executemany(sql, m_values)\n",
    "conn1.commit()\n",
    "conn2.commit()\n",
    "print(\"여러개의 데이터를 두대의 DB에 삽입 완료!\")"
   ]
  },
  {
   "cell_type": "code",
   "execution_count": 14,
   "id": "56049fe2-f574-4ff4-94a4-2257178eef92",
   "metadata": {},
   "outputs": [
    {
     "name": "stdout",
     "output_type": "stream",
     "text": [
      "=====서버1의 내용=====\n",
      "(1, 'superman', 33, 'Busan')\n",
      "(2, 'Cutegirl', 17, 'jeju')\n",
      "(3, 'Coolboy', 22, 'Jeju')\n",
      "=====서버2의 내용=====\n",
      "(1, 'superman', 33, 'Busan')\n",
      "(2, 'Cutegirl', 17, 'jeju')\n",
      "(3, 'Coolboy', 22, 'Jeju')\n"
     ]
    }
   ],
   "source": [
    "# 모든 데이터 조회\n",
    "que = \"SELECT * FROM users\"\n",
    "cursor1.execute(que)\n",
    "users1 = cursor1.fetchall()\n",
    "cursor2.execute(que)\n",
    "users2 = cursor2.fetchall()\n",
    "# print(users)\n",
    "print(\"=====서버1의 내용=====\")\n",
    "for user in users1:\n",
    "    print(user)\n",
    "print(\"=====서버2의 내용=====\")\n",
    "for user in users2:\n",
    "    print(user)"
   ]
  },
  {
   "cell_type": "code",
   "execution_count": null,
   "id": "f9b89098-c5d5-4077-86c8-31ebcb355e6d",
   "metadata": {},
   "outputs": [],
   "source": []
  }
 ],
 "metadata": {
  "kernelspec": {
   "display_name": "Python 3 (ipykernel)",
   "language": "python",
   "name": "python3"
  },
  "language_info": {
   "codemirror_mode": {
    "name": "ipython",
    "version": 3
   },
   "file_extension": ".py",
   "mimetype": "text/x-python",
   "name": "python",
   "nbconvert_exporter": "python",
   "pygments_lexer": "ipython3",
   "version": "3.10.12"
  }
 },
 "nbformat": 4,
 "nbformat_minor": 5
}
