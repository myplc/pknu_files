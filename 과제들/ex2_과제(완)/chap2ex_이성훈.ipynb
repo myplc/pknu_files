{
 "cells": [
  {
   "cell_type": "code",
   "execution_count": 129,
   "id": "fda037f1-5f78-414f-a087-d86b5a6c6197",
   "metadata": {},
   "outputs": [
    {
     "name": "stdout",
     "output_type": "stream",
     "text": [
      "평균=70.0 \n"
     ]
    }
   ],
   "source": [
    "#1.\n",
    "sc = {'국어':80 ,'영어':55 ,'수학':75}\n",
    "sct = (sc['국어'] + sc['영어'] + sc['수학'])/3\n",
    "\n",
    "print(f'평균={sct} ')"
   ]
  },
  {
   "cell_type": "code",
   "execution_count": 130,
   "id": "ce0303bf-5d05-4deb-b88a-a672eba93988",
   "metadata": {},
   "outputs": [
    {
     "name": "stdout",
     "output_type": "stream",
     "text": [
      "13은(는) 홀수\n"
     ]
    }
   ],
   "source": [
    "#2.\n",
    "a=13\n",
    "if a%2 == 0:\n",
    "    print(f'{a}은(는) 짝수')\n",
    "elif a%2 ==1:\n",
    "    print(f'{a}은(는) 홀수')"
   ]
  },
  {
   "cell_type": "code",
   "execution_count": 136,
   "id": "3679da50-d663-49ec-bcd3-54318e426d07",
   "metadata": {},
   "outputs": [
    {
     "name": "stdout",
     "output_type": "stream",
     "text": [
      "yyyymmdd= 881120\n",
      "num= 1068234\n"
     ]
    }
   ],
   "source": [
    "#3\n",
    "pin = \"881120-1068234\"\n",
    "print('yyyymmdd=',pin[:6])\n",
    "print('num=',pin[7:])"
   ]
  },
  {
   "cell_type": "code",
   "execution_count": 139,
   "id": "7a49d85a-903c-462d-b034-712bf48b5ed2",
   "metadata": {},
   "outputs": [
    {
     "name": "stdout",
     "output_type": "stream",
     "text": [
      "1\n"
     ]
    }
   ],
   "source": [
    "#4\n",
    "pin = \"881120-1068234\"\n",
    "print(pin[7])"
   ]
  },
  {
   "cell_type": "code",
   "execution_count": 140,
   "id": "76658059-f1ce-4a67-9b0e-4ae7ebbec9fb",
   "metadata": {},
   "outputs": [
    {
     "name": "stdout",
     "output_type": "stream",
     "text": [
      "a#b#c#d\n"
     ]
    }
   ],
   "source": [
    "#5\n",
    "a=\"a:b:c:d\"\n",
    "b = a.replace(':','#')\n",
    "print(b)"
   ]
  },
  {
   "cell_type": "code",
   "execution_count": 141,
   "id": "6e10218f-e73a-4b0b-9200-7c1a0350b24f",
   "metadata": {},
   "outputs": [
    {
     "name": "stdout",
     "output_type": "stream",
     "text": [
      "[1, 2, 3, 4, 5]\n",
      "[5, 4, 3, 2, 1]\n"
     ]
    }
   ],
   "source": [
    "#6\n",
    "a= [1,3,5,4,2]\n",
    "a.sort()\n",
    "print(a)\n",
    "a.sort(reverse = True)\n",
    "print(a)"
   ]
  },
  {
   "cell_type": "code",
   "execution_count": 142,
   "id": "77956de8-03bc-45ff-8fa7-d04bcb43b6f8",
   "metadata": {},
   "outputs": [
    {
     "name": "stdout",
     "output_type": "stream",
     "text": [
      "Life is too short\n"
     ]
    }
   ],
   "source": [
    "#7\n",
    "a = ['Life','is','too','short']\n",
    "result = \" \".join(a)\n",
    "print(result)"
   ]
  },
  {
   "cell_type": "code",
   "execution_count": 143,
   "id": "2d030c18-9436-4acc-9d03-1c3ddb670aab",
   "metadata": {},
   "outputs": [
    {
     "name": "stdout",
     "output_type": "stream",
     "text": [
      "(1, 2, 3, 4)\n"
     ]
    }
   ],
   "source": [
    "#8\n",
    "a = (1,2,3)\n",
    "b = (4,)\n",
    "a = a + b\n",
    "print(a)"
   ]
  },
  {
   "cell_type": "code",
   "execution_count": 144,
   "id": "d69a8d64-2fb4-476f-977c-87ad26e82a63",
   "metadata": {},
   "outputs": [
    {
     "ename": "TypeError",
     "evalue": "unhashable type: 'list'",
     "output_type": "error",
     "traceback": [
      "\u001b[1;31m---------------------------------------------------------------------------\u001b[0m",
      "\u001b[1;31mTypeError\u001b[0m                                 Traceback (most recent call last)",
      "Cell \u001b[1;32mIn[144], line 5\u001b[0m\n\u001b[0;32m      3\u001b[0m a[\u001b[38;5;124m'\u001b[39m\u001b[38;5;124mname\u001b[39m\u001b[38;5;124m'\u001b[39m] \u001b[38;5;241m=\u001b[39m \u001b[38;5;124m'\u001b[39m\u001b[38;5;124mpython\u001b[39m\u001b[38;5;124m'\u001b[39m\n\u001b[0;32m      4\u001b[0m a[(\u001b[38;5;124m'\u001b[39m\u001b[38;5;124ma\u001b[39m\u001b[38;5;124m'\u001b[39m,)] \u001b[38;5;241m=\u001b[39m \u001b[38;5;124m'\u001b[39m\u001b[38;5;124mpython\u001b[39m\u001b[38;5;124m'\u001b[39m\n\u001b[1;32m----> 5\u001b[0m \u001b[43ma\u001b[49m\u001b[43m[\u001b[49m\u001b[43m[\u001b[49m\u001b[38;5;241;43m1\u001b[39;49m\u001b[43m]\u001b[49m\u001b[43m]\u001b[49m \u001b[38;5;241m=\u001b[39m \u001b[38;5;124m'\u001b[39m\u001b[38;5;124mpython\u001b[39m\u001b[38;5;124m'\u001b[39m \u001b[38;5;66;03m#리스트는 키로 작용안됨\u001b[39;00m\n\u001b[0;32m      6\u001b[0m a[\u001b[38;5;241m250\u001b[39m] \u001b[38;5;241m=\u001b[39m \u001b[38;5;124m'\u001b[39m\u001b[38;5;124mpython\u001b[39m\u001b[38;5;124m'\u001b[39m\n\u001b[0;32m      7\u001b[0m \u001b[38;5;28mprint\u001b[39m(a)\n",
      "\u001b[1;31mTypeError\u001b[0m: unhashable type: 'list'"
     ]
    }
   ],
   "source": [
    "#9\n",
    "a = dict()\n",
    "a['name'] = 'python'\n",
    "a[('a',)] = 'python'\n",
    "a[[1]] = 'python' #리스트는 키로 작용안됨\n",
    "a[250] = 'python'\n",
    "print(a)"
   ]
  },
  {
   "cell_type": "code",
   "execution_count": 145,
   "id": "7519f46d-8c02-4669-963a-454127d27ab5",
   "metadata": {},
   "outputs": [
    {
     "name": "stdout",
     "output_type": "stream",
     "text": [
      "{'A': 90, 'c': 70}\n",
      "80\n"
     ]
    }
   ],
   "source": [
    "#10\n",
    "a = {'A':90, 'B':80, 'c':70}\n",
    "result = a.pop('B')\n",
    "print(a)\n",
    "print(result)"
   ]
  },
  {
   "cell_type": "code",
   "execution_count": 146,
   "id": "0851706c-d4a2-4399-845a-50d1ab6754f5",
   "metadata": {},
   "outputs": [
    {
     "name": "stdout",
     "output_type": "stream",
     "text": [
      "[1, 2, 3, 4, 5]\n"
     ]
    }
   ],
   "source": [
    "#11\n",
    "a= [1,1,1,2,2,3,3,3,4,4,5]\n",
    "aSet = set(a)\n",
    "b = list(aSet)\n",
    "print(b)"
   ]
  },
  {
   "cell_type": "code",
   "execution_count": 147,
   "id": "77164718-5d67-4880-a731-8b349af23a5b",
   "metadata": {},
   "outputs": [
    {
     "name": "stdout",
     "output_type": "stream",
     "text": [
      "[1, 4, 3]\n"
     ]
    }
   ],
   "source": [
    "#12\n",
    "a=b=[1,2,3]\n",
    "a[1]=4\n",
    "print(b)\n",
    "# a,b가 같은 저장공간을 사용하고 있기 때문에 변경값 또한 같이 적용된다."
   ]
  }
 ],
 "metadata": {
  "kernelspec": {
   "display_name": "Python 3 (ipykernel)",
   "language": "python",
   "name": "python3"
  },
  "language_info": {
   "codemirror_mode": {
    "name": "ipython",
    "version": 3
   },
   "file_extension": ".py",
   "mimetype": "text/x-python",
   "name": "python",
   "nbconvert_exporter": "python",
   "pygments_lexer": "ipython3",
   "version": "3.13.1"
  }
 },
 "nbformat": 4,
 "nbformat_minor": 5
}
