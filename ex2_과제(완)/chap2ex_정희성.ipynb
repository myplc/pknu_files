{
 "cells": [
  {
   "cell_type": "code",
   "execution_count": 2,
   "id": "9e1f0108-7761-4f3f-886c-d841835b7481",
   "metadata": {},
   "outputs": [
    {
     "name": "stdout",
     "output_type": "stream",
     "text": [
      "홍길동 평균 : 70.0\n"
     ]
    }
   ],
   "source": [
    "# Q1\n",
    "홍길동 = {'국어': 80, '영어': 75, '수학': 55}\n",
    "print(f\"홍길동 평균 : {(홍길동['국어'] + 홍길동['영어'] + 홍길동['수학']) / 3}\")"
   ]
  },
  {
   "cell_type": "code",
   "execution_count": 4,
   "id": "5b69dc71-55e2-4823-a470-cd96266cab2e",
   "metadata": {},
   "outputs": [
    {
     "name": "stdout",
     "output_type": "stream",
     "text": [
      "1이라서 홀수\n"
     ]
    }
   ],
   "source": [
    "# Q2\n",
    "num = 13\n",
    "print(f\"{num%2}이라서 홀수\")"
   ]
  },
  {
   "cell_type": "code",
   "execution_count": 7,
   "id": "e9fd0793-cc63-4ef1-8b07-65f958720b83",
   "metadata": {},
   "outputs": [
    {
     "name": "stdout",
     "output_type": "stream",
     "text": [
      "881120\n",
      "1068234\n"
     ]
    }
   ],
   "source": [
    "# Q3\n",
    "pin = \"881120-1068234\"\n",
    "yyyymmdd = pin[:6]\n",
    "print(yyyymmdd)\n",
    "num = pin[7:]\n",
    "print(num)"
   ]
  },
  {
   "cell_type": "code",
   "execution_count": 10,
   "id": "9722ed28-b26d-417d-a23a-78e3cf6e1c31",
   "metadata": {},
   "outputs": [
    {
     "name": "stdout",
     "output_type": "stream",
     "text": [
      "주민번호 뒷자리 맨 첫 숫자가 1이니까 남자임\n"
     ]
    }
   ],
   "source": [
    "# Q4\n",
    "pin = \"881120-1068234\"\n",
    "print(f\"주민번호 뒷자리 맨 첫 숫자가 {pin[7]}이니까 남자임\")"
   ]
  },
  {
   "cell_type": "code",
   "execution_count": 11,
   "id": "3249061b-d85f-4de4-ae32-82c9b982fce4",
   "metadata": {},
   "outputs": [
    {
     "name": "stdout",
     "output_type": "stream",
     "text": [
      "a#b#c#d\n"
     ]
    }
   ],
   "source": [
    "# Q5\n",
    "a = \"a:b:c:d\"\n",
    "b = a.replace(\":\",\"#\")\n",
    "print(b)"
   ]
  },
  {
   "cell_type": "code",
   "execution_count": 12,
   "id": "3ee06ba3-12b6-484a-bb4d-e843801ec824",
   "metadata": {},
   "outputs": [
    {
     "name": "stdout",
     "output_type": "stream",
     "text": [
      "[5, 4, 3, 2, 1]\n"
     ]
    }
   ],
   "source": [
    "# Q6\n",
    "a = [1,3,5,4,2]\n",
    "a.sort()\n",
    "a.reverse()\n",
    "print(a)"
   ]
  },
  {
   "cell_type": "code",
   "execution_count": 14,
   "id": "b5a2b5a6-a8a7-4d51-905e-6173606e6fe3",
   "metadata": {},
   "outputs": [
    {
     "name": "stdout",
     "output_type": "stream",
     "text": [
      "Life is too short\n"
     ]
    }
   ],
   "source": [
    "# Q7\n",
    "a = ['Life', 'is', 'too', 'short']\n",
    "result = \" \".join(a)\n",
    "print(result)"
   ]
  },
  {
   "cell_type": "code",
   "execution_count": 15,
   "id": "b5f271f4-9c31-42b1-8888-27a1dfaae15e",
   "metadata": {},
   "outputs": [
    {
     "name": "stdout",
     "output_type": "stream",
     "text": [
      "(1, 2, 3, 4)\n"
     ]
    }
   ],
   "source": [
    "# Q8\n",
    "a = (1,2,3)\n",
    "a += (4,)\n",
    "print(a)"
   ]
  },
  {
   "cell_type": "code",
   "execution_count": 22,
   "id": "fee21585-408c-4972-b110-f80ab636184e",
   "metadata": {},
   "outputs": [],
   "source": [
    "# Q9\n",
    "a = dict()\n",
    "\n",
    "# a[[1]] = 'python' 오류, 리스트에 없는 요소 인덱싱하면 오류남"
   ]
  },
  {
   "cell_type": "code",
   "execution_count": 23,
   "id": "634572d7-4aff-4341-a354-7c6a0fc37483",
   "metadata": {},
   "outputs": [
    {
     "name": "stdout",
     "output_type": "stream",
     "text": [
      "{'A': 90, 'C': 70}\n",
      "80\n"
     ]
    }
   ],
   "source": [
    "# Q10\n",
    "a = {'A':90, 'B':80, 'C':70}\n",
    "result = a.pop('B')\n",
    "print(a)\n",
    "print(result)"
   ]
  },
  {
   "cell_type": "code",
   "execution_count": 26,
   "id": "5d3c288c-5380-4471-9801-e27a19682045",
   "metadata": {},
   "outputs": [
    {
     "name": "stdout",
     "output_type": "stream",
     "text": [
      "[1, 2, 3, 4, 5]\n"
     ]
    }
   ],
   "source": [
    "# Q11\n",
    "a = [1,1,1,2,2,3,3,3,4,4,5]\n",
    "aSet = set(a)\n",
    "b = list(aSet)\n",
    "print(b)"
   ]
  },
  {
   "cell_type": "code",
   "execution_count": 27,
   "id": "a696bb36-5f4a-4c28-b120-f50fa60c2e9b",
   "metadata": {},
   "outputs": [
    {
     "name": "stdout",
     "output_type": "stream",
     "text": [
      "[1, 4, 3]\n"
     ]
    }
   ],
   "source": [
    "# Q12\n",
    "a = b = [1,2,3]\n",
    "a[1] = 4\n",
    "print(b)\n",
    "\n",
    "# b는 [1,4,3] 출력, 얕은 복사이기 때문에 id값이 동일함. 같은 주소값이기 때문에 a의 요소를 변경하면 b도 같이 변경됨"
   ]
  },
  {
   "cell_type": "code",
   "execution_count": null,
   "id": "fb9e45fa-e7c1-4cef-ac06-16be41bd6434",
   "metadata": {},
   "outputs": [],
   "source": []
  }
 ],
 "metadata": {
  "kernelspec": {
   "display_name": "Python 3 (ipykernel)",
   "language": "python",
   "name": "python3"
  },
  "language_info": {
   "codemirror_mode": {
    "name": "ipython",
    "version": 3
   },
   "file_extension": ".py",
   "mimetype": "text/x-python",
   "name": "python",
   "nbconvert_exporter": "python",
   "pygments_lexer": "ipython3",
   "version": "3.13.1"
  }
 },
 "nbformat": 4,
 "nbformat_minor": 5
}
