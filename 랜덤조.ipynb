{
 "cells": [
  {
   "cell_type": "markdown",
   "id": "b55e2804-dce9-463c-98d2-6e81b50881ac",
   "metadata": {},
   "source": [
    "램덤하게 조원 선정하기"
   ]
  },
  {
   "cell_type": "code",
   "execution_count": 2,
   "id": "fde6deab-5dd2-4a9c-ad89-ddc921521945",
   "metadata": {},
   "outputs": [
    {
     "name": "stdout",
     "output_type": "stream",
     "text": [
      "1조: [6, 7, 14, 13]\n",
      "5조: [19, 8, 10, 11]\n",
      "9조: [2, 4, 3, 20]\n",
      "13조: [21, 17, 12, 1]\n",
      "17조: [18, 16, 5, 9]\n",
      "21조: [15]\n"
     ]
    }
   ],
   "source": [
    "import random, time\n",
    "numbers = list(range(1,22))\n",
    "random.shuffle(numbers)\n",
    "\n",
    "for i in range(0, len(numbers),4):\n",
    "    print(f'{i+1}조: {numbers[i:i+4]}')\n",
    "    time.sleep(5)"
   ]
  },
  {
   "cell_type": "code",
   "execution_count": null,
   "id": "688284f6-7e10-4d88-a4d7-461056011238",
   "metadata": {},
   "outputs": [
    {
     "name": "stdout",
     "output_type": "stream",
     "text": [
      "혜미는 5 조\n"
     ]
    }
   ],
   "source": [
    "import random\n",
    "numbers = list(range(1,6))\n",
    "print(f'혜미는 {random.choice(numbers)} 조')"
   ]
  },
  {
   "cell_type": "code",
   "execution_count": 4,
   "id": "79df259d-83c1-4b10-b5f8-f0e7cbc129ba",
   "metadata": {},
   "outputs": [
    {
     "name": "stdout",
     "output_type": "stream",
     "text": [
      "발표순서!!\n",
      "두구두구...\n",
      "1번째 순위 3 조\n",
      "2번째 순위 1 조\n",
      "3번째 순위 2 조\n",
      "4번째 순위 4 조\n",
      "5번째 순위 5 조\n"
     ]
    }
   ],
   "source": [
    "import random , time\n",
    "pick = random.sample(range(1,6),5)\n",
    "print('발표순서!!')\n",
    "time.sleep(2)\n",
    "print('두구두구...')\n",
    "for i, p in enumerate(pick,1):\n",
    "    print(f'{i}번째 순위 {p} 조')\n",
    "    time.sleep(2)"
   ]
  },
  {
   "cell_type": "code",
   "execution_count": null,
   "id": "0a8af4d1-7d0a-4082-9c8d-e82fb35681fc",
   "metadata": {},
   "outputs": [],
   "source": []
  },
  {
   "cell_type": "code",
   "execution_count": null,
   "id": "b1223de2-09d8-45d3-b247-53430ca41ec5",
   "metadata": {},
   "outputs": [],
   "source": []
  }
 ],
 "metadata": {
  "kernelspec": {
   "display_name": "Python 3 (ipykernel)",
   "language": "python",
   "name": "python3"
  },
  "language_info": {
   "codemirror_mode": {
    "name": "ipython",
    "version": 3
   },
   "file_extension": ".py",
   "mimetype": "text/x-python",
   "name": "python",
   "nbconvert_exporter": "python",
   "pygments_lexer": "ipython3",
   "version": "3.13.1"
  }
 },
 "nbformat": 4,
 "nbformat_minor": 5
}
