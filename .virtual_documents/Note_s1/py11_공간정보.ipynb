


# !pip install matplotlib


# !sudo -S apt update


# OS에 사용가능한 , 설치된 폰트를 나열
import matplotlib
import matplotlib.pyplot as plt
from matplotlib import rc
import matplotlib.font_manager as fm


# 리눅스용 폰트 경로 설정
plt.rc('font', family="NanumGothic")
plt.text(0.2,0.4,'한글',size=100)


get_ipython().getoutput("pip install geopandas")


# !export PATH=$PATH:/home/pkys/.local/bin


import geopandas as gpd
shp_path = "./ref/LARD_ADM_SECT_SGG_26_202502.shp"
gdf = gpd.read_file(shp_path, encoding="EUC-KR")
print(gdf)
#컬러맵 설정
fig , ax = plt.subplots(1,1,figsize=(13,10))
gdf.plot(column = "SGG_NM", ax =ax ,legend=True , cmap ='tab20')

plt.show()



