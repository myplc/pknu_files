{
 "cells": [
  {
   "cell_type": "code",
   "execution_count": 1,
   "id": "24de71da-f876-4981-a443-1c062402f3cb",
   "metadata": {},
   "outputs": [
    {
     "name": "stdout",
     "output_type": "stream",
     "text": [
      "70.0\n"
     ]
    }
   ],
   "source": [
    "# Q1 평균점수 구하기\n",
    "국어 = 80\n",
    "영어 = 75\n",
    "수학 = 55\n",
    "print((국어+영어+수학)/3)"
   ]
  },
  {
   "cell_type": "code",
   "execution_count": 4,
   "id": "580c05f6-d112-4508-a3a6-557fd1658f3b",
   "metadata": {},
   "outputs": [
    {
     "name": "stdout",
     "output_type": "stream",
     "text": [
      "13을 나누었을 때, 나머지가 1이므로 이는 홀수입니다.\n"
     ]
    }
   ],
   "source": [
    "# Q2 홀수,짝수 판별하기\n",
    "자연수 = 13\n",
    "나머지 = 자연수%2\n",
    "print(f'{자연수}을 나누었을 때, 나머지가 {나머지}이므로 이는 홀수입니다.')"
   ]
  },
  {
   "cell_type": "code",
   "execution_count": 7,
   "id": "ddbf2161-c49c-4993-b38f-e8123a9c7283",
   "metadata": {},
   "outputs": [
    {
     "name": "stdout",
     "output_type": "stream",
     "text": [
      "881120\n",
      "1068234\n"
     ]
    }
   ],
   "source": [
    "# Q3 주민들록번호 나누기\n",
    "pin = \"881120-1068234\"\n",
    "yyyymmdd = pin[:6]\n",
    "num = pin[7:]\n",
    "print(yyyymmdd)\n",
    "print(num)"
   ]
  },
  {
   "cell_type": "code",
   "execution_count": 10,
   "id": "f811333e-93cf-4ea9-a366-f0e5537b1132",
   "metadata": {},
   "outputs": [
    {
     "name": "stdout",
     "output_type": "stream",
     "text": [
      "1\n"
     ]
    }
   ],
   "source": [
    "# Q4 주민등록번호 인덱싱\n",
    "pin = \"881120-1068234\"\n",
    "print(pin[7])"
   ]
  },
  {
   "cell_type": "code",
   "execution_count": 13,
   "id": "161835f8-f0c8-4535-8ba5-18e6afa3a8db",
   "metadata": {},
   "outputs": [
    {
     "name": "stdout",
     "output_type": "stream",
     "text": [
      "a#b#c#d\n"
     ]
    }
   ],
   "source": [
    "# Q5 문자열 바꾸기\n",
    "a = \"a:b:c:d\"\n",
    "b = a.replace(\":\",\"#\")\n",
    "print(b)"
   ]
  },
  {
   "cell_type": "code",
   "execution_count": 16,
   "id": "8dbb579b-059f-4fd7-9dda-4ed273f2237b",
   "metadata": {},
   "outputs": [
    {
     "name": "stdout",
     "output_type": "stream",
     "text": [
      "[5, 4, 3, 2, 1]\n"
     ]
    }
   ],
   "source": [
    "# Q6 리스트 역순 정렬하기\n",
    "a = [1,3,5,4,2]\n",
    "a.sort()\n",
    "a.reverse()\n",
    "print(a)"
   ]
  },
  {
   "cell_type": "code",
   "execution_count": 17,
   "id": "a8ec12e7-74dc-4770-9ec3-1289f676dbbb",
   "metadata": {},
   "outputs": [
    {
     "name": "stdout",
     "output_type": "stream",
     "text": [
      "Life is too short\n"
     ]
    }
   ],
   "source": [
    "# Q7 리스트를 문자열로 만들기\n",
    "a = ['Life', 'is', 'too', 'short']\n",
    "result = \" \".join(a)\n",
    "print(result)"
   ]
  },
  {
   "cell_type": "code",
   "execution_count": 45,
   "id": "54e47610-b264-4b99-a917-694f1ac6908f",
   "metadata": {},
   "outputs": [
    {
     "name": "stdout",
     "output_type": "stream",
     "text": [
      "(1, 2, 3, 4)\n"
     ]
    }
   ],
   "source": [
    "# Q8 튜플 더하기\n",
    "a = (1,2,3)\n",
    "a = (1,2,3) + (4,)\n",
    "print(a)"
   ]
  },
  {
   "cell_type": "code",
   "execution_count": 33,
   "id": "0d3ef09b-49a4-47c6-b480-db209c27d561",
   "metadata": {},
   "outputs": [
    {
     "data": {
      "text/plain": [
       "{}"
      ]
     },
     "execution_count": 33,
     "metadata": {},
     "output_type": "execute_result"
    }
   ],
   "source": [
    "# Q9 딕셔너리의 키\n",
    "a = dict()\n",
    "a\n",
    "\n",
    "#1 a['name'] = 'python'\n",
    "#2 a[('a',)] = 'python'\n",
    "#3 a[[1]] = 'python'\n",
    "#4 a[250] = 'python'\n",
    "\n",
    "\n",
    "# 오류가 발생하는 경우는 #3이며, 그 이유는 키의 형태가 리스트이기 때문이다."
   ]
  },
  {
   "cell_type": "code",
   "execution_count": 43,
   "id": "32b75735-4e9c-4834-be77-5926df20921d",
   "metadata": {},
   "outputs": [
    {
     "name": "stdout",
     "output_type": "stream",
     "text": [
      "80\n"
     ]
    }
   ],
   "source": [
    "# Q10 딕셔너리 값 추출하기\n",
    "a = {'A':90, 'B':80, 'C':70}\n",
    "result = a.get('B')\n",
    "print(result)"
   ]
  },
  {
   "cell_type": "code",
   "execution_count": 36,
   "id": "46191a2b-d3d8-4de4-b0ed-cefba428a317",
   "metadata": {},
   "outputs": [
    {
     "name": "stdout",
     "output_type": "stream",
     "text": [
      "[1, 2, 3, 4, 5]\n"
     ]
    }
   ],
   "source": [
    "# Q11 리스트에서 중복 제거하기\n",
    "a = [1,1,1,2,2,3,3,3,4,4,5]\n",
    "aSet = set(a)\n",
    "b = list(aSet)\n",
    "print(b)"
   ]
  },
  {
   "cell_type": "code",
   "execution_count": 46,
   "id": "bb474f6d-2871-40ad-bf8e-35610303caf4",
   "metadata": {},
   "outputs": [
    {
     "name": "stdout",
     "output_type": "stream",
     "text": [
      "[1, 4, 3]\n"
     ]
    },
    {
     "data": {
      "text/plain": [
       "True"
      ]
     },
     "execution_count": 46,
     "metadata": {},
     "output_type": "execute_result"
    }
   ],
   "source": [
    "# Q12 파이썬 변수\n",
    "a = b = [1,2,3]\n",
    "a[1] = 4\n",
    "print(b)\n",
    "\n",
    "a is b\n",
    "# a와 b는 동일한 값이라는 대입을 설정했기 때문에, a의 변형에 b도 함께 값이 변형되어 나타나게 된다."
   ]
  }
 ],
 "metadata": {
  "kernelspec": {
   "display_name": "Python 3 (ipykernel)",
   "language": "python",
   "name": "python3"
  },
  "language_info": {
   "codemirror_mode": {
    "name": "ipython",
    "version": 3
   },
   "file_extension": ".py",
   "mimetype": "text/x-python",
   "name": "python",
   "nbconvert_exporter": "python",
   "pygments_lexer": "ipython3",
   "version": "3.13.1"
  }
 },
 "nbformat": 4,
 "nbformat_minor": 5
}
