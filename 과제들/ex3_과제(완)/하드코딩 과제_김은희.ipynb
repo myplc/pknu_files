{
 "cells": [
  {
   "cell_type": "markdown",
   "id": "7eec0c65-260d-4f09-9e92-4325d9d24bb7",
   "metadata": {},
   "source": [
    "# 과제"
   ]
  },
  {
   "cell_type": "markdown",
   "id": "3c525272-cb0a-4e32-a727-d39181a8b2f4",
   "metadata": {},
   "source": [
    "## 배열의 요소가 3개일 때 ; max와 min을 쓰지 않고 직접! 배열요소를 오름차순으로 나열하라"
   ]
  },
  {
   "cell_type": "code",
   "execution_count": 4,
   "id": "53d17f71-a490-4205-86b0-f5547b26f8a5",
   "metadata": {},
   "outputs": [
    {
     "name": "stdout",
     "output_type": "stream",
     "text": [
      "오름차순으로 나열했을 때 [11, 22, 33] 입니다.\n",
      "오름차순으로 나열했을 때 [11, 22, 33, 44] 입니다.\n"
     ]
    }
   ],
   "source": [
    "# 난이도 저(3자리) : [33,11,22]\n",
    "a= [33,11,22]\n",
    "if a[0]>a[1] and a[2]:\n",
    "    num = a.pop(0)\n",
    "    a.append(num)\n",
    "    print(f'오름차순으로 나열했을 때 {a} 입니다.')\n",
    "\n",
    "# 난이도 중(4자리) : [33,11,22,44]\n",
    "b=[33,11,22,44]\n",
    "if b[0]>b[1]:\n",
    "    num = b.pop(0)\n",
    "    b.append(num)\n",
    "    if b[2]>b[3]:\n",
    "        Num = b.pop(2)\n",
    "        b.append(Num)\n",
    "        print(f'오름차순으로 나열했을 때 {b} 입니다.')"
   ]
  },
  {
   "cell_type": "markdown",
   "id": "cc672e78-9b13-4bd9-a9a1-fde8d149e209",
   "metadata": {},
   "source": [
    "## 요소 중 제일 큰 수를 찾아내라."
   ]
  },
  {
   "cell_type": "code",
   "execution_count": 5,
   "id": "61adacaa-aaaf-4fcc-9a69-3bda6f16441d",
   "metadata": {},
   "outputs": [
    {
     "name": "stdout",
     "output_type": "stream",
     "text": [
      "[33, 11, 22] 중 가장 큰 요소는 33 입니다.\n",
      "[33, 11, 22, 44] 중 가장 큰 요소는 44 입니다.\n"
     ]
    }
   ],
   "source": [
    "# 난이도 저(3자리) : [33,11,22]\n",
    "c=[33,11,22]\n",
    "if c[0]>(c[1] and c[2]):\n",
    "    print(f'{c} 중 가장 큰 요소는 {c[0]} 입니다.')\n",
    "elif c[1]>(c[0] and c[2]):\n",
    "    print(f'{c} 중 가장 큰 요소는 {c[1]} 입니다.')\n",
    "else : print(f'{c} 중 가장 큰 요소는 {c[2]} 입니다.')\n",
    "\n",
    "# 난이도 중(4자리) : [33,11,22,44]\n",
    "d=[33,11,22,44]\n",
    "if d[0]>(d[1] and d[2] and d[3]):\n",
    "    print(f'{d} 중 가장 큰 요소는 {d[0]} 입니다.')\n",
    "elif d[1]>(d[0] and d[2] and d[3]):\n",
    "    print(f'{d} 중 가장 큰 요소는 {d[1]} 입니다.')\n",
    "elif d[2]>(d[0] and d[1] and d[3]):\n",
    "    print(f'{d} 중 가장 큰 요소는 {d[2]} 입니다.')\n",
    "else: print(f'{d} 중 가장 큰 요소는 {d[3]} 입니다.')"
   ]
  },
  {
   "cell_type": "markdown",
   "id": "31ed2fbc-439d-4b2c-a6c6-46efb4e113e6",
   "metadata": {},
   "source": [
    "## 잔돈 분류 프로그램"
   ]
  },
  {
   "cell_type": "code",
   "execution_count": null,
   "id": "923b23c7-3ce8-4f82-949c-18ca2ddce1a1",
   "metadata": {},
   "outputs": [
    {
     "name": "stdin",
     "output_type": "stream",
     "text": [
      "돈을 넣어주세요 ! :  3000\n",
      "구매할 물건의 가격을 입력하세요 ! :  1500\n"
     ]
    },
    {
     "name": "stdout",
     "output_type": "stream",
     "text": [
      "잔액은 1000원 1장, 500원 1개, 100원 0개, 50원 0개, 10원 0개 이며,\n",
      "총합은 1500 입니다.\n"
     ]
    }
   ],
   "source": [
    "# 잔돈 분류 프로그램 : 5000원 투입 / 1330원 구매 / 3670 : 잔돈 >> 1000원 x 3장, 500개 x 1개, 100원 x 1개, 50원 x 1개, 10원 x 2개가 나오도록.\n",
    "   # 나눗셈을 이용해서 몫과 나머지를 이용해 계산 !!!\n",
    "from IPython.display import clear_output\n",
    "while True:\n",
    "    money = int(input(\"돈을 넣어주세요 ! : \"))\n",
    "    item = int(input(\"구매할 물건의 가격을 입력하세요 ! : \"))\n",
    "    if (money - item) > 0:\n",
    "        a= (money-item)//1000\n",
    "        b= ((money-item)%1000)//500\n",
    "        c= (((money-item)%1000)%500)//100\n",
    "        d=((((money-item)%1000)%500)%100)//50\n",
    "        e=(((((money-item)%1000)%500)%100)%50)//10\n",
    "        A=1000\n",
    "        B=500\n",
    "        C=100\n",
    "        D=50\n",
    "        E=10\n",
    "        print(f'잔액은 {A}원 {a}장, {B}원 {b}개, {C}원 {c}개, {D}원 {d}개, {E}원 {e}개 이며,\\n총합은 {(A*a)+(B*b)+(C*c)+(D*d)+(E*e)} 입니다.')\n",
    "        clear_output(wait=True)\n",
    "    elif (money - item) < 0:\n",
    "        print(\"소지하신 금액이 부족합니다.\")\n",
    "        clear_output(wait=True)"
   ]
  }
 ],
 "metadata": {
  "kernelspec": {
   "display_name": "Python 3 (ipykernel)",
   "language": "python",
   "name": "python3"
  },
  "language_info": {
   "codemirror_mode": {
    "name": "ipython",
    "version": 3
   },
   "file_extension": ".py",
   "mimetype": "text/x-python",
   "name": "python",
   "nbconvert_exporter": "python",
   "pygments_lexer": "ipython3",
   "version": "3.13.1"
  }
 },
 "nbformat": 4,
 "nbformat_minor": 5
}
