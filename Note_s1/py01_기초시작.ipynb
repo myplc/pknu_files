{
 "cells": [
  {
   "cell_type": "markdown",
   "id": "efefbc01-7828-4a15-9af7-561e5764a128",
   "metadata": {},
   "source": [
    "# 주피터랩 단축키\n",
    "- a: 위 셀 추가\n",
    "- b: 아래셀 추가\n",
    "- Ctrl + shift + 위: 셀 위로 이동\n",
    "- Ctrl + shift + 아래: 셀 아래로 이동\n",
    "- Shift + Enter: 셀 실행\n",
    "- dd: 셀 삭제\n",
    "- x: 셀 잘라내기\n",
    "- c: 셀 복사\n",
    "- v: 셀 붙여넣기\n",
    "- z: undo\n",
    "- shift + z: redo\n",
    "- m: Markdown\n",
    "- y: code"
   ]
  },
  {
   "cell_type": "markdown",
   "id": "4a142f21-abb1-4b01-bd61-a89ea45a6a7c",
   "metadata": {},
   "source": [
    "# print기초"
   ]
  },
  {
   "cell_type": "code",
   "execution_count": null,
   "id": "aae6cf53-8fd5-426b-904a-7a6b6d42579b",
   "metadata": {},
   "outputs": [],
   "source": [
    "print('주피터랩에 처음이에요')\n",
    "print('사실은 두번 째~~')"
   ]
  },
  {
   "cell_type": "code",
   "execution_count": null,
   "id": "04f099ad-2a80-4178-9718-49d51c5169b3",
   "metadata": {},
   "outputs": [],
   "source": [
    "print(1277+3333)"
   ]
  },
  {
   "cell_type": "code",
   "execution_count": null,
   "id": "6ab8a257-a4c6-4121-aafb-688169e990c6",
   "metadata": {},
   "outputs": [],
   "source": [
    "import time as t\n",
    "print('배고프다',end='\\r')\n",
    "t.sleep(1)\n",
    "print('근데  ',end='\\r')\n",
    "t.sleep(1)\n",
    "print('시간이 많이 남았어...')"
   ]
  },
  {
   "cell_type": "code",
   "execution_count": null,
   "id": "19846c7b-8cd0-49c3-af5b-2629ae28a3f3",
   "metadata": {},
   "outputs": [],
   "source": [
    "print(1,2,3,4,5, sep='-')"
   ]
  },
  {
   "cell_type": "markdown",
   "id": "7c19b25c-8a2b-4245-8d45-c7cf3002e5e7",
   "metadata": {},
   "source": [
    "# 자료형"
   ]
  },
  {
   "cell_type": "markdown",
   "id": "3cc477ca-e6e7-43a5-81ca-9af5721b933e",
   "metadata": {},
   "source": [
    "## 숫자형"
   ]
  },
  {
   "cell_type": "code",
   "execution_count": null,
   "id": "bb1c1abb-7076-43e0-8f02-ffed03973c71",
   "metadata": {},
   "outputs": [],
   "source": [
    "# 사칙연산 예\n",
    "sachik = 777\n",
    "sem = 100\n",
    "print('덧셈',sachik + sem, end='\\n=======================\\n')\n",
    "print('뺄셈',sachik - sem, end='\\n=======================\\n')\n",
    "print('곱셈',sachik * sem, end='\\n=======================\\n')\n",
    "print('나눗셈',sachik / sem, end='\\n=======================\\n')\n",
    "print('몫',sachik // sem, end='\\n=======================\\n')\n",
    "print('나머지',sachik % sem, end='\\n=======================\\n')\n",
    "print('승',sachik ** 2, end='\\n=======================\\n')"
   ]
  },
  {
   "cell_type": "code",
   "execution_count": 8,
   "id": "98500fc3-68b1-446d-a0a4-d52f9359e5b1",
   "metadata": {},
   "outputs": [
    {
     "name": "stdout",
     "output_type": "stream",
     "text": [
      "123 -178 0\n"
     ]
    }
   ],
   "source": [
    "# 정수형\n",
    "a = 123\n",
    "b = -178\n",
    "c = 0\n",
    "print(a,b,c)"
   ]
  },
  {
   "cell_type": "code",
   "execution_count": 10,
   "id": "7e114f69-4a4e-44a0-bec3-b5ff82163c3e",
   "metadata": {},
   "outputs": [
    {
     "name": "stdout",
     "output_type": "stream",
     "text": [
      "1.2 -3.14 4.24e-10\n"
     ]
    }
   ],
   "source": [
    "# 실수형\n",
    "aa = 1.2\n",
    "bb = -3.14\n",
    "cc = 4.24e-10\n",
    "print(aa,bb,cc)"
   ]
  },
  {
   "cell_type": "code",
   "execution_count": 15,
   "id": "7cae434d-d5f3-4a4b-9d64-12b770060840",
   "metadata": {},
   "outputs": [
    {
     "name": "stdout",
     "output_type": "stream",
     "text": [
      "15\n",
      "127 2748\n"
     ]
    }
   ],
   "source": [
    "# 2진수(bin)\n",
    "aaa = 0b1111\n",
    "print(aaa)\n",
    "# 8진수(oct)와 16진수(hex)\n",
    "bbb = 0o177\n",
    "ccc = 0xABC\n",
    "print(bbb,ccc)"
   ]
  },
  {
   "cell_type": "code",
   "execution_count": 19,
   "id": "b855d5a1-817c-4392-af4b-9dc145d777de",
   "metadata": {},
   "outputs": [
    {
     "name": "stdout",
     "output_type": "stream",
     "text": [
      "81\n"
     ]
    }
   ],
   "source": [
    "a = 3\n",
    "b = 4\n",
    "print(a ** b)"
   ]
  },
  {
   "cell_type": "code",
   "execution_count": 28,
   "id": "9212f327-654b-45f8-b663-6c453639b462",
   "metadata": {},
   "outputs": [
    {
     "name": "stdout",
     "output_type": "stream",
     "text": [
      "2\n",
      "3\n",
      "4\n"
     ]
    }
   ],
   "source": [
    "# 복합연산자\n",
    "a = 1\n",
    "a = a + 1 # a += 1\n",
    "print(a)\n",
    "a = a + 1\n",
    "print(a)\n",
    "a = a + 1\n",
    "print(a)"
   ]
  },
  {
   "cell_type": "code",
   "execution_count": 52,
   "id": "a04123df-006e-42c6-80c4-d9b81f3daed6",
   "metadata": {},
   "outputs": [
    {
     "name": "stdout",
     "output_type": "stream",
     "text": [
      "9\n",
      "8\n",
      "7\n"
     ]
    }
   ],
   "source": [
    "# 복합연산자\n",
    "a = 10\n",
    "a -= 1\n",
    "print(a)\n",
    "a -= 1\n",
    "print(a)\n",
    "a -= 1\n",
    "print(a)"
   ]
  },
  {
   "cell_type": "code",
   "execution_count": 53,
   "id": "aa829e5e-137b-45a5-9880-d78f6b291fe9",
   "metadata": {},
   "outputs": [],
   "source": [
    "#복합연산자\n",
    "# +=, -=, *=, /=, //=, %=, **="
   ]
  },
  {
   "cell_type": "markdown",
   "id": "995bb862-19ff-482c-a091-9182d24ff432",
   "metadata": {},
   "source": [
    "## 문자열 자료형"
   ]
  },
  {
   "cell_type": "markdown",
   "id": "cbacc680-d597-46c6-9f24-74f94f5265dc",
   "metadata": {},
   "source": [
    "### 문자열 연산하기"
   ]
  },
  {
   "cell_type": "code",
   "execution_count": 60,
   "id": "c91ad534-511c-44a3-8e42-f0803ff66907",
   "metadata": {},
   "outputs": [
    {
     "name": "stdout",
     "output_type": "stream",
     "text": [
      "문자형입니다.\n",
      "\n",
      "이것은 여러 줄 문자열 처리입니다.\n",
      "\n",
      "\n",
      "이것도 여러 줄 문자열 입니다.\n",
      "\n"
     ]
    }
   ],
   "source": [
    "# 주석처리입니다.\n",
    "str1 = '문자형입니다.'\n",
    "print(str1)\n",
    "str2 = '''\n",
    "이것은 여러 줄 문자열 처리입니다.\n",
    "'''\n",
    "print(str2)\n",
    "str3 = \"\"\"\n",
    "이것도 여러 줄 문자열 입니다.\n",
    "\"\"\"\n",
    "print(str3)"
   ]
  },
  {
   "cell_type": "code",
   "execution_count": 65,
   "id": "2f495152-d904-4bb0-986a-65d37bc811fd",
   "metadata": {},
   "outputs": [
    {
     "name": "stdout",
     "output_type": "stream",
     "text": [
      "Python's 'favorite' food is perl\n"
     ]
    }
   ],
   "source": [
    "# food = \"Python's favorite food is perl\"\n",
    "food = 'Python\\'s \\'favorite\\' food is perl'\n",
    "print(food)"
   ]
  },
  {
   "cell_type": "code",
   "execution_count": 67,
   "id": "7054a618-cc9c-4641-914f-6693d7e71f8b",
   "metadata": {},
   "outputs": [
    {
     "name": "stdout",
     "output_type": "stream",
     "text": [
      "Life is too short\n",
      "You need python\n"
     ]
    }
   ],
   "source": [
    "multiline = \"Life is too short\\nYou need python\"\n",
    "print(multiline)"
   ]
  },
  {
   "cell_type": "code",
   "execution_count": 68,
   "id": "da4d14f1-9ad7-418e-8a12-73f630426725",
   "metadata": {},
   "outputs": [
    {
     "name": "stdout",
     "output_type": "stream",
     "text": [
      "\n",
      "Life is too short\n",
      "You need python\n",
      "\n"
     ]
    }
   ],
   "source": [
    "multiline = '''\n",
    "Life is too short\n",
    "You need python\n",
    "'''\n",
    "print(multiline)"
   ]
  },
  {
   "cell_type": "markdown",
   "id": "0929ee73-d617-44c5-bc83-82bae680e7e3",
   "metadata": {},
   "source": [
    "<table>\n",
    "<thead>\n",
    "<tr>\n",
    "<th>코드</th>\n",
    "<th>설명</th>\n",
    "</tr>\n",
    "</thead>\n",
    "<tbody>\n",
    "<tr>\n",
    "<td><code>\\n</code></td>\n",
    "<td>문자열 안에서 줄을 바꿀 때 사용</td>\n",
    "</tr>\n",
    "<tr>\n",
    "<td><code>\\t</code></td>\n",
    "<td>문자열 사이에 탭 간격을 줄 때 사용</td>\n",
    "</tr>\n",
    "<tr>\n",
    "<td><code>\\\\</code></td>\n",
    "<td><code>\\</code>를 그대로 표현할 때 사용</td>\n",
    "</tr>\n",
    "<tr>\n",
    "<td><code>\\'</code></td>\n",
    "<td>작은따옴표(')를 그대로 표현할 때 사용</td>\n",
    "</tr>\n",
    "<tr>\n",
    "<td><code>\\\"</code></td>\n",
    "<td>큰따옴표(\")를 그대로 표현할 때 사용</td>\n",
    "</tr>\n",
    "<tr>\n",
    "<td><code>\\r</code></td>\n",
    "<td>캐리지 리턴(줄 바꿈 문자, 커서를 현재 줄의 가장 앞으로 이동)</td>\n",
    "</tr>\n",
    "<tr>\n",
    "<td><code>\\f</code></td>\n",
    "<td>폼 피드(줄 바꿈 문자, 커서를 현재 줄의 다음 줄로 이동)</td>\n",
    "</tr>\n",
    "<tr>\n",
    "<td><code>\\a</code></td>\n",
    "<td>벨 소리(출력할 때 PC 스피커에서 '삑' 소리가 난다)</td>\n",
    "</tr>\n",
    "<tr>\n",
    "<td><code>\\b</code></td>\n",
    "<td>백 스페이스</td>\n",
    "</tr>\n",
    "<tr>\n",
    "<td><code>\\000</code></td>\n",
    "<td>널 문자</td>\n",
    "</tr>\n",
    "</tbody>\n",
    "</table>"
   ]
  },
  {
   "cell_type": "code",
   "execution_count": 70,
   "id": "766fdbd3-900d-4f06-92eb-123e572e4375",
   "metadata": {},
   "outputs": [
    {
     "name": "stdout",
     "output_type": "stream",
     "text": [
      "Python is fun!\n"
     ]
    }
   ],
   "source": [
    "# 문자열 연산하기\n",
    "head = \"Python\"\n",
    "tail = \" is fun!\"\n",
    "print(head + tail)"
   ]
  },
  {
   "cell_type": "code",
   "execution_count": 74,
   "id": "03bcf97e-a15c-4a4f-8ca1-d0a409a82b5b",
   "metadata": {},
   "outputs": [
    {
     "name": "stdout",
     "output_type": "stream",
     "text": [
      "python\n",
      "python\n",
      "python\n",
      "python\n",
      "python\n",
      "\n"
     ]
    }
   ],
   "source": [
    "a = \"python\" + \"\\n\"\n",
    "print(a * 5)"
   ]
  },
  {
   "cell_type": "code",
   "execution_count": 101,
   "id": "e9dbc70b-a164-4ca0-9826-9bbcb1006221",
   "metadata": {},
   "outputs": [
    {
     "name": "stdout",
     "output_type": "stream",
     "text": [
      "===============\n",
      "    영 수 증\n",
      "===============\n",
      "아메리카노:17100원\n",
      "라떼:7200원\n",
      "허브티:13200원\n",
      "=============== 90\n"
     ]
    }
   ],
   "source": [
    "# 숫자계산\n",
    "p1 = 5700 * 3\n",
    "p2 = 7200 * 1\n",
    "p3 = 6600 * 2\n",
    "\n",
    "# 문자열계산\n",
    "m1 = \"아메리카노:\" + str(p1) + \"원\\n\"  # 문자랑 숫자는 더할 수 없다.\n",
    "m2 = \"라떼:\" + str(p2) + \"원\\n\"\n",
    "m3 = \"허브티:\" + str(p3) +\"원\"\n",
    "title = \"    \" + \"영 수 증\" # 문자와 문자는 더할 수 있다.\n",
    "\n",
    "# 출력 조합\n",
    "pp = ''\n",
    "pp += (\"=\" * 15)+'\\n' # 문자랑 숫자는 곱할 수 있다.\n",
    "pp += (title)+'\\n'\n",
    "pp += (\"=\" * 15)+'\\n'\n",
    "pp += (m1+m2+m3)+'\\n'\n",
    "pp += (\"=\" *15)\n",
    "\n",
    "#출력\n",
    "print(pp,len(pp))"
   ]
  },
  {
   "cell_type": "code",
   "execution_count": 103,
   "id": "1386e486-da33-4240-908a-8eff39c8a2b0",
   "metadata": {},
   "outputs": [
    {
     "name": "stdout",
     "output_type": "stream",
     "text": [
      "17\n"
     ]
    }
   ],
   "source": [
    "a = \"Life is too short\"\n",
    "print(len(a))"
   ]
  },
  {
   "cell_type": "markdown",
   "id": "a7ded610-ead9-4c7b-bae2-5c46b2af7e36",
   "metadata": {},
   "source": [
    "### 문자열 인덱싱과 슬라이싱"
   ]
  },
  {
   "cell_type": "code",
   "execution_count": 111,
   "id": "1dc04963-1bb9-4862-afcc-ef817820e4c7",
   "metadata": {},
   "outputs": [
    {
     "name": "stdout",
     "output_type": "stream",
     "text": [
      "Life\n",
      "L i f e\n"
     ]
    }
   ],
   "source": [
    "print(a[0]+a[1]+a[2]+a[3])\n",
    "print(a[0],a[1],a[2],a[3])"
   ]
  },
  {
   "cell_type": "code",
   "execution_count": 113,
   "id": "d7e8e0a0-fd6f-45bf-ba54-9c83e401b137",
   "metadata": {},
   "outputs": [
    {
     "name": "stdout",
     "output_type": "stream",
     "text": [
      "too\n"
     ]
    }
   ],
   "source": [
    "# too 출력하기\n",
    "print(a[8]+a[9]+a[10])\n",
    "8,9,10"
   ]
  },
  {
   "cell_type": "code",
   "execution_count": 114,
   "id": "450f5f5c-fe9d-48f2-98e7-8ef2ef1de6d2",
   "metadata": {},
   "outputs": [
    {
     "name": "stdout",
     "output_type": "stream",
     "text": [
      "t r\n"
     ]
    }
   ],
   "source": [
    "print(a[-1],a[-2])"
   ]
  },
  {
   "cell_type": "code",
   "execution_count": 117,
   "id": "471cccbe-e4b7-4301-9175-f33ff1ac39ce",
   "metadata": {},
   "outputs": [
    {
     "name": "stdout",
     "output_type": "stream",
     "text": [
      "too\n",
      "need\n"
     ]
    }
   ],
   "source": [
    "a = \"Life is too short, You need Python\"\n",
    "# too 출력하기\n",
    "print(a[8:11]) # 8 <= a < 11\n",
    "print(a[23:27])"
   ]
  },
  {
   "cell_type": "code",
   "execution_count": 119,
   "id": "24948e1e-d697-4c7f-beed-e634e663579f",
   "metadata": {},
   "outputs": [
    {
     "name": "stdout",
     "output_type": "stream",
     "text": [
      "Life is too short, You need\n"
     ]
    }
   ],
   "source": [
    "print(a[:27])"
   ]
  },
  {
   "cell_type": "code",
   "execution_count": 120,
   "id": "55b33d11-b6b9-405d-b4de-b079bc50c0db",
   "metadata": {},
   "outputs": [
    {
     "name": "stdout",
     "output_type": "stream",
     "text": [
      "Python\n"
     ]
    }
   ],
   "source": [
    "print(a[28:])"
   ]
  },
  {
   "cell_type": "code",
   "execution_count": 143,
   "id": "db4de610-d20a-40fc-95de-5f9f30ea93da",
   "metadata": {},
   "outputs": [
    {
     "name": "stdout",
     "output_type": "stream",
     "text": [
      "nohtyP deen uoY ,trohs oot si efiL\n"
     ]
    }
   ],
   "source": [
    "print(a[::-1])"
   ]
  },
  {
   "cell_type": "code",
   "execution_count": null,
   "id": "4103c195-f7c9-4674-aa8e-bfe747728424",
   "metadata": {},
   "outputs": [],
   "source": [
    "today = \"20250203오늘은화창하다\""
   ]
  },
  {
   "cell_type": "code",
   "execution_count": null,
   "id": "726ad15d-9b41-42ae-8fc6-6aa2df79fde2",
   "metadata": {},
   "outputs": [],
   "source": [
    "print(\"2025년 2월 3일 오늘은 화창하다!\")"
   ]
  },
  {
   "cell_type": "code",
   "execution_count": 4,
   "id": "38351d34-3494-4ae2-97c9-f4a14135626b",
   "metadata": {},
   "outputs": [
    {
     "name": "stdout",
     "output_type": "stream",
     "text": [
      "한국서 돈벌고 '나 몰라라' 코스트코… 연회비 인상률은 미국의 2배\n",
      "한국서 돈벌고 '나 몰라라' 코스트코… 연회비 인상률은 미국의 3배\n"
     ]
    }
   ],
   "source": [
    "import requests\n",
    "url = 'https://v.daum.net/v/20250203151815463' \n",
    "res = requests.get(url).text\n",
    "result = res[374:411]\n",
    "out = result[:-2] + '3' + result[-1]\n",
    "print(out)"
   ]
  },
  {
   "cell_type": "code",
   "execution_count": 5,
   "id": "ad0819d8-65dc-497a-a42c-2aa2e455a6dd",
   "metadata": {},
   "outputs": [
    {
     "name": "stdout",
     "output_type": "stream",
     "text": [
      "한국서 돈벌고 '나 몰라라' 코스트코… 연회비 인상률은 미국의 10배\n"
     ]
    }
   ],
   "source": [
    "# 목표출력\n",
    "print(\"한국서 돈벌고 '나 몰라라' 코스트코… 연회비 인상률은 미국의 %d배\" %10)"
   ]
  },
  {
   "cell_type": "code",
   "execution_count": 180,
   "id": "de818a3d-9fb9-400f-bbab-93c0ef10deb9",
   "metadata": {
    "collapsed": true,
    "jupyter": {
     "outputs_hidden": true
    },
    "scrolled": true
   },
   "outputs": [
    {
     "name": "stdout",
     "output_type": "stream",
     "text": [
      "\n",
      "\n",
      "\n",
      "\n",
      "\n",
      "\n",
      "\n",
      "<!DOCTYPE html PUBLIC \"-//W3C//DTD XHTML 1.0 Transitional//EN\" \"http://www.w3.org/TR/xhtml1/DTD/xhtml1-transitional.dtd\">\n",
      "<!-- [D] XHTML 1.0 형식에 맞게 언어속성 추가-->\n",
      "<html xmlns=\"http://www.w3.org/1999/xhtml\" xml:lang=“ko“ lang=\"ko\">\n",
      "<head>\n",
      "<meta http-equiv=\"Pragma\" content=\"no-cache\"/>\n",
      "<meta http-equiv=\"Expires\" content=\"-1\"/>\n",
      "<meta name=\"robots\" content=\"noindex,follow\"/>\n",
      "<meta name=\"referrer\" content=\"always\"/>\n",
      "<meta http-equiv=\"content-type\" content=\"text/html;charset=UTF-8\"/>\n",
      "<meta http-equiv=\"X-UA-Compatible\" content=\"IE=edge,chrome=1\" />\n",
      "<link rel=\"shortcut icon\" type=\"image/x-icon\" href=\"/favicon.ico?3\" />\n",
      "<link rel=\"alternate\" type=\"application/rss+xml\" href=\"https://rss.blog.naver.com/droad777.xml\" title=\"RSS feed for droad777 Blog\"/>\n",
      "<link rel=\"wlwmanifest\" type=\"application/wlwmanifest+xml\" href=\"https://blog.naver.com/NBlogWlwLayout.naver?blogId=droad777\" />\n",
      "\n",
      "\n",
      "\n",
      "\n",
      "<title>뿌요의 톡쏘는 일상 : 네이버 블로그</title>\n",
      "</head>\n",
      "<script type=\"text/javascript\" src=\"https://ssl.pstatic.net/t.static.blog/mylog/versioning/Frameset-341345692_https.js\" charset=\"UTF-8\"></script>\n",
      "\n",
      "<script type=\"text/javascript\" charset=\"UTF-8\">\n",
      "var photoContent=\"\";\n",
      "var postContent=\"\";\n",
      "\n",
      "var videoId \t  = \"\";\n",
      "var thumbnail \t  = \"\";\n",
      "var inKey \t\t  = \"\";\n",
      "var movieFileSize = \"\";\n",
      "var playTime \t  = \"\";\n",
      "var screenSize \t  = \"\";\n",
      "\n",
      "var blogId = 'droad777';\n",
      "var blogURL = 'https://blog.naver.com';\n",
      "var eventCnt = '';\n",
      "\n",
      "var g_ShareObject = {};\n",
      "g_ShareObject.referer = \"\";\n",
      "\n",
      "\n",
      "jsMVC.setController(\"framesetTitleController\", FramesetTitleController);\n",
      "jsMVC.setController(\"framesetUrlController\", FramesetUrlController);\n",
      "jsMVC.setController(\"framesetMusicController\", FramesetMusicController);\n",
      "var oFramesetTitleController = jsMVC.getController(\"framesetTitleController\");\n",
      "var oFramesetUrlController = jsMVC.getController(\"framesetUrlController\");\n",
      "var oFramesetMusicController = jsMVC.getController(\"framesetMusicController\");\n",
      "var sTitle = document.title;\n",
      "\n",
      "var topFrameAlert = function(message){\n",
      "\talert(message);\n",
      "};\n",
      "\n",
      "var topFrameConfirm = function(message){\n",
      "\tif(confirm(message)){\n",
      "\t\treturn true;\n",
      "\t} else {\n",
      "\t\treturn false;\n",
      "\t}\n",
      "};\n",
      "</script>\n",
      "<style type=\"text/css\">\n",
      "    html{width:100%;height:100%;}\n",
      "    body{width:100%;height:100%;margin:0;padding:0;font-size:0;}\n",
      "    #mainFrame{width:100%;height:100%;margin:0;padding:0;border:0;}\n",
      "    #hiddenFrame{width:0;height:0;margin:0;padding:0;border:0;}\n",
      "</style>\n",
      "<body>\n",
      "<iframe id=\"mainFrame\" name=\"mainFrame\" allowfullscreen=\"true\"\n",
      "\t\tsrc=\"/PostList.naver?blogId=droad777&widgetTypeCall=true&noTrackingCode=true&directAccess=true\"\n",
      "\t\tscrolling=\"auto\"\n",
      "\t\tonload=\"oFramesetTitleController.start(self.frames['mainFrame'], self, sTitle);oFramesetTitleController.onLoadFrame();oFramesetUrlController.start(self.frames['mainFrame']);oFramesetUrlController.onLoadFrame();document.querySelector('#mainFrame').focus();\"\n",
      "\t\tallowfullscreen></iframe>\n",
      "</body>\n",
      "</html>\n"
     ]
    }
   ],
   "source": [
    "import requests\n",
    "url = 'https://blog.naver.com/droad777' \n",
    "res = requests.get(url).text\n",
    "print(res)"
   ]
  },
  {
   "cell_type": "code",
   "execution_count": 179,
   "id": "ce818dda-be78-4017-930a-537e5039d2c5",
   "metadata": {},
   "outputs": [
    {
     "name": "stdout",
     "output_type": "stream",
     "text": [
      "대빵의 톡쏘는 일상 : 네이버 블로그\n"
     ]
    }
   ],
   "source": [
    "# 목표출력\n",
    "print(\"대빵의 톡쏘는 일상 : 네이버 블로그\")"
   ]
  },
  {
   "cell_type": "code",
   "execution_count": null,
   "id": "b0f1baa8-1f80-45db-9101-45a734cb4a7d",
   "metadata": {},
   "outputs": [],
   "source": [
    "# p62"
   ]
  },
  {
   "cell_type": "markdown",
   "id": "c659903e-a541-4768-8651-1527b33b3669",
   "metadata": {},
   "source": [
    "### 문자열 포매팅"
   ]
  },
  {
   "cell_type": "code",
   "execution_count": 9,
   "id": "a6c319e0-8051-4a70-b351-6639b51329d4",
   "metadata": {},
   "outputs": [
    {
     "name": "stdout",
     "output_type": "stream",
     "text": [
      "I eat 3 apples.\n",
      "I eat 17 apples.\n",
      "I eat five apples.\n"
     ]
    }
   ],
   "source": [
    "print(\"I eat 3 apples.\")\n",
    "print(\"I eat %d apples.\" %17)\n",
    "print(\"I eat %s apples.\" %\"five\")"
   ]
  },
  {
   "cell_type": "markdown",
   "id": "7918a8c2-4cde-4779-9249-d90907e8be2d",
   "metadata": {},
   "source": [
    "<table>\n",
    "<thead>\n",
    "<tr>\n",
    "<th>코드</th>\n",
    "<th>설명</th>\n",
    "</tr>\n",
    "</thead>\n",
    "<tbody>\n",
    "<tr>\n",
    "<td>%s</td>\n",
    "<td>문자열(String)</td>\n",
    "</tr>\n",
    "<tr>\n",
    "<td>%c</td>\n",
    "<td>문자 1개(character)</td>\n",
    "</tr>\n",
    "<tr>\n",
    "<td>%d</td>\n",
    "<td>정수(Integer)</td>\n",
    "</tr>\n",
    "<tr>\n",
    "<td>%f</td>\n",
    "<td>부동소수(floating-point)</td>\n",
    "</tr>\n",
    "<tr>\n",
    "<td>%o</td>\n",
    "<td>8진수</td>\n",
    "</tr>\n",
    "<tr>\n",
    "<td>%x</td>\n",
    "<td>16진수</td>\n",
    "</tr>\n",
    "<tr>\n",
    "<td>%%</td>\n",
    "<td>Literal % (문자 <code>%</code> 자체)</td>\n",
    "</tr>\n",
    "</tbody>\n",
    "</table>"
   ]
  },
  {
   "cell_type": "code",
   "execution_count": 13,
   "id": "3f5aa2fb-98eb-4222-a573-b9689e8138e9",
   "metadata": {},
   "outputs": [
    {
     "name": "stdout",
     "output_type": "stream",
     "text": [
      "사람 몸의 수분은 60% 이다\n"
     ]
    }
   ],
   "source": [
    "print(\"사람 몸의 수분은 %d%% 이다\" %60)"
   ]
  },
  {
   "cell_type": "code",
   "execution_count": 21,
   "id": "47913545-8224-4661-a8df-22d1322bbc16",
   "metadata": {},
   "outputs": [
    {
     "name": "stdout",
     "output_type": "stream",
     "text": [
      "십진수로 123은 16진수로 7b이다\n",
      "십진수로 123은 8진수로 173이다\n"
     ]
    }
   ],
   "source": [
    "print(\"십진수로 %d은 16진수로 %x이다\" %(123,123))\n",
    "print(\"십진수로 %d은 8진수로 %o이다\" %(123,123))"
   ]
  },
  {
   "cell_type": "code",
   "execution_count": 30,
   "id": "7e6dcf82-7673-42aa-ad78-ff57aeaf8680",
   "metadata": {},
   "outputs": [
    {
     "name": "stdout",
     "output_type": "stream",
     "text": [
      "        hi\n"
     ]
    }
   ],
   "source": [
    "# 정렬과 공백 (오른쪽 정렬)\n",
    "print(\"%10s\" % \"hi\")"
   ]
  },
  {
   "attachments": {
    "b9972659-402b-42a4-aefe-516232d63d55.png": {
     "image/png": "[encoded data removed]"
    }
   },
   "cell_type": "markdown",
   "id": "a3903ba8-e70c-43c2-8c1e-d41eb1ad18cf",
   "metadata": {},
   "source": [
    "<img src=\"attachment:b9972659-402b-42a4-aefe-516232d63d55.png\" width=300>"
   ]
  },
  {
   "cell_type": "code",
   "execution_count": 29,
   "id": "691dc854-06d2-4ff8-934c-ee2e9eb479db",
   "metadata": {},
   "outputs": [
    {
     "name": "stdout",
     "output_type": "stream",
     "text": [
      "hi        jane\n"
     ]
    }
   ],
   "source": [
    "# 정렬과  공백(음수일 때 왼쪽 정렬)\n",
    "print(\"%-10sjane\" % \"hi\")"
   ]
  },
  {
   "cell_type": "code",
   "execution_count": 39,
   "id": "15594072-4f59-4d12-99be-c05469b12279",
   "metadata": {},
   "outputs": [
    {
     "name": "stdout",
     "output_type": "stream",
     "text": [
      "3.1416\n",
      "    3.1416\n"
     ]
    }
   ],
   "source": [
    "# 소숫점 표현하기\n",
    "print(\"%.4f\" %3.141592)\n",
    "print(\"%10.4f\" %3.141592)"
   ]
  },
  {
   "attachments": {
    "0bedebde-a3cd-4b40-9fbd-f83a6bc80285.png": {
     "image/png": "[encoded data removed]"
    }
   },
   "cell_type": "markdown",
   "id": "c50f28e6-f359-4b13-bc89-0dec42413693",
   "metadata": {},
   "source": [
    "<img src=\"attachment:0bedebde-a3cd-4b40-9fbd-f83a6bc80285.png\" width=300>"
   ]
  },
  {
   "cell_type": "markdown",
   "id": "a8dab061-6a72-4c69-844c-8fe8cdb7d786",
   "metadata": {},
   "source": [
    "### format 함수를 사용한 포매팅"
   ]
  },
  {
   "cell_type": "code",
   "execution_count": 46,
   "id": "08a292b5-35cd-474e-8312-418ef0f4b5a7",
   "metadata": {},
   "outputs": [
    {
     "name": "stdout",
     "output_type": "stream",
     "text": [
      "I eat 3 of 10 apples\n"
     ]
    }
   ],
   "source": [
    "# 바로 대입하기\n",
    "print(\"I eat {0} of {1} apples\".format(3,10))"
   ]
  },
  {
   "cell_type": "code",
   "execution_count": 47,
   "id": "89fa2be0-c5a8-4c8b-9721-f2e1b1d51260",
   "metadata": {},
   "outputs": [
    {
     "name": "stdout",
     "output_type": "stream",
     "text": [
      "I eat three of 10 apples\n"
     ]
    }
   ],
   "source": [
    "# 변수로 대입하기\n",
    "total = 10\n",
    "ea = \"three\"\n",
    "print(\"I eat {0} of {1} apples\".format(ea,total))"
   ]
  },
  {
   "cell_type": "code",
   "execution_count": 44,
   "id": "ed52c010-26d6-4ea5-8c4e-ec7c25763ab3",
   "metadata": {},
   "outputs": [
    {
     "name": "stdout",
     "output_type": "stream",
     "text": [
      "I eat three of 10 apples\n"
     ]
    }
   ],
   "source": [
    "print(\"I eat {ea} of {total} apples\".format(ea=\"three\",total=10))"
   ]
  },
  {
   "cell_type": "code",
   "execution_count": 48,
   "id": "4b3127fc-998e-4ba2-a89d-448da9a89706",
   "metadata": {},
   "outputs": [
    {
     "name": "stdout",
     "output_type": "stream",
     "text": [
      "I ate 10 apples. so I was sick for 3 days.\n"
     ]
    }
   ],
   "source": [
    "# 인덱스와 이름을 혼용해서 넣기\n",
    "print(\"I ate {0} apples. so I was sick for {day} days.\".format(10, day=3))"
   ]
  },
  {
   "cell_type": "code",
   "execution_count": 57,
   "id": "a2fe69c3-74ba-4d91-889b-7c2d5ade96a8",
   "metadata": {},
   "outputs": [
    {
     "name": "stdout",
     "output_type": "stream",
     "text": [
      "        hi\n"
     ]
    }
   ],
   "source": [
    "# 우측 정렬\n",
    "print(\"{0:>10}\".format(\"hi\"))"
   ]
  },
  {
   "cell_type": "code",
   "execution_count": 55,
   "id": "2feb90d1-00ce-4812-8fd7-b83dc743c585",
   "metadata": {},
   "outputs": [
    {
     "name": "stdout",
     "output_type": "stream",
     "text": [
      "    hi    \n"
     ]
    }
   ],
   "source": [
    "# 가운데 정렬\n",
    "print(\"{0:^10}\".format(\"hi\"))"
   ]
  },
  {
   "cell_type": "code",
   "execution_count": 56,
   "id": "155cf27e-c5d5-4599-9837-ee002a673858",
   "metadata": {},
   "outputs": [
    {
     "name": "stdout",
     "output_type": "stream",
     "text": [
      "hi        \n"
     ]
    }
   ],
   "source": [
    "# 좌측 정렬\n",
    "print(\"{0:<10}\".format(\"hi\"))"
   ]
  },
  {
   "cell_type": "code",
   "execution_count": 58,
   "id": "f93d7c42-30ac-4ae0-8ab0-4f7ee8433b00",
   "metadata": {},
   "outputs": [
    {
     "name": "stdout",
     "output_type": "stream",
     "text": [
      "====hi====\n"
     ]
    }
   ],
   "source": [
    "# 가운데 정렬 + 글자 채우기\n",
    "print(\"{0:=^10}\".format(\"hi\"))"
   ]
  },
  {
   "cell_type": "code",
   "execution_count": 59,
   "id": "928c18a2-a9a3-4b6d-bbc0-0877efd03955",
   "metadata": {},
   "outputs": [
    {
     "name": "stdout",
     "output_type": "stream",
     "text": [
      "ㅋㅋㅋㅋㅋㅋㅋㅋ웃겨!ㅋㅋㅋㅋㅋㅋㅋㅋㅋ\n"
     ]
    }
   ],
   "source": [
    "# 가운데 정렬 + 글자 채우기\n",
    "print(\"{0:ㅋ^20}\".format(\"웃겨!\"))"
   ]
  },
  {
   "cell_type": "code",
   "execution_count": 63,
   "id": "eb6ceba0-f5c0-43c1-9abf-4a5b0537d973",
   "metadata": {},
   "outputs": [
    {
     "name": "stdout",
     "output_type": "stream",
     "text": [
      "              3.1416\n"
     ]
    }
   ],
   "source": [
    "# 소수점 표현하기\n",
    "pi = 3.141592\n",
    "print(\"{0:20.4f}\".format(pi))"
   ]
  },
  {
   "cell_type": "code",
   "execution_count": 67,
   "id": "c1d08dc1-bfaf-46b6-b330-fd428966f45e",
   "metadata": {},
   "outputs": [
    {
     "name": "stdout",
     "output_type": "stream",
     "text": [
      "중괄호 는 { 과 } 입니다.\n"
     ]
    }
   ],
   "source": [
    "# 이스케이프 처리\n",
    "print(\"{0} 는 {{ 과 }} 입니다.\".format(\"중괄호\"))"
   ]
  },
  {
   "cell_type": "code",
   "execution_count": 72,
   "id": "d501445e-e624-41c6-8848-2685e8157b2a",
   "metadata": {},
   "outputs": [
    {
     "name": "stdout",
     "output_type": "stream",
     "text": [
      "1111011\n"
     ]
    }
   ],
   "source": [
    "# 2진수 처리\n",
    "print(\"{0:>b}\".format(123))"
   ]
  },
  {
   "cell_type": "code",
   "execution_count": 73,
   "id": "9c5dd1a4-ef25-4f78-8d24-53adc3435606",
   "metadata": {},
   "outputs": [
    {
     "name": "stdout",
     "output_type": "stream",
     "text": [
      "01111011\n"
     ]
    }
   ],
   "source": [
    "# 출력하라 0111 1011\n",
    "# 2진수 처리\n",
    "print(\"{0:0>8b}\".format(123))"
   ]
  },
  {
   "cell_type": "markdown",
   "id": "4f32f401-b1f9-4b59-81f7-1f95b688d3f2",
   "metadata": {},
   "source": [
    "### f문자열 포매팅"
   ]
  },
  {
   "cell_type": "code",
   "execution_count": 77,
   "id": "b38b88c9-2346-4fa7-afdb-d39e76f85d25",
   "metadata": {},
   "outputs": [
    {
     "name": "stdout",
     "output_type": "stream",
     "text": [
      "나의 이름은 배트맨입니다. 나이는 30입니다.\n",
      "내년이면 31 살이 됩니다.\n"
     ]
    }
   ],
   "source": [
    "# \" \".format() -> f\" \"\n",
    "name = \"배트맨\"\n",
    "age = 30\n",
    "print(f\"나의 이름은 {name}입니다. 나이는 {age}입니다.\")\n",
    "print(f\"내년이면 {age + 1} 살이 됩니다.\")"
   ]
  },
  {
   "cell_type": "code",
   "execution_count": 81,
   "id": "0751be84-c020-4dd7-9dae-9d1bb6c4ef54",
   "metadata": {},
   "outputs": [
    {
     "name": "stdout",
     "output_type": "stream",
     "text": [
      "나의 이름은 홍길동 입니다. 나이는 30 입니다. 성별은 male 입니다.\n"
     ]
    }
   ],
   "source": [
    "d = {'name':'홍길동','age':30,'gen':'male'}\n",
    "print(f'나의 이름은 {d[\"name\"]} 입니다. 나이는 {d[\"age\"]} 입니다. 성별은 {d[\"gen\"]} 입니다.')"
   ]
  },
  {
   "cell_type": "code",
   "execution_count": 83,
   "id": "4aa1799b-a3e9-4ed0-b83a-03fc10134c04",
   "metadata": {},
   "outputs": [
    {
     "name": "stdout",
     "output_type": "stream",
     "text": [
      "hi        \n",
      "        hi\n",
      "    hi    \n"
     ]
    }
   ],
   "source": [
    "# 왼쪽 정렬\n",
    "print(f'{\"hi\":<10}')\n",
    "# 오른쪽 정렬\n",
    "print(f'{\"hi\":>10}')\n",
    "# 가운데 정렬\n",
    "print(f'{\"hi\":^10}')"
   ]
  },
  {
   "cell_type": "code",
   "execution_count": 88,
   "id": "a333e972-242b-4646-a448-91858db99a76",
   "metadata": {},
   "outputs": [
    {
     "name": "stdout",
     "output_type": "stream",
     "text": [
      "====hi====\n",
      "hi!!!!!!!!\n"
     ]
    }
   ],
   "source": [
    "print(f'{\"hi\":=^10}')  # 가운데 정렬하고 '=' 문자로 공백 채우기\n",
    "print(f'{\"hi\":!<10}')  # 왼쪽 정렬하고 '!' 문자로 공백 채우기"
   ]
  },
  {
   "cell_type": "code",
   "execution_count": 89,
   "id": "5bf8a11b-92dd-4f59-a63a-427138552204",
   "metadata": {},
   "outputs": [
    {
     "name": "stdout",
     "output_type": "stream",
     "text": [
      "3.4213\n",
      "    3.4213\n"
     ]
    }
   ],
   "source": [
    "y = 3.42134234\n",
    "print(f'{y:0.4f}') # 소수점 4자리까지만 표현\n",
    "print(f'{y:10.4f}') # 소수점 4자리까지 표현하고 총 자리수를 10으로 맞춤"
   ]
  },
  {
   "cell_type": "code",
   "execution_count": 90,
   "id": "2d7f6c31-f35d-4359-aaf5-df74ca839845",
   "metadata": {},
   "outputs": [
    {
     "name": "stdout",
     "output_type": "stream",
     "text": [
      "{ and }\n"
     ]
    }
   ],
   "source": [
    "print(f'{{ and }}')"
   ]
  },
  {
   "cell_type": "markdown",
   "id": "daf5eb83-c689-40eb-9d58-2c76d1a7a8f6",
   "metadata": {},
   "source": [
    "### 문자열 관련 함수들"
   ]
  },
  {
   "cell_type": "code",
   "execution_count": 9,
   "id": "63f4a325-66a2-4a2a-9a3a-4e571af1e823",
   "metadata": {},
   "outputs": [
    {
     "data": {
      "text/plain": [
       "2"
      ]
     },
     "execution_count": 9,
     "metadata": {},
     "output_type": "execute_result"
    }
   ],
   "source": [
    "# 문자 개수 세기 count\n",
    "\"hobby\".count('b')"
   ]
  },
  {
   "cell_type": "code",
   "execution_count": 10,
   "id": "5130bfd7-a75e-4026-838a-9c8f4a5a20d7",
   "metadata": {},
   "outputs": [
    {
     "name": "stdout",
     "output_type": "stream",
     "text": [
      "한국서 돈벌고 '나 몰라라' 코스트코… 연회비 인상률은 미국의 3배\n",
      "1\n"
     ]
    }
   ],
   "source": [
    "import requests\n",
    "url = 'https://v.daum.net/v/20250203151815463' \n",
    "res = requests.get(url).text\n",
    "result = res[374:411]\n",
    "out = result[:-2] + '3' + result[-1]\n",
    "print(out)\n",
    "print(out.count('한국'))"
   ]
  },
  {
   "cell_type": "code",
   "execution_count": 16,
   "id": "31f683fd-9327-47dc-a4a5-4b7be34db2fa",
   "metadata": {},
   "outputs": [
    {
     "name": "stdout",
     "output_type": "stream",
     "text": [
      "한국서 돈벌고 '나 몰라라' 코스트코… 연회비 인상률은 미국의 3배\n",
      "-1\n"
     ]
    }
   ],
   "source": [
    "# 위치알려주기1 find\n",
    "print(out)\n",
    "print(out.find('밥'))"
   ]
  },
  {
   "cell_type": "code",
   "execution_count": null,
   "id": "2d8007bb-cc64-43e4-a2f8-56662bd719b3",
   "metadata": {},
   "outputs": [],
   "source": [
    "import requests\n",
    "url = 'https://v.daum.net/v/20250203151815463' \n",
    "res = requests.get(url).text\n",
    "print(res)\n",
    "print(res.find('한'))"
   ]
  },
  {
   "cell_type": "code",
   "execution_count": 42,
   "id": "310a5ab7-ecf9-4776-882b-6096c4b8f430",
   "metadata": {},
   "outputs": [
    {
     "name": "stdout",
     "output_type": "stream",
     "text": [
      "41529\n",
      "좋아하는 노래제목: toxic till the end\n"
     ]
    }
   ],
   "source": [
    "import requests\n",
    "url = 'https://music.apple.com/kr/playlist/%EC%98%A4%EB%8A%98%EC%9D%98-top-100-%EB%8C%80%ED%95%9C%EB%AF%BC%EA%B5%AD/pl.d3d10c32fbc540b38e266367dc8cb00c' \n",
    "res = requests.get(url).text\n",
    "print(res.find('toxic till the end'))\n",
    "# print(res.index('toxi till the end')) # 없으면 오류 발생\n",
    "print('좋아하는 노래제목:',res[41529:41547])"
   ]
  },
  {
   "cell_type": "code",
   "execution_count": null,
   "id": "31a78dee-0b2b-4784-9ef3-40e05d84d111",
   "metadata": {},
   "outputs": [],
   "source": [
    "dir(str)"
   ]
  },
  {
   "cell_type": "code",
   "execution_count": 49,
   "id": "50e7ca1c-f091-4aef-9040-c488fe9b2f6c",
   "metadata": {},
   "outputs": [
    {
     "name": "stdout",
     "output_type": "stream",
     "text": [
      "a,b,c,d,e,f,g\n"
     ]
    }
   ],
   "source": [
    "# 문자열 삽입 join *\n",
    "# 리스트,튜플을 문자열로\n",
    "print(\",\".join('abcdefg'))"
   ]
  },
  {
   "cell_type": "code",
   "execution_count": 50,
   "id": "09b56cf9-954d-4232-bbe6-84410bdff8a4",
   "metadata": {},
   "outputs": [
    {
     "name": "stdout",
     "output_type": "stream",
     "text": [
      "a,b,c,d\n"
     ]
    }
   ],
   "source": [
    "print(\",\".join(['a', 'b', 'c', 'd']))"
   ]
  },
  {
   "cell_type": "code",
   "execution_count": 52,
   "id": "bad34732-87e5-4042-8812-516468e9c40a",
   "metadata": {},
   "outputs": [
    {
     "name": "stdout",
     "output_type": "stream",
     "text": [
      "HI\n"
     ]
    }
   ],
   "source": [
    "# 소문자를 대문자로 바꾸기 upper\n",
    "a = \"hi\"\n",
    "print(a.upper())"
   ]
  },
  {
   "cell_type": "code",
   "execution_count": 53,
   "id": "a74354aa-4440-4b59-ba0f-d6db73d446f4",
   "metadata": {},
   "outputs": [
    {
     "name": "stdout",
     "output_type": "stream",
     "text": [
      "hi\n"
     ]
    }
   ],
   "source": [
    "# 대문자를 소문자로 바꾸기 lower\n",
    "a = \"HI\"\n",
    "print(a.lower())"
   ]
  },
  {
   "cell_type": "code",
   "execution_count": 56,
   "id": "9014a7ad-5ce2-4246-a965-0941d967d5ae",
   "metadata": {},
   "outputs": [
    {
     "name": "stdout",
     "output_type": "stream",
     "text": [
      "Life is Egg\n",
      "LIFE IS EGG\n",
      "life is egg\n"
     ]
    }
   ],
   "source": [
    "# 연습\n",
    "v = \"Life is Egg\"\n",
    "big = v.upper()\n",
    "small = v.lower()\n",
    "print(v)\n",
    "print(big)\n",
    "print(small)"
   ]
  },
  {
   "cell_type": "code",
   "execution_count": 66,
   "id": "d297c81f-6ff6-4811-8d4c-fdf0bdb3bac4",
   "metadata": {},
   "outputs": [
    {
     "name": "stdout",
     "output_type": "stream",
     "text": [
      "  !  hi  !  \n",
      "!  hi  !  \n",
      "  !  hi  !\n",
      "!  hi  !\n"
     ]
    }
   ],
   "source": [
    "a = \"  !  hi  !  \"\n",
    "aa = a.lstrip()\n",
    "bb = a.rstrip()\n",
    "cc = a.strip()\n",
    "print(a)\n",
    "print(aa)\n",
    "print(bb)\n",
    "print(cc)"
   ]
  },
  {
   "cell_type": "code",
   "execution_count": 65,
   "id": "18830f96-c056-4da4-918f-d6dc6f217ea9",
   "metadata": {},
   "outputs": [
    {
     "name": "stdout",
     "output_type": "stream",
     "text": [
      "         hi         \n",
      "hi         \n",
      "         hi\n",
      "hi\n"
     ]
    }
   ],
   "source": [
    "f = f\"{'hi':^20}\"\n",
    "f1 = f.lstrip()\n",
    "f2 = f.rstrip()\n",
    "f3 = f.strip()\n",
    "print(f)\n",
    "print(f1)\n",
    "print(f2)\n",
    "print(f3)"
   ]
  },
  {
   "cell_type": "code",
   "execution_count": 69,
   "id": "4c4995c8-99f6-471c-b06b-ca4949bd74ce",
   "metadata": {},
   "outputs": [
    {
     "name": "stdout",
     "output_type": "stream",
     "text": [
      "Life is Egg\n",
      "Life is Beautiful\n"
     ]
    }
   ],
   "source": [
    "# 문자열 바꾸기 replace **\n",
    "a = \"Life is Egg\"\n",
    "c = a.replace(\"Egg\",\"Beautiful\")\n",
    "print(a)\n",
    "print(c)"
   ]
  },
  {
   "cell_type": "code",
   "execution_count": 73,
   "id": "5793af8b-4388-4042-8903-e762aad7caa5",
   "metadata": {},
   "outputs": [
    {
     "name": "stdout",
     "output_type": "stream",
     "text": [
      "['Life', 'is', 'Egg']\n"
     ]
    }
   ],
   "source": [
    "# 문자열 나누기 split *\n",
    "# 문자열을 배열로\n",
    "a = \"Life-is-Egg\"\n",
    "aa = a.split('-')\n",
    "print(aa)"
   ]
  },
  {
   "cell_type": "code",
   "execution_count": 79,
   "id": "e5ca7faa-b056-4e2e-a7fe-281b799a5eec",
   "metadata": {},
   "outputs": [
    {
     "name": "stdout",
     "output_type": "stream",
     "text": [
      "['abcdefghi']\n",
      "a=b=c=d=e=f=g=h=i\n",
      "['a', 'b', 'c', 'd', 'e', 'f', 'g', 'h', 'i']\n",
      "abcdefghi\n"
     ]
    }
   ],
   "source": [
    "# 연습\n",
    "ex = \"abcdefghi\"\n",
    "ex2 = ex.split()\n",
    "print(ex2)\n",
    "ex_join = \"=\".join(ex)\n",
    "print(ex_join)\n",
    "ex_split = ex_join.split(\"=\")\n",
    "print(ex_split)\n",
    "ex_replace = ex_join.replace(\"=\",\"\")\n",
    "print(ex_replace)"
   ]
  },
  {
   "cell_type": "code",
   "execution_count": null,
   "id": "a724dfd3-d752-4407-8b73-bbc5b7dc5eaf",
   "metadata": {},
   "outputs": [],
   "source": []
  },
  {
   "cell_type": "code",
   "execution_count": null,
   "id": "71559d51-c15c-488f-84af-701289a41b40",
   "metadata": {},
   "outputs": [],
   "source": []
  }
 ],
 "metadata": {
  "kernelspec": {
   "display_name": "Python 3 (ipykernel)",
   "language": "python",
   "name": "python3"
  },
  "language_info": {
   "codemirror_mode": {
    "name": "ipython",
    "version": 3
   },
   "file_extension": ".py",
   "mimetype": "text/x-python",
   "name": "python",
   "nbconvert_exporter": "python",
   "pygments_lexer": "ipython3",
   "version": "3.10.12"
  }
 },
 "nbformat": 4,
 "nbformat_minor": 5
}
