{
 "cells": [
  {
   "cell_type": "markdown",
   "id": "ce784468-44ee-4b0f-aa71-37ff3d7a47f8",
   "metadata": {},
   "source": [
    "# 되새김 문제 풀기 p116~p119"
   ]
  },
  {
   "cell_type": "markdown",
   "id": "d281b2ae-8028-4a3c-9a4d-7e07b255276d",
   "metadata": {},
   "source": [
    "## 1. 평균 점수 구하기\n",
    "홍길동 씨의 과목별 점수는 다음과 같다. 홍길동 씨의 평균 점수를 구해보자\n",
    "- 국어:80점\n",
    "- 영어:75점\n",
    "- 수학:55점"
   ]
  },
  {
   "cell_type": "code",
   "execution_count": 5,
   "id": "30c4100d-9249-4a10-8961-2550fbf631fe",
   "metadata": {},
   "outputs": [
    {
     "name": "stdout",
     "output_type": "stream",
     "text": [
      "홍길동 씨의 평균 점수는 70.0점 입니다.\n"
     ]
    }
   ],
   "source": [
    "kor = 80\n",
    "eng = 75\n",
    "mat = 55\n",
    "\n",
    "plus = kor+eng+mat\n",
    "dev = plus/3\n",
    "\n",
    "print(f'홍길동 씨의 평균 점수는 {dev}점 입니다.')"
   ]
  },
  {
   "cell_type": "markdown",
   "id": "ae927f41-3794-4d76-9c24-31f8e4dac37f",
   "metadata": {},
   "source": [
    "## 2. 홀수, 짝수 판별하기\n",
    "자연수 13이 홀수인지, 짝수인지 판별할 수 있는 방법에 대해 말해보자"
   ]
  },
  {
   "cell_type": "code",
   "execution_count": 15,
   "id": "c6c6a211-5130-40fb-b28a-76124605910e",
   "metadata": {},
   "outputs": [
    {
     "name": "stdout",
     "output_type": "stream",
     "text": [
      "13는 홀수 입니다.\n"
     ]
    }
   ],
   "source": [
    "a = 13\n",
    "\n",
    "res = a%2\n",
    "if res==1 :\n",
    "    print(f'{a}는 홀수 입니다.')\n",
    "else :\n",
    "    print(f'{a}는 짝수 입니다.')\n"
   ]
  },
  {
   "cell_type": "markdown",
   "id": "886ccd83-dd42-4c4b-b5c6-f801692cd6ed",
   "metadata": {},
   "source": [
    "## 3. 주민등록번호 나누기\n",
    "홍길동 씨의 주민등록번호는 881120-1068234이다. 홍길동 씨의 주민등록번호를 <br>\n",
    "연월일(YYYYMMDD)부분과 그뒤의 숫자 부분으로 나누어 출력해보자.\n",
    "- pin =\"881120-1068234\"\n",
    "- yyyymmdd =[            ]\n",
    "- num =[         ]\n",
    "- print(         )  <- 연월일 부분 출력\n",
    "- print(         ) <- 숫자 부분 출력\n",
    " "
   ]
  },
  {
   "cell_type": "code",
   "execution_count": 36,
   "id": "898b45bd-063d-4680-b834-76cc99ff32e6",
   "metadata": {},
   "outputs": [
    {
     "name": "stdout",
     "output_type": "stream",
     "text": [
      "yyyymmdd = 881120\n",
      "num = 1068234\n",
      "881120\n",
      "1068234\n"
     ]
    }
   ],
   "source": [
    "pin =\"881120-1068234\"\n",
    "print(f'yyyymmdd = {pin[0:6]}')\n",
    "print(f'num = {pin[7:]}')\n",
    "print(pin[0:6])\n",
    "print(pin[7:]) "
   ]
  },
  {
   "cell_type": "markdown",
   "id": "3d7f4dbe-9547-4f20-a6c6-e4af9dff0804",
   "metadata": {},
   "source": [
    "## 4. 주민등록번호 인덱싱\n",
    "주민등록번호 뒷자리의 맨 첫번째 숫자는 성별을 나타낸다. 주민등록번호에서 성별을 나타내는 숫자를 출력해보자\n",
    "- pin = \"881120-1068234\" \n",
    "- print(       )"
   ]
  },
  {
   "cell_type": "code",
   "execution_count": 22,
   "id": "ed45b335-ec27-4bda-990f-b46b78807705",
   "metadata": {},
   "outputs": [
    {
     "name": "stdout",
     "output_type": "stream",
     "text": [
      "1\n"
     ]
    }
   ],
   "source": [
    "pin = \"881120-1068234\"\n",
    "print(pin[7:8])"
   ]
  },
  {
   "cell_type": "markdown",
   "id": "01a3890b-8788-43c2-8246-bcaa2b25f610",
   "metadata": {},
   "source": [
    "## 5. 문자열 바꾸기\n",
    "다음과 같은 문자열 a:b:c:d가 있다. 문자열의 replace 함수를 사용하여 a#b#c#d로 바꿔 출력해보자.\n",
    "- a = \"a:b:c:d\"\n",
    "- b =[           ]\n",
    "- print(b) <-문자열 \"a#b#c#d\" 출력 "
   ]
  },
  {
   "cell_type": "code",
   "execution_count": 24,
   "id": "e4dcc815-6a46-40d9-83a4-92889c9d9dee",
   "metadata": {},
   "outputs": [
    {
     "name": "stdout",
     "output_type": "stream",
     "text": [
      "a#b#c#d\n"
     ]
    }
   ],
   "source": [
    "a = \"a:b:c:d\"\n",
    "b = a.replace(\":\",\"#\")\n",
    "print(b)"
   ]
  },
  {
   "cell_type": "markdown",
   "id": "06c9bc1f-070c-4ad6-83f9-7a8ae1419e64",
   "metadata": {},
   "source": [
    "## 6. 리스트 역순 정렬하기\n",
    "[1,3,5,4,2] 리스트를 [5,4,3,2,1]로 만들어 보자\n",
    "- a = [1,3,5,4,2]\n",
    "- a.[             ] <- [1,2,3,4,5]로 변경\n",
    "- a.[             ] <- [5,4,3,2,1]로 변경\n",
    "- print(     )"
   ]
  },
  {
   "cell_type": "code",
   "execution_count": 25,
   "id": "85b6048c-2f4a-4067-983a-c2e8430e06ae",
   "metadata": {},
   "outputs": [
    {
     "name": "stdout",
     "output_type": "stream",
     "text": [
      "[5, 4, 3, 2, 1]\n"
     ]
    }
   ],
   "source": [
    "a = [1,3,5,4,2]\n",
    "a.sort()\n",
    "a.reverse()\n",
    "print(a)"
   ]
  },
  {
   "cell_type": "markdown",
   "id": "d3ce50d2-145e-4428-8510-e7415c214098",
   "metadata": {},
   "source": [
    "## 7. 리스트를 문자열로 만들기\n",
    "['Life','is','too','short'] 리스트를 Life is too short 문자열로 만들어 출력해 보자.\n",
    "- a =['Life','is','too','short']\n",
    "- result = [                ]\n",
    "- print(result) <- \"Life is too short\" 출력"
   ]
  },
  {
   "cell_type": "code",
   "execution_count": 30,
   "id": "ffafa361-8500-4d73-88b7-3f520d20cac9",
   "metadata": {},
   "outputs": [
    {
     "name": "stdout",
     "output_type": "stream",
     "text": [
      "Life is too short\n"
     ]
    }
   ],
   "source": [
    "a =['Life','is','too','short']\n",
    "result = \" \".join(['Life','is','too','short'])\n",
    "print(result) "
   ]
  },
  {
   "cell_type": "markdown",
   "id": "b5547424-49c0-4a39-956d-dd7703f0f446",
   "metadata": {},
   "source": [
    "## 8. 튜플 더하기\n",
    "(1,2,3)튜플에 값 4를 추가하여 (1,2,3,4)를 만든 후 출력해 보자\n",
    "- a =(1,2,3)\n",
    "- a = [      ]\n",
    "- print(a) <-(1,2,3,4) 출력"
   ]
  },
  {
   "cell_type": "code",
   "execution_count": 35,
   "id": "5e64316c-2cf2-4216-a3ec-21e5c209be0e",
   "metadata": {},
   "outputs": [
    {
     "name": "stdout",
     "output_type": "stream",
     "text": [
      "(1, 2, 3, 4)\n"
     ]
    }
   ],
   "source": [
    "a =(1,2,3)\n",
    "a = a+(4,)\n",
    "print(a)"
   ]
  },
  {
   "cell_type": "markdown",
   "id": "ccdcc3b6-953b-4711-8bb2-e4be0b232da6",
   "metadata": {},
   "source": [
    "## 9.딕셔너리의 키\n",
    "다음과 같은 딕셔너리 a가 있다.\n",
    "- a = dict()\n",
    "- a\n",
    "- {}\n",
    "\n",
    "다음 중 오류가 발생하는 경우를 고르고, 그 이유를 설명해 보자.\n",
    "- a['name'] = 'python'\n",
    "- a[('a')] = 'python'\n",
    "- a[[a]] = 'python'\n",
    "- a[250] = 'python'"
   ]
  },
  {
   "cell_type": "code",
   "execution_count": 54,
   "id": "8500d15e-ea20-4743-8a83-6a761181d130",
   "metadata": {},
   "outputs": [
    {
     "name": "stdout",
     "output_type": "stream",
     "text": [
      "{'name': 'python', 'a': 'python', 250: 'python'}\n"
     ]
    }
   ],
   "source": [
    "a = dict()\n",
    "\n",
    "a['name'] = 'python'\n",
    "a[('a')] = 'python'\n",
    "# a[[a]] = 'python' # Key값에 리스트는 쓸수없다.  딕셔너리는 Key값이 변하면 안되기 때문에 값이 변할 수 있는 리스트를 넣었을 경우 에러가 발생한다.\n",
    "a[250] = 'python'\n",
    "print(a)"
   ]
  },
  {
   "cell_type": "markdown",
   "id": "1db5bc09-5a4e-4c47-bffd-49bdf94993c1",
   "metadata": {},
   "source": [
    "## 10. 딕셔너리 값 추출하기\n",
    "딕셔너리 a에서 'B'에 해당하는 값을 추출해 보자\n",
    "- a ={'A':90, 'B':80, 'C':70}\n",
    "- result[           ]\n",
    "- print(a) <-{'A':90, 'C':70}출력\n",
    "- print(result) <- 80출력"
   ]
  },
  {
   "cell_type": "code",
   "execution_count": 60,
   "id": "901070b0-045b-4df9-a556-b29835ff7cb1",
   "metadata": {},
   "outputs": [
    {
     "name": "stdout",
     "output_type": "stream",
     "text": [
      "{'A': 90, 'C': 70}\n",
      "80\n"
     ]
    }
   ],
   "source": [
    "a ={'A':90, 'B':80, 'C':70}\n",
    "result = a.pop('B')\n",
    "print(a)\n",
    "print(result)"
   ]
  },
  {
   "cell_type": "markdown",
   "id": "2dbc7e94-f76c-4bed-ae0e-2f2feef34525",
   "metadata": {},
   "source": [
    "## 11. 리스트에서 중복 제거하기\n",
    "a 리스트에서 중복 숫자를 제거해 보자.\n",
    "- a = [1,1,1,2,2,3,3,3,4,4,5]\n",
    "- aSet = [     ] <- a 리스트를 집합 자료형으로 변환\n",
    "- b = [     ] <- 집합 자료형을 리스트 자료형으로 다시 변환\n",
    "- print(b) <- [1,2,3,4,5] 출력"
   ]
  },
  {
   "cell_type": "code",
   "execution_count": 73,
   "id": "341505ce-4f38-4d80-b66d-059b3582c2fa",
   "metadata": {},
   "outputs": [
    {
     "name": "stdout",
     "output_type": "stream",
     "text": [
      "[1, 2, 3, 4, 5] <class 'list'>\n"
     ]
    }
   ],
   "source": [
    "a = [1,1,1,2,2,3,3,3,4,4,5]\n",
    "aSet = set(a)\n",
    "b = list(aSet)\n",
    "print(b,type(b))"
   ]
  },
  {
   "cell_type": "markdown",
   "id": "cb74568e-6ae1-4922-9251-58c4f41c3562",
   "metadata": {},
   "source": [
    "## 12. 파이썬 변수\n",
    "파이썬은 다음처럼 동일한 값에 여러개의 변수를 선언할 수 있다. 다음과 같이 a, b변수를 선언한 후 <br>\n",
    "a의 두 번째 요솟값을 변경하면 b 값은 어떻게 될까? 그리고 이런 결과가 나타나는 이유를 설명해 보자.\n",
    "- a =b =[1,2,3]\n",
    "- a[1] =4\n",
    "- print(b)"
   ]
  },
  {
   "cell_type": "code",
   "execution_count": 65,
   "id": "1729bade-bd13-4efd-ad02-9fcc1417534b",
   "metadata": {},
   "outputs": [
    {
     "name": "stdout",
     "output_type": "stream",
     "text": [
      "[1, 4, 3]\n"
     ]
    }
   ],
   "source": [
    "a = b =[1,2,3] \n",
    "a[1] =4 \n",
    "print(b)\n",
    "# a와 b 가 저장된 메모리 주소 값이 동일하기 때문에 a값을 변경하면 동일한 주소값인 b도 변하는 것이다."
   ]
  },
  {
   "cell_type": "code",
   "execution_count": null,
   "id": "ed835dda-17f1-44ad-b267-fffbb1a91d83",
   "metadata": {},
   "outputs": [],
   "source": []
  }
 ],
 "metadata": {
  "kernelspec": {
   "display_name": "Python 3 (ipykernel)",
   "language": "python",
   "name": "python3"
  },
  "language_info": {
   "codemirror_mode": {
    "name": "ipython",
    "version": 3
   },
   "file_extension": ".py",
   "mimetype": "text/x-python",
   "name": "python",
   "nbconvert_exporter": "python",
   "pygments_lexer": "ipython3",
   "version": "3.13.1"
  }
 },
 "nbformat": 4,
 "nbformat_minor": 5
}
