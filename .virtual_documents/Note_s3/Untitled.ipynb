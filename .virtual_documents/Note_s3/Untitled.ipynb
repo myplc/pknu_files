# 곧 vscode에서 작업할께요



