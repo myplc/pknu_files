from hdfs import InsecureClient
from io import BytesIO
import pandas as pd


# !pip install xlrd
# !pip install openpyxl ; xlsx 용


hdfs = InsecureClient('http://namenode:9870',user="hadoop")
hdfs_path ='/user/hadoop/autoupload/'

file_list = hdfs.list(hdfs_path)
datas =[]
for n in file_list:
    with hdfs.read(hdfs_path + n) as reader:
        raw_data = reader.read()  # 전체 내용을 바이트로 읽음
        buffer = BytesIO(raw_data)  # 메모리에서 seek 가능한 객체 생성
        df = pd.read_excel(buffer, skiprows=2,  engine='xlrd')  # 필요시 engine 
        datas.append(df)
total = pd.concat(datas)


total.info()
total.sample(5)


total = total[['상표','상호','주소','휘발유','셀프여부']]
total


total['구']=[addr.split()[1] for addr in total['주소']]
total.sample(7)


validation = total['구'].unique()
print(len(validation),validation)


vali2 = total[
    (total['휘발유'] == '-') |
    (total['휘발유'].isna()) |
    (total['휘발유'].astype(str).str.strip() == '') # 벗겨내고도 비어있나라는 뜻
]
vali2


# total[total['휘발유']=='-']
# total[total['휘발유'].isna()]

total =total[total['휘발유']=='-']
total


# total['휘발유'] = [int(fix) for fix in total['휘발유']]
# total.loc[:, '휘발유'] = pd.to_numeric(total['휘발유'], errors='coerce')
total2 = total.copy()
total2['휘발유'] = pd.to_numeric(total2['휘발유'], errors='coerce')
total2.info()


# !pip install seaborn


# 윈도우에서 폰트조회
# import matplotlib.font_manager as fm
# fontlist = fm.findSystemFonts(fontpaths=None, fontext='ttf')
# fontlist


import matplotlib.pyplot as plt
from matplotlib import rc
import seaborn as sns

path = "C:\\Windows\\Fonts\\NanumGothic.ttf"
font_name = fm.FontProperties(fname=path).get_name()
rc('font',family=font_name)

total2.boxplot(column="휘발유", by="셀프여부" , figsize=(12,8))
plt.show()


plt.figure(figsize=(12,8))
sns.boxplot(x="상표",y="휘발유", hue="셀프여부", data = total2, palette="Set3")
plt.show()





plt.figure(figsize=(12, 8))
# 박스플롯
sns.boxplot(x="상표", y="휘발유", data=total2, hue="상표", palette="Set3", legend=False)
# 스웜플롯
sns.swarmplot(x="상표", y="휘발유", data=total2, color=".6")

plt.title("상표별 휘발유 가격 분포")
plt.show()




