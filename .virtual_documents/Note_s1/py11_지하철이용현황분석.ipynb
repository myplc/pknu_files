


import pandas as pd
file_path = "./ref/일별역별시간대별승하차인원(2025년1월).csv"
df = pd.read_csv(file_path, encoding="EUC-KR")
df.head() # 맨앞 데이터 5개 가져오기
# data.tail()


columns0 = ['num','name','date','week','type','total']
time_col = [f"{i}~{i+1}H" for i in range(1,24)]
columns = columns0 + time_col+ ['24~01H'] 
df.columns = columns
df = df.loc[:,:'total']


df.head()


data = df.groupby(['num','name','date']).sum().reset_index()
# data[data['date']=='2025-01-01']
data


gdata = data[['name','date','total']]
gdata = gdata.sort_values(by=['name','date'], ascending=[True,True])
gdata.head()


mdata = gdata.groupby(by="name").sum().reset_index()
tdata = mdata[['name','total']]
tdata


sdata = tdata.sort_values(by='total', ascending=False)
sdata.head(20)
total_data = sdata[:20]
total_data


import matplotlib
import matplotlib.pyplot as plt
import matplotlib.font_manager as fm

d2_path ="./ref/D2Coding-Ver1.3.2-20180524.ttf"
fm.fontManager.addfont(d2_path)
plt.rcParams["font.family"] = "D2Coding"


# for font in fm.findSystemFonts():
#     print(font)
# print(plt.rcParams["font.family"])


# !pip install squarify


import squarify
plt.figure(figsize=(16,7))
squarify.plot(sizes=total_data['total'], label= [f"{x[0]}({x[1]}명)" for x in zip(total_data['name'],total_data['total'])], alpha= 0.7)
plt.rcParams['font.size'] = 10
# plt.rcParams['text.color']='blue'
plt.gca().invert_yaxis() # 축 뒤집기
plt.axis("off") # 축 인덱스 없애기
plt.savefig("subway01.png")
plt.show()



