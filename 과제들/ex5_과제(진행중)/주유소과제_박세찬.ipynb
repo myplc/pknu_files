{
 "cells": [
  {
   "cell_type": "code",
   "execution_count": null,
   "id": "74aa5373-5d66-4c2f-8606-910e536ef606",
   "metadata": {},
   "outputs": [],
   "source": [
    "from selenium import webdriver\n",
    "from selenium.webdriver.common.action_chains import ActionChains\n",
    "from selenium.webdriver.chrome.service import Service\n",
    "from selenium.webdriver.chrome.options import Options\n",
    "from selenium.webdriver.common.keys import Keys\n",
    "from selenium.webdriver.common.by import By\n",
    "import time\n",
    "import pandas as pd\n",
    "from bs4 import BeautifulSoup as bs\n",
    "from datetime import datetime\n",
    "from hdfs import InsecureClient\n",
    "import folium\n",
    "import os"
   ]
  },
  {
   "cell_type": "code",
   "execution_count": 10,
   "id": "ef25d7de-06d0-4f72-af96-9a6b29a8d109",
   "metadata": {},
   "outputs": [
    {
     "name": "stdout",
     "output_type": "stream",
     "text": [
      "싼 주유소 찾기 오피넷\n"
     ]
    },
    {
     "data": {
      "text/plain": [
       "''"
      ]
     },
     "execution_count": 10,
     "metadata": {},
     "output_type": "execute_result"
    }
   ],
   "source": [
    "#Chrome 옵션설정\n",
    "options = Options()\n",
    "options.binary_location = \".\\\\chrome-win64\\\\chrome.exe\" # chrome 경로설정\n",
    "options.add_argument(\"--no-sanbox\")# sandbox설정\n",
    "options.add_argument(\"--disable-dev-shm-usage\") # 공유메모리 설정\n",
    "options.add_argument(\"--window-size=1920,1080\") # 화면크기설정, 반응형 웹 대비\n",
    "# options.add_argument(\"--disable-gpu\") # GPU 비활성화\n",
    "\n",
    "download_path = \"C:\\\\Users\\\\Admin\\\\Downloads\"\n",
    "\n",
    "#chromedriver 설정\n",
    "service = Service(\"chromedriver.exe\")\n",
    "driver = webdriver.Chrome(service=service, options=options)\n",
    "driver.get(\"https://www.opinet.co.kr/user/main/mainView.do\")\n",
    "print(driver.title)\n",
    "\n",
    "time.sleep(2)\n",
    "hover_element = driver.find_element(By.CSS_SELECTOR, \"#header > div > ul > li:nth-child(1) > a\")\n",
    "menu_option = driver.find_element(By.CSS_SELECTOR, \"#header > div > ul > li:nth-child(1) > ul > li:nth-child(1) > a\")\n",
    "actions = ActionChains(driver)\n",
    "actions.move_to_element(hover_element).perform()\n",
    "\n",
    "time.sleep(1)\n",
    "menu_option.click()\n",
    "time.sleep(5)\n",
    "\n",
    "html = driver.page_source\n",
    "soup = bs(html,\"html.parser\")\n",
    "\n",
    "soup = bs(html,\"html.parser\")\n",
    "contents = soup.select(\"#SIGUNGU_NM0 > option\")\n",
    "place = []\n",
    "\n",
    "for a in contents:\n",
    "    result = a[\"value\"]\n",
    "    place.append(result)\n",
    "place.pop(0)\n",
    "\n",
    "for n in range(2,17):\n",
    "    time.sleep(4)\n",
    "    driver.find_element(By.CSS_SELECTOR, f\"#SIGUNGU_NM0 > option:nth-child({n})\").click()\n",
    "    time.sleep(0.5)\n",
    "    driver.find_element(By.CSS_SELECTOR, \"#templ_list0 > div:nth-child(7) > div > a > span\").click() \n",
    "    list_of_files = os.listdir(download_path)\n",
    "    latest_file = max([os.path.join(download_path, f) for f in list_of_files], key=os.path.getctime)\n",
    "    new_file = f\"주유소_{place}.csv\"\n",
    "    new_name = os.path.joun(download_path, new_file)\n",
    "    if os.path.exists(latest_file):\n",
    "        os.rename(latest_file, new_name)\n",
    "    else:\n",
    "        print(\"파일을 찾을 수 없습니다\")\n",
    "    local_path = f\"C:\\\\Users\\\\Admin\\\\Downloads\\\\{new_file}\"\n",
    "    hdfs_path = f\"/user/hadoop/{new_file}\"\n",
    "    hdfs.upload(hdfs_path, local_path, overwrite = True)\n",
    "    print(f\"업로드{n-1}이 완료되었습니다\")\n",
    "    "
   ]
  },
  {
   "cell_type": "code",
   "execution_count": 8,
   "id": "3267a6a0-fc8b-4e20-bbbf-215d6f37892e",
   "metadata": {},
   "outputs": [
    {
     "data": {
      "text/plain": [
       "Text(0.2, 0.4, '한글')"
      ]
     },
     "execution_count": 8,
     "metadata": {},
     "output_type": "execute_result"
    },
    {
     "data": {
      "image/png": "[encoded data removed]",
      "text/plain": [
       "<Figure size 640x480 with 1 Axes>"
      ]
     },
     "metadata": {},
     "output_type": "display_data"
    }
   ],
   "source": [
    "import matplotlib\n",
    "import matplotlib.pyplot as plt\n",
    "import matplotlib.font_manager as fm\n",
    "import matplotlib.dates as mdates\n",
    "import pandas as pd\n",
    "import numpy as np\n",
    "from matplotlib import rc\n",
    "from datetime import datetime\n",
    "from hdfs import InsecureClient\n",
    "\n",
    "# 리눅스용 한글 폰트실행\n",
    "plt.rc('font', family=\"NanumBarunGothic\")\n",
    "plt.text(0.2,0.4,'한글',size=100)\n",
    "\n",
    "# 윈도우용 한글 폰트 실행 \n",
    "path = \"C:\\\\Windows\\\\Fonts\\\\NanumGothic.ttf\"\n",
    "font_name = fm.FontProperties(fname=path).get_name()\n",
    "rc('font',family=font_name)\n",
    "plt.text(0.2,0.4,'한글',size=100)"
   ]
  },
  {
   "cell_type": "code",
   "execution_count": null,
   "id": "ea61b7fb-bc0c-4731-9a10-22f7aeeb72f7",
   "metadata": {},
   "outputs": [],
   "source": [
    "hdfs = InsecureClient(\"http://namenode:9870\", user = \"hadoop\")\n",
    "datas = []\n",
    "for path in place:\n",
    "    with hdfs.read(f\"/user/hadoop/{path}.scv\", encoding=\"utf-8\") as reader:\n",
    "        datas.append(pd.read_csv(reader))\n",
    "\n",
    "data = pd.concat(datas, ignore_index=True)\n",
    "data\n"
   ]
  },
  {
   "cell_type": "code",
   "execution_count": null,
   "id": "4c7f26fc-8296-402a-8697-e88eaa452e89",
   "metadata": {},
   "outputs": [],
   "source": [
    "data.columns = data.iloc[1]\n",
    "data = data.drop(index=1).reset_index(drop=True)\n",
    "data"
   ]
  },
  {
   "cell_type": "code",
   "execution_count": null,
   "id": "ccd596ca-d31c-4e0b-b206-72b9ead6115d",
   "metadata": {},
   "outputs": [],
   "source": [
    "data = data.drop(index=0).reset_index(drop=True)\n",
    "data"
   ]
  },
  {
   "cell_type": "code",
   "execution_count": null,
   "id": "757c5d6d-146a-4f24-843e-1b07e9bb7412",
   "metadata": {},
   "outputs": [],
   "source": [
    "data['휘발유'] = data['휘발유'].str.replace('-', '0').str.replace('휘발유', '0').astype(float)"
   ]
  },
  {
   "cell_type": "code",
   "execution_count": null,
   "id": "637754fb-10cd-41c7-b431-7bb73e088e81",
   "metadata": {},
   "outputs": [],
   "source": [
    "data = data[[\"상호\",\"주소\",\"휘발유\"]]\n",
    "data[\"휘발유\"] = data[\"휘발유\"].fillna(0).astype(int)\n"
   ]
  },
  {
   "cell_type": "code",
   "execution_count": null,
   "id": "09cd3c90-c3ef-42f3-9957-3b7a2c3db69f",
   "metadata": {},
   "outputs": [],
   "source": [
    "data = data[data[\"휘발유\"]>0]\n",
    "data"
   ]
  },
  {
   "cell_type": "code",
   "execution_count": null,
   "id": "ec11a979-4eff-40f0-b1ea-8a480a1ebece",
   "metadata": {},
   "outputs": [],
   "source": [
    "data_max = data.nlargest(5,\"휘발유\")\n",
    "data_min = data.nsmallest(5,\"휘발유\")\n",
    "print(data_max)\n",
    "print(data_min)"
   ]
  },
  {
   "cell_type": "code",
   "execution_count": null,
   "id": "6c4d4f3e-68d0-45d6-89d1-e974e1050086",
   "metadata": {},
   "outputs": [],
   "source": [
    "data = pd.concat([data_max,data_min], ignore_index=True)\n",
    "data.to_csv(\"주유소과제.csv\", index=False)"
   ]
  },
  {
   "cell_type": "code",
   "execution_count": null,
   "id": "bc5a5e0f-169f-4167-9fc4-e390ff655762",
   "metadata": {},
   "outputs": [],
   "source": [
    "file_path = \"data/ref/주유소과제.csv\"\n",
    "data1 = pd.read_csv('./ref/주유소과제.csv', encoding = \"utf_8\")\n",
    "data1"
   ]
  },
  {
   "cell_type": "code",
   "execution_count": null,
   "id": "72e4480b-53d0-45b9-8dc9-b66b42d7040c",
   "metadata": {},
   "outputs": [],
   "source": [
    "coordinates = data1[['위도','경도']].to_numpy()\n",
    "place = data1[\"상호\"].to_numpy()\n",
    "\n",
    "# 중심좌표 설정(기본 위치)\n",
    "center_lat , center_lon = 35.17574571, 129.0817409\n",
    "\n",
    "# 지도 생성\n",
    "m = folium.Map(location=[center_lat, center_lon], zoom_start=12)\n",
    "\n",
    "for i, (lat, lon) in enumerate(coordinates):   \n",
    "    folium.CircleMarker(\n",
    "        location = [lat, lon], \n",
    "        radious = 10,\n",
    "        color = \"blue\",\n",
    "        fill = True,\n",
    "        weight = 1,\n",
    "        fill_color = \"skyblue\",\n",
    "        fill_opacity = 0.5,\n",
    "        tooltip = place[i]\n",
    "    ).add_to(m) #지도 생성후 원을 그리고 지도에 붙임\n",
    "    folium.Marker(\n",
    "        location = [lat + 0.001, lon],\n",
    "        icon = folium.DivIcon(f'<div style=\"font=size: 9px; color: black; background-color: white; width:50px; while-space: nowrap; overflow: hidden; text-overflow: ellipsis; opactiy:0.7; border-radius:5px\">{place[i]}</div>')\n",
    "    ).add_to(m)\n",
    "\n",
    "m"
   ]
  },
  {
   "cell_type": "code",
   "execution_count": null,
   "id": "906b3641-2417-45ca-ad07-328553932711",
   "metadata": {},
   "outputs": [],
   "source": []
  }
 ],
 "metadata": {
  "kernelspec": {
   "display_name": "Python 3 (ipykernel)",
   "language": "python",
   "name": "python3"
  },
  "language_info": {
   "codemirror_mode": {
    "name": "ipython",
    "version": 3
   },
   "file_extension": ".py",
   "mimetype": "text/x-python",
   "name": "python",
   "nbconvert_exporter": "python",
   "pygments_lexer": "ipython3",
   "version": "3.13.1"
  }
 },
 "nbformat": 4,
 "nbformat_minor": 5
}
