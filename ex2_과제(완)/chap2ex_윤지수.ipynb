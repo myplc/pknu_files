{
 "cells": [
  {
   "cell_type": "code",
   "execution_count": 1,
   "id": "dbf878e4-3599-479c-87fa-0520634156b2",
   "metadata": {},
   "outputs": [
    {
     "name": "stdout",
     "output_type": "stream",
     "text": [
      "70.0\n"
     ]
    }
   ],
   "source": [
    "# 1.평균 점수 구하기\n",
    "국어 = 80\n",
    "영어 = 75\n",
    "수학 = 55\n",
    "print((국어 + 영어 + 수학)/3)"
   ]
  },
  {
   "cell_type": "code",
   "execution_count": 40,
   "id": "79984811-32de-46fb-b276-3767f3e6d71f",
   "metadata": {},
   "outputs": [
    {
     "name": "stdout",
     "output_type": "stream",
     "text": [
      "13을 2로 나눴을때 1이 나오므로 홀수이다.\n"
     ]
    }
   ],
   "source": [
    "# 2. 홀수, 짝수 판별하기\n",
    "num1 = 13\n",
    "num2 = num1 % 2\n",
    "print(f'{num1}을 2로 나눴을때 {num2}이 나오므로 홀수이다.')"
   ]
  },
  {
   "cell_type": "code",
   "execution_count": 22,
   "id": "da211dcd-4da9-495f-9acd-e59d95a4f798",
   "metadata": {
    "scrolled": true
   },
   "outputs": [
    {
     "name": "stdout",
     "output_type": "stream",
     "text": [
      "881120\n",
      "1068234\n"
     ]
    }
   ],
   "source": [
    "# 3. 주민등록번호 만들기\n",
    "pin = \"881120-1068234\"\n",
    "yyyymmdd = pin[:6]\n",
    "num = pin[7:]\n",
    "print(yyyymmdd)\n",
    "print(num)"
   ]
  },
  {
   "cell_type": "code",
   "execution_count": 23,
   "id": "d1b2d1dc-f972-4108-b0cb-b0d65d28c121",
   "metadata": {},
   "outputs": [
    {
     "name": "stdout",
     "output_type": "stream",
     "text": [
      "1\n"
     ]
    }
   ],
   "source": [
    "# 4. 주민등록번호 인덱싱\n",
    "pin = \"881120-1068234\"\n",
    "print(pin[7])"
   ]
  },
  {
   "cell_type": "code",
   "execution_count": 26,
   "id": "fce25a1e-9ab8-4c27-b96b-bb0569bbbaa1",
   "metadata": {},
   "outputs": [
    {
     "name": "stdout",
     "output_type": "stream",
     "text": [
      "a#b#c#d\n"
     ]
    }
   ],
   "source": [
    "# 5. 문자열 바꾸기\n",
    "a = \"a:b:c:d\"\n",
    "b = a.replace(\":\", \"#\")\n",
    "print(b)"
   ]
  },
  {
   "cell_type": "code",
   "execution_count": 27,
   "id": "d448203d-dbbf-453e-9948-d459238cdc11",
   "metadata": {},
   "outputs": [
    {
     "name": "stdout",
     "output_type": "stream",
     "text": [
      "[5, 4, 3, 2, 1]\n"
     ]
    }
   ],
   "source": [
    "# 6. 리스트 역순 정렬하기\n",
    "a = [1,3,5,4,2]\n",
    "a.sort()\n",
    "a.reverse()\n",
    "print(a)"
   ]
  },
  {
   "cell_type": "code",
   "execution_count": 29,
   "id": "45131478-4e92-4f3c-8b75-89ee4d8dfe80",
   "metadata": {},
   "outputs": [
    {
     "name": "stdout",
     "output_type": "stream",
     "text": [
      "Life is too short\n"
     ]
    }
   ],
   "source": [
    "# 7. 리스트를 문자열로 만들기\n",
    "a = ['Life','is','too','short']\n",
    "result = \" \".join(a)\n",
    "print(result)"
   ]
  },
  {
   "cell_type": "code",
   "execution_count": 30,
   "id": "dbf793c4-4bd5-4936-b365-fe61134d25ca",
   "metadata": {},
   "outputs": [
    {
     "name": "stdout",
     "output_type": "stream",
     "text": [
      "(1, 2, 3, 4)\n"
     ]
    }
   ],
   "source": [
    "# 8. 튜플 더하기\n",
    "a = (1,2,3)\n",
    "a = a + (4,)\n",
    "print(a)"
   ]
  },
  {
   "cell_type": "code",
   "execution_count": 32,
   "id": "eea58646-89c8-41bd-b11d-901a260c09bd",
   "metadata": {},
   "outputs": [
    {
     "data": {
      "text/plain": [
       "{}"
      ]
     },
     "execution_count": 32,
     "metadata": {},
     "output_type": "execute_result"
    }
   ],
   "source": [
    "# 9. 딕셔너리의 키\n",
    "a = dict()\n",
    "a\n",
    "{}\n",
    "# 3번째가 오류임. 이유는 딕셔너리의 키로 변하는 값을 사용할 수 없기 때문."
   ]
  },
  {
   "cell_type": "code",
   "execution_count": 20,
   "id": "5d0c1c42-8dc6-4296-93ce-a51a6d1a82af",
   "metadata": {},
   "outputs": [
    {
     "name": "stdout",
     "output_type": "stream",
     "text": [
      "{'A': 90, 'C': 70}\n",
      "80\n"
     ]
    }
   ],
   "source": [
    "# 10. 딕셔너리의 값 추출하기\n",
    "a = {'A':90, 'B':80, 'C':70}\n",
    "result = a.pop('B')\n",
    "print(a)\n",
    "print(result)"
   ]
  },
  {
   "cell_type": "code",
   "execution_count": 19,
   "id": "12d8364e-055b-4a32-b03f-c1a4a962956e",
   "metadata": {},
   "outputs": [
    {
     "name": "stdout",
     "output_type": "stream",
     "text": [
      "[1, 2, 3, 4, 5]\n"
     ]
    }
   ],
   "source": [
    "# 11. 리스트에서 중복 제거하기\n",
    "a = [1,1,1,2,2,3,3,3,4,4,5]\n",
    "aSet = set(a)\n",
    "b = list(aSet)\n",
    "print(b)"
   ]
  },
  {
   "cell_type": "code",
   "execution_count": 33,
   "id": "31b534c2-e136-4c20-9019-b8012ad63b56",
   "metadata": {},
   "outputs": [
    {
     "name": "stdout",
     "output_type": "stream",
     "text": [
      "[1, 4, 3]\n"
     ]
    }
   ],
   "source": [
    "# 12. 파이썬 변수\n",
    "a = b = [1,2,3]\n",
    "a[1] = 4\n",
    "print(b)\n",
    "#b에서 첫번째 숫자가 4로 변경되어서 나온다. b랑 a는 동일한 것을 가리키고 있기 때문."
   ]
  }
 ],
 "metadata": {
  "kernelspec": {
   "display_name": "Python 3 (ipykernel)",
   "language": "python",
   "name": "python3"
  },
  "language_info": {
   "codemirror_mode": {
    "name": "ipython",
    "version": 3
   },
   "file_extension": ".py",
   "mimetype": "text/x-python",
   "name": "python",
   "nbconvert_exporter": "python",
   "pygments_lexer": "ipython3",
   "version": "3.13.1"
  }
 },
 "nbformat": 4,
 "nbformat_minor": 5
}
