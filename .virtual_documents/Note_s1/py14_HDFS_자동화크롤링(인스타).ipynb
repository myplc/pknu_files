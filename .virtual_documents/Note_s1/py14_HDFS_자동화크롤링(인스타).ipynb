from selenium import webdriver
from selenium.webdriver.chrome.service import Service
from selenium.webdriver.common.keys import Keys
from selenium.webdriver.chrome.options import Options
from selenium.webdriver.support.ui import Select, WebDriverWait
from selenium.webdriver.support import expected_conditions as EC
from selenium.webdriver.common.by import By
import time
import re , os
from bs4 import BeautifulSoup as bs
import pandas as pd
from hdfs import InsecureClient
from datetime import datetime # datetime 모듈 임포트
from dotenv import load_dotenv
# .env 파일 로드
load_dotenv()

# 환경 변수 사용
# email = os.getenv("EMAIL")
# passwd = os.getenv("PASSWORD")
# print(email,passwd)


# Chrome 옵션 설정
options = Options()
options.binary_location = "..\\chrome-win64\\chrome.exe" # chrome 경로 설정
options.add_argument("--no-sandbox") # sandbox 설정
# options.add_argument("--headless=new")  # 헤드리스
options.add_argument("--disable-dev-shm-usage") # 공유메모리 설정
options.add_argument("--window-size=1920,1080") # 화면크기설정 , 반응형 웹 대비
options.add_argument("--user-agent=Mozilla/5.0 (Windows NT 10.0; Win64; x64) AppleWebKit/537.36 (KHTML, like Gecko) Chrome/113.0.5672.126 Safari/537.36")
# options.add_argument("--disable-gpu") # GPU 비활성화

# ChromeDriver 설정
service = Service("..\\chromedriver.exe")
driver = webdriver.Chrome(service=service, options=options)
driver.get("https://www.instagram.com/")  # https://www.opinet.co.kr/searRgSelect.do
print(driver.title)
time.sleep(3) # 페이지 로드 기다림

email = os.getenv("EMAIL")
passwd = os.getenv("PASSWORD")
print("로그인시도 아이디/비밀번호")

# 아이디(이메일) 기입
input_id = driver.find_element(By.CSS_SELECTOR, "#loginForm > div.x9f619.xjbqb8w.x78zum5.x168nmei.x13lgxp2.x5pf9jr.xo71vjh.xqui205.x1n2onr6.x1plvlek.xryxfnj.x1c4vz4f.x2lah0s.xdt5ytf.xqjyukv.x1qjc9v5.x1oa3qoh.x1nhvcw1 > div:nth-child(1) > div > label > input")
input_id.clear()
time.sleep(1)
input_id.send_keys(email)
time.sleep(1)

# 비번 기입
input_pw = driver.find_element(By.CSS_SELECTOR, "#loginForm > div.x9f619.xjbqb8w.x78zum5.x168nmei.x13lgxp2.x5pf9jr.xo71vjh.xqui205.x1n2onr6.x1plvlek.xryxfnj.x1c4vz4f.x2lah0s.xdt5ytf.xqjyukv.x1qjc9v5.x1oa3qoh.x1nhvcw1 > div:nth-child(2) > div > label > input") 
input_pw.clear()
input_pw.send_keys(passwd)
time.sleep(1)
print("아이디 및 비번입력완료")

# 학인 및 이동
submit = driver.find_element(By.CSS_SELECTOR, "#loginForm > div.x9f619.xjbqb8w.x78zum5.x168nmei.x13lgxp2.x5pf9jr.xo71vjh.xqui205.x1n2onr6.x1plvlek.xryxfnj.x1c4vz4f.x2lah0s.xdt5ytf.xqjyukv.x1qjc9v5.x1oa3qoh.x1nhvcw1 > div:nth-child(3)")
submit.click()
print("확인 및 이동")
time.sleep(10)

try:
    popup = driver.find_element(By.CSS_SELECTOR, "div.x1gryazu.xh8yej3.x10o80wk.x14k21rp.x17snn68.x6osk4m.x1porb0y.x8vgawa > section > main > div > div > div > div")
    popup.click()
    time.sleep(3)
except:    
    pass

def insta_search(inword):
    url_ori = f"https://www.instagram.com/explore/search/keyword/?q={inword}"
    return url_ori

word = "프로그래머"
url = insta_search(word)
driver.get(url)
print(f"{word}의 검색시작!!🐧")
time.sleep(10)

# 로드 결과
wait = WebDriverWait(driver, 10)
select_box1 = wait.until(EC.presence_of_element_located((By.CSS_SELECTOR,"div.x78zum5.xdt5ytf.xwrv7xz.x1n2onr6.xph46j.xfcsdxf.xsybdxg.x1bzgcud > div > div:nth-child(1) > div:nth-child(1) > div > a")))
select_box1.click()
print("첫카드 클릭")
time.sleep(7)
info = []
heart = []
times = []
for n in range(20):
    html = driver.page_source
    soup = bs(html, 'html.parser')
    # 1. 본문내용 가져오기
    content = soup.select_one('div._a9zr').get_text()
    info.append(content)
    heartrate = soup.select_one("section.x12nagc.x182iqb8.x1pi30zi.x1swvt13 > div > div > span > a > span").get_text()
    heart.append(heartrate)       
    print("본문내용",content)
    time.sleep(2)
    nextBt = wait.until(EC.presence_of_element_located((By.CSS_SELECTOR, 'button._abl- svg[aria-label="다음"]')))
    nextBt.click()
    time.sleep(3)    


# service.stop()


for i, (n ,m ) in enumerate(zip(info,heart), 1):
    print(i,'번째 정보:\n',n,'\n❤️',m)
    print("="*100)


import matplotlib.pyplot as plt
from wordcloud import WordCloud
import matplotlib.font_manager as fm
from konlpy.tag import Komoran
from konlpy.tag import Okt
word =  ", ".join(info)
okt = Okt()
text = okt.nouns(word)
text = [n for n in text if len(n)> 1]
print(text)
nouns_text = ', '.join(text)
# 워드클라우드 생성
font_path = "C:\\Windows\\Fonts\\NanumGothic.ttf"
wordcloud = WordCloud(font_path=font_path, width=800, height=400, background_color='white').generate(nouns_text)

# 워드클라우드 시각화
plt.figure(figsize=(10, 5))
plt.imshow(wordcloud, interpolation='bilinear')
plt.axis('off')
plt.show()



