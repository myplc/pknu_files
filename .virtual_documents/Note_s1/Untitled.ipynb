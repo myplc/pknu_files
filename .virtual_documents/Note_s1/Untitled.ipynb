from jupyter_server.auth import passwd
passwd()



