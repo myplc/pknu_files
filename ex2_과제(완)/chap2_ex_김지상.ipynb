{
 "cells": [
  {
   "cell_type": "code",
   "execution_count": 3,
   "id": "867efbee-7714-4f66-8b06-c8c5a08d7b51",
   "metadata": {},
   "outputs": [
    {
     "name": "stdout",
     "output_type": "stream",
     "text": [
      "210\n",
      "70.0\n"
     ]
    }
   ],
   "source": [
    "#1\n",
    "kor = 80\n",
    "eng = 75\n",
    "math = 55\n",
    "a = kor+ eng + math\n",
    "print(a)\n",
    "print(a/3)"
   ]
  },
  {
   "cell_type": "code",
   "execution_count": 41,
   "id": "595815dd-8b64-4c2e-a7ec-ea4ebf3c6a4c",
   "metadata": {},
   "outputs": [
    {
     "name": "stdout",
     "output_type": "stream",
     "text": [
      "1\n",
      "1\n"
     ]
    }
   ],
   "source": [
    "#2\n",
    "print(13%2)\n",
    "print(13%2)"
   ]
  },
  {
   "cell_type": "code",
   "execution_count": 17,
   "id": "0d4175d5-914a-4944-9de9-679dd5a95eec",
   "metadata": {},
   "outputs": [
    {
     "name": "stdout",
     "output_type": "stream",
     "text": [
      "881120\n",
      "1068234\n"
     ]
    }
   ],
   "source": [
    "#3\n",
    "pin = '881120-1068234'\n",
    "yyyymmdd = pin[0:6]\n",
    "num = pin[7:]\n",
    "print(yyyymmdd)\n",
    "print(num)"
   ]
  },
  {
   "cell_type": "code",
   "execution_count": 19,
   "id": "ef4c7dbd-581d-4535-917f-4499065112ed",
   "metadata": {},
   "outputs": [
    {
     "name": "stdout",
     "output_type": "stream",
     "text": [
      "1\n",
      "1\n"
     ]
    }
   ],
   "source": [
    "#4\n",
    "pin = '881120-1068234'\n",
    "print(pin[7:8])\n",
    "print(pin[7])"
   ]
  },
  {
   "cell_type": "code",
   "execution_count": 20,
   "id": "18e43992-f2ca-471b-afc4-70736bd7cfca",
   "metadata": {},
   "outputs": [
    {
     "name": "stdout",
     "output_type": "stream",
     "text": [
      "a#b#c#d\n"
     ]
    }
   ],
   "source": [
    "#5\n",
    "a = 'a:b:c:d'\n",
    "b=a.replace(':','#')\n",
    "print(b)"
   ]
  },
  {
   "cell_type": "code",
   "execution_count": 14,
   "id": "2963666a-a2d8-4337-8f70-a7c033787f70",
   "metadata": {},
   "outputs": [
    {
     "name": "stdout",
     "output_type": "stream",
     "text": [
      "[1, 2, 3, 4, 5]\n",
      "[5, 4, 3, 2, 1]\n"
     ]
    }
   ],
   "source": [
    "#6\n",
    "a = [1,3,5,4,2]\n",
    "a.sort()\n",
    "print(a)\n",
    "b = a\n",
    "b.reverse()\n",
    "print(b)"
   ]
  },
  {
   "cell_type": "code",
   "execution_count": 24,
   "id": "46335c59-2d44-4b1d-b6f9-8a4f4d1f1e41",
   "metadata": {},
   "outputs": [
    {
     "name": "stdout",
     "output_type": "stream",
     "text": [
      "life is too short\n"
     ]
    }
   ],
   "source": [
    "#7\n",
    "a = ['life','is','too','short']\n",
    "result= ' '.join(a)\n",
    "print(result)"
   ]
  },
  {
   "cell_type": "code",
   "execution_count": 33,
   "id": "7f84a418-4a93-4819-8c90-56dfd64e287c",
   "metadata": {},
   "outputs": [
    {
     "name": "stdout",
     "output_type": "stream",
     "text": [
      "(1, 2, 3, 4)\n"
     ]
    }
   ],
   "source": [
    "#8\n",
    "a = (1,2,3)\n",
    "a = a+(4,)\n",
    "print(a)"
   ]
  },
  {
   "cell_type": "code",
   "execution_count": 42,
   "id": "8efa67b3-29a0-47b2-86cd-1ec74a75870a",
   "metadata": {},
   "outputs": [
    {
     "data": {
      "text/plain": [
       "{}"
      ]
     },
     "execution_count": 42,
     "metadata": {},
     "output_type": "execute_result"
    }
   ],
   "source": [
    "#9           #튜플은 변하지 않는 값이기 때문에 키로 사용가능하지만, a[[1]] 리스트는 변형가능하기 때문에 사용할 수 없어 오류가 뜸.\n",
    "a = dict()\n",
    "a"
   ]
  },
  {
   "cell_type": "code",
   "execution_count": 43,
   "id": "f677929e-06f0-4862-8dc4-9562f1065cb2",
   "metadata": {},
   "outputs": [],
   "source": [
    "a['name'] = 'python'"
   ]
  },
  {
   "cell_type": "code",
   "execution_count": 44,
   "id": "35de032c-00cc-44ae-8094-0ec286fc3e81",
   "metadata": {},
   "outputs": [],
   "source": [
    "a[('a',)] = 'python'"
   ]
  },
  {
   "cell_type": "code",
   "execution_count": 47,
   "id": "d73defb3-f1bb-440f-8ca6-890343523e62",
   "metadata": {},
   "outputs": [],
   "source": [
    "a[250] = 'ptyhon'"
   ]
  },
  {
   "cell_type": "code",
   "execution_count": 45,
   "id": "677681c3-8d2d-42e8-988e-47df7f8d5fc6",
   "metadata": {},
   "outputs": [
    {
     "ename": "TypeError",
     "evalue": "unhashable type: 'list'",
     "output_type": "error",
     "traceback": [
      "\u001b[1;31m---------------------------------------------------------------------------\u001b[0m",
      "\u001b[1;31mTypeError\u001b[0m                                 Traceback (most recent call last)",
      "Cell \u001b[1;32mIn[45], line 1\u001b[0m\n\u001b[1;32m----> 1\u001b[0m \u001b[43ma\u001b[49m\u001b[43m[\u001b[49m\u001b[43m[\u001b[49m\u001b[38;5;241;43m1\u001b[39;49m\u001b[43m]\u001b[49m\u001b[43m]\u001b[49m \u001b[38;5;241m=\u001b[39m \u001b[38;5;124m'\u001b[39m\u001b[38;5;124mpython\u001b[39m\u001b[38;5;124m'\u001b[39m\n",
      "\u001b[1;31mTypeError\u001b[0m: unhashable type: 'list'"
     ]
    }
   ],
   "source": [
    "a[[1]] = 'python'"
   ]
  },
  {
   "cell_type": "code",
   "execution_count": 49,
   "id": "4124dbfb-9f5a-4e3a-b12c-7f9fd858095a",
   "metadata": {},
   "outputs": [
    {
     "name": "stdout",
     "output_type": "stream",
     "text": [
      "{'A': 90, 'C': 70}\n",
      "80\n"
     ]
    }
   ],
   "source": [
    "#10\n",
    "a = {'A':90, 'B':80, 'C':70}\n",
    "result = a.pop('B')\n",
    "print(a)\n",
    "print(result)"
   ]
  },
  {
   "cell_type": "code",
   "execution_count": 50,
   "id": "06abb60f-45fc-499b-af05-32d1270bfccd",
   "metadata": {},
   "outputs": [
    {
     "name": "stdout",
     "output_type": "stream",
     "text": [
      "[1, 2, 3, 4, 5]\n"
     ]
    }
   ],
   "source": [
    "#11\n",
    "a = [1,1,1,2,2,3,3,3,4,4,5]\n",
    "aSet = set(a)\n",
    "b = list(aSet)\n",
    "print(b)"
   ]
  },
  {
   "cell_type": "code",
   "execution_count": 51,
   "id": "5ae5dd53-a939-4bbc-934d-87775202ef11",
   "metadata": {},
   "outputs": [
    {
     "name": "stdout",
     "output_type": "stream",
     "text": [
      "[1, 4, 3]\n"
     ]
    }
   ],
   "source": [
    "#12            \n",
    "a = b = [1,2,3]      # 말 그대로 a와 b가 [1,2,3]으로 같기 때문에\n",
    "a[1] = 4             # 1 자리인 ,2, 가 4로 변경되어서\n",
    "print(b)             # b를 출력하면 [1,4,3] 이 출력된다"
   ]
  }
 ],
 "metadata": {
  "kernelspec": {
   "display_name": "Python 3 (ipykernel)",
   "language": "python",
   "name": "python3"
  },
  "language_info": {
   "codemirror_mode": {
    "name": "ipython",
    "version": 3
   },
   "file_extension": ".py",
   "mimetype": "text/x-python",
   "name": "python",
   "nbconvert_exporter": "python",
   "pygments_lexer": "ipython3",
   "version": "3.13.1"
  }
 },
 "nbformat": 4,
 "nbformat_minor": 5
}
