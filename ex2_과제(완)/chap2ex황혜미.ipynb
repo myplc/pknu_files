{
 "cells": [
  {
   "cell_type": "markdown",
   "id": "2d5f7c3f-b147-4efd-a44d-37fbd6112fc4",
   "metadata": {},
   "source": [
    "# 평균점수 구하기\n",
    "<!--  -->홍길동 씨의 과목별 점수는 다음과 같다. 홍길동씨의 평균 점수를 구해보자."
   ]
  },
  {
   "cell_type": "code",
   "execution_count": 5,
   "id": "c061a890-6481-4f42-8f69-69ac437cd693",
   "metadata": {},
   "outputs": [
    {
     "name": "stdout",
     "output_type": "stream",
     "text": [
      "71.0\n"
     ]
    }
   ],
   "source": [
    "국어=80\n",
    "영어=78\n",
    "수학=55\n",
    "평균점수=(국어+영어+수학)/3\n",
    "print(평균점수)"
   ]
  },
  {
   "cell_type": "markdown",
   "id": "f52f1eb7-2283-4794-912c-e4b65f585f2a",
   "metadata": {},
   "source": [
    "# 홀수, 짝수 판별하기\n",
    "<!--  -->자연수 13이 홀수인지, 짝수인지 판별할 수 있는 방법에 대해 말해보자. "
   ]
  },
  {
   "cell_type": "code",
   "execution_count": 7,
   "id": "ff776cf9-ac89-4123-b786-a9b7c2600c51",
   "metadata": {},
   "outputs": [
    {
     "name": "stdin",
     "output_type": "stream",
     "text": [
      "숫자를 입력하세요. 8\n"
     ]
    },
    {
     "name": "stdout",
     "output_type": "stream",
     "text": [
      "짝수입니다.\n"
     ]
    }
   ],
   "source": [
    "number=input('숫자를 입력하세요.')\n",
    "if int(number)%2==1:\n",
    "      print('홀수입니다.')\n",
    "if int(number)%2==0:\n",
    "    print('짝수입니다.')"
   ]
  },
  {
   "cell_type": "markdown",
   "id": "3cad8a00-9a34-453a-a312-d0cb930146f6",
   "metadata": {},
   "source": [
    "# 주민등록번호 나누기\n",
    "<!--  -->홍길동 씨의 주민등록번호는 881120-1068234이다. 홍길동 씨의 주민등록번호를 연월일(YYYYMMDD)부분과 그 뒤의 숫자 부분으로 나누어 출력해보자."
   ]
  },
  {
   "cell_type": "code",
   "execution_count": 11,
   "id": "749f2609-3ab6-4bb2-aee6-80a8dcdd20ec",
   "metadata": {},
   "outputs": [
    {
     "name": "stdout",
     "output_type": "stream",
     "text": [
      "881120\n",
      "1068234\n"
     ]
    }
   ],
   "source": [
    "pin=\"881120-1068234\"\n",
    "yyyydmmdd=pin[0:6]\n",
    "num = pin[7:14]\n",
    "print(yyyydmmdd)\n",
    "print(num)"
   ]
  },
  {
   "cell_type": "markdown",
   "id": "058317df-fb13-48fc-91d9-c1ee22237fca",
   "metadata": {},
   "source": [
    "# 주민등록번호 인덱싱\n",
    "<!--  -->주민등록번호 뒷자리의 맨 첫 번째 숫자는 성별을 나타낸다. 주민등록번호에서 성별을 나타내는 숫자를 출력해 보자."
   ]
  },
  {
   "cell_type": "code",
   "execution_count": 5,
   "id": "1467c9df-0f84-40de-80f8-80204ba220d3",
   "metadata": {},
   "outputs": [
    {
     "name": "stdout",
     "output_type": "stream",
     "text": [
      "1\n"
     ]
    }
   ],
   "source": [
    "pin=\"881120-1068234\"\n",
    "print(pin[7])"
   ]
  },
  {
   "cell_type": "markdown",
   "id": "f40a57d8-b40e-40d8-8cd6-8d10b881f0d7",
   "metadata": {},
   "source": [
    "# 문자열 바꾸기\n",
    "<!--  -->다음과 같은 문자열 a:b:c:d가 있다. 문자열의 replace 함수를 사용하여 a#b#c#d로 바꿔 출력해 보자."
   ]
  },
  {
   "cell_type": "code",
   "execution_count": 18,
   "id": "a3aaba9f-15f3-4714-a259-a7863cba8b30",
   "metadata": {},
   "outputs": [
    {
     "name": "stdout",
     "output_type": "stream",
     "text": [
      "a#b#c#d\n"
     ]
    }
   ],
   "source": [
    "a=\"a:b:c:d\"\n",
    "b= a.replace(\":\",\"#\")\n",
    "print(b)"
   ]
  },
  {
   "cell_type": "markdown",
   "id": "ca73d645-2b91-48b2-9ee5-ec4a097291ef",
   "metadata": {},
   "source": [
    "# 리스트 역순 정렬하기\n",
    "<!--  -->[1,3,5,4,2]리스트를 [5,4,3,2,1]로 만들어 보자."
   ]
  },
  {
   "cell_type": "code",
   "execution_count": 32,
   "id": "d3e62558-1bd9-41b2-8cf7-75bce325938c",
   "metadata": {},
   "outputs": [
    {
     "name": "stdout",
     "output_type": "stream",
     "text": [
      "[5, 4, 3, 2, 1]\n"
     ]
    }
   ],
   "source": [
    "a = [1,3,5,4,2]\n",
    "a.sort()\n",
    "a.reverse()\n",
    "print(a)"
   ]
  },
  {
   "cell_type": "markdown",
   "id": "964f163e-582f-41be-b726-b22039337e53",
   "metadata": {},
   "source": [
    "# 리스트를 문자열로 만들기\n",
    "<!--  -->['Life','is','too','short']리스트를 Life is too short문자열로 만들어 출력해 보자."
   ]
  },
  {
   "cell_type": "code",
   "execution_count": 45,
   "id": "4b6e07d1-c652-4322-8d15-cac2fafe68f9",
   "metadata": {},
   "outputs": [
    {
     "name": "stdout",
     "output_type": "stream",
     "text": [
      "Life is too short\n"
     ]
    }
   ],
   "source": [
    "a = ['Life','is','too','short']\n",
    "result =\" \".join(a)\n",
    "print(result)"
   ]
  },
  {
   "cell_type": "markdown",
   "id": "5ade0d05-f830-4d14-9986-97300ba36ee8",
   "metadata": {},
   "source": [
    "# 튜플 더하기\n",
    "<!--  -->(1,2,3)튜플 값에 값 4를 추가하여 (1,2,3,4)를 만든 후 출력해 보자."
   ]
  },
  {
   "cell_type": "code",
   "execution_count": 64,
   "id": "2b5a39f0-c4cd-4353-9a89-732a487991d2",
   "metadata": {},
   "outputs": [
    {
     "name": "stdout",
     "output_type": "stream",
     "text": [
      "(1, 2, 3, 4)\n"
     ]
    }
   ],
   "source": [
    "a= (1,2,3)\n",
    "a= a+ (4,)\n",
    "print(a)"
   ]
  },
  {
   "cell_type": "markdown",
   "id": "5ca3fe83-9f0a-4684-ac2a-06737ebdc951",
   "metadata": {},
   "source": [
    "# 딕셔너리의 키\n",
    "<!--  -->다음과 같은 딕셔너리 a가 있다."
   ]
  },
  {
   "cell_type": "code",
   "execution_count": 65,
   "id": "3c1b0755-8ae2-46ca-9c41-f05a8036c5fe",
   "metadata": {},
   "outputs": [
    {
     "ename": "TypeError",
     "evalue": "'tuple' object does not support item assignment",
     "output_type": "error",
     "traceback": [
      "\u001b[1;31m---------------------------------------------------------------------------\u001b[0m",
      "\u001b[1;31mTypeError\u001b[0m                                 Traceback (most recent call last)",
      "Cell \u001b[1;32mIn[65], line 1\u001b[0m\n\u001b[1;32m----> 1\u001b[0m \u001b[43ma\u001b[49m\u001b[43m[\u001b[49m\u001b[43m[\u001b[49m\u001b[38;5;241;43m1\u001b[39;49m\u001b[43m]\u001b[49m\u001b[43m]\u001b[49m\u001b[38;5;241m=\u001b[39m\u001b[38;5;124m'\u001b[39m\u001b[38;5;124mpython\u001b[39m\u001b[38;5;124m'\u001b[39m\n",
      "\u001b[1;31mTypeError\u001b[0m: 'tuple' object does not support item assignment"
     ]
    }
   ],
   "source": [
    "a[[1]]='python'\n",
    "#Python 딕셔너리에서는 키로 사용할 수 없다.."
   ]
  },
  {
   "cell_type": "markdown",
   "id": "1c480b85-9de2-4815-a6d7-4917e42a51a3",
   "metadata": {},
   "source": [
    "# 딕셔너리 값 추출하기\n",
    "<!--  -->딕셔너리 a에서 'B'에 해당하는 값을 추출해보자."
   ]
  },
  {
   "cell_type": "code",
   "execution_count": 62,
   "id": "a35eff0b-4840-4104-8985-117782404a75",
   "metadata": {},
   "outputs": [
    {
     "name": "stdout",
     "output_type": "stream",
     "text": [
      "{'A': 90, 'C': 70}\n",
      "80\n"
     ]
    }
   ],
   "source": [
    "a={'A':90,'B':80,'C':70}\n",
    "result= a.pop('B')\n",
    "print(a)\n",
    "print(result)"
   ]
  },
  {
   "cell_type": "markdown",
   "id": "6f505bb7-0012-4fcb-88ff-038285bcec9f",
   "metadata": {},
   "source": [
    "# 리스트에서 중복 제거하기\n",
    "<!--  -->a리스트에서 중복 숫자를 제거해 보자. "
   ]
  },
  {
   "cell_type": "code",
   "execution_count": 63,
   "id": "62ba9093-501c-4516-9bff-89fbc88f9e7a",
   "metadata": {},
   "outputs": [
    {
     "name": "stdout",
     "output_type": "stream",
     "text": [
      "[1, 2, 3, 4, 5]\n"
     ]
    }
   ],
   "source": [
    "a= [1,1,1,2,2,3,3,3,4,4,5]\n",
    "aSet = set(a)\n",
    "b = list(aSet)\n",
    "print(b)"
   ]
  },
  {
   "cell_type": "markdown",
   "id": "0859753b-14dc-4637-a938-68f9d82d5fe7",
   "metadata": {},
   "source": [
    "# 파이썬 변수\n",
    "<!--  -->파이썬은 다음처럼 동일한 값에 여러 개의 변수를 선언할 수 있다. 다음과 같이 a,b변수를 선언한 후 a 두번째 요소 값을 변경하면 b값은 어떻게 될까? 그리고 이런 결과가 나타나는 이유를 설명해 보자. "
   ]
  },
  {
   "cell_type": "code",
   "execution_count": null,
   "id": "b625d19a-7898-4901-9d06-b8762d4e5f41",
   "metadata": {},
   "outputs": [],
   "source": [
    "[1,4,3]으로 된다! a,b모두 동일한 리스트를 가리키고 있기 때문이다."
   ]
  }
 ],
 "metadata": {
  "kernelspec": {
   "display_name": "Python 3 (ipykernel)",
   "language": "python",
   "name": "python3"
  },
  "language_info": {
   "codemirror_mode": {
    "name": "ipython",
    "version": 3
   },
   "file_extension": ".py",
   "mimetype": "text/x-python",
   "name": "python",
   "nbconvert_exporter": "python",
   "pygments_lexer": "ipython3",
   "version": "3.13.1"
  }
 },
 "nbformat": 4,
 "nbformat_minor": 5
}
