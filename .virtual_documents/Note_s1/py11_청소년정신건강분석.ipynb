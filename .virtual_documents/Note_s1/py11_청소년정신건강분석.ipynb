# !dir


import pandas as pd
file_path = "./ref/청소년정신건강20250304.csv"
ori = pd.read_csv(file_path)
ori


# 컬럼명 지정
new_name = ['시점','스트레스','스트레스남학생','스트레스여학생','우울감경험율','우울남학생', '우울여학생','자살생각율','자살남학생','자살여학생']
ori.columns= new_name
ori


# 시점을 없애고 , 0번 행도 없앰.
ori= ori.loc[1:,'스트레스':]
ori


# 2번 인덱스 행을 생성 , 100에서 값을 뺀 값
ori.loc[2] = 100 - ori.loc[1,'스트레스':].astype(float)
# 마지막에 응답컬럼을 생성, 그렇다 or 아니다.
ori['응답'] = ['그렇다','아니다']
ori


ori = ori.set_index('응답')
ori


# OS에 사용가능한 , 설치된 폰트를 나열
import matplotlib
import matplotlib.pyplot as plt

import matplotlib.font_manager as fm
fontlist = fm.findSystemFonts(fontpaths=None, fontext='ttf')
fontlist


# 윈도우용 폰트 경로 설정
# path = "C:\\Windows\\Fonts\\NanumGothic.ttf"
# font_name = fm.FontProperties(fname=path).get_name()
# rc('font',family=font_name)
# 리눅스용 폰트 경로 설정
from matplotlib import rc
plt.rc('font', family="NanumBarunGothic")
plt.text(0.2,0.4,'한글',size=100)


ori['스트레스'].astype(float).plot.pie(explode = [0, 0.02])


fig , ax = plt.subplots(2,3,figsize=(10,8)) 

ori['스트레스'].astype(float).plot.pie(explode = [0, 0.1], ax = ax[1][0], autopct="%.1f%%")
ax[1][0].set_title('스트레스를 받은적 있다.')
ax[1][0].set_ylabel('2025년')

ori['우울감경험율'].astype(float).plot.pie(explode = [0, 0.1], ax = ax[1][1], autopct="%.1f%%")
ax[1][1].set_title('우울증을 경험한적 있다.')
ax[1][1].set_ylabel('')

ori['자살생각율'].astype(float).plot.pie(explode = [0, 0.1], ax = ax[1][2], autopct="%.1f%%")
ax[1][2].set_title('자살을 고민한 적이 있다.')
ax[1][2].set_ylabel('')

plt.suptitle('2024 ~ 2025년 청소년 정신건강관련 통계',fontsize=16)
plt.show()



