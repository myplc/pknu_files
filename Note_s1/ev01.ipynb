{
 "cells": [
  {
   "cell_type": "markdown",
   "id": "4de98aed-1f96-4857-b4a5-bace71a46175",
   "metadata": {},
   "source": [
    "# 1일차 IF"
   ]
  },
  {
   "cell_type": "code",
   "execution_count": null,
   "id": "96dac178-95f0-4933-961a-507e8d2a1158",
   "metadata": {},
   "outputs": [],
   "source": [
    "# 파이썬 if\n",
    "# 0,1,2,3,4, X\n",
    "# 가라, 마라, 와라! , ok!!  X\n",
    "fruit = [\"apple\",\"orange\",\"banana\"]\n",
    "fruit1 = [\"orange\",\"banana\"]\n",
    "fruit2 = [\"apple\",\"orange\",\"banana\"]\n",
    "fruit3 = [\"apple\",\"orange\",\"banana\"]\n",
    "fruit4 = [\"apple\",\"orange\",\"banana\"]\n",
    "fruit5 = [\"apple\",\"orange\",\"banana\"]\n",
    "print(fruit[0])\n",
    "print(fruit[1])\n",
    "print(fruit[2])"
   ]
  },
  {
   "cell_type": "code",
   "execution_count": null,
   "id": "96a4b85b-307c-4774-b55f-4e8928bc66b9",
   "metadata": {},
   "outputs": [
    {
     "name": "stdout",
     "output_type": "stream",
     "text": [
      "조건이 맞아요.\n"
     ]
    }
   ],
   "source": [
    "if 5>0 : # 벽에 있는 스위치\n",
    "   print(\"조건이 맞아요.\")"
   ]
  },
  {
   "cell_type": "code",
   "execution_count": 6,
   "id": "7c0980e7-8258-4b99-8fa8-ca41236640e7",
   "metadata": {},
   "outputs": [
    {
     "name": "stdout",
     "output_type": "stream",
     "text": [
      "조건이 맞아요.\n"
     ]
    }
   ],
   "source": [
    "if True : # 벽에 있는 스위치\n",
    "   print(\"조건이 맞아요.\")"
   ]
  },
  {
   "cell_type": "code",
   "execution_count": 15,
   "id": "6a2478bd-e86c-4b80-b34e-e980f7a8c8de",
   "metadata": {},
   "outputs": [
    {
     "name": "stdout",
     "output_type": "stream",
     "text": [
      "조건이 맞아요.\n"
     ]
    }
   ],
   "source": [
    "if not False : # 벽에 있는 스위치\n",
    "   print(\"조건이 맞아요.\")"
   ]
  },
  {
   "cell_type": "code",
   "execution_count": 16,
   "id": "8e666d9d-f9bf-4697-a8ee-607fd76d2078",
   "metadata": {},
   "outputs": [
    {
     "name": "stdout",
     "output_type": "stream",
     "text": [
      "과일이 맞아요.\n"
     ]
    }
   ],
   "source": [
    "if fruit[0] == \"apple\" :\n",
    "    print(\"과일이 맞아요.\")"
   ]
  },
  {
   "cell_type": "code",
   "execution_count": 12,
   "id": "c4a41dcc-9fa5-404a-9063-240ef59ff072",
   "metadata": {},
   "outputs": [
    {
     "name": "stdout",
     "output_type": "stream",
     "text": [
      "과일이 맞아요.\n"
     ]
    }
   ],
   "source": [
    "if \"apple\" in fruit:\n",
    "    print(\"과일이 맞아요.\")"
   ]
  },
  {
   "cell_type": "code",
   "execution_count": 14,
   "id": "6d21a4f8-2f48-4b76-ae22-1ca6e32110d2",
   "metadata": {},
   "outputs": [
    {
     "name": "stdout",
     "output_type": "stream",
     "text": [
      "과일이 맞아요.\n"
     ]
    }
   ],
   "source": [
    "if \"kiwi\" not in fruit:\n",
    "    print(\"과일이 맞아요.\")"
   ]
  },
  {
   "cell_type": "code",
   "execution_count": null,
   "id": "b5fb5795-24b4-471f-b3c2-424327c1967e",
   "metadata": {},
   "outputs": [],
   "source": [
    "if \"apple\" in fruit:\n",
    "    print(\"사과가 있어요.\")\n",
    "if \"apple\" not in fruit:\n",
    "    print(\"사과가 없어요.\")"
   ]
  },
  {
   "cell_type": "code",
   "execution_count": 19,
   "id": "d624ac6b-28f5-4f7a-bed8-7a4f96ec8076",
   "metadata": {},
   "outputs": [
    {
     "name": "stdout",
     "output_type": "stream",
     "text": [
      "사과가 있어요.\n"
     ]
    }
   ],
   "source": [
    "if \"apple\" in fruit:\n",
    "    print(\"사과가 있어요.\")\n",
    "else:\n",
    "    print(\"사과가 없어요.\")"
   ]
  },
  {
   "cell_type": "code",
   "execution_count": 27,
   "id": "85a4925f-139d-4279-8730-c6653e5f7db4",
   "metadata": {},
   "outputs": [
    {
     "name": "stdout",
     "output_type": "stream",
     "text": [
      "fruit2 에 사과가 있어요.\n",
      "fruit3 에 사과가 있어요.\n",
      "fruit4 에 사과가 있어요.\n",
      "fruit5 에 사과가 있어요.\n"
     ]
    }
   ],
   "source": [
    "if \"apple\" in fruit1:\n",
    "    print(\"fruit1 에 사과가 있어요.\")\n",
    "if \"apple\" in fruit2:\n",
    "    print(\"fruit2 에 사과가 있어요.\")\n",
    "if \"apple\" in fruit3:\n",
    "    print(\"fruit3 에 사과가 있어요.\")\n",
    "if \"apple\" in fruit4:\n",
    "    print(\"fruit4 에 사과가 있어요.\")\n",
    "if \"apple\" in fruit5:\n",
    "    print(\"fruit5 에 사과가 있어요.\")"
   ]
  },
  {
   "cell_type": "code",
   "execution_count": 28,
   "id": "b76f01ec-d8a4-4dbd-bdd5-0b9082123bd5",
   "metadata": {},
   "outputs": [
    {
     "name": "stdout",
     "output_type": "stream",
     "text": [
      "fruit2 에 사과가 있어요.\n"
     ]
    }
   ],
   "source": [
    "if \"apple\" in fruit1:\n",
    "    print(\"fruit1 에 사과가 있어요.\")\n",
    "elif \"apple\" in fruit2:\n",
    "    print(\"fruit2 에 사과가 있어요.\")\n",
    "elif \"apple\" in fruit3:\n",
    "    print(\"fruit3 에 사과가 있어요.\")\n",
    "elif \"apple\" in fruit4:\n",
    "    print(\"fruit4 에 사과가 있어요.\")\n",
    "elif \"apple\" in fruit5:\n",
    "    print(\"fruit5 에 사과가 있어요.\")"
   ]
  },
  {
   "cell_type": "code",
   "execution_count": 31,
   "id": "94c4c6fc-c311-4d23-8869-16bb7e4d3aa1",
   "metadata": {},
   "outputs": [
    {
     "name": "stdout",
     "output_type": "stream",
     "text": [
      "조건에 맞아요.\n"
     ]
    }
   ],
   "source": [
    "num = 10\n",
    "if (num > 5) and (num < 20) and (num > 0):\n",
    "    print(\"조건에 맞아요.\")"
   ]
  },
  {
   "cell_type": "code",
   "execution_count": 35,
   "id": "e76e2834-954a-43fc-9109-ff313c25a2ca",
   "metadata": {},
   "outputs": [],
   "source": [
    "num = 10\n",
    "if (num < 5) or (num < 9) or (num >= 10):\n",
    "    print(\"조건에 맞아요.\")"
   ]
  },
  {
   "cell_type": "code",
   "execution_count": 38,
   "id": "ec7ce683-fda9-4184-8421-4a855cd0a686",
   "metadata": {},
   "outputs": [
    {
     "name": "stdout",
     "output_type": "stream",
     "text": [
      "True\n"
     ]
    }
   ],
   "source": [
    "# any()\n",
    "value = [0,0,0,0,'안녕?',0]\n",
    "what = any(value)\n",
    "print(what)"
   ]
  },
  {
   "cell_type": "code",
   "execution_count": 43,
   "id": "52f4e6fd-6ff4-4140-9d53-02a0a1f802b6",
   "metadata": {},
   "outputs": [
    {
     "name": "stdout",
     "output_type": "stream",
     "text": [
      "false가 한개 이상있습니다\n"
     ]
    }
   ],
   "source": [
    "# all()\n",
    "value2 = [0,0,0,0,0]\n",
    "what2 = all(value2)\n",
    "\n",
    "if not all(value2):\n",
    "    print(\"false가 한개 이상있습니다\")\n"
   ]
  },
  {
   "cell_type": "markdown",
   "id": "5da11b43-5c5a-4e12-acc8-87648fc73fea",
   "metadata": {},
   "source": [
    "# 2일차"
   ]
  },
  {
   "cell_type": "code",
   "execution_count": 3,
   "id": "7a6d09a4-cfab-48d1-b812-f050a84ec214",
   "metadata": {},
   "outputs": [
    {
     "name": "stdin",
     "output_type": "stream",
     "text": [
      "숫자를 입력하세요. 12345\n"
     ]
    },
    {
     "name": "stdout",
     "output_type": "stream",
     "text": [
      "123450 <class 'int'>\n"
     ]
    }
   ],
   "source": [
    "inp = input(\"숫자를 입력하세요.\") # 숫자가 아닌 문자로 받아져요.\n",
    "result = int(inp) * 10\n",
    "print(result, type(result))"
   ]
  },
  {
   "cell_type": "code",
   "execution_count": 4,
   "id": "2e5048b5-3aa7-4984-95be-64f23676b0f1",
   "metadata": {},
   "outputs": [],
   "source": [
    "# 1문제 입력받은 수를 분석하여 홀수면 홀수 , 짝수면 짝수라고 출력하기"
   ]
  },
  {
   "cell_type": "markdown",
   "id": "a4542efd-1672-4af2-bef5-34d8961c97ee",
   "metadata": {},
   "source": [
    "# 3일차"
   ]
  },
  {
   "cell_type": "code",
   "execution_count": 3,
   "id": "11c72fde-d466-4c35-b379-151b806e1edd",
   "metadata": {},
   "outputs": [
    {
     "name": "stdout",
     "output_type": "stream",
     "text": [
      "[0, 1, 2, 3, 4, 5, 6, 7, 8, 9]\n"
     ]
    }
   ],
   "source": [
    "print(list(range(10)))"
   ]
  },
  {
   "cell_type": "code",
   "execution_count": 15,
   "id": "c4f71f4d-0adf-4fa5-aa33-6678e4ca1fea",
   "metadata": {},
   "outputs": [
    {
     "name": "stdout",
     "output_type": "stream",
     "text": [
      "0 번째 작업중\n",
      "1 번째 작업중\n",
      "2 번째 작업중\n",
      "3 번째 작업중\n",
      "4 번째 작업중\n",
      "5 번째 작업중\n",
      "6 번째 작업중\n",
      "7 번째 작업중\n",
      "8 번째 작업중\n",
      "9 번째 작업중\n",
      "10 번째 작업중\n",
      "11 번째 작업중\n",
      "12 번째 작업중\n",
      "13 번째 작업중\n",
      "14 번째 작업중\n",
      "15 번째 작업중\n",
      "16 번째 작업중\n"
     ]
    }
   ],
   "source": [
    "num = 0\n",
    "while num < 17:\n",
    "   print(num ,\"번째 작업중\")\n",
    "   num = num +  1\n",
    "# while 로\n",
    "    #\"\"\"\n",
    "    #1번째 작업중\n",
    "    #2번째 작업중\n",
    "    #...\n",
    "    #17번째 작업중\"\"\""
   ]
  },
  {
   "cell_type": "code",
   "execution_count": 26,
   "id": "32cd4e00-74d1-4c8f-966e-d073f186ce8c",
   "metadata": {},
   "outputs": [
    {
     "name": "stdout",
     "output_type": "stream",
     "text": [
      "3 번째 작업중\n",
      "4 번째 작업중\n",
      "5 번째 작업중\n",
      "6 번째 작업중\n",
      "7 번째 작업중\n",
      "8 번째 작업중\n",
      "9 번째 작업중\n",
      "10 번째 작업중\n",
      "11 번째 작업중\n",
      "12 번째 작업중\n"
     ]
    }
   ],
   "source": [
    "# for 1)로\n",
    "#\"\"\"\n",
    "#3번째 작업중\n",
    "#4번째 작업중\n",
    "#...\n",
    "#12번째 작업중\"\"\"\n",
    "for n in range(3,13):\n",
    "    print(n,\"번째 작업중\")\n",
    "# for로\n",
    "# 1부터 100중에 3의 배수만 출력하라\n",
    "\n",
    "# for n in range(1,34):\n",
    "#     print(n * 3)\n",
    "\n",
    "# for n in range(1,101):\n",
    "#     if n % 3 == 0:\n",
    "#         print(n)\n",
    "\n",
    "# for n in range(3,101,3):\n",
    "#     print(n)        "
   ]
  },
  {
   "cell_type": "code",
   "execution_count": null,
   "id": "81ffe6de-a88a-4dab-8f4b-25167462fc23",
   "metadata": {},
   "outputs": [],
   "source": [
    "# 구구단 4단을 출력하세요.\n",
    "----------\n",
    "4 x 1 = 4\n",
    "4 x 2 = 8\n",
    "...\n",
    "4 x 9 = 36"
   ]
  },
  {
   "cell_type": "code",
   "execution_count": null,
   "id": "a698f795-b9f2-4a10-9893-022bf90013c1",
   "metadata": {},
   "outputs": [],
   "source": [
    "# 구구단을 1단부터 12단까지 출력하라."
   ]
  },
  {
   "cell_type": "markdown",
   "id": "270921d5-367c-4dce-af2c-2d5dce18d129",
   "metadata": {},
   "source": [
    "# 4일차"
   ]
  },
  {
   "cell_type": "code",
   "execution_count": 3,
   "id": "c1a243e1-9cf3-42f3-b814-980543dc53dc",
   "metadata": {},
   "outputs": [
    {
     "data": {
      "text/plain": [
       "['BPF',\n",
       " 'LOG4',\n",
       " 'NV_MAGICCONST',\n",
       " 'RECIP_BPF',\n",
       " 'Random',\n",
       " 'SG_MAGICCONST',\n",
       " 'SystemRandom',\n",
       " 'TWOPI',\n",
       " '_ONE',\n",
       " '_Sequence',\n",
       " '__all__',\n",
       " '__builtins__',\n",
       " '__cached__',\n",
       " '__doc__',\n",
       " '__file__',\n",
       " '__loader__',\n",
       " '__name__',\n",
       " '__package__',\n",
       " '__spec__',\n",
       " '_accumulate',\n",
       " '_acos',\n",
       " '_bisect',\n",
       " '_ceil',\n",
       " '_cos',\n",
       " '_e',\n",
       " '_exp',\n",
       " '_fabs',\n",
       " '_floor',\n",
       " '_index',\n",
       " '_inst',\n",
       " '_isfinite',\n",
       " '_lgamma',\n",
       " '_log',\n",
       " '_log2',\n",
       " '_os',\n",
       " '_parse_args',\n",
       " '_pi',\n",
       " '_random',\n",
       " '_repeat',\n",
       " '_sha512',\n",
       " '_sin',\n",
       " '_sqrt',\n",
       " '_test',\n",
       " '_test_generator',\n",
       " '_urandom',\n",
       " 'betavariate',\n",
       " 'binomialvariate',\n",
       " 'choice',\n",
       " 'choices',\n",
       " 'expovariate',\n",
       " 'gammavariate',\n",
       " 'gauss',\n",
       " 'getrandbits',\n",
       " 'getstate',\n",
       " 'lognormvariate',\n",
       " 'main',\n",
       " 'normalvariate',\n",
       " 'paretovariate',\n",
       " 'randbytes',\n",
       " 'randint',\n",
       " 'random',\n",
       " 'randrange',\n",
       " 'sample',\n",
       " 'seed',\n",
       " 'setstate',\n",
       " 'shuffle',\n",
       " 'triangular',\n",
       " 'uniform',\n",
       " 'vonmisesvariate',\n",
       " 'weibullvariate']"
      ]
     },
     "execution_count": 3,
     "metadata": {},
     "output_type": "execute_result"
    }
   ],
   "source": [
    "import random\n",
    "dir(random)"
   ]
  },
  {
   "cell_type": "code",
   "execution_count": 48,
   "id": "cf349ac4-4123-4dae-90bd-4a07cf189dc1",
   "metadata": {},
   "outputs": [
    {
     "name": "stdout",
     "output_type": "stream",
     "text": [
      "주사위 던지기 시작\n",
      "5\n",
      "5\n",
      "5\n",
      "4\n",
      "4\n",
      "2\n",
      "1\n",
      "4\n",
      "4\n",
      "2\n",
      "숫자 4가 나온 갯수: 4\n",
      "숫자 5가 나온 갯수: 3\n"
     ]
    }
   ],
   "source": [
    "import random as r\n",
    "r.seed(302)\n",
    "num1=0\n",
    "num2=0\n",
    "num3=0\n",
    "num4=0\n",
    "num5=0\n",
    "num6=0\n",
    "\n",
    "print(\"주사위 던지기 시작\")\n",
    "for n in range(10):\n",
    "    dice = r.randint(1,6)\n",
    "    if dice == 5:\n",
    "        num5 = num5 + 1\n",
    "    if dice == 4:\n",
    "        num4 = num4 + 1\n",
    "    print(dice)\n",
    "print(\"숫자 4가 나온 갯수:\", num4)\n",
    "print(\"숫자 5가 나온 갯수:\", num5)"
   ]
  },
  {
   "cell_type": "code",
   "execution_count": 55,
   "id": "30235d2d-87bb-43b0-8682-d4771b2736b2",
   "metadata": {},
   "outputs": [
    {
     "name": "stdout",
     "output_type": "stream",
     "text": [
      "주사위 던지기 시작\n",
      "1번 횟수: 1690 / 16.90 %\n",
      "2번 횟수: 1655 / 16.55 %\n",
      "3번 횟수: 1671 / 16.71 %\n",
      "4번 횟수: 1711 / 17.11 %\n",
      "5번 횟수: 1645 / 16.45 %\n",
      "6번 횟수: 1628 / 16.28 %\n"
     ]
    }
   ],
   "source": [
    "import random as r\n",
    "r.seed(302)\n",
    "num = [0] * 6\n",
    "# [0, 0, 0, 0, 0, 0]\n",
    "\n",
    "turn = 10000\n",
    "\n",
    "print(\"주사위 던지기 시작\")\n",
    "for n in range(turn):\n",
    "    dice = r.randint(1,6) # 1,2,3,4,5,6\n",
    "    num[dice - 1] += 1\n",
    "\n",
    "for x in range(6):\n",
    "    print(f\"{x+1}번 횟수: {num[x]} / {((num[x]/turn)*100):.2f} %\")"
   ]
  },
  {
   "cell_type": "code",
   "execution_count": 38,
   "id": "35ff9b31-987b-4643-baeb-345ad8c117d8",
   "metadata": {},
   "outputs": [
    {
     "name": "stdout",
     "output_type": "stream",
     "text": [
      "1: [0, 0, 0, 0, 0, 0]\n",
      "2: [0, 0, 0, 0, 0, 0]\n",
      "3: [0, 0, 0, 0, 0, 0]\n",
      "4: [0, 0, 0, 0, 0, 0]\n",
      "5: [0, 0, 0, 0, 0, 0]\n"
     ]
    }
   ],
   "source": [
    "# 리스트에 0을 6개 채우는 방법 2가지만 고안해 내라. [0,0,0,0,0,0]\n",
    "#1 \n",
    "# print([0] * 2)\n",
    "l1 = [0] * 6\n",
    "print(\"1:\",l1)\n",
    "\n",
    "#2 \n",
    "l2 = []\n",
    "for n in range(6):\n",
    "    l2.append(0)\n",
    "print(\"2:\",l2)\n",
    "\n",
    "#3\n",
    "l3 = [0 for x in range(6)]\n",
    "print(\"3:\",l3)\n",
    "\n",
    "#4\n",
    "l4 = list( map(lambda x: 0, range(6)))\n",
    "print(\"4:\",l4)\n",
    "\n",
    "#5\n",
    "import numpy as np\n",
    "l5 = list( map( int, np.zeros(6, dtype=int) )  )\n",
    "print(\"5:\", l5)"
   ]
  },
  {
   "cell_type": "code",
   "execution_count": 42,
   "id": "13806207-4cff-4cfe-a0f9-74627466a828",
   "metadata": {},
   "outputs": [
    {
     "data": {
      "text/plain": [
       "2"
      ]
     },
     "execution_count": 42,
     "metadata": {},
     "output_type": "execute_result"
    }
   ],
   "source": []
  },
  {
   "cell_type": "code",
   "execution_count": null,
   "id": "de8c9fd2-98e7-42d7-8756-1a3e8a14e72e",
   "metadata": {},
   "outputs": [],
   "source": []
  }
 ],
 "metadata": {
  "kernelspec": {
   "display_name": "Python 3 (ipykernel)",
   "language": "python",
   "name": "python3"
  },
  "language_info": {
   "codemirror_mode": {
    "name": "ipython",
    "version": 3
   },
   "file_extension": ".py",
   "mimetype": "text/x-python",
   "name": "python",
   "nbconvert_exporter": "python",
   "pygments_lexer": "ipython3",
   "version": "3.13.1"
  }
 },
 "nbformat": 4,
 "nbformat_minor": 5
}
