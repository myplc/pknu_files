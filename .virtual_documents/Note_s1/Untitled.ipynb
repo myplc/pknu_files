from selenium import webdriver
from selenium.webdriver.chrome.service import Service
from selenium.webdriver.common.keys import Keys
from selenium.webdriver.chrome.options import Options
from selenium.webdriver.common.by import By
import time
import re
from bs4 import BeautifulSoup as bs
import pandas as pd
from hdfs import InsecureClient
from datetime import datetime # datetime 모듈 임포트


# Chrome 옵션 설정
options = Options()
options.binary_location = "/usr/local/bin/chrome-headless-shell"  # Chrome 브라우저의 경로
# options.add_argument("--headless")  # Headless 모드
options.add_argument("--no-sandbox")  # No sandbox
options.add_argument("--disable-dev-shm-usage")  # 공유 메모리 비활성화
options.add_argument("--disable-gpu")  # GPU 비활성화
options.add_argument("--window-size=1920,1080")  # 가상 화면 크기 설정 lec _ 최대한 동일한 조건에서 동작하도록
options.add_argument("user-agent=Mozilla/5.0 (Windows NT 10.0; Win64; x64) AppleWebKit/537.36 (KHTML, like Gecko) Chrome/91.0.4472.124 Safari/537.36") # lec _ 좀더 사람적인 접근

