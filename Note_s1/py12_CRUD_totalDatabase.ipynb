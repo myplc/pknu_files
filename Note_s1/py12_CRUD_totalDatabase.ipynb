{
 "cells": [
  {
   "cell_type": "markdown",
   "id": "1ff7cc2c-6d26-413d-b5b3-23a5146a670c",
   "metadata": {},
   "source": [
    "<h1> 개인과제 </h1>\n",
    "<h2> 주피터랩에서 데이터를 입력받으면 3가지 DB에 동시에 CRUD 가 되는 시스템을 만들어라.</h2>\n",
    "<h3> 예) input을 이용하여 <이름:> 홍길동 (엔터), <나이> 33 (엔터), <주소> 해운대구 (엔터)</h3>\n",
    "<h3>입력하고 , 데이터를 검색하고, 이름을 고르고 수정하고, 삭제 가능하게하라</h3>"
   ]
  },
  {
   "cell_type": "code",
   "execution_count": null,
   "id": "78d750e2-731f-4dc0-94c3-8844295aef2e",
   "metadata": {},
   "outputs": [
    {
     "name": "stdout",
     "output_type": "stream",
     "text": [
      "\n",
      "    1. 데이터 등록\n",
      "    2. 데이터 읽기\n",
      "    3. 데이터 수정\n",
      "    4. 데이터 삭제\n",
      "    5. 종료\n",
      "    고르세요.\n",
      "    \n"
     ]
    },
    {
     "name": "stdin",
     "output_type": "stream",
     "text": [
      "선택하세요:  1\n"
     ]
    },
    {
     "name": "stdout",
     "output_type": "stream",
     "text": [
      "1 고르셨네요.\n"
     ]
    },
    {
     "name": "stdin",
     "output_type": "stream",
     "text": [
      "이름을 입력하세요 홍길동 \n",
      "나이를 입력하세요 22\n",
      "주소를 입력하세요 부산\n"
     ]
    },
    {
     "name": "stdout",
     "output_type": "stream",
     "text": [
      "홍길동  22 부산\n",
      "\n",
      "    1. 데이터 등록\n",
      "    2. 데이터 읽기\n",
      "    3. 데이터 수정\n",
      "    4. 데이터 삭제\n",
      "    5. 종료\n",
      "    고르세요.\n",
      "    \n"
     ]
    }
   ],
   "source": [
    "str = \"\"\"\n",
    "    1. 데이터 등록\n",
    "    2. 데이터 읽기\n",
    "    3. 데이터 수정\n",
    "    4. 데이터 삭제\n",
    "    5. 종료\n",
    "    고르세요.\n",
    "    \"\"\"    \n",
    "while True:\n",
    "    print(str)\n",
    "    inp = input(\"선택하세요: \")\n",
    "    print(inp,'고르셨네요.')\n",
    "    # 데이터 등록\n",
    "    if inp == '1':\n",
    "        inp1 = input(\"이름을 입력하세요\")\n",
    "        inp2 = input(\"나이를 입력하세요\")\n",
    "        inp3 = input(\"주소를 입력하세요\")\n",
    "        print(inp1,inp2,inp3)\n",
    "    # 데이터 읽기\n",
    "    if inp == '2': pass\n",
    "    if inp == '3': pass\n",
    "    if inp == '4': pass\n",
    "    if inp == '5':\n",
    "        print(\"종료합니다.\")\n",
    "        break    "
   ]
  },
  {
   "cell_type": "code",
   "execution_count": null,
   "id": "b82688bc-dcac-412c-8674-6fb5cc5e30ce",
   "metadata": {},
   "outputs": [],
   "source": []
  }
 ],
 "metadata": {
  "kernelspec": {
   "display_name": "Python 3 (ipykernel)",
   "language": "python",
   "name": "python3"
  },
  "language_info": {
   "codemirror_mode": {
    "name": "ipython",
    "version": 3
   },
   "file_extension": ".py",
   "mimetype": "text/x-python",
   "name": "python",
   "nbconvert_exporter": "python",
   "pygments_lexer": "ipython3",
   "version": "3.10.12"
  }
 },
 "nbformat": 4,
 "nbformat_minor": 5
}
