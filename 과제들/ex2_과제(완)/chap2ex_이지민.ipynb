{
 "cells": [
  {
   "cell_type": "markdown",
   "id": "570e4dd4-0dfd-4fb0-bcb5-a980235e0847",
   "metadata": {},
   "source": [
    "# 1"
   ]
  },
  {
   "cell_type": "code",
   "execution_count": 18,
   "id": "a01bdbee-7f17-435d-8c2d-3568e8b5ca38",
   "metadata": {},
   "outputs": [
    {
     "name": "stdout",
     "output_type": "stream",
     "text": [
      "70.0\n"
     ]
    }
   ],
   "source": [
    "k = 80\n",
    "e = 75\n",
    "m = 55\n",
    "\n",
    "res = k+e+m\n",
    "print(res/3)"
   ]
  },
  {
   "cell_type": "markdown",
   "id": "8016f7d5-b4cc-490b-9bd8-c822f5dd7f07",
   "metadata": {},
   "source": [
    "## 2"
   ]
  },
  {
   "cell_type": "code",
   "execution_count": 17,
   "id": "d62f4f8c-aeeb-464a-b0e5-e1d3d7cb7a91",
   "metadata": {},
   "outputs": [
    {
     "name": "stdout",
     "output_type": "stream",
     "text": [
      "홀수\n"
     ]
    }
   ],
   "source": [
    "2로 나누었을 때 나머지가 0이면 짝수\n",
    "나머지가 1이면 홀수\n",
    "\n",
    "\n",
    "\n",
    "#i = 13\n",
    "\n",
    "#if i%2==0:\n",
    "    #print(\"짝수\")\n",
    "#else \n",
    "    #print(\"홀수\")"
   ]
  },
  {
   "cell_type": "markdown",
   "id": "b806ee8d-2731-4bff-8b01-3a8b2aaca96f",
   "metadata": {},
   "source": [
    "## 3\n"
   ]
  },
  {
   "cell_type": "code",
   "execution_count": 22,
   "id": "15ba2a83-bac5-431e-9673-c96bd8f00718",
   "metadata": {},
   "outputs": [
    {
     "name": "stdout",
     "output_type": "stream",
     "text": [
      "881120\n",
      "1068234\n"
     ]
    }
   ],
   "source": [
    "pin = \"881120-1068234\"\n",
    "\n",
    "ymd = pin[:6]\n",
    "print(ymd)\n",
    "num = pin[7:15]\n",
    "print(num)\n"
   ]
  },
  {
   "cell_type": "markdown",
   "id": "088f3559-dac5-452e-87bf-d07165f48b55",
   "metadata": {},
   "source": [
    "# 4"
   ]
  },
  {
   "cell_type": "code",
   "execution_count": 23,
   "id": "83135355-9aa5-47b3-98d0-c41a104ab4fd",
   "metadata": {},
   "outputs": [
    {
     "name": "stdout",
     "output_type": "stream",
     "text": [
      "1\n"
     ]
    }
   ],
   "source": [
    "pin = \"881120-106824\"\n",
    "gen = pin[7]\n",
    "print(gen)"
   ]
  },
  {
   "cell_type": "markdown",
   "id": "d7a03a44-04e9-47a5-bfa9-a1d1756eb625",
   "metadata": {},
   "source": [
    "## 5"
   ]
  },
  {
   "cell_type": "code",
   "execution_count": 25,
   "id": "a955ae98-1ba7-4798-8582-8296516fd916",
   "metadata": {},
   "outputs": [
    {
     "name": "stdout",
     "output_type": "stream",
     "text": [
      "a#b#c#d\n"
     ]
    }
   ],
   "source": [
    "a = \"a:b:c:d\"\n",
    "b =a.replace(\":\",\"#\")\n",
    "\n",
    "print(b)\n"
   ]
  },
  {
   "cell_type": "markdown",
   "id": "6cf15672-a426-45fb-99ee-0ff59226aff2",
   "metadata": {},
   "source": [
    "## 6"
   ]
  },
  {
   "cell_type": "code",
   "execution_count": 33,
   "id": "9e5644f6-2490-4c2e-bf8b-4723833e1b19",
   "metadata": {},
   "outputs": [
    {
     "name": "stdout",
     "output_type": "stream",
     "text": [
      "[1, 2, 3, 4, 5]\n",
      "[5, 4, 3, 2, 1]\n"
     ]
    }
   ],
   "source": [
    "a=[1,3,5,4,2]\n",
    "a.sort()\n",
    "print(a)\n",
    "a.reverse()\n",
    "print(a)\n"
   ]
  },
  {
   "cell_type": "markdown",
   "id": "44ff43b1-8bba-4aef-91ea-749dac54d23e",
   "metadata": {},
   "source": [
    "## 7"
   ]
  },
  {
   "cell_type": "code",
   "execution_count": 36,
   "id": "6c5de238-d013-4a1d-9a74-40bfdb445922",
   "metadata": {},
   "outputs": [
    {
     "name": "stdout",
     "output_type": "stream",
     "text": [
      "Life is too short\n"
     ]
    }
   ],
   "source": [
    "a = ['Life','is','too','short']\n",
    "result = \" \".join(a)\n",
    "print(result)"
   ]
  },
  {
   "cell_type": "markdown",
   "id": "04e65a95-8c6d-4553-8b46-3ebf808fc73d",
   "metadata": {},
   "source": [
    "## 8"
   ]
  },
  {
   "cell_type": "code",
   "execution_count": 43,
   "id": "d58a9e63-0a52-4c3a-8798-064bb85a3634",
   "metadata": {},
   "outputs": [
    {
     "name": "stdout",
     "output_type": "stream",
     "text": [
      "(1, 2, 3, 4)\n"
     ]
    }
   ],
   "source": [
    "a = (1,2,3)\n",
    "a = a+(4,)\n",
    "\n",
    "print(a)"
   ]
  },
  {
   "cell_type": "markdown",
   "id": "526303f1-bb04-4a00-bcf2-a93cb6081ff9",
   "metadata": {},
   "source": [
    "## 9"
   ]
  },
  {
   "cell_type": "code",
   "execution_count": 59,
   "id": "e34e92fc-f756-467e-b71f-13254a4f48db",
   "metadata": {},
   "outputs": [
    {
     "name": "stdout",
     "output_type": "stream",
     "text": [
      "{250: 'python'}\n"
     ]
    }
   ],
   "source": [
    "a= dict()\n",
    "a[[1]]='python'\n",
    "print(a)\n",
    "\n",
    "#키에 리스트 못씀"
   ]
  },
  {
   "cell_type": "markdown",
   "id": "29d9dd12-89b6-4a63-abc3-98ed07ed5917",
   "metadata": {},
   "source": [
    "## 10"
   ]
  },
  {
   "cell_type": "code",
   "execution_count": 64,
   "id": "d2808d28-789d-49a5-90ca-78dfeb04104f",
   "metadata": {},
   "outputs": [
    {
     "name": "stdout",
     "output_type": "stream",
     "text": [
      "{'A': 90, 'C': 70}\n",
      "80\n"
     ]
    }
   ],
   "source": [
    "a= {'A':90, 'B':80, 'C':70}\n",
    "result=a.pop('B')\n",
    "print(a)\n",
    "print(result)"
   ]
  },
  {
   "cell_type": "markdown",
   "id": "0209ec41-ce8f-4e2d-9020-e11de2684e7f",
   "metadata": {},
   "source": [
    "## 11"
   ]
  },
  {
   "cell_type": "code",
   "execution_count": 66,
   "id": "4dad5613-c0c5-4851-b988-840351f17900",
   "metadata": {},
   "outputs": [
    {
     "name": "stdout",
     "output_type": "stream",
     "text": [
      "[1, 1, 1, 2, 2, 3, 3, 3, 4, 4, 5]\n",
      "[1, 2, 3, 4, 5]\n"
     ]
    }
   ],
   "source": [
    "a = [1,1,1,2,2,3,3,3,4,4,5]\n",
    "aSet = set(a)\n",
    "print(a)\n",
    "b = list(aSet)\n",
    "print(b)"
   ]
  },
  {
   "cell_type": "markdown",
   "id": "5524a08a-9f26-4d7d-b6cb-7d7b5aae12de",
   "metadata": {},
   "source": [
    "## 12"
   ]
  },
  {
   "cell_type": "code",
   "execution_count": 71,
   "id": "36712006-dd3b-44ee-98f8-ba9a0c20db7d",
   "metadata": {
    "scrolled": true
   },
   "outputs": [
    {
     "name": "stdout",
     "output_type": "stream",
     "text": [
      "[1, 4, 3]\n"
     ]
    },
    {
     "data": {
      "text/plain": [
       "2323752920000"
      ]
     },
     "execution_count": 71,
     "metadata": {},
     "output_type": "execute_result"
    }
   ],
   "source": [
    "a= b= [1,2,3]\n",
    "a[1] = 4\n",
    "print(b)\n",
    "\n",
    "\n",
    "#b도 바뀜 a,b모두 동일한 리스트를 가리키고 있어서 그러함."
   ]
  },
  {
   "cell_type": "code",
   "execution_count": null,
   "id": "f9eabae6-f4ad-428d-b0a1-4de23bc219bf",
   "metadata": {},
   "outputs": [],
   "source": []
  }
 ],
 "metadata": {
  "kernelspec": {
   "display_name": "Python 3 (ipykernel)",
   "language": "python",
   "name": "python3"
  },
  "language_info": {
   "codemirror_mode": {
    "name": "ipython",
    "version": 3
   },
   "file_extension": ".py",
   "mimetype": "text/x-python",
   "name": "python",
   "nbconvert_exporter": "python",
   "pygments_lexer": "ipython3",
   "version": "3.13.1"
  }
 },
 "nbformat": 4,
 "nbformat_minor": 5
}
