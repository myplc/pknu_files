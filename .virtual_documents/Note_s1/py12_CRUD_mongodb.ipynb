# !pip install pymongo


from pymongo import MongoClient
client = MongoClient("mongodb://mongodb:27017")

try:
    print(client.admin.command('ping'))
    print("MongoDB 서버에 성공적으로 연결되었습니다.")
except Exception as e:
    print("MongoDB 서버 연결 실패:", e)


# 사용할 데이터베이스 선택
db = client["mdb"]
print("사용할 데이터베이스 선택됨")

# 사용할 컬랙션 선택
collection = db["c1"]
print("사용할 컬렉션 선택됨")


# 단일 문서 삽입
user = {"name":"Alice","age":25,"city":"Seoul"}
insert_result = collection.insert_one(user)
print("Inserted ID:",insert_result)


# 여러개 문서 삽입
user = [
    {"name":"Bob","age":30,"city":"Busan"},
    {"name":"Char","age":35,"city":"Incheon"},
    {"name":"Apple","age":15,"city":"Daegu"}]
insert_results = collection.insert_many(user)
print("Inserted IDs:",insert_results)


# 여러개의 문서 조회
users = collection.find({},{"_id": 0})
for u in users:
    print(u)


# 단일 문서 조회
user = collection.find_one({"name":"Apple"}, {"_id": 0})
print(user)


# 특정 조건을 만족하는 문서 조회
filters = {"age":{"$gt":20}} # 나이가 20보다 큰 문서 찾기
filtered = collection.find(filters, {"_id": 0})
for f in filtered:
    print(f)


# 특정 문서 한 개 수정
update = collection.update_one({"name":"Alice"},{"$set":{"age":26}})
print("수정됨:",update)


# 특정 문서 여러개 수정
updates = collection.update_many({"name":{"$regex": "^A"}},{"$inc":{"age":5}}) # A로 시작하는 이름은 5살 증가시켜라.
# updates = collection.update_many({"name":"\/^A\/"},{"$inc":{"age":5}})
print("수정됨s:",updates)


# 특정 문서 한개 문서 삭제
delete = collection.delete_one({"etc":"잘생김"})
print(delete)


# 특정 문서 여러개 문서 삭제
deletes = collection.delete_many({"name":{"$regex": "e$"}}) # 정규식으로 e로 끝나는 이름을 모두 삭제
print(deletes)


import json

with open('./photos.json') as f:
    data = json.load(f)


# 사용할 데이터베이스 선택
db2 = client["jdb"]
print("사용할 데이터베이스 선택됨")

# 사용할 컬랙션 선택
collection2 = db["j1"]
print("사용할 컬렉션 선택됨")


collection2.insert_many(data)
print("로드완료")


out = collection2.find({'id': {'$lte': 30}})
for o in out:
    print(o["url"])



