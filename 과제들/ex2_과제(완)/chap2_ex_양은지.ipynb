{
 "cells": [
  {
   "cell_type": "markdown",
   "id": "04d3222b-d23d-4ae9-a472-2483b983f75e",
   "metadata": {},
   "source": [
    "# 평균 점수"
   ]
  },
  {
   "cell_type": "code",
   "execution_count": 21,
   "id": "46ff216b-df92-47a4-8b71-49933d40f789",
   "metadata": {},
   "outputs": [
    {
     "name": "stdout",
     "output_type": "stream",
     "text": [
      "홍길동 씨의 평균 점수는 70.0점 입니다\n"
     ]
    }
   ],
   "source": [
    "kor = 80\n",
    "eng = 75\n",
    "mat = 55\n",
    "evg = (kor + eng + mat)/3\n",
    "print(f'홍길동 씨의 평균 점수는 {evg}점 입니다')"
   ]
  },
  {
   "cell_type": "markdown",
   "id": "c45ab728-d467-4877-9023-563a021f8b1d",
   "metadata": {},
   "source": [
    "# 홀수, 짝수 판별 "
   ]
  },
  {
   "cell_type": "code",
   "execution_count": 24,
   "id": "8dbd6434-e704-4447-8056-9511165abf53",
   "metadata": {},
   "outputs": [
    {
     "name": "stdout",
     "output_type": "stream",
     "text": [
      "13의 나머지는 1이므로 홀수입니다\n"
     ]
    }
   ],
   "source": [
    "num = 13\n",
    "result = num % 2\n",
    "print(f'{num}의 나머지는 {result}이므로 홀수입니다')"
   ]
  },
  {
   "cell_type": "markdown",
   "id": "4b9c9705-bf18-42a3-895e-2d6d43e5489d",
   "metadata": {},
   "source": [
    "# 주민등록번호 나누기 "
   ]
  },
  {
   "cell_type": "code",
   "execution_count": 30,
   "id": "771a7ed3-3a80-4d53-a6a5-270703b56b6d",
   "metadata": {},
   "outputs": [
    {
     "name": "stdout",
     "output_type": "stream",
     "text": [
      "생년월일은 881120\n",
      "뒷자리는 106834\n"
     ]
    }
   ],
   "source": [
    "pin = \"881120-106834\"\n",
    "num = pin.split(\"-\")\n",
    "print(f'생년월일은 {num[0]}')\n",
    "print(f'뒷자리는 {num[1]}')"
   ]
  },
  {
   "cell_type": "markdown",
   "id": "09115fb7-dc36-4acf-8e1f-e42edbf138d3",
   "metadata": {},
   "source": [
    "# 주민등록번호로 인덱싱"
   ]
  },
  {
   "cell_type": "code",
   "execution_count": 96,
   "id": "dbd8b8ba-3ed9-48bb-89e2-1cd341a070a1",
   "metadata": {},
   "outputs": [
    {
     "name": "stdout",
     "output_type": "stream",
     "text": [
      "성별을 나타내는 숫자는 1입니다\n"
     ]
    }
   ],
   "source": [
    "pin = '881120-1068234'\n",
    "print(f'성별을 나타내는 숫자는 {pin[7]}입니다')"
   ]
  },
  {
   "cell_type": "markdown",
   "id": "cd788fd0-cc1a-482f-b1cd-e890eedd307a",
   "metadata": {},
   "source": [
    "# 문자열 바꾸기"
   ]
  },
  {
   "cell_type": "code",
   "execution_count": 35,
   "id": "62e34055-fa17-490a-9999-94d9a4f6b8b8",
   "metadata": {},
   "outputs": [
    {
     "name": "stdout",
     "output_type": "stream",
     "text": [
      "a#b#c#d\n"
     ]
    }
   ],
   "source": [
    "a = \"a:b:c:d\"\n",
    "b = a.replace(\":\",\"#\")\n",
    "print(b)"
   ]
  },
  {
   "cell_type": "markdown",
   "id": "fc910f90-478e-4d27-9d4d-468b0c199868",
   "metadata": {},
   "source": [
    "# 리스트 역순 정렬하기"
   ]
  },
  {
   "cell_type": "code",
   "execution_count": 95,
   "id": "4982d75f-873b-4de5-a6a4-1be99b0dd068",
   "metadata": {},
   "outputs": [
    {
     "name": "stdout",
     "output_type": "stream",
     "text": [
      "[1, 2, 3, 4, 5]\n",
      "[5, 4, 3, 2, 1]\n"
     ]
    }
   ],
   "source": [
    "a = [1,3,5,4,2]\n",
    "a.sort()\n",
    "print(a)\n",
    "a.reverse()\n",
    "print(a)"
   ]
  },
  {
   "cell_type": "markdown",
   "id": "9f8be5d8-e702-40a8-8715-8a4e01953309",
   "metadata": {},
   "source": [
    "# 리스트 문자열로 만들기"
   ]
  },
  {
   "cell_type": "code",
   "execution_count": 60,
   "id": "725ce78f-1e59-4717-938b-f9007c65bd23",
   "metadata": {},
   "outputs": [
    {
     "name": "stdout",
     "output_type": "stream",
     "text": [
      "Life is too short\n"
     ]
    }
   ],
   "source": [
    "a = ['Life','is','too','short']\n",
    "result = f'{a[0]} {a[1]} {a[2]} {a[3]}'\n",
    "print(result)"
   ]
  },
  {
   "cell_type": "markdown",
   "id": "13d80d94-a168-498e-8e8e-6557fe5ea6e4",
   "metadata": {},
   "source": [
    "# 튜플 더하기"
   ]
  },
  {
   "cell_type": "code",
   "execution_count": 104,
   "id": "e81f49c9-f4c3-4903-8dc1-60453107c55d",
   "metadata": {},
   "outputs": [
    {
     "name": "stdout",
     "output_type": "stream",
     "text": [
      "(1, 2, 3, 4)\n"
     ]
    }
   ],
   "source": [
    "a = (1,2,3)\n",
    "a = a + (4,)\n",
    "print(a)"
   ]
  },
  {
   "cell_type": "markdown",
   "id": "aae315ef-d7d5-4dd9-80d8-7bebc7707b14",
   "metadata": {},
   "source": [
    "# 딕셔너리의 키"
   ]
  },
  {
   "cell_type": "code",
   "execution_count": 118,
   "id": "8d381a58-56ec-4c6c-b0c7-b2ca986be1c9",
   "metadata": {},
   "outputs": [],
   "source": [
    "a = {'name':'python', 'a',:'python','a[[1]]':'python','a[250]':'python'}\n",
    "# 키 값을 구분할 때 사용하는 ','가 키 'a'의 뒤에 있기 때문에 오류"
   ]
  },
  {
   "attachments": {
    "dcd25e82-b9be-405e-80b8-e655e6eba9d5.png": {
     "image/png": "[encoded data removed]"
    }
   },
   "cell_type": "markdown",
   "id": "3b60e4bf-0cde-431b-8f17-a0b334ea6e72",
   "metadata": {},
   "source": [
    "![image.png](attachment:dcd25e82-b9be-405e-80b8-e655e6eba9d5.png)"
   ]
  },
  {
   "cell_type": "markdown",
   "id": "6f2b8bf4-c8f4-491e-98d2-a9fbe91c863d",
   "metadata": {},
   "source": [
    "# 딕셔너리 값 추출하기"
   ]
  },
  {
   "cell_type": "code",
   "execution_count": 117,
   "id": "c0d4fa81-4e0e-4a3d-bc9c-a1cd9b471199",
   "metadata": {},
   "outputs": [
    {
     "name": "stdout",
     "output_type": "stream",
     "text": [
      "{'A': 90, 'C': 70}\n",
      "80\n"
     ]
    }
   ],
   "source": [
    "a = {'A':90, 'B':80,'C':70}\n",
    "result = a.pop('B')\n",
    "print(a)\n",
    "print(result)"
   ]
  },
  {
   "cell_type": "markdown",
   "id": "db0ff285-89ab-4c85-9adc-75290e54911c",
   "metadata": {},
   "source": [
    "# 리스트에서 중복 제거하기"
   ]
  },
  {
   "cell_type": "code",
   "execution_count": 116,
   "id": "04e9bf17-3dd9-444a-b9c9-2c274b5378a6",
   "metadata": {},
   "outputs": [
    {
     "name": "stdout",
     "output_type": "stream",
     "text": [
      "[1, 2, 3, 4, 5]\n"
     ]
    }
   ],
   "source": [
    "a = [1,1,1,2,2,3,3,3,4,4,5]\n",
    "aSet = set(a)\n",
    "b = list(aSet)\n",
    "print(b)"
   ]
  },
  {
   "cell_type": "markdown",
   "id": "58b130f9-55e0-42da-8279-7a7ea9c4eaf3",
   "metadata": {},
   "source": [
    "# 파이썬 변수"
   ]
  },
  {
   "cell_type": "code",
   "execution_count": 77,
   "id": "7d3fba42-7712-4dad-8aa7-d832efe1f12c",
   "metadata": {},
   "outputs": [
    {
     "name": "stdout",
     "output_type": "stream",
     "text": [
      "[1, 4, 3]\n"
     ]
    }
   ],
   "source": [
    "a = b = [1,2,3]\n",
    "a[1] = 4\n",
    "print(b)\n",
    "# 값이 바뀌는 이유는 a,b가 모두 동일한 리스트를 가리키고 있기 때문이다."
   ]
  }
 ],
 "metadata": {
  "kernelspec": {
   "display_name": "Python 3 (ipykernel)",
   "language": "python",
   "name": "python3"
  },
  "language_info": {
   "codemirror_mode": {
    "name": "ipython",
    "version": 3
   },
   "file_extension": ".py",
   "mimetype": "text/x-python",
   "name": "python",
   "nbconvert_exporter": "python",
   "pygments_lexer": "ipython3",
   "version": "3.13.1"
  }
 },
 "nbformat": 4,
 "nbformat_minor": 5
}
