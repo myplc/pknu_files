{
 "cells": [
  {
   "cell_type": "code",
   "execution_count": 1,
   "id": "d9144681-756f-4b2d-b3fa-e038f5d55b0e",
   "metadata": {
    "tags": []
   },
   "outputs": [
    {
     "name": "stdout",
     "output_type": "stream",
     "text": [
      "[11, 22, 33]\n",
      "[11, 22, 33, 44]\n",
      "33\n",
      "44\n"
     ]
    }
   ],
   "source": [
    "#배열 요소를 오름차순으로 나열 max, min, sort 안쓰고\n",
    "# 1 - 1) \n",
    "lst = [33, 11, 22]\n",
    "lst_new = []\n",
    "\n",
    "lst_new.append(lst[1])\n",
    "lst_new.append(lst[2])\n",
    "lst_new.append(lst[0])\n",
    "\n",
    "print(lst_new)\n",
    "\n",
    "# 1 - 2)\n",
    "lst1 = [33, 11, 22, 44]\n",
    "lst_new1 = []\n",
    "\n",
    "lst_new1.append(lst1[1])\n",
    "lst_new1.append(lst1[2])\n",
    "lst_new1.append(lst1[0])\n",
    "lst_new1.append(lst1[3])\n",
    "print(lst_new1)\n",
    "\n",
    "# 2 - 1)\n",
    "num1 = lst[0]\n",
    "num2 = lst[1]\n",
    "num3 = lst[2]\n",
    "\n",
    "value = num1\n",
    "\n",
    "if num2 > value :\n",
    "    value = num2\n",
    "\n",
    "if num3 > value :\n",
    "    value = num3\n",
    "    \n",
    "print(value)\n",
    "\n",
    "# 2 - 2)\n",
    "\n",
    "n1 = lst1[0]\n",
    "n2 = lst1[1]\n",
    "n3 = lst1[2]\n",
    "n4 = lst1[3]\n",
    "\n",
    "value1 = n1\n",
    "\n",
    "if n2 > value1 :\n",
    "    value1 = n2\n",
    "\n",
    "if n3 > value1 :\n",
    "    value1 = n3\n",
    "\n",
    "if n4 > value1 :\n",
    "    value1 = n4\n",
    "    \n",
    "print(value1)"
   ]
  },
  {
   "cell_type": "code",
   "execution_count": 2,
   "id": "29f1a636-1273-42bf-a4c2-c0df169d401d",
   "metadata": {
    "tags": []
   },
   "outputs": [
    {
     "name": "stdin",
     "output_type": "stream",
     "text": [
      "상품의 가격과 투입할 돈을 적어주세요:  1330 5000\n"
     ]
    },
    {
     "name": "stdout",
     "output_type": "stream",
     "text": [
      "거스름돈 내역:\n",
      "1000원 X 3장\n",
      "500원 X 1개\n",
      "100원 X 1개\n",
      "50원 X 1개\n",
      "10원 X 2개\n",
      "================\n",
      "총 거스름돈: 3670원\n"
     ]
    }
   ],
   "source": [
    "# 3) 잔돈 계산 프로그램\n",
    "price, money = list(map(int, input('상품의 가격과 투입할 돈을 적어주세요: ').split()))\n",
    "\n",
    "def priceMymoney(price, money):\n",
    "    pm_all = money - price \n",
    "    pm = money - price \n",
    "    \n",
    "    if pm < 0 :\n",
    "        return '돈이 부족합니다'\n",
    "    \n",
    "    p_1000 = pm //1000\n",
    "    pm %= 1000\n",
    "    \n",
    "    p_500 = pm//500\n",
    "    pm %= 500\n",
    "    \n",
    "    p_100 = pm//100\n",
    "    pm %= 100\n",
    "    \n",
    "    p_50 = (pm)//50\n",
    "    pm %= 50\n",
    "    \n",
    "    p_10 = (pm)//10\n",
    "    pm %= 10\n",
    "    \n",
    "    return (\n",
    "        f'거스름돈 내역:\\n'\n",
    "        f'1000원 X {p_1000}장\\n'\n",
    "        f'500원 X {p_500}개\\n'\n",
    "        f'100원 X {p_100}개\\n'\n",
    "        f'50원 X {p_50}개\\n'\n",
    "        f'10원 X {p_10}개\\n'\n",
    "        f'================\\n'\n",
    "        f'총 거스름돈: {pm_all}원'\n",
    "    )\n",
    "\n",
    "print(priceMymoney(price, money))"
   ]
  },
  {
   "cell_type": "code",
   "execution_count": 7,
   "id": "8cfffe9b-78e9-48d8-86f3-fb82618689c1",
   "metadata": {
    "tags": []
   },
   "outputs": [
    {
     "name": "stdin",
     "output_type": "stream",
     "text": [
      "몇 번 게임을 진행하시겠습니까?  3\n"
     ]
    },
    {
     "name": "stdout",
     "output_type": "stream",
     "text": [
      "\n",
      "[1번째 게임]\n"
     ]
    },
    {
     "name": "stdin",
     "output_type": "stream",
     "text": [
      "가위, 바위, 보 셋 중 하나를 선택하세요:  가위\n"
     ]
    },
    {
     "name": "stdout",
     "output_type": "stream",
     "text": [
      "사용자: 가위, 컴퓨터: 바위, 결과: 패배입니다\n",
      "\n",
      "[2번째 게임]\n"
     ]
    },
    {
     "name": "stdin",
     "output_type": "stream",
     "text": [
      "가위, 바위, 보 셋 중 하나를 선택하세요:  바위\n"
     ]
    },
    {
     "name": "stdout",
     "output_type": "stream",
     "text": [
      "사용자: 바위, 컴퓨터: 가위, 결과: 승리입니다\n",
      "\n",
      "[3번째 게임]\n"
     ]
    },
    {
     "name": "stdin",
     "output_type": "stream",
     "text": [
      "가위, 바위, 보 셋 중 하나를 선택하세요:  보\n"
     ]
    },
    {
     "name": "stdout",
     "output_type": "stream",
     "text": [
      "사용자: 보, 컴퓨터: 바위, 결과: 승리입니다\n",
      "\n",
      "총 게임 횟수: 3\n",
      "승리: 2, 패배: 1, 무승부: 0\n",
      "승률: 66.67%\n"
     ]
    }
   ],
   "source": [
    "#4 가위바위보 프로그램\n",
    "import random\n",
    "win, lose, draw = 0, 0, 0 \n",
    "rounds = int(input(\"몇 번 게임을 진행하시겠습니까? \"))\n",
    "\n",
    "for i in range(rounds):\n",
    "    print(f\"\\n[{i+1}번째 게임]\")\n",
    "    pro = input(\"가위, 바위, 보 셋 중 하나를 선택하세요: \")\n",
    "\n",
    "    ran = [\"가위\", \"바위\", \"보\"]\n",
    "    com = random.choice(ran)\n",
    "    \n",
    "    def game(pro, com) :\n",
    "        global win, lose, draw \n",
    "        \n",
    "        if pro == com:\n",
    "            draw += 1\n",
    "            return \"비겼습니다\"\n",
    "        elif (pro == '가위' and com == '보') or\\\n",
    "             (pro == '바위' and com == '가위') or\\\n",
    "             (pro == '보' and com == '바위'):\n",
    "            win += 1\n",
    "            return '승리입니다'\n",
    "        else:\n",
    "            lose += 1\n",
    "            return '패배입니다'\n",
    "\n",
    "    result = game(pro, com)\n",
    "    print(f'사용자: {pro}, 컴퓨터: {com}, 결과: {result}')\n",
    "\n",
    "total_games = win + lose + draw\n",
    "win_rate = (win / total_games) * 100\n",
    "\n",
    "print(f\"\\n총 게임 횟수: {total_games}\")\n",
    "print(f\"승리: {win}, 패배: {lose}, 무승부: {draw}\")\n",
    "print(f\"승률: {win_rate:.2f}%\")"
   ]
  },
  {
   "cell_type": "code",
   "execution_count": null,
   "id": "97ba44d8-c1af-439a-b849-9b4d63dceb85",
   "metadata": {},
   "outputs": [],
   "source": []
  }
 ],
 "metadata": {
  "kernelspec": {
   "display_name": "Python 3 (ipykernel)",
   "language": "python",
   "name": "python3"
  },
  "language_info": {
   "codemirror_mode": {
    "name": "ipython",
    "version": 3
   },
   "file_extension": ".py",
   "mimetype": "text/x-python",
   "name": "python",
   "nbconvert_exporter": "python",
   "pygments_lexer": "ipython3",
   "version": "3.11.5"
  }
 },
 "nbformat": 4,
 "nbformat_minor": 5
}
