{
 "cells": [
  {
   "cell_type": "code",
   "execution_count": 1,
   "id": "f37b534a-5234-4aff-bc45-e5284f8905f9",
   "metadata": {},
   "outputs": [
    {
     "name": "stdout",
     "output_type": "stream",
     "text": [
      "제품 가격: 1330원\n"
     ]
    },
    {
     "name": "stdin",
     "output_type": "stream",
     "text": [
      "금액을 투입해 주세요.: 500000\n"
     ]
    },
    {
     "name": "stdout",
     "output_type": "stream",
     "text": [
      "거스름돈: 498670원\n",
      "\n",
      "50000원 X 9개\n",
      "10000원 X 4개\n",
      "5000원 X 1개\n",
      "1000원 X 3개\n",
      "500원 X 1개\n",
      "100원 X 1개\n",
      "50원 X 1개\n",
      "10원 X 2개\n"
     ]
    }
   ],
   "source": [
    "m_scale = [50000, 10000, 5000, 1000, 500, 100, 50, 10]\n",
    "\n",
    "print(\"제품 가격: 1330원\")\n",
    "product = 1330\n",
    "\n",
    "money = int(input(\"금액을 투입해 주세요.:\"))\n",
    "\n",
    "le = money - product\n",
    "\n",
    "print(f'거스름돈: {le}원\\n')\n",
    "\n",
    "for x in m_scale:\n",
    "    if le // x != 0:\n",
    "        print(f'{x}원 X {le // x}개')\n",
    "        le = le % x"
   ]
  },
  {
   "cell_type": "code",
   "execution_count": 3,
   "id": "290aeb8f-46f6-48c0-a3bb-ba55dfd56728",
   "metadata": {},
   "outputs": [
    {
     "name": "stdout",
     "output_type": "stream",
     "text": [
      "[11, 22, 33, 44]\n"
     ]
    }
   ],
   "source": [
    "# 오름차순\n",
    "\n",
    "li = [33, 11, 22, 44] \n",
    "sw = 0\n",
    "\n",
    "for x in range(3):    \n",
    "    if li[x] > li[x+1]:\n",
    "        sw = li[x]\n",
    "        li[x] = li[x+1]\n",
    "        li[x+1] = sw\n",
    "\n",
    "print(li)"
   ]
  },
  {
   "cell_type": "code",
   "execution_count": 5,
   "id": "dff36554-477a-46ab-abbe-a87b51bfc005",
   "metadata": {},
   "outputs": [
    {
     "name": "stdout",
     "output_type": "stream",
     "text": [
      "44\n"
     ]
    }
   ],
   "source": [
    "# 가장 큰 수\n",
    "\n",
    "li = [33, 11, 22, 44] \n",
    "sw = 0\n",
    "\n",
    "for x in range(4):    \n",
    "    if sw < li[x]:\n",
    "        sw = li[x]\n",
    "\n",
    "print(sw)"
   ]
  },
  {
   "cell_type": "code",
   "execution_count": 1,
   "id": "9a50afde-72d2-4aac-97e9-3e45b2df6264",
   "metadata": {},
   "outputs": [
    {
     "name": "stdout",
     "output_type": "stream",
     "text": [
      "44\n"
     ]
    }
   ],
   "source": [
    "# max() //\n",
    "def bs(li=[33,11,22,44]):\n",
    "    sw = 0\n",
    "    for x in range(len(li)):    \n",
    "        if sw < li[x]:\n",
    "            sw = li[x]    \n",
    "    return sw\n",
    "print(bs())"
   ]
  },
  {
   "cell_type": "code",
   "execution_count": 2,
   "id": "020166e5-e0d5-47ec-bf3d-5e97e787d39a",
   "metadata": {},
   "outputs": [
    {
     "name": "stdout",
     "output_type": "stream",
     "text": [
      "33\n"
     ]
    }
   ],
   "source": [
    "print(bs([7,6,5,4,11,22,33]))"
   ]
  },
  {
   "cell_type": "code",
   "execution_count": null,
   "id": "37b93a63-ca21-4fdb-8e72-baa170d0636f",
   "metadata": {},
   "outputs": [],
   "source": []
  }
 ],
 "metadata": {
  "kernelspec": {
   "display_name": "Python 3 (ipykernel)",
   "language": "python",
   "name": "python3"
  },
  "language_info": {
   "codemirror_mode": {
    "name": "ipython",
    "version": 3
   },
   "file_extension": ".py",
   "mimetype": "text/x-python",
   "name": "python",
   "nbconvert_exporter": "python",
   "pygments_lexer": "ipython3",
   "version": "3.13.1"
  }
 },
 "nbformat": 4,
 "nbformat_minor": 5
}
