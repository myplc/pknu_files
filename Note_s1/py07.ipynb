{
 "cells": [
  {
   "cell_type": "markdown",
   "id": "a9ed889b-22f7-44d8-808c-e76efc7dc70a",
   "metadata": {},
   "source": [
    "# 내장함수"
   ]
  },
  {
   "cell_type": "code",
   "execution_count": 3,
   "id": "393f5cc5-8f4a-4eff-bd1e-1b64e1f41eec",
   "metadata": {},
   "outputs": [
    {
     "name": "stdout",
     "output_type": "stream",
     "text": [
      "3\n",
      "1.2\n"
     ]
    }
   ],
   "source": [
    "# abs *\n",
    "print(abs(-3))\n",
    "print(abs(-1.2))"
   ]
  },
  {
   "cell_type": "code",
   "execution_count": 7,
   "id": "f13c0992-1d76-4f27-a66b-824094d2144c",
   "metadata": {},
   "outputs": [
    {
     "name": "stdout",
     "output_type": "stream",
     "text": [
      "True\n",
      "False\n",
      "True\n"
     ]
    }
   ],
   "source": [
    "# all *\n",
    "print(all([1,2,3]))\n",
    "print(all([11,22,0,44,55]))\n",
    "print(all([])) # 특이사항"
   ]
  },
  {
   "cell_type": "code",
   "execution_count": 12,
   "id": "977714a1-1989-4a5f-a874-03217edd80e4",
   "metadata": {},
   "outputs": [
    {
     "name": "stdout",
     "output_type": "stream",
     "text": [
      "True\n",
      "False\n",
      "False\n"
     ]
    }
   ],
   "source": [
    "# any *\n",
    "print(any([1,2,3,0]))\n",
    "print(any([0,\"\",[],False]))\n",
    "print(any([]))"
   ]
  },
  {
   "cell_type": "code",
   "execution_count": 57,
   "id": "82886340-892b-4403-8d46-54ab23a7403a",
   "metadata": {},
   "outputs": [
    {
     "name": "stdout",
     "output_type": "stream",
     "text": [
      "A\n",
      "가\n",
      "65\n",
      "44032\n",
      "\u001e",
      "\n"
     ]
    }
   ],
   "source": [
    "# 아스키코드(ASCII) - 정의: 7비트(128개 문자)로 이루어진 문자 인코딩 표준.\n",
    "# 유니코드 - 정의: 전 세계 모든 문자를 표현할 수 있는 표준 문자 인코딩. UTF -8(인코딩방식)\n",
    "print(chr(65))\n",
    "print(chr(44032))\n",
    "print(ord('A'))\n",
    "print(ord('가'))\n",
    "print(chr(int(hex(30)[2:],16)))"
   ]
  },
  {
   "cell_type": "code",
   "execution_count": null,
   "id": "2878fcc3-92c8-4c18-8f64-d63f8ba6881f",
   "metadata": {},
   "outputs": [],
   "source": [
    "positive_words = [\"좋아\", \"행복\", \"멋져\", \"최고\", \"사랑해\"]\n",
    "negative_words = [\"싫어\", \"화나\", \"짜증\", \"별로\", \"나빠\"]\n",
    "text = input(\"당신의 기분을 한 문장으로 표현해주세요: \")\n",
    "\n",
    "# 간단1\n",
    "# for v in positive_words:\n",
    "#     if v in text:\n",
    "#         print(\"기분이 좋아보이네요.\")\n",
    "# for n in negative_words:\n",
    "#     if n in text:\n",
    "#         print(\"기분이 나빠보이네요.\")\n",
    "\n",
    "# 해설2\n",
    "# if any(word in text for word in positive_words):\n",
    "#     print(\"기분이 좋아보이네요\")\n",
    "# elif any(word in text for word in negative_words):\n",
    "#     print(\"기분이 나빠보이네요\")\n",
    "# else:\n",
    "#     print(\"보통이시네요.\")\n",
    "\n",
    "# 해설3\n",
    "# pos = [v for v in positive_words if v in text]\n",
    "# print(pos,len(pos))\n",
    "# neg = [n for n in negative_words if n in text]\n",
    "# print(neg,len(neg))\n",
    "# if len(pos)> len(neg):\n",
    "# # abs(len(pos) - len(neg))>0 값의 차이, 크기, 변화폭\n",
    "#      print(\"기분이 좋아보이네요\")\n",
    "# elif len(pos)< len(neg):\n",
    "#      print(\"기분이 나빠보이네요\")\n",
    "# else:\n",
    "#     print(\"보통이시네요.\")\n",
    "\n",
    "# 해설4\n",
    "# pnum = 0\n",
    "# text = text.split(\" \")\n",
    "# for v in positive_words:\n",
    "#     for s in text:\n",
    "#         if v == s:\n",
    "#             pnum += 1\n",
    "#             print(pnum)\n",
    "# for x in negative_words:\n",
    "#     for y in text:\n",
    "#         if x == y:\n",
    "#             pnum -= 1\n",
    "#             print(pnum)\n",
    "# print(pnum)"
   ]
  },
  {
   "cell_type": "code",
   "execution_count": 12,
   "id": "cfe9c0f7-21e7-4e4b-92e4-b672baf2515d",
   "metadata": {},
   "outputs": [],
   "source": [
    "# !pip install konlpy"
   ]
  },
  {
   "cell_type": "code",
   "execution_count": 11,
   "id": "56bf12ed-da19-41fb-bc27-1e55120ebe77",
   "metadata": {},
   "outputs": [
    {
     "name": "stdin",
     "output_type": "stream",
     "text": [
      "당신의 기분을 한 문장으로 표현해주세요:  좋아서 멋지고 그래서 사랑해\n"
     ]
    },
    {
     "name": "stdout",
     "output_type": "stream",
     "text": [
      "['좋다', '멋지다', '그래서', '사랑', '하다']\n"
     ]
    }
   ],
   "source": [
    "from konlpy.tag import Okt\n",
    "\n",
    "#한글 형태소 분석기\n",
    "okt = Okt()\n",
    "\n",
    "positive_words = [\"좋다\", \"행복\", \"멋지다\", \"최고\", \"사랑\"]\n",
    "negative_words = [\"싫다\", \"화나다\", \"짜증\", \"별로\", \"나쁘다\"]\n",
    "text = input(\"당신의 기분을 한 문장으로 표현해주세요: \")\n",
    "\n",
    "words = okt.morphs(text, stem=True)\n",
    "print(words)"
   ]
  },
  {
   "cell_type": "code",
   "execution_count": 4,
   "id": "b5ff35a1-556f-447b-95ff-6c3ffb85c8cd",
   "metadata": {},
   "outputs": [
    {
     "name": "stderr",
     "output_type": "stream",
     "text": [
      "java version \"1.8.0_441\"\n",
      "Java(TM) SE Runtime Environment (build 1.8.0_441-b07)\n",
      "Java HotSpot(TM) Client VM (build 25.441-b07, mixed mode, sharing)\n"
     ]
    }
   ],
   "source": [
    "!java -version"
   ]
  },
  {
   "cell_type": "code",
   "execution_count": 10,
   "id": "b031749d-7ff3-44e7-89d9-22840a16a5e5",
   "metadata": {},
   "outputs": [],
   "source": [
    "# dir 객체가 가지고 있는 함수(메서드)를 보여줌 *\n",
    "# dir([1,2,3])\n",
    "# dir({'1':'a'})"
   ]
  },
  {
   "cell_type": "code",
   "execution_count": 9,
   "id": "739627f7-52b5-4249-a0eb-7b49a6687b81",
   "metadata": {},
   "outputs": [
    {
     "name": "stdout",
     "output_type": "stream",
     "text": [
      "(4, 1)\n",
      "4 1\n"
     ]
    }
   ],
   "source": [
    "# divmod 몫과 나머지\n",
    "print(divmod(13,3))\n",
    "print(13//3,13%3)"
   ]
  },
  {
   "cell_type": "code",
   "execution_count": 16,
   "id": "7b44d3df-587c-4202-8d56-4e6c63d00a11",
   "metadata": {},
   "outputs": [
    {
     "name": "stdout",
     "output_type": "stream",
     "text": [
      "1 순위 과일은: apple\n",
      "2 순위 과일은: banana\n",
      "3 순위 과일은: kiwi\n",
      "4 순위 과일은: cherry\n",
      "5 순위 과일은: mango\n"
     ]
    }
   ],
   "source": [
    "# enumerate ** 열거하다.\n",
    "fruit = ['apple','banana','kiwi','cherry','mango']\n",
    "for i, f in enumerate(fruit, start= 1):\n",
    "    print(i,'순위 과일은:',f)"
   ]
  },
  {
   "cell_type": "code",
   "execution_count": 20,
   "id": "d9ac055e-1efc-445a-8395-3449cd017082",
   "metadata": {},
   "outputs": [
    {
     "data": {
      "text/plain": [
       "'A1'"
      ]
     },
     "execution_count": 20,
     "metadata": {},
     "output_type": "execute_result"
    }
   ],
   "source": [
    "# 문자열로 구성된 실행값을 리턴, 보안문제\n",
    "eval('1+2')\n",
    "eval(\"'A'+'1'\")"
   ]
  },
  {
   "cell_type": "code",
   "execution_count": 22,
   "id": "39493ef5-4ff2-407f-88cf-d6a3e79d2a5a",
   "metadata": {},
   "outputs": [
    {
     "name": "stdout",
     "output_type": "stream",
     "text": [
      "[1, 2, 6]\n"
     ]
    }
   ],
   "source": [
    "# filter (함수, 이터러블) **\n",
    "def positive(l):\n",
    "    result = []\n",
    "    for i in l:\n",
    "        if i> 0:\n",
    "            result.append(i)\n",
    "    return result\n",
    "print(positive([1,-3,2,0,-5,6]))\n"
   ]
  },
  {
   "cell_type": "code",
   "execution_count": 24,
   "id": "e6ce70d8-c434-4988-9a11-b447e480a7e4",
   "metadata": {
    "scrolled": true
   },
   "outputs": [
    {
     "name": "stdout",
     "output_type": "stream",
     "text": [
      "[1, 2, 6]\n"
     ]
    }
   ],
   "source": [
    "def pos(l):\n",
    "    return [i for i in l if i > 0]\n",
    "print(pos([1,-3,2,0,-5,6]))"
   ]
  },
  {
   "cell_type": "code",
   "execution_count": 33,
   "id": "90cdcad1-325d-47d9-9979-c174a948e57e",
   "metadata": {},
   "outputs": [
    {
     "name": "stdout",
     "output_type": "stream",
     "text": [
      "[1, 2, 6]\n"
     ]
    }
   ],
   "source": [
    "l = [1,-3,2,0,-5,6]\n",
    "def positive(x):\n",
    "    return x > 0\n",
    "print(list(filter(positive,l)))"
   ]
  },
  {
   "cell_type": "code",
   "execution_count": 35,
   "id": "96d738e8-a065-4850-a0ab-c6b6269f5c3f",
   "metadata": {},
   "outputs": [
    {
     "name": "stdout",
     "output_type": "stream",
     "text": [
      "[1, 2, 6]\n"
     ]
    }
   ],
   "source": [
    "print(list(filter(lambda x : x > 0 ,l)))"
   ]
  },
  {
   "cell_type": "code",
   "execution_count": 36,
   "id": "7f9255a0-32e7-4b26-95c9-439047402c48",
   "metadata": {},
   "outputs": [
    {
     "name": "stdout",
     "output_type": "stream",
     "text": [
      "1\n",
      "2\n",
      "6\n"
     ]
    }
   ],
   "source": [
    "for n in filter(lambda x : x > 0 ,l): # range(4)\n",
    "    print(n)"
   ]
  },
  {
   "cell_type": "code",
   "execution_count": 43,
   "id": "63d95692-4fcc-4f53-b012-f3bc7683fbdb",
   "metadata": {},
   "outputs": [
    {
     "name": "stdout",
     "output_type": "stream",
     "text": [
      "0xea\n",
      "0o11\n",
      "0b1001\n"
     ]
    }
   ],
   "source": [
    "# hex , oct , bin\n",
    "print(hex(234))\n",
    "print(oct(9))\n",
    "print(bin(9))"
   ]
  },
  {
   "cell_type": "code",
   "execution_count": 63,
   "id": "af13a54b-6e69-4d38-b6f5-8881ce0e1488",
   "metadata": {},
   "outputs": [
    {
     "name": "stdout",
     "output_type": "stream",
     "text": [
      "140718888190952\n",
      "140718888190952\n",
      "140718888190952\n",
      "True\n"
     ]
    }
   ],
   "source": [
    "# id 고유 주솟값을 리턴\n",
    "a = 3\n",
    "print(id(3))\n",
    "print(id(a))\n",
    "b = a\n",
    "print(id(b))\n",
    "print(all([id(3)==id(a),id(a)==id(b),id(b)==id(3)]))"
   ]
  },
  {
   "cell_type": "code",
   "execution_count": 64,
   "id": "7ebb935b-7c03-40b1-9f6b-48c0d57a41d2",
   "metadata": {},
   "outputs": [],
   "source": [
    "# input *\n",
    "# input은 스트링으로 값을 전달받는다. 그러므로 계산시 int나 float으로 변경할 것"
   ]
  },
  {
   "cell_type": "code",
   "execution_count": 65,
   "id": "0291b8e8-d15e-4a0f-8854-d27eefeba2ea",
   "metadata": {},
   "outputs": [],
   "source": [
    "# int *\n",
    "# 문자를 숫자로 변환, 정수로 변환, 소수점이 사라짐"
   ]
  },
  {
   "cell_type": "code",
   "execution_count": 75,
   "id": "57c59e49-a8fb-4e3c-bde3-b93c1dc0adc5",
   "metadata": {},
   "outputs": [
    {
     "name": "stdout",
     "output_type": "stream",
     "text": [
      "사람입니다.\n",
      "사람입니다.\n",
      "True\n",
      "True\n",
      "False\n"
     ]
    }
   ],
   "source": [
    "# isinstance(object, class) 인스턴스 확인용\n",
    "class Person:\n",
    "    def p(self):\n",
    "        return(\"사람입니다.\")\n",
    "class Animal:pass    \n",
    "a = Person()\n",
    "b = Person()\n",
    "c = Animal()\n",
    "print(a.p())\n",
    "print(b.p())\n",
    "print(isinstance(a,Person))\n",
    "print(isinstance(b,Person))\n",
    "print(isinstance(c,Person))"
   ]
  },
  {
   "cell_type": "code",
   "execution_count": 79,
   "id": "1809a337-7f60-47c8-9d17-a0617ec297e5",
   "metadata": {},
   "outputs": [
    {
     "name": "stdout",
     "output_type": "stream",
     "text": [
      "6\n",
      "4\n",
      "2\n"
     ]
    }
   ],
   "source": [
    "# len **\n",
    "print(len(\"python\"))\n",
    "print(len([1,2,3,4]))\n",
    "print(len((1,'a')))"
   ]
  },
  {
   "cell_type": "code",
   "execution_count": 80,
   "id": "b8354770-b5ef-4b0a-a79c-196956a16cc0",
   "metadata": {},
   "outputs": [],
   "source": [
    "# list **"
   ]
  },
  {
   "cell_type": "code",
   "execution_count": 81,
   "id": "77fd15f9-5608-4274-bda9-d9201eda5420",
   "metadata": {},
   "outputs": [
    {
     "name": "stdout",
     "output_type": "stream",
     "text": [
      "[2, 4, 6, 8]\n"
     ]
    }
   ],
   "source": [
    "# map **\n",
    "def two_items(nl):\n",
    "    result = []\n",
    "    for n in nl:\n",
    "        result.append(n*2)\n",
    "    return result\n",
    "print(two_items([1,2,3,4]))"
   ]
  },
  {
   "cell_type": "code",
   "execution_count": 82,
   "id": "b15b5223-2290-47d9-a9e2-506a2283bb09",
   "metadata": {},
   "outputs": [
    {
     "data": {
      "text/plain": [
       "[2, 4, 6, 8]"
      ]
     },
     "execution_count": 82,
     "metadata": {},
     "output_type": "execute_result"
    }
   ],
   "source": [
    "def two_times(x):\n",
    "    return x * 2\n",
    "\n",
    "list(map(two_times,[1,2,3,4]))"
   ]
  },
  {
   "cell_type": "code",
   "execution_count": 83,
   "id": "4aa3a14b-9f8b-4646-a8e6-39d4969a7bda",
   "metadata": {},
   "outputs": [
    {
     "data": {
      "text/plain": [
       "[2, 4, 6, 8]"
      ]
     },
     "execution_count": 83,
     "metadata": {},
     "output_type": "execute_result"
    }
   ],
   "source": [
    "list(map(lambda x: x*2,[1,2,3,4]))"
   ]
  },
  {
   "cell_type": "code",
   "execution_count": 90,
   "id": "fc40052d-605f-4e06-8609-805f7cb98243",
   "metadata": {},
   "outputs": [
    {
     "name": "stdout",
     "output_type": "stream",
     "text": [
      "[1, 3, 5]\n",
      "[2, 4, 6]\n",
      "[11, 12, 13, 14, 15, 16]\n",
      "[1, 4, 9, 16, 25, 36]\n",
      "[11, 24, 39, 56, 75, 96]\n"
     ]
    }
   ],
   "source": [
    "# 테스트\n",
    "li = [1,2,3,4,5,6]\n",
    "def odd(x):\n",
    "    return x%2 != 0\n",
    "def even(x):\n",
    "    return x%2 == 0\n",
    "def add(x):\n",
    "    return x + 10\n",
    "def mul(x):\n",
    "    return x * x\n",
    "def addmul(x):\n",
    "    return (x + 10) * x\n",
    "print(list(filter(odd,li)))\n",
    "print(list(filter(even,li)))\n",
    "print(list(map(add,li)))\n",
    "print(list(map(mul,li)))\n",
    "print(list(map(addmul,li)))"
   ]
  },
  {
   "cell_type": "code",
   "execution_count": 93,
   "id": "ba567329-d37a-419d-9528-f82343875b71",
   "metadata": {},
   "outputs": [
    {
     "data": {
      "text/plain": [
       "'y'"
      ]
     },
     "execution_count": 93,
     "metadata": {},
     "output_type": "execute_result"
    }
   ],
   "source": [
    "# max *\n",
    "max([1,21,3,14,56,16,7])\n",
    "max('python') # 문자일 경우 유니코드 값으로 판단"
   ]
  },
  {
   "cell_type": "code",
   "execution_count": 94,
   "id": "ff60b828-5c77-4623-ba13-d6c6323c9437",
   "metadata": {},
   "outputs": [
    {
     "data": {
      "text/plain": [
       "'h'"
      ]
     },
     "execution_count": 94,
     "metadata": {},
     "output_type": "execute_result"
    }
   ],
   "source": [
    "# min *\n",
    "min([1,21,3,14,56,16,7])\n",
    "min('python') # 문자일 경우 유니코드 값으로 판단"
   ]
  },
  {
   "cell_type": "code",
   "execution_count": 8,
   "id": "18a67dc5-2567-43f3-bd84-3e4c5329a725",
   "metadata": {},
   "outputs": [],
   "source": [
    "# open *\n",
    "f = open('README.md','r',encoding=\"utf-8\")\n",
    "f.read()\n",
    "f.close()"
   ]
  },
  {
   "cell_type": "code",
   "execution_count": 100,
   "id": "8dc07307-bbad-4d68-95c8-eea2dc667911",
   "metadata": {},
   "outputs": [
    {
     "name": "stdout",
     "output_type": "stream",
     "text": [
      "32\n"
     ]
    }
   ],
   "source": [
    "# pow * x를 y제곱한 결과값을 리턴\n",
    "print(pow(2,5))"
   ]
  },
  {
   "cell_type": "code",
   "execution_count": 103,
   "id": "37ab75e0-a151-4648-b889-b51f778ca044",
   "metadata": {},
   "outputs": [
    {
     "name": "stdout",
     "output_type": "stream",
     "text": [
      "[0, 1, 2, 3, 4]\n",
      "[5, 6, 7, 8, 9]\n",
      "[5, 7, 9]\n",
      "[15, 14, 13, 12, 11, 10, 9, 8, 7, 6, 5, 4, 3, 2, 1]\n"
     ]
    }
   ],
   "source": [
    "# range **\n",
    "# 인수가 하나\n",
    "print(list(range(5)))\n",
    "# 인수가 2개\n",
    "print(list(range(5,10)))\n",
    "# 인수가 3개\n",
    "print(list(range(5,10,2)))\n",
    "# 역순(스탭조절)\n",
    "print(list(range(15,0,-1)))"
   ]
  },
  {
   "cell_type": "code",
   "execution_count": 111,
   "id": "1b697ed1-1622-440a-a9d9-e15c947f3f35",
   "metadata": {},
   "outputs": [
    {
     "name": "stdout",
     "output_type": "stream",
     "text": [
      "3\n",
      "4\n",
      "3\n",
      "3.5\n",
      "3.495\n"
     ]
    }
   ],
   "source": [
    "# round * 반올림\n",
    "print(round(3.45))\n",
    "print(round(3.546))\n",
    "print(round(3.495))\n",
    "print(round(3.495,2))\n",
    "print(round(3.495,3))"
   ]
  },
  {
   "cell_type": "code",
   "execution_count": 113,
   "id": "8d86c629-b974-42fc-a636-99d76fc221c4",
   "metadata": {},
   "outputs": [
    {
     "name": "stdout",
     "output_type": "stream",
     "text": [
      "[3, 2, 1, 4, 6, 7]\n",
      "[1, 2, 3, 4, 6, 7]\n",
      "[7, 6, 4, 3, 2, 1]\n"
     ]
    }
   ],
   "source": [
    "# sorted(iterable) * 정렬된 리스트로 리턴\n",
    "s0 = [3,2,1,4,6,7]\n",
    "s1 = sorted(s0)\n",
    "s2 = sorted(s0,reverse = True)\n",
    "print(s0)\n",
    "print(s1)\n",
    "print(s2)"
   ]
  },
  {
   "cell_type": "code",
   "execution_count": 115,
   "id": "934b2ae1-f414-4e43-8e81-b280e7a2a174",
   "metadata": {},
   "outputs": [
    {
     "name": "stdout",
     "output_type": "stream",
     "text": [
      "23 <class 'int'>\n",
      "23 <class 'str'>\n"
     ]
    }
   ],
   "source": [
    "# str * 문자열로 변환\n",
    "num = 23\n",
    "st = str(num)\n",
    "print(num,type(num))\n",
    "print(st,type(st))"
   ]
  },
  {
   "cell_type": "code",
   "execution_count": 116,
   "id": "3c6e8924-b591-48f5-8de5-bd4b4a8edc84",
   "metadata": {},
   "outputs": [
    {
     "name": "stdout",
     "output_type": "stream",
     "text": [
      "15\n"
     ]
    }
   ],
   "source": [
    "# sum * 이터러블데이터의 합을 리턴\n",
    "print(sum([1,2,3,4,5]))"
   ]
  },
  {
   "cell_type": "code",
   "execution_count": 121,
   "id": "e5da25aa-855c-4f09-95e9-614536bb51d7",
   "metadata": {},
   "outputs": [
    {
     "name": "stdout",
     "output_type": "stream",
     "text": [
      "('a', 'b', 'c')\n",
      "(1, 2, 3, 4, 5, 6)\n",
      "(1, 2, 3, 4, 5, 6)\n"
     ]
    }
   ],
   "source": [
    "# tuple * 튜플로 바꾸기\n",
    "print(tuple(\"abc\"))\n",
    "print(tuple([1,2,3,4,5,6]))\n",
    "print(tuple((1,2,3,4,5,6)))"
   ]
  },
  {
   "cell_type": "code",
   "execution_count": 125,
   "id": "c4ee8edb-939d-45ec-89dc-02cf69424e1a",
   "metadata": {},
   "outputs": [
    {
     "name": "stdout",
     "output_type": "stream",
     "text": [
      "<class 'str'>\n",
      "<class 'int'>\n",
      "<class '_io.TextIOWrapper'>\n"
     ]
    }
   ],
   "source": [
    "# type ** 자료형 확인\n",
    "print(type(\"abc\"))\n",
    "print(type(1234))\n",
    "print(type(open(\"README.md\",\"r\"))) # 파일 자료형"
   ]
  },
  {
   "cell_type": "code",
   "execution_count": 129,
   "id": "9ea2ff4e-24cc-449b-b464-9904666ab931",
   "metadata": {},
   "outputs": [
    {
     "name": "stdout",
     "output_type": "stream",
     "text": [
      "11 : apple => dog\n",
      "22 : banana => cat\n",
      "33 : kiwi => elephant\n",
      "44 : cherry => lion\n",
      "55 : mango => Rabbit\n"
     ]
    }
   ],
   "source": [
    "# zip ** 묶어서 리턴\n",
    "fruit = ['apple','banana','kiwi','cherry','mango']\n",
    "animal = ['dog','cat','elephant','lion','Rabbit']\n",
    "num = [11,22,33,44,55]\n",
    "for f, a, n in zip(fruit, animal, num):\n",
    "    print(n,':',f,'=>',a)"
   ]
  },
  {
   "cell_type": "markdown",
   "id": "18a1fc52-2b01-40cc-a6db-306508cb3963",
   "metadata": {},
   "source": [
    "# 표준 라이브러리"
   ]
  },
  {
   "cell_type": "markdown",
   "id": "327d0c0f-8d77-4732-a1df-9e850907982f",
   "metadata": {},
   "source": [
    "## datetime.date"
   ]
  },
  {
   "cell_type": "code",
   "execution_count": 146,
   "id": "50ffb158-288e-405f-8503-bba0c950cbf3",
   "metadata": {},
   "outputs": [
    {
     "name": "stdout",
     "output_type": "stream",
     "text": [
      "전체 수업기간: 172 일\n",
      "남은 수업기간: 157 일\n",
      "지난 수업기간: 15 일\n"
     ]
    }
   ],
   "source": [
    "import datetime\n",
    "day1 = datetime.date(2025,2,3)\n",
    "day2 = datetime.date(2025,7,25)\n",
    "diff = day2 - day1\n",
    "print(\"전체 수업기간:\" , diff.days,\"일\")\n",
    "diff2 = day2 - datetime.datetime.now().date()\n",
    "print(\"남은 수업기간:\" , diff2.days,\"일\")\n",
    "print(\"지난 수업기간:\" , diff.days - diff2.days,\"일\")"
   ]
  },
  {
   "cell_type": "code",
   "execution_count": 155,
   "id": "34ee623c-18de-4d8d-b8fc-7d19a599187a",
   "metadata": {},
   "outputs": [
    {
     "data": {
      "text/plain": [
       "datetime.date(2025, 2, 18)"
      ]
     },
     "execution_count": 155,
     "metadata": {},
     "output_type": "execute_result"
    }
   ],
   "source": [
    "datetime.datetime.now().date() # date() 를 넣으면 date 타입으로 변환"
   ]
  },
  {
   "cell_type": "code",
   "execution_count": 154,
   "id": "6fe1ed99-603d-496d-9180-0c7a889be0ee",
   "metadata": {},
   "outputs": [
    {
     "name": "stdout",
     "output_type": "stream",
     "text": [
      "그날은 수요일 입니다.\n"
     ]
    }
   ],
   "source": [
    "# 요일 확인\n",
    "days = ['월','화','수','목','금','토','일']\n",
    "day = datetime.date(2020,12,2)\n",
    "# day.isoweekday() # 1 부터 시작\n",
    "print(\"그날은 \" + days[day.weekday()] + \"요일 입니다.\")"
   ]
  },
  {
   "cell_type": "markdown",
   "id": "d8dd78b1-1a8c-41b2-b910-9f6e8218b679",
   "metadata": {},
   "source": [
    "## time"
   ]
  },
  {
   "cell_type": "code",
   "execution_count": 157,
   "id": "01bffea9-b05b-43ae-9813-c7518c696c2a",
   "metadata": {},
   "outputs": [
    {
     "data": {
      "text/plain": [
       "1739855604.5892234"
      ]
     },
     "execution_count": 157,
     "metadata": {},
     "output_type": "execute_result"
    }
   ],
   "source": [
    "# time.time\n",
    "import time\n",
    "time.time()"
   ]
  },
  {
   "cell_type": "code",
   "execution_count": 161,
   "id": "8df43a97-68f9-468c-9497-020e024208a1",
   "metadata": {},
   "outputs": [
    {
     "name": "stdout",
     "output_type": "stream",
     "text": [
      "time.struct_time(tm_year=2025, tm_mon=2, tm_mday=18, tm_hour=14, tm_min=14, tm_sec=50, tm_wday=1, tm_yday=49, tm_isdst=0)\n"
     ]
    }
   ],
   "source": [
    "# time.localtime\n",
    "tt = time.localtime(time.time())\n",
    "print(tt)"
   ]
  },
  {
   "cell_type": "code",
   "execution_count": 162,
   "id": "fd999b99-697e-49b9-8eef-f1e2c3ad54dc",
   "metadata": {},
   "outputs": [
    {
     "data": {
      "text/plain": [
       "'Tue Feb 18 14:15:35 2025'"
      ]
     },
     "execution_count": 162,
     "metadata": {},
     "output_type": "execute_result"
    }
   ],
   "source": [
    "# time.asctime\n",
    "time.asctime(time.localtime(time.time()))"
   ]
  },
  {
   "cell_type": "code",
   "execution_count": 163,
   "id": "54ae1474-ed25-440b-95e5-d880e6be59b3",
   "metadata": {},
   "outputs": [
    {
     "data": {
      "text/plain": [
       "'Tue Feb 18 14:15:58 2025'"
      ]
     },
     "execution_count": 163,
     "metadata": {},
     "output_type": "execute_result"
    }
   ],
   "source": [
    "# time.ctime()\n",
    "time.ctime()"
   ]
  },
  {
   "cell_type": "code",
   "execution_count": 166,
   "id": "f904c6e3-7cea-4e99-bcb6-39734005d5bf",
   "metadata": {},
   "outputs": [
    {
     "data": {
      "text/plain": [
       "'14:18:31'"
      ]
     },
     "execution_count": 166,
     "metadata": {},
     "output_type": "execute_result"
    }
   ],
   "source": [
    "# time.strftime\n",
    "time.strftime('%x',time.localtime(time.time()))\n",
    "time.strftime('%X',time.localtime(time.time()))\n",
    "time.strftime('%c',time.localtime(time.time()))"
   ]
  },
  {
   "cell_type": "code",
   "execution_count": 171,
   "id": "c0ccb3bd-9b69-456b-9e0b-218a9c7ad311",
   "metadata": {},
   "outputs": [
    {
     "name": "stdout",
     "output_type": "stream",
     "text": [
      "10"
     ]
    }
   ],
   "source": [
    "# time.sleep\n",
    "import time as t\n",
    "for i in range(1,11):\n",
    "    print(i,end='\\r')\n",
    "    t.sleep(1)"
   ]
  },
  {
   "cell_type": "markdown",
   "id": "0cee872e-e9b5-4592-8d92-f5650afdec46",
   "metadata": {},
   "source": [
    "## math.gcd , math.lcm"
   ]
  },
  {
   "cell_type": "code",
   "execution_count": 172,
   "id": "f6fd6ad6-aa60-467e-97a2-2637c9eb7adb",
   "metadata": {},
   "outputs": [],
   "source": [
    "import math"
   ]
  },
  {
   "cell_type": "code",
   "execution_count": 177,
   "id": "6551a096-a9d1-4f33-b960-ff0da529f722",
   "metadata": {},
   "outputs": [
    {
     "name": "stdout",
     "output_type": "stream",
     "text": [
      "3.141592653589793\n",
      "20\n",
      "75\n"
     ]
    }
   ],
   "source": [
    "print(math.pi) # pi 값\n",
    "print(math.gcd(60,100,80)) # 최대공약수 값\n",
    "print(math.lcm(15,25)) # 최소공배수 값"
   ]
  },
  {
   "cell_type": "markdown",
   "id": "76e864a6-501a-4f3e-a0a0-215bcd87e8a5",
   "metadata": {},
   "source": [
    "## random"
   ]
  },
  {
   "cell_type": "code",
   "execution_count": 197,
   "id": "452db8d0-b2f1-4b27-8869-61842e482292",
   "metadata": {},
   "outputs": [
    {
     "name": "stdout",
     "output_type": "stream",
     "text": [
      "0.8073108469676763\n",
      "8\n"
     ]
    }
   ],
   "source": [
    "import random as r\n",
    "# r.random()\n",
    "print(r.random()) # 0.0에서 1.0 사이의 난수 리턴\n",
    "# r.randint()\n",
    "print(r.randint(1,10)) # a에서 b 까지의 난수 리턴"
   ]
  },
  {
   "cell_type": "code",
   "execution_count": 196,
   "id": "3d96d59c-f8ad-4ab0-9b31-2b9990a1e66e",
   "metadata": {},
   "outputs": [
    {
     "name": "stdout",
     "output_type": "stream",
     "text": [
      "22 44 33 55 33 55 "
     ]
    }
   ],
   "source": [
    "# r.choice()\n",
    "data = [11,22,33,44,55,66]\n",
    "for n in range(6):\n",
    "    print(r.choice(data), end=' ')"
   ]
  },
  {
   "cell_type": "code",
   "execution_count": 195,
   "id": "a4d1619d-7e88-41b7-871f-315b6a566a07",
   "metadata": {},
   "outputs": [
    {
     "name": "stdout",
     "output_type": "stream",
     "text": [
      "[18, 14, 19, 1, 9, 10, 5, 15, 16, 17, 6, 4, 13, 11, 8, 20, 12, 2, 7, 3] 20\n",
      "{1, 2, 3, 4, 5, 6, 7, 8, 9, 10, 11, 12, 13, 14, 15, 16, 17, 18, 19, 20} 20\n"
     ]
    }
   ],
   "source": [
    "# r.sample()\n",
    "li = list(range(1,21))\n",
    "arr = []\n",
    "for n in r.sample(li,len(li)):\n",
    "    arr.append(n)       \n",
    "print(arr,len(arr))\n",
    "sarr = set(arr)\n",
    "print(sarr,len(sarr))"
   ]
  },
  {
   "cell_type": "markdown",
   "id": "85c580ed-33c9-438f-8756-0b60ffe8b36e",
   "metadata": {},
   "source": [
    "## tools"
   ]
  },
  {
   "cell_type": "code",
   "execution_count": 4,
   "id": "5b333966-b047-45b5-9c7c-48d7890e4810",
   "metadata": {},
   "outputs": [
    {
     "name": "stdout",
     "output_type": "stream",
     "text": [
      "[('한민서', '사탕'), ('황지민', '초컬릿'), ('이영철', '젤리'), ('이광수', '새우깡'), ('김승민', '새우깡')]\n"
     ]
    }
   ],
   "source": [
    "# itertools.zip_longest\n",
    "import itertools\n",
    "students = ['한민서', '황지민', '이영철', '이광수', '김승민']\n",
    "snacks = ['사탕', '초컬릿', '젤리']\n",
    "\n",
    "# result = zip(students, snacks) # zip 은 작은 배열에 길이를 맞춤\n",
    "result = itertools.zip_longest(students, snacks, fillvalue=\"새우깡\")\n",
    "print(list(result))"
   ]
  },
  {
   "cell_type": "code",
   "execution_count": 6,
   "id": "1166cdf8-2def-461a-a47a-9328f90176d7",
   "metadata": {},
   "outputs": [
    {
     "name": "stdout",
     "output_type": "stream",
     "text": [
      "[('1', '2'), ('1', '3'), ('2', '1'), ('2', '3'), ('3', '1'), ('3', '2')]\n"
     ]
    }
   ],
   "source": [
    "# itertools.permutation\n",
    "import itertools\n",
    "print(list(itertools.permutations(['1', '2', '3'], 2)))"
   ]
  },
  {
   "cell_type": "code",
   "execution_count": 10,
   "id": "89139c3c-bbb1-47fd-910f-9999cacc8efa",
   "metadata": {},
   "outputs": [
    {
     "name": "stdout",
     "output_type": "stream",
     "text": [
      "[('1', '2'), ('1', '3'), ('2', '3')]\n"
     ]
    }
   ],
   "source": [
    "# itertools.combination\n",
    "import itertools\n",
    "print(list(itertools.combinations(['1', '2', '3'], 2)))"
   ]
  },
  {
   "cell_type": "code",
   "execution_count": 21,
   "id": "869b79fd-155b-4f61-a580-bccf1438b8f4",
   "metadata": {},
   "outputs": [
    {
     "name": "stdout",
     "output_type": "stream",
     "text": [
      "<class 'itertools.combinations'>\n"
     ]
    },
    {
     "data": {
      "text/plain": [
       "8145060"
      ]
     },
     "execution_count": 21,
     "metadata": {},
     "output_type": "execute_result"
    }
   ],
   "source": [
    "# itertools.combination 응용\n",
    "import itertools\n",
    "lotto = itertools.combinations(range(1,46),6)\n",
    "print(type(lotto))\n",
    "ls = list(lotto)\n",
    "# for num in ls[:48]:\n",
    "#     print(num)\n",
    "len(ls)"
   ]
  },
  {
   "cell_type": "code",
   "execution_count": 22,
   "id": "c7f9da45-b988-4ada-a645-a8fcf5eeabbf",
   "metadata": {},
   "outputs": [
    {
     "name": "stdout",
     "output_type": "stream",
     "text": [
      "55\n"
     ]
    }
   ],
   "source": [
    "# functools.reduce\n",
    "import functools\n",
    "data = [1,2,3,4,5,6,7,8,9,10]\n",
    "result = functools.reduce(lambda x, y:x + y, data)\n",
    "print(result)"
   ]
  },
  {
   "cell_type": "code",
   "execution_count": 24,
   "id": "a5db5d74-108d-4a37-975c-2c370e01e9a7",
   "metadata": {},
   "outputs": [
    {
     "name": "stdout",
     "output_type": "stream",
     "text": [
      "8\n"
     ]
    }
   ],
   "source": [
    "import functools\n",
    "num_list = [3,2,8,1,6,7]\n",
    "max_num = functools.reduce(lambda x, y: x if x > y else y, num_list)\n",
    "print(max_num)"
   ]
  },
  {
   "cell_type": "code",
   "execution_count": 4,
   "id": "402e3f19-d8d7-4075-a0b0-f8fe7ad6d310",
   "metadata": {},
   "outputs": [
    {
     "name": "stdout",
     "output_type": "stream",
     "text": [
      "[('dave', 32, 'B'), ('jane', 22, 'A'), ('sally', 17, 'B')]\n"
     ]
    }
   ],
   "source": [
    "# operator.itemgetter *\n",
    "from operator import itemgetter\n",
    "name = [\"jane\",\"dave\",\"sally\"]\n",
    "age = [22,32,17]\n",
    "grade = ['A','B','B']\n",
    "students = zip(name,age,grade)\n",
    "# print( list(students))\n",
    "# students = [\n",
    "#     (\"jane\", 22, 'A'),\n",
    "#     (\"jane\", 32, 'B'),\n",
    "#     (\"sally\", 17, 'B'),\n",
    "# ]\n",
    "result = sorted(students, key=itemgetter(1), reverse=True)\n",
    "print(result)"
   ]
  },
  {
   "cell_type": "code",
   "execution_count": 2,
   "id": "e36592f6-b4c6-4848-a7fc-0e4c7b960048",
   "metadata": {},
   "outputs": [
    {
     "name": "stdout",
     "output_type": "stream",
     "text": [
      "[{'name': 'jane', 'age': 22, 'grade': 'A'}, {'name': 'dave', 'age': 32, 'grade': 'B'}, {'name': 'sally', 'age': 17, 'grade': 'B'}]\n",
      "[{'name': 'sally', 'age': 17, 'grade': 'B'}, {'name': 'jane', 'age': 22, 'grade': 'A'}, {'name': 'dave', 'age': 32, 'grade': 'B'}]\n"
     ]
    }
   ],
   "source": [
    "# itemgetter2.py\n",
    "from operator import itemgetter\n",
    "name = [\"jane\",\"dave\",\"sally\"]\n",
    "age = [22,32,17]\n",
    "grade = ['A','B','B']\n",
    "# students = []\n",
    "# for n, a, g in zip(name,age,grade):\n",
    "#     students.append({'name':n,'age':a,'grade':g})\n",
    "\n",
    "students = [{'name':n,'age':a,'grade':g} for n, a, g in zip(name,age,grade) ]\n",
    "print(students)\n",
    "\n",
    "# students = [\n",
    "#     {\"name\": \"jane\", \"age\": 22, \"grade\": 'A'},\n",
    "#     {\"name\": \"dave\", \"age\": 32, \"grade\": 'B'},\n",
    "#     {\"name\": \"sally\", \"age\": 17, \"grade\": 'B'},\n",
    "# ]\n",
    "result = sorted(students, key=itemgetter('age'))\n",
    "print(result)"
   ]
  },
  {
   "cell_type": "code",
   "execution_count": 8,
   "id": "051b35e9-c8fb-4c44-81ba-192e3538a4fb",
   "metadata": {},
   "outputs": [
    {
     "name": "stdout",
     "output_type": "stream",
     "text": [
      "('sally', 17, 'B')\n",
      "('jane', 22, 'A')\n",
      "('dave', 32, 'B')\n"
     ]
    }
   ],
   "source": [
    "# operator.attrgetter()\n",
    "from operator import attrgetter\n",
    "\n",
    "class Student:\n",
    "    def __init__(self, name, age, grade):\n",
    "        self.name = name\n",
    "        self.age = age\n",
    "        self.grade = grade\n",
    "    def pr(self):\n",
    "        return self.name , self.age, self.grade\n",
    "students = [\n",
    "    Student('jane', 22, 'A'),\n",
    "    Student('dave', 32, 'B'),\n",
    "    Student('sally', 17, 'B'),\n",
    "]\n",
    "result = sorted(students, key=attrgetter('age'))\n",
    "for r in result:\n",
    "    print(r.pr())"
   ]
  },
  {
   "cell_type": "code",
   "execution_count": 14,
   "id": "141fc0c7-8008-48ec-866a-6c85ab371942",
   "metadata": {},
   "outputs": [
    {
     "name": "stdout",
     "output_type": "stream",
     "text": [
      "29143\n",
      "29148\n",
      "29153\n",
      "29158\n",
      "29163\n"
     ]
    }
   ],
   "source": [
    "# shutil\n",
    "import shutil , time as t\n",
    "for n in range(5):\n",
    "    tstamp = str(round(t.time()))[-5:]\n",
    "    print(tstamp)\n",
    "    shutil.copy(\"README.md\",f\"./backup/README_{tstamp}.md.bak\")\n",
    "    t.sleep(5)"
   ]
  },
  {
   "cell_type": "code",
   "execution_count": 27,
   "id": "ab7033e0-f600-4e7b-9232-47099c5f4a5d",
   "metadata": {},
   "outputs": [
    {
     "name": "stdout",
     "output_type": "stream",
     "text": [
      "./backup\\README_29143.md.bak\n",
      "./backup\\README_29148.md.bak\n",
      "./backup\\README_29153.md.bak\n",
      "./backup\\README_29158.md.bak\n",
      "./backup\\README_29163.md.bak\n"
     ]
    }
   ],
   "source": [
    "# glob\n",
    "import glob\n",
    "for file in glob.glob(\"./backup/*.bak\"):\n",
    "    print(file)"
   ]
  },
  {
   "cell_type": "code",
   "execution_count": 31,
   "id": "5abef938-f55c-416b-ad22-53f740d4ca14",
   "metadata": {},
   "outputs": [],
   "source": [
    "import pickle\n",
    "f = open(\"test.txt\", 'wb')\n",
    "data = {1: 'python', 2: 'you need'}\n",
    "pickle.dump(data, f)\n",
    "f.close()"
   ]
  },
  {
   "cell_type": "code",
   "execution_count": 34,
   "id": "67125ac7-d895-4a28-b4f5-c5c7e8b1d777",
   "metadata": {},
   "outputs": [
    {
     "name": "stdout",
     "output_type": "stream",
     "text": [
      "{1: 'python', 2: 'you need'}\n"
     ]
    }
   ],
   "source": [
    "import pickle\n",
    "f = open(\"test.txt\", 'rb')\n",
    "data = pickle.load(f)\n",
    "f.close()\n",
    "print(data)"
   ]
  },
  {
   "cell_type": "markdown",
   "id": "a9a3d8a5-95a3-4183-87a6-32295a9330fb",
   "metadata": {},
   "source": [
    "## os"
   ]
  },
  {
   "cell_type": "code",
   "execution_count": null,
   "id": "7404fb88-a090-4396-b759-7538cbc83833",
   "metadata": {},
   "outputs": [],
   "source": [
    "import os\n",
    "# 환경변수 중 PATH 값\n",
    "os.environ['PATH']\n",
    "# 디렉토리 변경\n",
    "os.chdir(\"C:\\\\WINDOWS\")"
   ]
  },
  {
   "cell_type": "code",
   "execution_count": 2,
   "id": "6dc93c7c-c36b-462d-be7e-808363c4c4d3",
   "metadata": {},
   "outputs": [
    {
     "data": {
      "text/plain": [
       "'D:\\\\kys\\\\code'"
      ]
     },
     "execution_count": 2,
     "metadata": {},
     "output_type": "execute_result"
    }
   ],
   "source": [
    "# 디렉토리 위치 받기\n",
    "import os\n",
    "os.getcwd()"
   ]
  },
  {
   "cell_type": "code",
   "execution_count": 63,
   "id": "f9d1bc0e-46ee-4384-94f5-dc87a16a0d83",
   "metadata": {},
   "outputs": [],
   "source": [
    "# 시스템 명령어 호출\n",
    "def what(what):\n",
    "    if not os.system(what): # 에러시 1을 반환\n",
    "        f = os.popen(f\"{what} -V\")\n",
    "        print(f.read())\n",
    "    else:\n",
    "        print('없는 명령어 입니다.')"
   ]
  },
  {
   "cell_type": "code",
   "execution_count": 64,
   "id": "16fa906a-f27a-4b57-9b4f-ec0f52bb2e33",
   "metadata": {},
   "outputs": [
    {
     "name": "stdout",
     "output_type": "stream",
     "text": [
      "Python 3.13.1\n",
      "\n"
     ]
    }
   ],
   "source": [
    "what(\"python\")"
   ]
  },
  {
   "cell_type": "code",
   "execution_count": 65,
   "id": "adce61f4-7534-4004-bc90-1066ab2db291",
   "metadata": {},
   "outputs": [],
   "source": [
    "# zipfile\n",
    "# import zipfile\n",
    "\n",
    "# # 파일 합치기\n",
    "# with zipfile.ZipFile('mytext.zip', 'w') as myzip:\n",
    "#     myzip.write('a.txt')\n",
    "#     myzip.write('b.txt')\n",
    "#     myzip.write('c.txt')\n",
    "\n",
    "# # 해제하기\n",
    "# with zipfile.ZipFile('mytext.zip') as myzip:\n",
    "#     myzip.extractall()\n"
   ]
  },
  {
   "cell_type": "code",
   "execution_count": 66,
   "id": "2c7de7e9-44af-443b-a5f8-27ee41e9c577",
   "metadata": {},
   "outputs": [],
   "source": [
    "# 특정 파일만 해제하기\n",
    "# with zipfile.ZipFile('mytext.zip') as myzip:\n",
    "#     myzip.extract('a.txt')\n"
   ]
  },
  {
   "cell_type": "markdown",
   "id": "c9e33208-5d19-4343-b3e2-bad9a16d6a3e",
   "metadata": {},
   "source": [
    "## Threading"
   ]
  },
  {
   "cell_type": "code",
   "execution_count": 69,
   "id": "7dfd5d1f-68af-4b3e-be81-07eec9f83bd0",
   "metadata": {},
   "outputs": [],
   "source": [
    "import time\n",
    "def long_tesk():\n",
    "    for i in range(5):\n",
    "        time.sleep(1)\n",
    "        print(f\"일하는 중...{i}\")"
   ]
  },
  {
   "cell_type": "code",
   "execution_count": null,
   "id": "6f1fb197-f446-4709-865b-c5e6d36767bb",
   "metadata": {},
   "outputs": [],
   "source": [
    "# 기본작업 5초 x 5회 = 25초\n",
    "start = time.time()\n",
    "print(\"=====Start=====\")\n",
    "for n in range(5):\n",
    "    long_tesk()\n",
    "print(\"=====End=====\")\n",
    "print(time.time() - start)"
   ]
  },
  {
   "cell_type": "code",
   "execution_count": null,
   "id": "238b6f2c-85b7-4873-9e37-93ddd3bc2e99",
   "metadata": {},
   "outputs": [],
   "source": [
    "# thread를 사용\n",
    "import threading\n",
    "start = time.time()\n",
    "print(\"=====Start=====\")\n",
    "threads = []\n",
    "for n in range(5):\n",
    "    t = threading.Thread(target=long_tesk)\n",
    "    threads.append(t)\n",
    "for t in threads:\n",
    "    t.start()\n",
    "for t in threads:\n",
    "    t.join()\n",
    "print(\"=====End=====\")\n",
    "print(time.time() - start)"
   ]
  },
  {
   "cell_type": "markdown",
   "id": "a7179087-4f31-4754-95a4-f49abc8bfbdd",
   "metadata": {},
   "source": [
    "## etc"
   ]
  },
  {
   "cell_type": "code",
   "execution_count": 80,
   "id": "482229a1-454c-4625-a40f-ada0096a8acd",
   "metadata": {},
   "outputs": [],
   "source": [
    "# tempfile\n",
    "import tempfile\n",
    "filename = tempfile.mkstemp()\n",
    "filename\n",
    "f.close()"
   ]
  },
  {
   "cell_type": "code",
   "execution_count": 84,
   "id": "f755e0a8-292c-42ad-bab8-7bcb47533bbf",
   "metadata": {},
   "outputs": [
    {
     "name": "stdout",
     "output_type": "stream",
     "text": [
      "오류가 발생했습니다.\n",
      "Traceback (most recent call last):\n",
      "  File \"C:\\Users\\Admin\\AppData\\Local\\Temp\\ipykernel_5812\\1589442835.py\", line 9, in main\n",
      "    b()\n",
      "    ~^^\n",
      "  File \"C:\\Users\\Admin\\AppData\\Local\\Temp\\ipykernel_5812\\1589442835.py\", line 6, in b\n",
      "    a()\n",
      "    ~^^\n",
      "  File \"C:\\Users\\Admin\\AppData\\Local\\Temp\\ipykernel_5812\\1589442835.py\", line 4, in a\n",
      "    return 1/0\n",
      "           ~^~\n",
      "ZeroDivisionError: division by zero\n",
      "\n"
     ]
    }
   ],
   "source": [
    "# traceback\n",
    "import traceback\n",
    "def a():\n",
    "    return 1/0\n",
    "def b():\n",
    "    a()\n",
    "def main():\n",
    "    try:\n",
    "        b()\n",
    "    except:\n",
    "        print(\"오류가 발생했습니다.\")\n",
    "        print(traceback.format_exc())\n",
    "main()"
   ]
  },
  {
   "cell_type": "markdown",
   "id": "7a48d45e-294f-4434-8ad4-7e871fe439f0",
   "metadata": {},
   "source": [
    "## JSON"
   ]
  },
  {
   "cell_type": "code",
   "execution_count": null,
   "id": "7129216b-5bb7-4e6b-977c-0cf5d27a029b",
   "metadata": {},
   "outputs": [],
   "source": [
    "{\n",
    "    \"name\":\"홍길동\",\n",
    "    \"birth\":\"0525\",\n",
    "    \"age\":30\n",
    "}"
   ]
  },
  {
   "cell_type": "code",
   "execution_count": 12,
   "id": "ed990f0d-d791-4fd3-a39d-0d645b3b04d4",
   "metadata": {},
   "outputs": [
    {
     "name": "stdout",
     "output_type": "stream",
     "text": [
      "{\"userId\": 1, \"id\": 1, \"title\": \"delectus aut autem\", \"completed\": false, \"test\": \"\\ud55c\\uae00\\ub3c4 \\ub418\\ub098\\ubcf4\\uc790\"}\n"
     ]
    }
   ],
   "source": [
    "import requests\n",
    "import json\n",
    "url = 'https://jsonplaceholder.typicode.com/todos' # JSON 파일을 읽어오기\n",
    "data = requests.get(url).json()[0] # JSON -> DICT\n",
    "data['test'] =\"한글도 되나보자\" # DICT 에 자료 삽입\n",
    "with open('todo.json','w') as f: \n",
    "    json.dump(data,f) # DICT -> JSON\n",
    "data_s = json.dumps(data) # 한글 깨짐\n",
    "# data_s = json.dumps(data,ensure_ascii=False) # 한글 깨짐 방지\n",
    "print(data_s)"
   ]
  },
  {
   "cell_type": "code",
   "execution_count": 10,
   "id": "051cfa4d-edaa-4f14-9889-335081e1b3dd",
   "metadata": {},
   "outputs": [
    {
     "name": "stdout",
     "output_type": "stream",
     "text": [
      "{'userId': 1, 'id': 1, 'title': 'delectus aut autem', 'completed': False, 'test': '한글도 되나보자'}\n",
      "{'userId': 1, 'id': 1, 'title': 'delectus aut autem', 'completed': False, 'test': '한글도 되나보자'}\n"
     ]
    }
   ],
   "source": [
    "with open('todo.json') as f:\n",
    "    data = json.load(f) # JSON -> DICT\n",
    "print(json.loads(data_s))\n",
    "print(data)"
   ]
  },
  {
   "cell_type": "code",
   "execution_count": 23,
   "id": "dc60a1b8-b556-4e09-8d0f-4a91ba288798",
   "metadata": {},
   "outputs": [],
   "source": [
    "# urllib\n",
    "import urllib.request\n",
    "def get_wikidocs(page):\n",
    "    resource = 'https://wikidocs.net/{}'.format(page)\n",
    "    with urllib.request.urlopen(resource) as s:\n",
    "        with open('wikidocs_%s.html' % page, 'wb') as f:\n",
    "            f.write(s.read())\n",
    "get_wikidocs(1)"
   ]
  },
  {
   "cell_type": "code",
   "execution_count": 21,
   "id": "79656678-6f47-4ec8-88e4-90304fb081e6",
   "metadata": {},
   "outputs": [
    {
     "data": {
      "text/plain": [
       "True"
      ]
     },
     "execution_count": 21,
     "metadata": {},
     "output_type": "execute_result"
    }
   ],
   "source": [
    "# webbrowser\n",
    "import webbrowser\n",
    "webbrowser.open_new('wikidocs_3.html')"
   ]
  },
  {
   "cell_type": "code",
   "execution_count": 26,
   "id": "c97b29a4-cd5c-412e-b0f6-b27edf6fbaaa",
   "metadata": {},
   "outputs": [],
   "source": [
    "# 테스트 urllib\n",
    "import urllib.request\n",
    "import time as t\n",
    "def get_posts(page):\n",
    "    resource = f'https://jsonplaceholder.typicode.com/posts/{page}'\n",
    "    with urllib.request.urlopen(resource) as s:\n",
    "        with open(f'./data/posts_{page}.html', 'wb') as f:\n",
    "            f.write(s.read())\n",
    "for n in range(1,11):\n",
    "    get_posts(n)\n",
    "    t.sleep(0.1)"
   ]
  },
  {
   "cell_type": "code",
   "execution_count": null,
   "id": "e4605041-26e1-416e-9dab-f0da7ccfcf7f",
   "metadata": {},
   "outputs": [],
   "source": []
  },
  {
   "cell_type": "code",
   "execution_count": null,
   "id": "a89c8358-b020-4502-839d-b9bb96d9e42c",
   "metadata": {},
   "outputs": [],
   "source": []
  }
 ],
 "metadata": {
  "kernelspec": {
   "display_name": "Python 3 (ipykernel)",
   "language": "python",
   "name": "python3"
  },
  "language_info": {
   "codemirror_mode": {
    "name": "ipython",
    "version": 3
   },
   "file_extension": ".py",
   "mimetype": "text/x-python",
   "name": "python",
   "nbconvert_exporter": "python",
   "pygments_lexer": "ipython3",
   "version": "3.13.1"
  }
 },
 "nbformat": 4,
 "nbformat_minor": 5
}
