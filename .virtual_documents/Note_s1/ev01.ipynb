


# 파이썬 if
# 0,1,2,3,4, X
# 가라, 마라, 와라! , ok!!  X
fruit = ["apple","orange","banana"]
fruit1 = ["orange","banana"]
fruit2 = ["apple","orange","banana"]
fruit3 = ["apple","orange","banana"]
fruit4 = ["apple","orange","banana"]
fruit5 = ["apple","orange","banana"]
print(fruit[0])
print(fruit[1])
print(fruit[2])


if 5>0 : # 벽에 있는 스위치
   print("조건이 맞아요.")


if True : # 벽에 있는 스위치
   print("조건이 맞아요.")


if not False : # 벽에 있는 스위치
   print("조건이 맞아요.")


if fruit[0] == "apple" :
    print("과일이 맞아요.")


if "apple" in fruit:
    print("과일이 맞아요.")


if "kiwi" not in fruit:
    print("과일이 맞아요.")


if "apple" in fruit:
    print("사과가 있어요.")
if "apple" not in fruit:
    print("사과가 없어요.")


if "apple" in fruit:
    print("사과가 있어요.")
else:
    print("사과가 없어요.")


if "apple" in fruit1:
    print("fruit1 에 사과가 있어요.")
if "apple" in fruit2:
    print("fruit2 에 사과가 있어요.")
if "apple" in fruit3:
    print("fruit3 에 사과가 있어요.")
if "apple" in fruit4:
    print("fruit4 에 사과가 있어요.")
if "apple" in fruit5:
    print("fruit5 에 사과가 있어요.")


if "apple" in fruit1:
    print("fruit1 에 사과가 있어요.")
elif "apple" in fruit2:
    print("fruit2 에 사과가 있어요.")
elif "apple" in fruit3:
    print("fruit3 에 사과가 있어요.")
elif "apple" in fruit4:
    print("fruit4 에 사과가 있어요.")
elif "apple" in fruit5:
    print("fruit5 에 사과가 있어요.")


num = 10
if (num > 5) and (num < 20) and (num > 0):
    print("조건에 맞아요.")


num = 10
if (num < 5) or (num < 9) or (num >= 10):
    print("조건에 맞아요.")


# any()
value = [0,0,0,0,'안녕?',0]
what = any(value)
print(what)


# all()
value2 = [0,0,0,0,0]
what2 = all(value2)

if not all(value2):
    print("false가 한개 이상있습니다")






inp = input("숫자를 입력하세요.") # 숫자가 아닌 문자로 받아져요.
result = int(inp) * 10
print(result, type(result))


# 1문제 입력받은 수를 분석하여 홀수면 홀수 , 짝수면 짝수라고 출력하기





print(list(range(10)))


num = 0
while num < 17:
   print(num ,"번째 작업중")
   num = num +  1
# while 로
    #"""
    #1번째 작업중
    #2번째 작업중
    #...
    #17번째 작업중"""


# for 1)로
#"""
#3번째 작업중
#4번째 작업중
#...
#12번째 작업중"""
for n in range(3,13):
    print(n,"번째 작업중")
# for로
# 1부터 100중에 3의 배수만 출력하라

# for n in range(1,34):
#     print(n * 3)

# for n in range(1,101):
#     if n % 3 == 0:
#         print(n)

# for n in range(3,101,3):
#     print(n)        


# 구구단 4단을 출력하세요.
----------
4 x 1 = 4
4 x 2 = 8
...
4 x 9 = 36


# 구구단을 1단부터 12단까지 출력하라.





import random
dir(random)


import random as r
r.seed(302)
num1=0
num2=0
num3=0
num4=0
num5=0
num6=0

print("주사위 던지기 시작")
for n in range(10):
    dice = r.randint(1,6)
    if dice == 5:
        num5 = num5 + 1
    if dice == 4:
        num4 = num4 + 1
    print(dice)
print("숫자 4가 나온 갯수:", num4)
print("숫자 5가 나온 갯수:", num5)


import random as r
r.seed(302)
num = [0] * 6
# [0, 0, 0, 0, 0, 0]

turn = 10000

print("주사위 던지기 시작")
for n in range(turn):
    dice = r.randint(1,6) # 1,2,3,4,5,6
    num[dice - 1] += 1

for x in range(6):
    print(f"{x+1}번 횟수: {num[x]} / {((num[x]/turn)*100):.2f} %")


# 리스트에 0을 6개 채우는 방법 2가지만 고안해 내라. [0,0,0,0,0,0]
#1 
# print([0] * 2)
l1 = [0] * 6
print("1:",l1)

#2 
l2 = []
for n in range(6):
    l2.append(0)
print("2:",l2)

#3
l3 = [0 for x in range(6)]
print("3:",l3)

#4
l4 = list( map(lambda x: 0, range(6)))
print("4:",l4)

#5
import numpy as np
l5 = list( map( int, np.zeros(6, dtype=int) )  )
print("5:", l5)






