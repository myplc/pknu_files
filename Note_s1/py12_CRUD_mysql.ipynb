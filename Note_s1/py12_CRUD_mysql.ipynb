{
 "cells": [
  {
   "cell_type": "code",
   "execution_count": 8,
   "id": "a75826a4-8817-4368-b0c4-054ceccb0452",
   "metadata": {
    "scrolled": true
   },
   "outputs": [],
   "source": [
    "# !ping MONGODB"
   ]
  },
  {
   "cell_type": "code",
   "execution_count": 10,
   "id": "7510b046-0555-48be-93e6-58e30cba3f03",
   "metadata": {},
   "outputs": [],
   "source": [
    "# !pip install mysql-connector-python"
   ]
  },
  {
   "cell_type": "code",
   "execution_count": 1,
   "id": "7db11932-4d10-4345-9f81-1cbb5fa939d5",
   "metadata": {},
   "outputs": [
    {
     "name": "stdout",
     "output_type": "stream",
     "text": [
      "MySQL 서버에 성공적으로 연결되었습니다.\n",
      "연결중...\n"
     ]
    }
   ],
   "source": [
    "import mysql.connector\n",
    "\n",
    "try:\n",
    "    conn = mysql.connector.connect(\n",
    "        host=\"mysql\", # MySQL 서버 주소\n",
    "        user=\"root\",\n",
    "        password=\"1234\"\n",
    "    )\n",
    "    if conn.is_connected():\n",
    "        print(\"MySQL 서버에 성공적으로 연결되었습니다.\")\n",
    "except mysql.connector.Error as err:\n",
    "    print(\"MySQL 연결 실패:\", err)\n",
    "finally:\n",
    "    if conn.is_connected():\n",
    "        print(\"연결중...\")"
   ]
  },
  {
   "cell_type": "code",
   "execution_count": 2,
   "id": "1fc92bf8-2048-4c80-9a9c-69185f2501bc",
   "metadata": {},
   "outputs": [],
   "source": [
    "# 커서 생성\n",
    "cursor = conn.cursor()\n",
    "que = \"CREATE DATABASE IF NOT EXISTS judb\"\n",
    "cursor.execute(que)\n",
    "conn.close()"
   ]
  },
  {
   "cell_type": "code",
   "execution_count": 5,
   "id": "601824ca-6ce0-42b9-8ff1-3be94953bf89",
   "metadata": {},
   "outputs": [
    {
     "name": "stdout",
     "output_type": "stream",
     "text": [
      "MySQL 연결 성공!\n"
     ]
    }
   ],
   "source": [
    "# MySQL 에 연결\n",
    "conn = mysql.connector.connect(\n",
    "        host=\"mysql\", # MySQL 서버 주소\n",
    "        user=\"root\",\n",
    "        password=\"1234\",\n",
    "        database=\"judb\" # 사용할 데이터 베이스\n",
    "    )\n",
    "cursor = conn.cursor()\n",
    "print(\"MySQL 연결 성공!\")"
   ]
  },
  {
   "cell_type": "code",
   "execution_count": 6,
   "id": "16bf94e5-12ce-439c-97ee-5ad2d22a60b6",
   "metadata": {
    "scrolled": true
   },
   "outputs": [
    {
     "name": "stdout",
     "output_type": "stream",
     "text": [
      "테이블 생성완료\n"
     ]
    }
   ],
   "source": [
    "# 테이블 생성\n",
    "query = \"CREATE TABLE IF NOT EXISTS users(id INT AUTO_INCREMENT PRIMARY KEY ,name VARCHAR(50), age INT, city VARCHAR(50))\"\n",
    "cursor.execute(query)\n",
    "print(\"테이블 생성완료\")"
   ]
  },
  {
   "attachments": {
    "3a1f4f33-2522-48d6-9d74-fa67153f4695.png": {
     "image/png": "[encoded data removed]"
    }
   },
   "cell_type": "markdown",
   "id": "2d6bd029-1ce0-43ce-a07c-ab33e1e13ecf",
   "metadata": {},
   "source": [
    "![image.png](attachment:3a1f4f33-2522-48d6-9d74-fa67153f4695.png)"
   ]
  },
  {
   "cell_type": "code",
   "execution_count": 30,
   "id": "a6d90762-0408-4a0d-bed0-e6baa5a089f2",
   "metadata": {},
   "outputs": [
    {
     "name": "stdout",
     "output_type": "stream",
     "text": [
      "1개의 데이터 삽입 완료, ID: 5\n"
     ]
    }
   ],
   "source": [
    "# 단일 데이터 삽입\n",
    "sql = \"INSERT INTO users (name, age, city) VALUES (%s, %s, %s)\"\n",
    "values = (\"Alice\", 25, \"Seoul\")\n",
    "cursor.execute(sql, values)\n",
    "conn.commit()\n",
    "print(\"1개의 데이터 삽입 완료, ID:\", cursor.lastrowid)"
   ]
  },
  {
   "cell_type": "code",
   "execution_count": 34,
   "id": "7d25c9c6-af11-4f6c-9cd3-8a5bc9f9023e",
   "metadata": {},
   "outputs": [
    {
     "name": "stdout",
     "output_type": "stream",
     "text": [
      "(1, 'Alice', 19, 'Seoul')\n",
      "(2, 'superman', 33, 'Busan')\n",
      "(3, 'Cutegirl', 17, 'Incheon')\n",
      "(5, 'Alice', 25, 'Seoul')\n",
      "(6, 'superman', 33, 'Busan')\n",
      "(7, 'Cutegirl', 17, 'jeju')\n"
     ]
    }
   ],
   "source": [
    "# 모든 데이터 조회\n",
    "que = \"SELECT * FROM users\"\n",
    "cursor.execute(que)\n",
    "users = cursor.fetchall()\n",
    "# print(users)\n",
    "for user in users:\n",
    "    print(user)"
   ]
  },
  {
   "cell_type": "code",
   "execution_count": 31,
   "id": "eba79f18-5361-44a8-8e16-d1107fc7dfc0",
   "metadata": {},
   "outputs": [
    {
     "name": "stdout",
     "output_type": "stream",
     "text": [
      "여러개의 데이터 삽입 완료!\n"
     ]
    }
   ],
   "source": [
    "# 여러개의 데이터 삽입\n",
    "m_values=[(\"superman\",33,\"Busan\"),(\"Cutegirl\",17,\"jeju\"),(\"Coolboy\",22,\"Jeju\")]\n",
    "cursor.executemany(sql, m_values)\n",
    "conn.commit()\n",
    "print(\"여러개의 데이터 삽입 완료!\")"
   ]
  },
  {
   "cell_type": "code",
   "execution_count": 19,
   "id": "d17a0f2c-39aa-41af-9125-7159506e2fc5",
   "metadata": {},
   "outputs": [
    {
     "name": "stdout",
     "output_type": "stream",
     "text": [
      "(2, 'superman', 33, 'Busan')\n"
     ]
    }
   ],
   "source": [
    "# 특정 조건 데이터 조회( 24살 이상만 조회)\n",
    "que = \"SELECT * FROM users\"\n",
    "filters = \" WHERE age >= 24\"\n",
    "cursor.execute(que + filters)\n",
    "\n",
    "filtered = cursor.fetchall()\n",
    "for f in filtered:\n",
    "    print(f)"
   ]
  },
  {
   "cell_type": "code",
   "execution_count": 18,
   "id": "0a029de3-cd68-43d2-abda-8ec0b9bdc9c9",
   "metadata": {},
   "outputs": [
    {
     "name": "stdout",
     "output_type": "stream",
     "text": [
      "수정된 행 개수: 1\n"
     ]
    }
   ],
   "source": [
    "# 특정 사용자의 나이 수정\n",
    "sql = \"UPDATE users SET age = %s WHERE name = %s\"\n",
    "values = (19, \"Alice\")\n",
    "cursor.execute(sql, values)\n",
    "conn.commit()\n",
    "print(\"수정된 행 개수:\", cursor.rowcount)"
   ]
  },
  {
   "cell_type": "code",
   "execution_count": 35,
   "id": "edaf089b-6521-4264-ae85-92fbd76da2e1",
   "metadata": {},
   "outputs": [
    {
     "name": "stdout",
     "output_type": "stream",
     "text": [
      "(20, 'jeju')에 해당하는 목록을 삭제하였습니다.\n"
     ]
    }
   ],
   "source": [
    "# 특정 조건 사용자 삭제\n",
    "que = \"DELETE FROM users WHERE age > %s AND city = %s\"\n",
    "filters = (20 , \"jeju\")\n",
    "cursor.execute(que , filters)\n",
    "conn.commit()\n",
    "print(f\"{filters}에 해당하는 목록을 삭제하였습니다.\" )"
   ]
  },
  {
   "cell_type": "code",
   "execution_count": null,
   "id": "a892fd41-14fb-440e-9a15-5e42ce030ddf",
   "metadata": {},
   "outputs": [],
   "source": []
  }
 ],
 "metadata": {
  "kernelspec": {
   "display_name": "Python 3 (ipykernel)",
   "language": "python",
   "name": "python3"
  },
  "language_info": {
   "codemirror_mode": {
    "name": "ipython",
    "version": 3
   },
   "file_extension": ".py",
   "mimetype": "text/x-python",
   "name": "python",
   "nbconvert_exporter": "python",
   "pygments_lexer": "ipython3",
   "version": "3.13.1"
  }
 },
 "nbformat": 4,
 "nbformat_minor": 5
}
