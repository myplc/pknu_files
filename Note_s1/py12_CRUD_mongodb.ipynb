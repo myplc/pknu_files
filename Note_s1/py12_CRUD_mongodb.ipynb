{
 "cells": [
  {
   "cell_type": "code",
   "execution_count": 3,
   "id": "59f68963-ac9b-43f7-8ba1-8b2fb63ca420",
   "metadata": {},
   "outputs": [],
   "source": [
    "# !pip install pymongo"
   ]
  },
  {
   "cell_type": "code",
   "execution_count": 6,
   "id": "955cce87-9a0b-4cb1-849c-82918cba211a",
   "metadata": {},
   "outputs": [
    {
     "name": "stdout",
     "output_type": "stream",
     "text": [
      "{'ok': 1.0}\n",
      "MongoDB 서버에 성공적으로 연결되었습니다.\n"
     ]
    }
   ],
   "source": [
    "from pymongo import MongoClient\n",
    "client = MongoClient(\"mongodb://mongodb:27017\")\n",
    "\n",
    "try:\n",
    "    print(client.admin.command('ping'))\n",
    "    print(\"MongoDB 서버에 성공적으로 연결되었습니다.\")\n",
    "except Exception as e:\n",
    "    print(\"MongoDB 서버 연결 실패:\", e)"
   ]
  },
  {
   "cell_type": "code",
   "execution_count": 7,
   "id": "21929490-2a3c-49ad-be4b-4e5bc7ea34b5",
   "metadata": {},
   "outputs": [
    {
     "name": "stdout",
     "output_type": "stream",
     "text": [
      "사용할 데이터베이스 선택됨\n",
      "사용할 컬렉션 선택됨\n"
     ]
    }
   ],
   "source": [
    "# 사용할 데이터베이스 선택\n",
    "db = client[\"mdb\"]\n",
    "print(\"사용할 데이터베이스 선택됨\")\n",
    "\n",
    "# 사용할 컬랙션 선택\n",
    "collection = db[\"c1\"]\n",
    "print(\"사용할 컬렉션 선택됨\")"
   ]
  },
  {
   "cell_type": "code",
   "execution_count": 10,
   "id": "1cbea57e-17c2-4295-808a-09924e45a773",
   "metadata": {},
   "outputs": [
    {
     "name": "stdout",
     "output_type": "stream",
     "text": [
      "Inserted ID: InsertOneResult(ObjectId('67f5df0289cd04b68ab674b8'), acknowledged=True)\n"
     ]
    }
   ],
   "source": [
    "# 단일 문서 삽입\n",
    "user = {\"name\":\"Alice\",\"age\":25,\"city\":\"Seoul\"}\n",
    "insert_result = collection.insert_one(user)\n",
    "print(\"Inserted ID:\",insert_result)"
   ]
  },
  {
   "cell_type": "code",
   "execution_count": 11,
   "id": "c2577e7d-0388-4436-9fca-d08c6064f151",
   "metadata": {},
   "outputs": [
    {
     "name": "stdout",
     "output_type": "stream",
     "text": [
      "Inserted IDs: InsertManyResult([ObjectId('67f5df8b89cd04b68ab674b9'), ObjectId('67f5df8b89cd04b68ab674ba'), ObjectId('67f5df8b89cd04b68ab674bb')], acknowledged=True)\n"
     ]
    }
   ],
   "source": [
    "# 여러개 문서 삽입\n",
    "user = [\n",
    "    {\"name\":\"Bob\",\"age\":30,\"city\":\"Busan\"},\n",
    "    {\"name\":\"Char\",\"age\":35,\"city\":\"Incheon\"},\n",
    "    {\"name\":\"Apple\",\"age\":15,\"city\":\"Daegu\"}]\n",
    "insert_results = collection.insert_many(user)\n",
    "print(\"Inserted IDs:\",insert_results)"
   ]
  },
  {
   "cell_type": "code",
   "execution_count": 40,
   "id": "59e3e251-275f-4389-a5a7-6f1f524f93ec",
   "metadata": {},
   "outputs": [
    {
     "name": "stdout",
     "output_type": "stream",
     "text": [
      "{'name': 'superman', 'etc': '힘쌤'}\n",
      "{'name': 'cutegirl', 'age': 20, 'gender': 'female'}\n",
      "{'name': 'Bob', 'age': 30, 'city': 'Busan'}\n",
      "{'name': 'Char', 'age': 35, 'city': 'Incheon'}\n"
     ]
    }
   ],
   "source": [
    "# 여러개의 문서 조회\n",
    "users = collection.find({},{\"_id\": 0})\n",
    "for u in users:\n",
    "    print(u)"
   ]
  },
  {
   "cell_type": "code",
   "execution_count": 18,
   "id": "84cc7c67-c581-4abf-9d77-df6fe23a0337",
   "metadata": {},
   "outputs": [
    {
     "name": "stdout",
     "output_type": "stream",
     "text": [
      "{'name': 'Apple', 'age': 15, 'city': 'Daegu'}\n"
     ]
    }
   ],
   "source": [
    "# 단일 문서 조회\n",
    "user = collection.find_one({\"name\":\"Apple\"}, {\"_id\": 0})\n",
    "print(user)"
   ]
  },
  {
   "cell_type": "code",
   "execution_count": 29,
   "id": "c202122c-8d28-4649-a068-14489f260df2",
   "metadata": {},
   "outputs": [
    {
     "name": "stdout",
     "output_type": "stream",
     "text": [
      "{'name': 'Alice', 'age': 26, 'city': 'Seoul'}\n",
      "{'name': 'Bob', 'age': 30, 'city': 'Busan'}\n",
      "{'name': 'Char', 'age': 35, 'city': 'Incheon'}\n"
     ]
    }
   ],
   "source": [
    "# 특정 조건을 만족하는 문서 조회\n",
    "filters = {\"age\":{\"$gt\":20}} # 나이가 20보다 큰 문서 찾기\n",
    "filtered = collection.find(filters, {\"_id\": 0})\n",
    "for f in filtered:\n",
    "    print(f)"
   ]
  },
  {
   "cell_type": "code",
   "execution_count": 23,
   "id": "e305fe96-8421-4736-b7a1-ffb3fb16c21e",
   "metadata": {},
   "outputs": [
    {
     "name": "stdout",
     "output_type": "stream",
     "text": [
      "수정됨: UpdateResult({'n': 1, 'nModified': 1, 'ok': 1.0, 'updatedExisting': True}, acknowledged=True)\n"
     ]
    }
   ],
   "source": [
    "# 특정 문서 한 개 수정\n",
    "update = collection.update_one({\"name\":\"Alice\"},{\"$set\":{\"age\":26}})\n",
    "print(\"수정됨:\",update)"
   ]
  },
  {
   "cell_type": "code",
   "execution_count": 34,
   "id": "ccc4ca6c-d37e-4679-a65c-fdea1bcf6aa1",
   "metadata": {},
   "outputs": [
    {
     "name": "stdout",
     "output_type": "stream",
     "text": [
      "수정됨s: UpdateResult({'n': 2, 'nModified': 2, 'ok': 1.0, 'updatedExisting': True}, acknowledged=True)\n"
     ]
    }
   ],
   "source": [
    "# 특정 문서 여러개 수정\n",
    "updates = collection.update_many({\"name\":{\"$regex\": \"^A\"}},{\"$inc\":{\"age\":5}}) # A로 시작하는 이름은 5살 증가시켜라.\n",
    "# updates = collection.update_many({\"name\":\"\\/^A\\/\"},{\"$inc\":{\"age\":5}})\n",
    "print(\"수정됨s:\",updates)"
   ]
  },
  {
   "cell_type": "code",
   "execution_count": 36,
   "id": "d92bce07-9044-4dd8-ada1-0a7a1bba1c47",
   "metadata": {},
   "outputs": [
    {
     "name": "stdout",
     "output_type": "stream",
     "text": [
      "DeleteResult({'n': 1, 'ok': 1.0}, acknowledged=True)\n"
     ]
    }
   ],
   "source": [
    "# 특정 문서 한개 문서 삭제\n",
    "delete = collection.delete_one({\"etc\":\"잘생김\"})\n",
    "print(delete)"
   ]
  },
  {
   "cell_type": "code",
   "execution_count": 41,
   "id": "0f3f2ae2-25df-4882-8973-9f009bd960e8",
   "metadata": {},
   "outputs": [
    {
     "name": "stdout",
     "output_type": "stream",
     "text": [
      "DeleteResult({'n': 0, 'ok': 1.0}, acknowledged=True)\n"
     ]
    }
   ],
   "source": [
    "# 특정 문서 여러개 문서 삭제\n",
    "deletes = collection.delete_many({\"name\":{\"$regex\": \"e$\"}}) # 정규식으로 e로 끝나는 이름을 모두 삭제\n",
    "print(deletes)"
   ]
  },
  {
   "cell_type": "code",
   "execution_count": 43,
   "id": "8b935781-d986-4ece-af54-9d8e57f32c1e",
   "metadata": {},
   "outputs": [],
   "source": [
    "import json\n",
    "\n",
    "with open('./photos.json') as f:\n",
    "    data = json.load(f)"
   ]
  },
  {
   "cell_type": "code",
   "execution_count": 44,
   "id": "1fcd2fcd-0647-4197-b91b-cda1ebac79af",
   "metadata": {},
   "outputs": [
    {
     "name": "stdout",
     "output_type": "stream",
     "text": [
      "사용할 데이터베이스 선택됨\n",
      "사용할 컬렉션 선택됨\n"
     ]
    }
   ],
   "source": [
    "# 사용할 데이터베이스 선택\n",
    "db2 = client[\"jdb\"]\n",
    "print(\"사용할 데이터베이스 선택됨\")\n",
    "\n",
    "# 사용할 컬랙션 선택\n",
    "collection2 = db[\"j1\"]\n",
    "print(\"사용할 컬렉션 선택됨\")"
   ]
  },
  {
   "cell_type": "code",
   "execution_count": 45,
   "id": "f8816b9b-7f36-4d35-950a-b385c79e1476",
   "metadata": {},
   "outputs": [
    {
     "name": "stdout",
     "output_type": "stream",
     "text": [
      "로드완료\n"
     ]
    }
   ],
   "source": [
    "collection2.insert_many(data)\n",
    "print(\"로드완료\")"
   ]
  },
  {
   "cell_type": "code",
   "execution_count": 52,
   "id": "a8d0464c-b2b4-41a9-85ec-e4da0c60baf0",
   "metadata": {},
   "outputs": [
    {
     "name": "stdout",
     "output_type": "stream",
     "text": [
      "https://via.placeholder.com/600/92c952\n",
      "https://via.placeholder.com/600/771796\n",
      "https://via.placeholder.com/600/24f355\n",
      "https://via.placeholder.com/600/d32776\n",
      "https://via.placeholder.com/600/f66b97\n",
      "https://via.placeholder.com/600/56a8c2\n",
      "https://via.placeholder.com/600/b0f7cc\n",
      "https://via.placeholder.com/600/54176f\n",
      "https://via.placeholder.com/600/51aa97\n",
      "https://via.placeholder.com/600/810b14\n",
      "https://via.placeholder.com/600/1ee8a4\n",
      "https://via.placeholder.com/600/66b7d2\n",
      "https://via.placeholder.com/600/197d29\n",
      "https://via.placeholder.com/600/61a65\n",
      "https://via.placeholder.com/600/f9cee5\n",
      "https://via.placeholder.com/600/fdf73e\n",
      "https://via.placeholder.com/600/9c184f\n",
      "https://via.placeholder.com/600/1fe46f\n",
      "https://via.placeholder.com/600/56acb2\n",
      "https://via.placeholder.com/600/8985dc\n",
      "https://via.placeholder.com/600/5e12c6\n",
      "https://via.placeholder.com/600/45601a\n",
      "https://via.placeholder.com/600/e924e6\n",
      "https://via.placeholder.com/600/8f209a\n",
      "https://via.placeholder.com/600/5e3a73\n",
      "https://via.placeholder.com/600/474645\n",
      "https://via.placeholder.com/600/c984bf\n",
      "https://via.placeholder.com/600/392537\n",
      "https://via.placeholder.com/600/602b9e\n",
      "https://via.placeholder.com/600/372c93\n"
     ]
    }
   ],
   "source": [
    "out = collection2.find({'id': {'$lte': 30}})\n",
    "for o in out:\n",
    "    print(o[\"url\"])"
   ]
  },
  {
   "cell_type": "code",
   "execution_count": null,
   "id": "a239aace-fc31-4c6f-a7b2-5cff0440bd1b",
   "metadata": {},
   "outputs": [],
   "source": []
  }
 ],
 "metadata": {
  "kernelspec": {
   "display_name": "Python 3 (ipykernel)",
   "language": "python",
   "name": "python3"
  },
  "language_info": {
   "codemirror_mode": {
    "name": "ipython",
    "version": 3
   },
   "file_extension": ".py",
   "mimetype": "text/x-python",
   "name": "python",
   "nbconvert_exporter": "python",
   "pygments_lexer": "ipython3",
   "version": "3.10.12"
  }
 },
 "nbformat": 4,
 "nbformat_minor": 5
}
