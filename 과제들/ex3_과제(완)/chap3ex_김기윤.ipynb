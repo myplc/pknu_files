{
 "cells": [
  {
   "cell_type": "markdown",
   "id": "12cfda76-fd8d-4463-8b18-ca051c8a4b2c",
   "metadata": {},
   "source": [
    "# 되새김문제 풀기 p149 ~ p151 and 로또뽑기 and 과제"
   ]
  },
  {
   "cell_type": "markdown",
   "id": "6cfdd8cd-4b6b-4874-b49b-1c3ab4e73000",
   "metadata": {},
   "source": [
    "## 1. 조건문의 참과 거짓\n",
    "다음 코드의 결괏은 무엇일까?\n",
    "- a=\"Life is too short, ou need python\"\n",
    "- if \"wife\" in a : print(\"wife\")\n",
    "- elif \"python\" in a and \"you\" not in a : print(\"python\")\n",
    "- elif \"shirt\" not in a : print(\"shirt\")\n",
    "- elif \"need\" in a : print(\"need\")\n",
    "- else : print(\"none\")"
   ]
  },
  {
   "cell_type": "code",
   "execution_count": null,
   "id": "00cd0fe3-31e7-4cbc-9c2a-a24560ac9991",
   "metadata": {},
   "outputs": [],
   "source": [
    "a=\"Life is too short, ou need python\"\n",
    "if \"wife\" in a : print(\"wife\")\n",
    "elif \"python\" in a and \"you\" not in a : print(\"python\")\n",
    "elif \"shirt\" not in a : print(\"shirt\")\n",
    "elif \"need\" in a : print(\"need\")\n",
    "else : print(\"none\")"
   ]
  },
  {
   "cell_type": "markdown",
   "id": "c3311bb0-ed6c-45ef-ba91-6c2cb5526639",
   "metadata": {},
   "source": [
    "## 2. 3의 배수의 합 구하기\n",
    "- while문을 사용해 1부터 1000까지의 자연수 중 3의 배수의 합을 구해보자.\n",
    "- result = 0\n",
    "- i = 1\n",
    "- while i <= 1000 :\n",
    "-    if(   &nbsp;&nbsp;&nbsp;&nbsp;&nbsp;&nbsp;   )\n",
    "-        result+=i\n",
    "-    i+=1\n",
    "- print(result)"
   ]
  },
  {
   "cell_type": "code",
   "execution_count": 1,
   "id": "ff308d62-f409-4a23-a86c-b2d8eabf61d5",
   "metadata": {},
   "outputs": [
    {
     "name": "stdout",
     "output_type": "stream",
     "text": [
      "166833\n"
     ]
    }
   ],
   "source": [
    "result = 0\n",
    "i = 1\n",
    "while i <= 1000 :\n",
    "    if i%3==0 :\n",
    "        result+=i\n",
    "    i+=1\n",
    "print(result)"
   ]
  },
  {
   "cell_type": "markdown",
   "id": "7c47e481-471c-41e7-9ec1-55ac3ec71347",
   "metadata": {},
   "source": [
    "## 3. 별 표시하기\n",
    "while 문을 사용하여 다음과 같이 별(*)을 표시하는 프로그램을 작성해 보자.\n",
    "- i = 0\n",
    "- while True :\n",
    "-     i+= 1 <- while 문을 수행할 때 1씩 증가\n",
    "-     if         : break <- i 값이 5를 초과하면 while 문을 벗어난다.\n",
    "-     print(      ) <- i 값의 개수만큼 '*'을 출력"
   ]
  },
  {
   "cell_type": "code",
   "execution_count": 2,
   "id": "a5f21479-4d13-48ec-944f-68e3506546b3",
   "metadata": {},
   "outputs": [
    {
     "name": "stdout",
     "output_type": "stream",
     "text": [
      "*\n",
      "**\n",
      "***\n",
      "****\n",
      "*****\n"
     ]
    }
   ],
   "source": [
    "i = 0\n",
    "while True :\n",
    "    i+= 1\n",
    "    if i>5 : break\n",
    "    print(i*\"*\")"
   ]
  },
  {
   "cell_type": "markdown",
   "id": "9bd85b47-18ab-489f-9e30-8757ccbd6f05",
   "metadata": {},
   "source": [
    "## 4. 1부터 100까지 출력하기\n",
    "for 문을 사용해 1부터 100까지의 숫자를 출력해 보자\n",
    "- for i in [               ]\n",
    "- print(i)\n",
    "- 1\n",
    "- 2\n",
    "- 3\n",
    "- 4\n",
    "- 5\n",
    "- 6\n",
    "- 7\n",
    "- 8\n",
    "- 9\n",
    "- 10\n",
    "- ..."
   ]
  },
  {
   "cell_type": "code",
   "execution_count": 15,
   "id": "0bf884e8-5ec9-4f6a-abef-583acab0a085",
   "metadata": {},
   "outputs": [
    {
     "name": "stdout",
     "output_type": "stream",
     "text": [
      "1\n",
      "2\n",
      "3\n",
      "4\n",
      "5\n",
      "6\n",
      "7\n",
      "8\n",
      "9\n",
      "10\n",
      "11\n",
      "12\n",
      "13\n",
      "14\n",
      "15\n",
      "16\n",
      "17\n",
      "18\n",
      "19\n",
      "20\n",
      "21\n",
      "22\n",
      "23\n",
      "24\n",
      "25\n",
      "26\n",
      "27\n",
      "28\n",
      "29\n",
      "30\n",
      "31\n",
      "32\n",
      "33\n",
      "34\n",
      "35\n",
      "36\n",
      "37\n",
      "38\n",
      "39\n",
      "40\n",
      "41\n",
      "42\n",
      "43\n",
      "44\n",
      "45\n",
      "46\n",
      "47\n",
      "48\n",
      "49\n",
      "50\n",
      "51\n",
      "52\n",
      "53\n",
      "54\n",
      "55\n",
      "56\n",
      "57\n",
      "58\n",
      "59\n",
      "60\n",
      "61\n",
      "62\n",
      "63\n",
      "64\n",
      "65\n",
      "66\n",
      "67\n",
      "68\n",
      "69\n",
      "70\n",
      "71\n",
      "72\n",
      "73\n",
      "74\n",
      "75\n",
      "76\n",
      "77\n",
      "78\n",
      "79\n",
      "80\n",
      "81\n",
      "82\n",
      "83\n",
      "84\n",
      "85\n",
      "86\n",
      "87\n",
      "88\n",
      "89\n",
      "90\n",
      "91\n",
      "92\n",
      "93\n",
      "94\n",
      "95\n",
      "96\n",
      "97\n",
      "98\n",
      "99\n",
      "100\n"
     ]
    }
   ],
   "source": [
    "for i in range(1,101) :\n",
    "    print(i)"
   ]
  },
  {
   "cell_type": "markdown",
   "id": "6d8270cb-9865-4488-baef-2d11a53aabc5",
   "metadata": {},
   "source": [
    "## 5. 평균 점수 구하기\n",
    "A 학급에 총 10명의 학생이 있다. 이 학생들의 중간고사 점수는 다음과 같다.\n",
    "\n",
    "- [70, 60, 55, 75, 95, 90, 80, 80, 85, 100]\n",
    "- for 문을 사용하여 A 학급의 평균 점수를 구해 보자.\n",
    "- A = [70, 60, 55, 75, 95, 90, 80, 80, 85, 100]\n",
    "- total = 0\n",
    "- for score in A :\n",
    "- total +=(&nbsp;&nbsp;&nbsp;&nbsp;&nbsp;&nbsp;&nbsp;&nbsp;&nbsp;&nbsp;&nbsp;&nbsp;&nbsp;)\n",
    "- average = (&nbsp;&nbsp;&nbsp;&nbsp;&nbsp;&nbsp;&nbsp;&nbsp;&nbsp;&nbsp;&nbsp;&nbsp;&nbsp;)\n",
    "- print(average)"
   ]
  },
  {
   "cell_type": "code",
   "execution_count": 13,
   "id": "4f44b249-4558-4c75-92ca-0fdf2ded87fb",
   "metadata": {},
   "outputs": [
    {
     "name": "stdout",
     "output_type": "stream",
     "text": [
      "79.0\n"
     ]
    }
   ],
   "source": [
    "A = [70, 60, 55, 75, 95, 90, 80, 80, 85, 100]\n",
    "total = 0\n",
    "for score in A :\n",
    "    total +=(score)\n",
    "    average = (total/len(A))\n",
    "print(average)"
   ]
  },
  {
   "cell_type": "markdown",
   "id": "62e2c81d-d212-43e6-ac2e-df6d35ed6345",
   "metadata": {},
   "source": [
    "## 6. 컴프리헨션 사용하기\n",
    "다음 소스 코드는 리스크의 요소 중에서 홀수만 골라 2를 곱한 값을 result 리스트에 담는 예제이다.\n",
    "- numbers = [1,2,3,4,5]\n",
    "- result = []\n",
    "- for n in numbers:\n",
    "-    if n % 2 == 1:\n",
    "-        result.append(n *2)\n",
    "- print(result)\n",
    "이 코드를 리스트 컴프리헨션을 사용하여 표현해 보자."
   ]
  },
  {
   "cell_type": "code",
   "execution_count": 2,
   "id": "35f719a7-c837-4dec-98f2-4320a741f57e",
   "metadata": {},
   "outputs": [
    {
     "name": "stdout",
     "output_type": "stream",
     "text": [
      "[2, 6, 10]\n"
     ]
    }
   ],
   "source": [
    "numbers = [1,2,3,4,5]\n",
    "result = []\n",
    "for n in numbers:\n",
    "    if n % 2 == 1:\n",
    "        result.append(n *2)\n",
    "print(result)"
   ]
  },
  {
   "cell_type": "code",
   "execution_count": null,
   "id": "4ee0624b-6298-4365-b5f5-7e5227326075",
   "metadata": {},
   "outputs": [],
   "source": [
    "numbers = [1,2,3,4,5]\n",
    "result = [n*2 for n in numbers if n%2 ==1 ]\n",
    "print(result)"
   ]
  },
  {
   "cell_type": "markdown",
   "id": "9eba59e8-4146-45ed-a1eb-2d7991110447",
   "metadata": {},
   "source": [
    "## 로또 생성기\n",
    "\n",
    "1) 6가지 숫자가 선택 되어야 함.\n",
    "2) 중복되면 안됨.\n",
    "3) 오름차순으로 정리하기\n",
    "4) 10만회 돌리고\n",
    "각각 번호가 나온 것을 카운팅 하기\n",
    "5) 각 번호를 퍼센트 내기 (소숫점 두자리)\n",
    "6) 제일 높게 나온 확률 순서대로 번호 3개 추천하기"
   ]
  },
  {
   "cell_type": "code",
   "execution_count": 23,
   "id": "20093751-cc35-4127-8fdf-73fde5fbbd15",
   "metadata": {},
   "outputs": [
    {
     "name": "stdout",
     "output_type": "stream",
     "text": [
      "[6, 5, 5]\n",
      "1은 (2.00%)번 등장했습니다.\n",
      "2은 (2.00%)번 등장했습니다.\n",
      "3은 (1.00%)번 등장했습니다.\n",
      "4은 (2.00%)번 등장했습니다.\n",
      "5은 (2.00%)번 등장했습니다.\n",
      "6은 (0.00%)번 등장했습니다.\n",
      "7은 (2.00%)번 등장했습니다.\n",
      "8은 (3.00%)번 등장했습니다.\n",
      "9은 (2.00%)번 등장했습니다.\n",
      "10은 (2.00%)번 등장했습니다.\n",
      "11은 (2.00%)번 등장했습니다.\n",
      "12은 (1.00%)번 등장했습니다.\n",
      "13은 (5.00%)번 등장했습니다.\n",
      "14은 (3.00%)번 등장했습니다.\n",
      "15은 (2.00%)번 등장했습니다.\n",
      "16은 (2.00%)번 등장했습니다.\n",
      "17은 (1.00%)번 등장했습니다.\n",
      "18은 (2.00%)번 등장했습니다.\n",
      "19은 (2.00%)번 등장했습니다.\n",
      "20은 (2.00%)번 등장했습니다.\n",
      "21은 (1.00%)번 등장했습니다.\n",
      "22은 (3.00%)번 등장했습니다.\n",
      "23은 (0.00%)번 등장했습니다.\n",
      "24은 (4.00%)번 등장했습니다.\n",
      "25은 (6.00%)번 등장했습니다.\n",
      "26은 (3.00%)번 등장했습니다.\n",
      "27은 (3.00%)번 등장했습니다.\n",
      "28은 (2.00%)번 등장했습니다.\n",
      "29은 (2.00%)번 등장했습니다.\n",
      "30은 (1.00%)번 등장했습니다.\n",
      "31은 (3.00%)번 등장했습니다.\n",
      "32은 (1.00%)번 등장했습니다.\n",
      "33은 (4.00%)번 등장했습니다.\n",
      "34은 (4.00%)번 등장했습니다.\n",
      "35은 (2.00%)번 등장했습니다.\n",
      "36은 (2.00%)번 등장했습니다.\n",
      "37은 (3.00%)번 등장했습니다.\n",
      "38은 (1.00%)번 등장했습니다.\n",
      "39은 (2.00%)번 등장했습니다.\n",
      "40은 (0.00%)번 등장했습니다.\n",
      "41은 (2.00%)번 등장했습니다.\n",
      "42은 (4.00%)번 등장했습니다.\n",
      "43은 (0.00%)번 등장했습니다.\n",
      "44은 (5.00%)번 등장했습니다.\n",
      "45은 (2.00%)번 등장했습니다.\n",
      "[1, 2, 3, 4, 5, 7]\n"
     ]
    }
   ],
   "source": [
    "import random as r\n",
    "# cont = 45\n",
    "num = 100\n",
    "rl =[] # 랜덤번호 리스트\n",
    "ff =[] # count 리스트\n",
    "while num:\n",
    "    # cont-=1\n",
    "    num-=1\n",
    "    ran = r.randint(1,45)\n",
    "    rl.append(ran)\n",
    "    aa = set(rl)\n",
    "    \n",
    "    cc = list(aa)\n",
    "    cc.sort()\n",
    "    \n",
    "    \n",
    "\n",
    "        \n",
    "    if num==0 :\n",
    "        num1=rl.count(1)\n",
    "        num2=rl.count(2)\n",
    "        num3=rl.count(3)\n",
    "        num4=rl.count(4)\n",
    "        num5=rl.count(5)\n",
    "        num6=rl.count(6)\n",
    "        num7=rl.count(7)\n",
    "        num8=rl.count(8)\n",
    "        num9=rl.count(9)\n",
    "        num10=rl.count(10)\n",
    "        num11=rl.count(11)\n",
    "        num12=rl.count(12)\n",
    "        num13=rl.count(13)\n",
    "        num14=rl.count(14)\n",
    "        num15=rl.count(15)\n",
    "        num16=rl.count(16)\n",
    "        num17=rl.count(17)\n",
    "        num18=rl.count(18)\n",
    "        num19=rl.count(19)\n",
    "        num20=rl.count(20)\n",
    "        num21=rl.count(21)\n",
    "        num22=rl.count(22)\n",
    "        num23=rl.count(23)\n",
    "        num24=rl.count(24)\n",
    "        num25=rl.count(25)\n",
    "        num26=rl.count(26)\n",
    "        num27=rl.count(27)\n",
    "        num28=rl.count(28)\n",
    "        num29=rl.count(29)\n",
    "        num30=rl.count(30)\n",
    "        num31=rl.count(31)\n",
    "        num32=rl.count(32)\n",
    "        num33=rl.count(33)\n",
    "        num34=rl.count(34)\n",
    "        num35=rl.count(35)\n",
    "        num36=rl.count(36)\n",
    "        num37=rl.count(37)\n",
    "        num38=rl.count(38)\n",
    "        num39=rl.count(39)\n",
    "        num40=rl.count(40)\n",
    "        num41=rl.count(41)\n",
    "        num42=rl.count(42)\n",
    "        num43=rl.count(43)\n",
    "        num44=rl.count(44)\n",
    "        num45=rl.count(45)\n",
    "    \n",
    "    if num==0 :\n",
    "        for n in range(1,46) :\n",
    "            ff.append(rl.count(n))\n",
    "    ff.sort(reverse=True)\n",
    "\n",
    "    \n",
    "\n",
    "  \n",
    "\n",
    "        \n",
    "    # dd = list(range(,num1,num45)) #리스트 만드는 방법\n",
    "        \n",
    "    \n",
    "    # nummax = max.(dd) #최댓값\n",
    "    # nummin = min.(dd) #최솟값\n",
    "    \n",
    "    \n",
    "print(ff[:3])\n",
    "print(f'1은 ({num1/len(rl)*100:0.2f}%)번 등장했습니다.')\n",
    "print(f'2은 ({num2/len(rl)*100:0.2f}%)번 등장했습니다.')\n",
    "print(f'3은 ({num3/len(rl)*100:0.2f}%)번 등장했습니다.')\n",
    "print(f'4은 ({num4/len(rl)*100:0.2f}%)번 등장했습니다.')\n",
    "print(f'5은 ({num5/len(rl)*100:0.2f}%)번 등장했습니다.')\n",
    "print(f'6은 ({num6/len(rl)*100:0.2f}%)번 등장했습니다.')\n",
    "print(f'7은 ({num7/len(rl)*100:0.2f}%)번 등장했습니다.')\n",
    "print(f'8은 ({num8/len(rl)*100:0.2f}%)번 등장했습니다.')\n",
    "print(f'9은 ({num9/len(rl)*100:0.2f}%)번 등장했습니다.')\n",
    "print(f'10은 ({num10/len(rl)*100:0.2f}%)번 등장했습니다.')\n",
    "print(f'11은 ({num11/len(rl)*100:0.2f}%)번 등장했습니다.')\n",
    "print(f'12은 ({num12/len(rl)*100:0.2f}%)번 등장했습니다.')\n",
    "print(f'13은 ({num13/len(rl)*100:0.2f}%)번 등장했습니다.')\n",
    "print(f'14은 ({num14/len(rl)*100:0.2f}%)번 등장했습니다.')\n",
    "print(f'15은 ({num15/len(rl)*100:0.2f}%)번 등장했습니다.')\n",
    "print(f'16은 ({num16/len(rl)*100:0.2f}%)번 등장했습니다.')\n",
    "print(f'17은 ({num17/len(rl)*100:0.2f}%)번 등장했습니다.')\n",
    "print(f'18은 ({num18/len(rl)*100:0.2f}%)번 등장했습니다.')\n",
    "print(f'19은 ({num19/len(rl)*100:0.2f}%)번 등장했습니다.')\n",
    "print(f'20은 ({num20/len(rl)*100:0.2f}%)번 등장했습니다.')\n",
    "print(f'21은 ({num21/len(rl)*100:0.2f}%)번 등장했습니다.')\n",
    "print(f'22은 ({num22/len(rl)*100:0.2f}%)번 등장했습니다.')\n",
    "print(f'23은 ({num23/len(rl)*100:0.2f}%)번 등장했습니다.')\n",
    "print(f'24은 ({num24/len(rl)*100:0.2f}%)번 등장했습니다.')\n",
    "print(f'25은 ({num25/len(rl)*100:0.2f}%)번 등장했습니다.')\n",
    "print(f'26은 ({num26/len(rl)*100:0.2f}%)번 등장했습니다.')\n",
    "print(f'27은 ({num27/len(rl)*100:0.2f}%)번 등장했습니다.')\n",
    "print(f'28은 ({num28/len(rl)*100:0.2f}%)번 등장했습니다.')\n",
    "print(f'29은 ({num29/len(rl)*100:0.2f}%)번 등장했습니다.')\n",
    "print(f'30은 ({num30/len(rl)*100:0.2f}%)번 등장했습니다.')\n",
    "print(f'31은 ({num31/len(rl)*100:0.2f}%)번 등장했습니다.')\n",
    "print(f'32은 ({num32/len(rl)*100:0.2f}%)번 등장했습니다.')\n",
    "print(f'33은 ({num33/len(rl)*100:0.2f}%)번 등장했습니다.')\n",
    "print(f'34은 ({num34/len(rl)*100:0.2f}%)번 등장했습니다.')\n",
    "print(f'35은 ({num35/len(rl)*100:0.2f}%)번 등장했습니다.')\n",
    "print(f'36은 ({num36/len(rl)*100:0.2f}%)번 등장했습니다.')\n",
    "print(f'37은 ({num37/len(rl)*100:0.2f}%)번 등장했습니다.')\n",
    "print(f'38은 ({num38/len(rl)*100:0.2f}%)번 등장했습니다.')\n",
    "print(f'39은 ({num39/len(rl)*100:0.2f}%)번 등장했습니다.')\n",
    "print(f'40은 ({num40/len(rl)*100:0.2f}%)번 등장했습니다.')\n",
    "print(f'41은 ({num41/len(rl)*100:0.2f}%)번 등장했습니다.')\n",
    "print(f'42은 ({num42/len(rl)*100:0.2f}%)번 등장했습니다.')\n",
    "print(f'43은 ({num43/len(rl)*100:0.2f}%)번 등장했습니다.')\n",
    "print(f'44은 ({num44/len(rl)*100:0.2f}%)번 등장했습니다.')\n",
    "print(f'45은 ({num45/len(rl)*100:0.2f}%)번 등장했습니다.')\n",
    "\n",
    "\n",
    "# print(aa)\n",
    "print(cc[:6])"
   ]
  },
  {
   "cell_type": "code",
   "execution_count": 54,
   "id": "302deb01-bf91-4b96-8307-2914f8df08cc",
   "metadata": {},
   "outputs": [
    {
     "name": "stdout",
     "output_type": "stream",
     "text": [
      "[1]\n",
      "[1, 2]\n",
      "[1, 2, 3]\n",
      "[1, 2, 3, 4]\n",
      "[1, 2, 3, 4, 5]\n",
      "[1, 2, 3, 4, 5, 6]\n",
      "[1, 2, 3, 4, 5, 6, 7]\n",
      "[1, 2, 3, 4, 5, 6, 7, 8]\n",
      "[1, 2, 3, 4, 5, 6, 7, 8, 9]\n"
     ]
    }
   ],
   "source": [
    "num= []\n",
    "for dd in range(1,10) :\n",
    "    num.append(dd) \n",
    "    print(num)"
   ]
  },
  {
   "cell_type": "code",
   "execution_count": 26,
   "id": "89885ef1-8d0a-4859-bb42-bc41e8a3d826",
   "metadata": {},
   "outputs": [
    {
     "name": "stdout",
     "output_type": "stream",
     "text": [
      "[9, 14, 17, 25, 29, 41] 6\n"
     ]
    }
   ],
   "source": [
    "import random\n",
    "box = []\n",
    "while len(box) < 6 :\n",
    "# for n in range(6):\n",
    "    ran = random.randint(1,46)\n",
    "    if not ran in box : #중복제거 조건\n",
    "        box.append(ran)\n",
    "box.sort()\n",
    "print(box,len(box))"
   ]
  },
  {
   "cell_type": "code",
   "execution_count": 30,
   "id": "ca198c53-67de-4624-a11b-bf26d902c559",
   "metadata": {},
   "outputs": [
    {
     "name": "stdout",
     "output_type": "stream",
     "text": [
      "[14, 15, 24, 25, 42, 44]\n"
     ]
    }
   ],
   "source": [
    "# 참고형 1\n",
    "\n",
    "lotto=sorted(random.sample(range(1,46),6))\n",
    "print(lotto)"
   ]
  },
  {
   "cell_type": "code",
   "execution_count": 49,
   "id": "2719b854-cc73-496c-8f20-c26df62aa00d",
   "metadata": {},
   "outputs": [
    {
     "name": "stdout",
     "output_type": "stream",
     "text": [
      "==========\n",
      "숫자1: 출현한 횟수는 15회 입니다.\n",
      "숫자2: 출현한 횟수는 10회 입니다.\n",
      "숫자3: 출현한 횟수는 17회 입니다.\n",
      "숫자4: 출현한 횟수는 11회 입니다.\n",
      "숫자5: 출현한 횟수는 11회 입니다.\n",
      "숫자6: 출현한 횟수는 11회 입니다.\n",
      "숫자7: 출현한 횟수는 6회 입니다.\n",
      "숫자8: 출현한 횟수는 10회 입니다.\n",
      "숫자9: 출현한 횟수는 11회 입니다.\n",
      "숫자10: 출현한 횟수는 16회 입니다.\n",
      "숫자11: 출현한 횟수는 17회 입니다.\n",
      "숫자12: 출현한 횟수는 16회 입니다.\n",
      "숫자13: 출현한 횟수는 22회 입니다.\n",
      "숫자14: 출현한 횟수는 15회 입니다.\n",
      "숫자15: 출현한 횟수는 8회 입니다.\n",
      "숫자16: 출현한 횟수는 15회 입니다.\n",
      "숫자17: 출현한 횟수는 13회 입니다.\n",
      "숫자18: 출현한 횟수는 12회 입니다.\n",
      "숫자19: 출현한 횟수는 14회 입니다.\n",
      "숫자20: 출현한 횟수는 15회 입니다.\n",
      "숫자21: 출현한 횟수는 16회 입니다.\n",
      "숫자22: 출현한 횟수는 10회 입니다.\n",
      "숫자23: 출현한 횟수는 9회 입니다.\n",
      "숫자24: 출현한 횟수는 13회 입니다.\n",
      "숫자25: 출현한 횟수는 8회 입니다.\n",
      "숫자26: 출현한 횟수는 12회 입니다.\n",
      "숫자27: 출현한 횟수는 16회 입니다.\n",
      "숫자28: 출현한 횟수는 8회 입니다.\n",
      "숫자29: 출현한 횟수는 20회 입니다.\n",
      "숫자30: 출현한 횟수는 15회 입니다.\n",
      "숫자31: 출현한 횟수는 20회 입니다.\n",
      "숫자32: 출현한 횟수는 12회 입니다.\n",
      "숫자33: 출현한 횟수는 14회 입니다.\n",
      "숫자34: 출현한 횟수는 11회 입니다.\n",
      "숫자35: 출현한 횟수는 16회 입니다.\n",
      "숫자36: 출현한 횟수는 14회 입니다.\n",
      "숫자37: 출현한 횟수는 13회 입니다.\n",
      "숫자38: 출현한 횟수는 7회 입니다.\n",
      "숫자39: 출현한 횟수는 15회 입니다.\n",
      "숫자40: 출현한 횟수는 15회 입니다.\n",
      "숫자41: 출현한 횟수는 11회 입니다.\n",
      "숫자42: 출현한 횟수는 14회 입니다.\n",
      "숫자43: 출현한 횟수는 17회 입니다.\n",
      "숫자44: 출현한 횟수는 14회 입니다.\n",
      "숫자45: 출현한 횟수는 15회 입니다.\n",
      "[15, 10, 17, 11, 11, 11, 6, 10, 11, 16, 17, 16, 22, 15, 8, 15, 13, 12, 14, 15, 16, 10, 9, 13, 8, 12, 16, 8, 20, 15, 20, 12, 14, 11, 16, 14, 13, 7, 15, 15, 11, 14, 17, 14, 15] True\n",
      "출현횟수 100에 대한 검증이 이상없습니다.\n"
     ]
    }
   ],
   "source": [
    "# 참고형2 *\n",
    "ls = []\n",
    "la = []\n",
    "how = 100\n",
    "for h in range(how) :\n",
    "    lotto=sorted(random.sample(range(1,46),6))\n",
    "    la.append(lotto)\n",
    "    ls= ls+lotto\n",
    "# print(la,type(la))\n",
    "print(\"=\"*10)\n",
    "ss= []\n",
    "for n in range(1,46) :\n",
    "    ss.append(ls.count(n))\n",
    "    print(f'숫자{n}: 출현한 횟수는 {ls.count(n)}회 입니다.')  \n",
    "print(ss,sum(ss) == how*6)\n",
    "if sum(ss) == (how*6) :\n",
    "    print(f'출현횟수 {how}에 대한 검증이 이상없습니다.')"
   ]
  },
  {
   "cell_type": "code",
   "execution_count": 53,
   "id": "616a8d3a-e0ab-46a6-892a-bd34ea886a3c",
   "metadata": {},
   "outputs": [
    {
     "name": "stdout",
     "output_type": "stream",
     "text": [
      "==========\n",
      "{'num1': 18, 'num2': 14, 'num3': 11, 'num4': 11, 'num5': 19, 'num6': 15, 'num7': 16, 'num8': 14, 'num9': 10, 'num10': 13, 'num11': 5, 'num12': 11, 'num13': 15, 'num14': 17, 'num15': 11, 'num16': 12, 'num17': 9, 'num18': 14, 'num19': 9, 'num20': 12, 'num21': 9, 'num22': 14, 'num23': 16, 'num24': 11, 'num25': 15, 'num26': 14, 'num27': 17, 'num28': 14, 'num29': 12, 'num30': 15, 'num31': 19, 'num32': 11, 'num33': 12, 'num34': 11, 'num35': 11, 'num36': 13, 'num37': 20, 'num38': 12, 'num39': 12, 'num40': 14, 'num41': 14, 'num42': 14, 'num43': 15, 'num44': 15, 'num45': 14}\n",
      "============================================================\n",
      "dict_values([18, 14, 11, 11, 19, 15, 16, 14, 10, 13, 5, 11, 15, 17, 11, 12, 9, 14, 9, 12, 9, 14, 16, 11, 15, 14, 17, 14, 12, 15, 19, 11, 12, 11, 11, 13, 20, 12, 12, 14, 14, 14, 15, 15, 14])\n"
     ]
    }
   ],
   "source": [
    "# 참고형3  *딕셔너리를 활용\n",
    "ls = []\n",
    "la = []\n",
    "how = 100\n",
    "for h in range(how) :\n",
    "    lotto=sorted(random.sample(range(1,46),6))\n",
    "    la.append(lotto)\n",
    "    ls= ls+lotto\n",
    "# print(la,type(la))\n",
    "print(\"=\"*10)\n",
    "\n",
    "dic = {}\n",
    "for n in range(1,46) :\n",
    "   dic[f'num{n}'] = ls.count(n)\n",
    "print(dic)\n",
    "print(\"=\"*60)\n",
    "print(dic.values())   \n"
   ]
  },
  {
   "cell_type": "code",
   "execution_count": 6,
   "id": "2b17f1ba-ff34-432b-883d-a7e6112fa1ca",
   "metadata": {},
   "outputs": [
    {
     "name": "stdout",
     "output_type": "stream",
     "text": [
      "[4, 6, 11, 12, 38, 39, 50, 53, 69, 76, 77, 92] 12\n"
     ]
    }
   ],
   "source": [
    "#참고형 4 *함수사용\n",
    "import random\n",
    "def 로또(파라미터=6,매개변수=46): # def로또(파라미터, 매개변수) : \n",
    "    box = []\n",
    "    while len(box) < 파라미터 :\n",
    "    # for n in range(6):\n",
    "        ran = random.randint(1,매개변수)\n",
    "        if not ran in box : #중복제거 조건\n",
    "            box.append(ran)\n",
    "    box.sort()\n",
    "    print(box,len(box))\n",
    "로또(12,100)"
   ]
  },
  {
   "cell_type": "code",
   "execution_count": 92,
   "id": "03ba10a2-cbc5-4f2a-b958-15ec300db18d",
   "metadata": {},
   "outputs": [
    {
     "name": "stdout",
     "output_type": "stream",
     "text": [
      "[24, 28, 31, 32, 39, 46] 6\n",
      "[17, 31, 38, 40, 41, 42] 6\n",
      "[13, 17, 19, 27, 35, 38] 6\n",
      "[8, 9, 14, 22, 28, 39] 6\n",
      "[6, 7, 35, 36, 39, 40] 6\n"
     ]
    }
   ],
   "source": [
    "#참고형 4-1 \n",
    "for n in range(5) :\n",
    "    로또()"
   ]
  },
  {
   "cell_type": "markdown",
   "id": "40ff1190-82d3-427a-81fd-c9d86a8a32e3",
   "metadata": {},
   "source": [
    "# 완전 하드 코딩으로 풀기"
   ]
  },
  {
   "cell_type": "markdown",
   "id": "85e799d3-6a0f-4ecf-ab07-f7d90388ca5e",
   "metadata": {},
   "source": [
    "## 1. 배열 요소를 오름차순으로 나열하라\n",
    "- 난이도 하(3자리) : [33, 11, 22]\n",
    "- 난이도 중(4자리) : [33,11,22,44]"
   ]
  },
  {
   "cell_type": "code",
   "execution_count": 1,
   "id": "e8e1c63b-ee12-4395-96d4-3659e7c72db3",
   "metadata": {},
   "outputs": [
    {
     "name": "stdout",
     "output_type": "stream",
     "text": [
      "[11, 22, 33]\n",
      "[11, 22, 33, 44]\n"
     ]
    }
   ],
   "source": [
    "aa = [33,11,22]\n",
    "bb = [33,11,22,44]\n",
    "cc=\"\"\n",
    "\n",
    "# 3자리 요소 나열\n",
    "if aa[0] > aa[1]:\n",
    "    cc=aa[0]\n",
    "    aa[0]=aa[1]\n",
    "    aa[1]=cc\n",
    "\n",
    "if aa[1] > aa[2]:\n",
    "    cc=aa[1]\n",
    "    aa[1]=aa[2]\n",
    "    aa[2]=cc\n",
    "\n",
    "if aa[0] > aa[1]:\n",
    "    cc=aa[0]\n",
    "    aa[0]=aa[1]\n",
    "    aa[1]=cc\n",
    "\n",
    "# 4자리 요소 나열\n",
    "if bb[0] > bb[1]:\n",
    "    cc=bb[0]\n",
    "    bb[0]=bb[1]\n",
    "    bb[1]=cc\n",
    "\n",
    "if bb[1] > bb[2]:\n",
    "    cc=bb[1]\n",
    "    bb[1]=bb[2]\n",
    "    bb[2]=cc\n",
    "    \n",
    "if bb[2] > bb[3]:\n",
    "    cc=bb[2]\n",
    "    bb[2]=bb[3]\n",
    "    bb[3]=cc\n",
    "\n",
    "if bb[0] > bb[1]:\n",
    "    cc=bb[0]\n",
    "    bb[0]=bb[1]\n",
    "    bb[1]=cc  \n",
    "\n",
    "print(aa)\n",
    "print(bb)"
   ]
  },
  {
   "cell_type": "markdown",
   "id": "bd8b4561-0182-468b-a75f-a0e330667639",
   "metadata": {},
   "source": [
    "## 2. 요소 중 제일 큰 수를 찾아내라.\n",
    "- 난이도 하(3자리) : [33, 11, 22]\n",
    "- 난이도 중(4자리) : [33,11,22,44]"
   ]
  },
  {
   "cell_type": "code",
   "execution_count": 2,
   "id": "e9dcc6b9-faed-4c65-9a6d-8cebffbe1d6a",
   "metadata": {},
   "outputs": [
    {
     "name": "stdout",
     "output_type": "stream",
     "text": [
      "33\n",
      "44\n"
     ]
    }
   ],
   "source": [
    "aa = [33,11,22]\n",
    "bb = [33,11,22,44]\n",
    "cc=\"\"\n",
    "\n",
    "# 3자리 요소 최댓값 구하기\n",
    "if aa[0] > aa[1]:\n",
    "    cc=aa[0]\n",
    "    aa[0]=aa[1]\n",
    "    aa[1]=cc\n",
    "    \n",
    "\n",
    "if aa[1] > aa[2]:\n",
    "    cc=aa[1]\n",
    "    aa[1]=aa[2]\n",
    "    aa[2]=cc\n",
    "\n",
    "if aa[0] > aa[1]:\n",
    "    cc=aa[0]\n",
    "    aa[0]=aa[1]\n",
    "    aa[1]=cc\n",
    "\n",
    "# 4자리 요소 최대값 구하기\n",
    "if bb[0] > bb[1]:\n",
    "    cc=bb[0]\n",
    "    bb[0]=bb[1]\n",
    "    bb[1]=cc\n",
    "\n",
    "if bb[1] > bb[2]:\n",
    "    cc=bb[1]\n",
    "    bb[1]=bb[2]\n",
    "    bb[2]=cc\n",
    "    \n",
    "if bb[2] > bb[3]:\n",
    "    cc=bb[2]\n",
    "    bb[2]=bb[3]\n",
    "    bb[3]=cc\n",
    "\n",
    "if bb[0] > bb[1]:\n",
    "    cc=bb[0]\n",
    "    bb[0]=bb[1]\n",
    "    bb[1]=cc  \n",
    "\n",
    "print(aa[len(aa)-1])\n",
    "print(bb[-1])"
   ]
  },
  {
   "cell_type": "markdown",
   "id": "90d5fc1b-e33a-4d51-8c55-08761bb23ba2",
   "metadata": {},
   "source": [
    "## 3. 잔돈 분류 프로그램\n",
    "\n",
    "입력(투입): 5000원 <br>\n",
    "선택(구매): 1330원 <br>\n",
    "결과(잔돈): 3670원<br>\n",
    "<br>\n",
    "출력: <br>\n",
    "1000원 x 3장 <br>\n",
    "500원 x 1장 <br>\n",
    "100원 x 1장 <br>\n",
    "50원 x 1개 <br>\n",
    "10원 x 2개 <br>"
   ]
  },
  {
   "cell_type": "code",
   "execution_count": 76,
   "id": "1c682f7c-5fa7-4d19-8a38-35972ec4e66e",
   "metadata": {},
   "outputs": [
    {
     "name": "stdin",
     "output_type": "stream",
     "text": [
      "얼마를 투입하시겠습니까? 5330\n"
     ]
    },
    {
     "name": "stdout",
     "output_type": "stream",
     "text": [
      "0\n",
      "0\n",
      "0 4\n",
      "5330 <class 'int'>\n",
      "1000원은4장\n",
      "500원은0개\n",
      "100원은0개\n",
      "50원은0개\n",
      "10원은0개\n"
     ]
    }
   ],
   "source": [
    "money = int(input(\"얼마를 투입하시겠습니까?\"))\n",
    "thing =1330\n",
    "result = money-thing\n",
    "\n",
    "#1000원\n",
    "numA1000=int(result/1000)\n",
    "num1000=result%1000\n",
    "#1000원\n",
    "numA500=int(num1000/500)\n",
    "num500=num1000%500\n",
    "#100원\n",
    "numA100=int(num500/100)\n",
    "num100=num500%100\n",
    "print(num100)\n",
    "#50원\n",
    "numA50=int(num100/50)\n",
    "num50=num100%50\n",
    "print(num50)\n",
    "#10원\n",
    "numA10=int(num50/10)\n",
    "\n",
    "print(num1000, numA1000)\n",
    "print(money,type(money))\n",
    "print(f'1000원은{numA1000}장')\n",
    "print(f'500원은{numA500}개')\n",
    "print(f'100원은{numA100}개')\n",
    "print(f'50원은{numA50}개')\n",
    "print(f'10원은{numA10}개')"
   ]
  },
  {
   "cell_type": "code",
   "execution_count": null,
   "id": "34345a05-9f48-408a-bef1-4ee26fa2c05f",
   "metadata": {},
   "outputs": [],
   "source": []
  }
 ],
 "metadata": {
  "kernelspec": {
   "display_name": "Python 3 (ipykernel)",
   "language": "python",
   "name": "python3"
  },
  "language_info": {
   "codemirror_mode": {
    "name": "ipython",
    "version": 3
   },
   "file_extension": ".py",
   "mimetype": "text/x-python",
   "name": "python",
   "nbconvert_exporter": "python",
   "pygments_lexer": "ipython3",
   "version": "3.13.1"
  }
 },
 "nbformat": 4,
 "nbformat_minor": 5
}
