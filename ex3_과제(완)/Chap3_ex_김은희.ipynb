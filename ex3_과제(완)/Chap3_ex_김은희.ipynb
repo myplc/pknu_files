{
 "cells": [
  {
   "cell_type": "markdown",
   "id": "5c2484bb-dadb-42e1-919d-4f91a907dbcb",
   "metadata": {},
   "source": [
    "# 되새김 문제"
   ]
  },
  {
   "cell_type": "code",
   "execution_count": 98,
   "id": "d44860d1-f04d-4ad4-bf4b-361dfcbda1a5",
   "metadata": {},
   "outputs": [
    {
     "name": "stdout",
     "output_type": "stream",
     "text": [
      "shirt\n"
     ]
    }
   ],
   "source": [
    "# Q1 조건문의 참과 거짓 ; 다음 코드의 결괏값\n",
    "a = \"Life is too short, you need python\"\n",
    "if \"wife\" in a: \n",
    "    print(\"wife\")\n",
    "elif \"python\" in a and \"you\" not in a:\n",
    "    print(\"python\")\n",
    "elif \"shirt\" not in a:\n",
    "    print(\"shirt\")\n",
    "elif \"need\" in a:\n",
    "    print(\"need\")\n",
    "else:\n",
    "    print(\"none\")"
   ]
  },
  {
   "cell_type": "code",
   "execution_count": 100,
   "id": "394ab484-8d0f-417a-a952-099d19bdd534",
   "metadata": {},
   "outputs": [
    {
     "name": "stdout",
     "output_type": "stream",
     "text": [
      "166833\n"
     ]
    }
   ],
   "source": [
    "# Q2 3의 배수의 합 구하기\n",
    "result = 0\n",
    "i = 1\n",
    "while i<=1000:\n",
    "    if i%3 == 0:\n",
    "        result+=i\n",
    "    i += 1\n",
    "print(result)"
   ]
  },
  {
   "cell_type": "code",
   "execution_count": 103,
   "id": "6ba0de4b-ea21-4bf3-b057-92f22a973fdb",
   "metadata": {},
   "outputs": [
    {
     "name": "stdout",
     "output_type": "stream",
     "text": [
      "*\n",
      "**\n",
      "***\n",
      "****\n",
      "*****\n"
     ]
    }
   ],
   "source": [
    "# Q3 별 표시하기\n",
    "i = 0\n",
    "while True:\n",
    "    i+=1\n",
    "    if i>5:\n",
    "        break\n",
    "    print(i*\"*\")"
   ]
  },
  {
   "cell_type": "code",
   "execution_count": 107,
   "id": "e99dcfc1-e3a5-4ddd-9a87-4e0f0e77d69f",
   "metadata": {},
   "outputs": [
    {
     "name": "stdout",
     "output_type": "stream",
     "text": [
      "1 2 3 4 5 6 7 8 9 10 11 12 13 14 15 16 17 18 19 20 21 22 23 24 25 26 27 28 29 30 31 32 33 34 35 36 37 38 39 40 41 42 43 44 45 46 47 48 49 50 51 52 53 54 55 56 57 58 59 60 61 62 63 64 65 66 67 68 69 70 71 72 73 74 75 76 77 78 79 80 81 82 83 84 85 86 87 88 89 90 91 92 93 94 95 96 97 98 99 100 "
     ]
    }
   ],
   "source": [
    "# Q4 1부터 100까지 출력하기.\n",
    "for i in range(1,101):\n",
    "    print(i, end=' ')"
   ]
  },
  {
   "cell_type": "code",
   "execution_count": 136,
   "id": "0737c7f1-12be-42a9-9ba0-cd703e06a7b3",
   "metadata": {},
   "outputs": [
    {
     "name": "stdout",
     "output_type": "stream",
     "text": [
      "79.0\n"
     ]
    }
   ],
   "source": [
    "# Q5 평균 점수 구하기\n",
    "A = [70,60,55,75,95,90,80,80,85,100]\n",
    "total = 0\n",
    "for score in A:\n",
    "    total += score \n",
    "average = total/len(A)\n",
    "print(average)"
   ]
  },
  {
   "cell_type": "code",
   "execution_count": 110,
   "id": "e1c2173b-a956-48b8-91bb-58606dac33bc",
   "metadata": {},
   "outputs": [
    {
     "name": "stdout",
     "output_type": "stream",
     "text": [
      "[2, 4, 6, 8, 10]\n",
      "[2, 4, 6, 8, 10]\n"
     ]
    }
   ],
   "source": [
    "# Q6 리스트 컴프리헨션 사용하기\n",
    "numbers = [1,2,3,4,5]\n",
    "result1 = []\n",
    "for n in numbers:\n",
    "    result1.append(n*2)\n",
    "print(result1)\n",
    "\n",
    "result = [n*2 for n in numbers]\n",
    "print(result)"
   ]
  }
 ],
 "metadata": {
  "kernelspec": {
   "display_name": "Python 3 (ipykernel)",
   "language": "python",
   "name": "python3"
  },
  "language_info": {
   "codemirror_mode": {
    "name": "ipython",
    "version": 3
   },
   "file_extension": ".py",
   "mimetype": "text/x-python",
   "name": "python",
   "nbconvert_exporter": "python",
   "pygments_lexer": "ipython3",
   "version": "3.13.1"
  }
 },
 "nbformat": 4,
 "nbformat_minor": 5
}
