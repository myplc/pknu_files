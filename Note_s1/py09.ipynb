{
 "cells": [
  {
   "cell_type": "code",
   "execution_count": 6,
   "id": "1208f881-55bd-43ff-a524-06347548d5d4",
   "metadata": {},
   "outputs": [],
   "source": [
    "!pip install -q -U google-genai"
   ]
  },
  {
   "cell_type": "code",
   "execution_count": 11,
   "id": "e5f2a928-2049-4dc9-8add-5f59f2ee1416",
   "metadata": {
    "id": "C8-ODdkDJknb"
   },
   "outputs": [
    {
     "name": "stdout",
     "output_type": "stream",
     "text": [
      "Pandas는 파이썬에서 데이터를 효율적으로 처리하고 분석할 수 있도록 설계된 라이브러리입니다. 표 형태의 데이터를 다루는 데 특화되어 있으며, 엑셀 스프레드시트나 SQL 테이블과 유사한 데이터 구조를 제공합니다.\n",
      "\n",
      "핵심 자료구조는 **Series**와 **DataFrame**입니다. Series는 1차원 배열 형태이며, DataFrame은 2차원 테이블 형태로 Series들이 모여 구성됩니다. DataFrame은 다양한 데이터 타입(숫자, 문자열, 날짜 등)을 컬럼별로 담을 수 있습니다.\n",
      "\n",
      "Pandas는 데이터 정제, 변환, 분석 및 시각화를 위한 다양한 기능을 제공합니다. 예를 들어, 결측치 처리, 데이터 필터링, 정렬, 그룹화, 통계 계산 등을 수행할 수 있습니다. 또한, CSV, 엑셀, SQL 데이터베이스 등 다양한 형식의 데이터를 읽고 쓸 수 있습니다.\n",
      "\n",
      "Pandas는 데이터 분석 및 머신러닝 워크플로우에서 필수적인 도구이며, 데이터 전처리 과정을 간편하게 만들어줍니다.\n",
      "\n"
     ]
    },
    {
     "data": {
      "text/plain": [
       "'Pandas는 파이썬에서 데이터를 효율적으로 처리하고 분석할 수 있도록 설계된 라이브러리입니다. 표 형태의 데이터를 다루는 데 특화되어 있으며, 엑셀 스프레드시트나 SQL 테이블과 유사한 데이터 구조를 제공합니다.\\n\\n핵심 자료구조는 **Series**와 **DataFrame**입니다. Series는 1차원 배열 형태이며, DataFrame은 2차원 테이블 형태로 Series들이 모여 구성됩니다. DataFrame은 다양한 데이터 타입(숫자, 문자열, 날짜 등)을 컬럼별로 담을 수 있습니다.\\n\\nPandas는 데이터 정제, 변환, 분석 및 시각화를 위한 다양한 기능을 제공합니다. 예를 들어, 결측치 처리, 데이터 필터링, 정렬, 그룹화, 통계 계산 등을 수행할 수 있습니다. 또한, CSV, 엑셀, SQL 데이터베이스 등 다양한 형식의 데이터를 읽고 쓸 수 있습니다.\\n\\nPandas는 데이터 분석 및 머신러닝 워크플로우에서 필수적인 도구이며, 데이터 전처리 과정을 간편하게 만들어줍니다.\\n'"
      ]
     },
     "execution_count": 11,
     "metadata": {},
     "output_type": "execute_result"
    }
   ],
   "source": [
    "# 구글 제미나이 AI\n",
    "from google import genai\n",
    "def aiai(text):\n",
    "    client = genai.Client(api_key=\"AIzaSyCdDaxcWgqT486383Bg-Ly_0gLqVdBZNfSGsxk\")\n",
    "    response = client.models.generate_content(model=\"gemini-2.0-flash\",contents=text + \";단, 400자 이내 그리고 서술형으로 친절하게 알려줘.\")\n",
    "    answer = response.text\n",
    "    print(answer)\n",
    "    return answer\n",
    "aiai(\"pandas에 대해서 궁금해!!\")"
   ]
  },
  {
   "cell_type": "code",
   "execution_count": null,
   "id": "ba5a3dcb-a734-4f3c-ba56-b4c9159ceb08",
   "metadata": {},
   "outputs": [],
   "source": []
  }
 ],
 "metadata": {
  "kernelspec": {
   "display_name": "Python 3 (ipykernel)",
   "language": "python",
   "name": "python3"
  },
  "language_info": {
   "codemirror_mode": {
    "name": "ipython",
    "version": 3
   },
   "file_extension": ".py",
   "mimetype": "text/x-python",
   "name": "python",
   "nbconvert_exporter": "python",
   "pygments_lexer": "ipython3",
   "version": "3.13.1"
  }
 },
 "nbformat": 4,
 "nbformat_minor": 5
}
