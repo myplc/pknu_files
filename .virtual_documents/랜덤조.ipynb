


import random, time
numbers = list(range(1,22))
random.shuffle(numbers)

for i in range(0, len(numbers),4):
    print(f'{i+1}조: {numbers[i:i+4]}')
    time.sleep(5)


import random
numbers = list(range(1,6))
print(f'박혜미는 {random.choice(numbers)} 조')


import random , time
pick = random.sample(range(1,6),5)
print('발표순서!!')
time.sleep(2)
print('두구두구...')
for i, p in enumerate(pick,1):
    print(f'{i}번째 순위 {p} 조')
    time.sleep(2)






