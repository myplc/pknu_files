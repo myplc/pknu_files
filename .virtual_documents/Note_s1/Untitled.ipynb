from hdfs import InsecureClient
from io import BytesIO
import pandas as pd


get_ipython().getoutput("pip uninstall xlrd")

# !pip install xlrd==1.2.0


hdfs = InsecureClient('http://namenode:9870',user="hadoop")
hdfs_path ='/user/hadoop/autoupload/'
file_name = '지역_위치별(주유소).xls'
full_path = hdfs_path + file_name
with hdfs.read(full_path) as reader:
    raw_data = reader.read()  # 전체 내용을 바이트로 읽음
    buffer = BytesIO(raw_data)  # 메모리에서 seek 가능한 객체 생성
    df = pd.read_excel(buffer, engine='xlrd')  # 필요시 engine 
data



dir(pd)



