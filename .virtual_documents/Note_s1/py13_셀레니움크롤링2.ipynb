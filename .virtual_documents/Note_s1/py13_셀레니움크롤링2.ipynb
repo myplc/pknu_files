# !pip install folium


import pandas as pd
import folium
file_path = '../ref/starbucks_20250411113937.csv'
data = pd.read_csv(file_path)
data = data[['이름','위도','경도','주소','타입']]
data.head()


fixdata = data[['이름','위도','경도']]
fixdata.head()


coordinates = fixdata[['위도','경도']].to_numpy()
place = fixdata['이름'].to_numpy()

# 중심좌표 설정(기본위치)
center_lat , center_lon = 35.17574571 , 129.0817409

# 지도생성
m = folium.Map(location=[center_lat , center_lon], zoom_start=12 )
store_type = data['타입']

for i, (lat, lon) in enumerate(coordinates):
    if store_type[i] == "pin_generalDT":
        ccolor = "blue"
        fcolor = "skyblue"
    elif store_type[i] == "pin_general":
        ccolor = "green"
        fcolor = "yellow"
    else:
        ccolor = "red"
        fcolor = "orange"
        
    folium.CircleMarker(
        location=[lat , lon],
        radius = 10,
        color= ccolor,
        fill = True,
        fill_color = fcolor,
        fill_opacity = 0.5,
        tooltip = place[i]
    ).add_to(m) # 지도 생성 후 원을 그리고 지도에 붙임

    folium.Marker(
        location = [lat + 0.001, lon],
        icon = folium.DivIcon(f'<div style="font-size: 9px; color: black; background-color: white; width:50px; white-space: nowrap; overflow: hidden; text-overflow: ellipsis; opactiy:0.7; border-radius:5px">{place[i]}</div>')
    ).add_to(m)
    
m



