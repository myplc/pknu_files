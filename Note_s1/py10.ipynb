{
 "cells": [
  {
   "cell_type": "code",
   "execution_count": 6,
   "metadata": {
    "id": "VqIQxkPyfV31"
   },
   "outputs": [],
   "source": [
    "# with open('./drive/MyDrive/ReadME.md','w') as f:\n",
    "#     data = f.write('*반가워요.')\n",
    "#     print(\"저장되었습니다.\")\n",
    "# !pwd"
   ]
  },
  {
   "cell_type": "markdown",
   "metadata": {
    "id": "F9THe7oIioNj"
   },
   "source": [
    "# 넘파이(numpy)"
   ]
  },
  {
   "cell_type": "markdown",
   "metadata": {
    "id": "kNh5RHxvjYjR"
   },
   "source": [
    "- ndim : 축의 개수\n",
    "- shape : 배열의 차원정보\n",
    "- size : 배열안에 있는 원소의 총 개수\n",
    "- dtype : 배열 원소의 자료형"
   ]
  },
  {
   "cell_type": "markdown",
   "metadata": {
    "id": "CQK67zTiuMKQ"
   },
   "source": [
    "## 1차원과 속성들"
   ]
  },
  {
   "cell_type": "code",
   "execution_count": 24,
   "metadata": {
    "colab": {
     "base_uri": "https://localhost:8080/"
    },
    "id": "jw9qJgCKhfIG",
    "outputId": "d0b95123-e991-464e-879f-6b4736a62a1a"
   },
   "outputs": [
    {
     "name": "stdout",
     "output_type": "stream",
     "text": [
      "[0 1 2 3 4] <class 'numpy.ndarray'>\n",
      "1\n",
      "(5,)\n",
      "5\n",
      "int64\n",
      "3\n",
      "[2 3]\n"
     ]
    }
   ],
   "source": [
    "# pip install numpy\n",
    "import numpy as np\n",
    "narry = np.array(range(5))\n",
    "print(narry,type(narry))\n",
    "print(narry.ndim)\n",
    "print(narry.shape)\n",
    "print(narry.size)\n",
    "print(narry.dtype)\n",
    "print(narry[3])\n",
    "print(narry[2:4]) #    <= x <"
   ]
  },
  {
   "cell_type": "code",
   "execution_count": 26,
   "metadata": {
    "colab": {
     "base_uri": "https://localhost:8080/"
    },
    "id": "iIMsovMsi6lg",
    "outputId": "45aeae0f-d81f-48b1-bcf6-e96862364e33"
   },
   "outputs": [
    {
     "name": "stdout",
     "output_type": "stream",
     "text": [
      "[1 2 3 4] int64\n",
      "['1' '2' 'a' 'b'] <U21\n",
      "['1' '2' '3' '4'] <U1\n"
     ]
    }
   ],
   "source": [
    "narr1 = np.array([1,2,3,4]) # int64\n",
    "narr2 = np.array([1,2,'a','b'])\n",
    "narr3 = np.array([1,2,3,4],dtype='str')\n",
    "print(narr1,narr1.dtype)\n",
    "print(narr2,narr2.dtype)\n",
    "print(narr3,narr3.dtype)"
   ]
  },
  {
   "cell_type": "code",
   "execution_count": 82,
   "metadata": {
    "colab": {
     "base_uri": "https://localhost:8080/"
    },
    "id": "6hIRY7lCpyeE",
    "outputId": "9022fbac-6274-4bce-a035-2985a5705ee0"
   },
   "outputs": [
    {
     "name": "stdout",
     "output_type": "stream",
     "text": [
      "[[0 0]\n",
      " [0 0]] 2 int64 (2, 2) 4 <class 'numpy.ndarray'>\n",
      "[[1. 1.]\n",
      " [1. 1.]] 2 float64 (2, 2) 4 <class 'numpy.ndarray'>\n",
      "[[3 3 3]\n",
      " [3 3 3]\n",
      " [3 3 3]] 2 int64 (3, 3) 9 <class 'numpy.ndarray'>\n",
      "[['number' 'number' 'number']\n",
      " ['number' 'number' 'number']\n",
      " ['number' 'number' 'number']] 2 <U6 (3, 3) 9 <class 'numpy.ndarray'>\n",
      "[[1. 0. 0.]\n",
      " [0. 1. 0.]\n",
      " [0. 0. 1.]] 2 float64 (3, 3) 9 <class 'numpy.ndarray'>\n",
      "[ 0 20 40 60 80] 1 int64 (5,) 5 <class 'numpy.ndarray'>\n",
      "[ 0 20 40 60 80] 1 int64 (5,) 5 <class 'numpy.ndarray'>\n"
     ]
    }
   ],
   "source": [
    "narr4 = np.zeros((2,2),dtype='int64')\n",
    "narr5 = np.ones((2,2))\n",
    "narr6 = np.full((3,3),3)\n",
    "narr7 = np.full((3,3),'number')\n",
    "narr8 = np.eye(3)\n",
    "narr9 = np.linspace(0,100,5,endpoint=False,dtype='int64')\n",
    "narr10 = np.arange(0,100,20)\n",
    "print(narr4,narr4.ndim,narr4.dtype,narr4.shape,narr4.size,type(narr4))\n",
    "print(narr5,narr5.ndim,narr5.dtype,narr5.shape,narr5.size,type(narr5))\n",
    "print(narr6,narr6.ndim,narr6.dtype,narr6.shape,narr6.size,type(narr6))\n",
    "print(narr7,narr7.ndim,narr7.dtype,narr7.shape,narr7.size,type(narr7))\n",
    "print(narr8,narr8.ndim,narr8.dtype,narr8.shape,narr8.size,type(narr8))\n",
    "print(narr9,narr9.ndim,narr9.dtype,narr9.shape,narr9.size,type(narr9))\n",
    "print(narr10,narr10.ndim,narr10.dtype,narr10.shape,narr10.size,type(narr10))"
   ]
  },
  {
   "cell_type": "markdown",
   "metadata": {
    "id": "WYZ2lJw4uQxz"
   },
   "source": [
    "## 2차원 배열"
   ]
  },
  {
   "cell_type": "code",
   "execution_count": 59,
   "metadata": {
    "colab": {
     "base_uri": "https://localhost:8080/"
    },
    "id": "5FrkT7KIvV1f",
    "outputId": "ffe726d1-8500-4fec-e488-64a3a1ae04c1"
   },
   "outputs": [
    {
     "name": "stdout",
     "output_type": "stream",
     "text": [
      "[2, 3, 4, 5, 6, 7, 8, 9]\n",
      "[2 3 4 5 6 7 8 9]\n"
     ]
    },
    {
     "data": {
      "text/plain": [
       "array([0, 1, 2, 3, 4, 5, 6, 7, 8, 9])"
      ]
     },
     "execution_count": 59,
     "metadata": {},
     "output_type": "execute_result"
    }
   ],
   "source": [
    "print(list(range(2,10)))\n",
    "print(np.arange(2,10))\n",
    "range(10)\n",
    "np.arange(10)"
   ]
  },
  {
   "cell_type": "code",
   "execution_count": 44,
   "metadata": {
    "colab": {
     "base_uri": "https://localhost:8080/"
    },
    "id": "-MoqWNKGlUmz",
    "outputId": "7c40f968-2c23-4705-8543-0f127633942c"
   },
   "outputs": [
    {
     "name": "stdout",
     "output_type": "stream",
     "text": [
      "[[0 0]\n",
      " [0 0]] 2 int64 (2, 2) 4 <class 'numpy.ndarray'>\n"
     ]
    }
   ],
   "source": [
    "arr1 = np.array([[0,0],[0,0]])\n",
    "print(arr1,arr1.ndim, arr1.dtype, arr1.shape, arr1.size, type(arr1))"
   ]
  },
  {
   "cell_type": "code",
   "execution_count": 66,
   "metadata": {
    "colab": {
     "base_uri": "https://localhost:8080/"
    },
    "id": "fO9Am_O1pf9c",
    "outputId": "c2dfae17-8092-4b39-f79c-e4d178869d8e"
   },
   "outputs": [
    {
     "name": "stdout",
     "output_type": "stream",
     "text": [
      "차원: 2 / 데이터타입: int64 / 형태: (3, 3) / 크기: 9 <class 'numpy.ndarray'> [[1 2 3]\n",
      " [4 5 6]\n",
      " [7 8 9]]\n",
      "차원: 2 / 데이터타입: int64 / 형태: (3, 3) / 크기: 9 <class 'numpy.ndarray'> [[1 2 3]\n",
      " [4 5 6]\n",
      " [7 8 9]]\n",
      "차원: 2 / 데이터타입: int64 / 형태: (2, 5) / 크기: 10 <class 'numpy.ndarray'> [[ 1  2  3  4  5]\n",
      " [ 6  7  8  9 10]]\n",
      "차원: 2 / 데이터타입: int64 / 형태: (5, 2) / 크기: 10 <class 'numpy.ndarray'> [[ 1  2]\n",
      " [ 3  4]\n",
      " [ 5  6]\n",
      " [ 7  8]\n",
      " [ 9 10]]\n",
      "차원: 3 / 데이터타입: int64 / 형태: (3, 3, 3) / 크기: 27 <class 'numpy.ndarray'> [[[ 1  2  3]\n",
      "  [ 4  5  6]\n",
      "  [ 7  8  9]]\n",
      "\n",
      " [[10 11 12]\n",
      "  [13 14 15]\n",
      "  [16 17 18]]\n",
      "\n",
      " [[19 20 21]\n",
      "  [22 23 24]\n",
      "  [25 26 27]]]\n"
     ]
    }
   ],
   "source": [
    "arr2 = np.array([1,2,3,4,5,6,7,8,9]).reshape(3,3)\n",
    "arr3 = np.arange(1,10).reshape(3,3)\n",
    "arr4 = np.arange(1,11).reshape(2,5)\n",
    "arr5 = np.arange(1,11).reshape(5,2)\n",
    "arr6 = np.arange(1,28).reshape(3,3,3)\n",
    "print('차원:',arr2.ndim,'/ 데이터타입:', arr2.dtype,'/ 형태:', arr2.shape, '/ 크기:',arr2.size, type(arr2),arr2)\n",
    "print('차원:',arr3.ndim,'/ 데이터타입:', arr3.dtype,'/ 형태:', arr3.shape, '/ 크기:',arr3.size, type(arr3),arr3)\n",
    "print('차원:',arr4.ndim,'/ 데이터타입:', arr4.dtype,'/ 형태:', arr4.shape, '/ 크기:',arr4.size, type(arr4),arr4)\n",
    "print('차원:',arr5.ndim,'/ 데이터타입:', arr5.dtype,'/ 형태:', arr5.shape, '/ 크기:',arr5.size, type(arr5),arr5)\n",
    "print('차원:',arr6.ndim,'/ 데이터타입:', arr6.dtype,'/ 형태:', arr6.shape, '/ 크기:',arr6.size, type(arr6),arr6)"
   ]
  },
  {
   "cell_type": "code",
   "execution_count": 74,
   "metadata": {
    "colab": {
     "base_uri": "https://localhost:8080/"
    },
    "id": "I_KhyV97ud8m",
    "outputId": "c7eea83a-c57f-49c2-8ab0-d20255ef8d26"
   },
   "outputs": [
    {
     "name": "stdout",
     "output_type": "stream",
     "text": [
      "[[ 1  2  3  4  5  6  7]\n",
      " [ 8  9 10 11 12 13 14]\n",
      " [15 16 17 18 19 20 21]]\n",
      "=======================\n",
      "[[1]\n",
      " [2]\n",
      " [3]\n",
      " [4]\n",
      " [5]\n",
      " [6]\n",
      " [7]]\n",
      "=======================\n",
      "[[ 1  2]\n",
      " [ 3  4]\n",
      " [ 5  6]\n",
      " [ 7  8]\n",
      " [ 9 10]]\n",
      "=======================\n",
      "[[ 1  2  3  4  5  6  7]\n",
      " [ 8  9 10 11 12 13 14]\n",
      " [15 16 17 18 19 20 21]]\n",
      "=======================\n",
      "[[[ 1]\n",
      "  [ 2]\n",
      "  [ 3]]\n",
      "\n",
      " [[ 4]\n",
      "  [ 5]\n",
      "  [ 6]]\n",
      "\n",
      " [[ 7]\n",
      "  [ 8]\n",
      "  [ 9]]\n",
      "\n",
      " [[10]\n",
      "  [11]\n",
      "  [12]]]\n"
     ]
    }
   ],
   "source": [
    "t1 = np.arange(1,22).reshape(3,7)\n",
    "t2 = np.arange(1,8).reshape(7,1)\n",
    "t3 = np.arange(1,11).reshape(5,2)\n",
    "t4 = np.arange(1,22).reshape(3,7)\n",
    "t5 = np.arange(1,13).reshape(4,3,1)\n",
    "print(t1)\n",
    "print(\"=\"*23)\n",
    "print(t2)\n",
    "print(\"=\"*23)\n",
    "print(t3)\n",
    "print(\"=\"*23)\n",
    "print(t4)\n",
    "print(\"=\"*23)\n",
    "print(t5)"
   ]
  },
  {
   "cell_type": "code",
   "execution_count": 105,
   "metadata": {
    "colab": {
     "base_uri": "https://localhost:8080/"
    },
    "id": "aR7LSafs2SVv",
    "outputId": "764f1d02-95a9-40b3-9a3c-3e2aa0cc4a73"
   },
   "outputs": [
    {
     "name": "stdout",
     "output_type": "stream",
     "text": [
      "[10 11 12]\n",
      "[[ 1  2  3  4  5  6  7]\n",
      " [ 8  9 10 11 12 13 14]\n",
      " [15 16 17 18 19 20 21]]\n",
      "[[10 11]\n",
      " [17 18]]\n",
      "[[12 13]\n",
      " [19 20]]\n",
      "[[False  True False  True False  True False]\n",
      " [ True False  True False  True False  True]\n",
      " [False  True False  True False  True False]]\n"
     ]
    }
   ],
   "source": [
    "# test\n",
    "print(t1[1][2:5])\n",
    "print(t4)\n",
    "print(t4[1:3,2:4])\n",
    "print(t4[1:3,4:6])\n",
    "print(t4 % 2 == 0)"
   ]
  },
  {
   "cell_type": "code",
   "execution_count": 108,
   "metadata": {
    "colab": {
     "base_uri": "https://localhost:8080/"
    },
    "id": "sv7F8FcYEsrk",
    "outputId": "d344974a-ebe7-4c31-ac8d-885ebc61aa93"
   },
   "outputs": [
    {
     "name": "stdout",
     "output_type": "stream",
     "text": [
      "덧셈: [ 7  9 11 13 15]\n",
      "뺄셈: [5 5 5 5 5]\n",
      "곱셈: [ 6 14 24 36 50]\n",
      "나눗셈: [6.         3.5        2.66666667 2.25       2.        ]\n"
     ]
    }
   ],
   "source": [
    "# np 배열 연산 // shape 가 같을 경우 원소별 연산이 가능\n",
    "np1 = np.array([6,7,8,9,10])\n",
    "np2 = np.array([1,2,3,4,5])\n",
    "print(\"덧셈:\",np1 + np2)\n",
    "print(\"뺄셈:\",np1 - np2)\n",
    "print(\"곱셈:\",np1 * np2)\n",
    "print(\"나눗셈:\",np1 / np2)"
   ]
  },
  {
   "cell_type": "code",
   "execution_count": 111,
   "metadata": {
    "colab": {
     "base_uri": "https://localhost:8080/"
    },
    "id": "WoFotWFAFy6B",
    "outputId": "7382ff49-77f1-4415-f5e3-2af0f2f52d7f"
   },
   "outputs": [
    {
     "name": "stdout",
     "output_type": "stream",
     "text": [
      "[16 17 18 19 20]\n"
     ]
    }
   ],
   "source": [
    "# 브로드캐스팅\n",
    "np3 = np1 + 10\n",
    "print(np3)"
   ]
  },
  {
   "cell_type": "code",
   "execution_count": 133,
   "metadata": {
    "colab": {
     "base_uri": "https://localhost:8080/"
    },
    "id": "f0uHF7cwG4zq",
    "outputId": "993acbe8-b192-43a4-e568-33a0a974ba6f"
   },
   "outputs": [
    {
     "name": "stdout",
     "output_type": "stream",
     "text": [
      "[[1 2 3]\n",
      " [4 5 6]\n",
      " [7 8 9]]\n",
      "[[11]\n",
      " [22]\n",
      " [33]]\n",
      "=====스칼라와 연산=====\n",
      "[[1 2 3]\n",
      " [4 5 6]\n",
      " [7 8 9]]\n",
      "[[ 4  5  6]\n",
      " [ 7  8  9]\n",
      " [10 11 12]]\n",
      "[[ 2  4  6]\n",
      " [ 8 10 12]\n",
      " [14 16 18]]\n",
      "=====2D 와 1D 의 연산=====\n",
      "[[11]\n",
      " [22]\n",
      " [33]]\n",
      "[[12 13 14]\n",
      " [26 27 28]\n",
      " [40 41 42]]\n",
      "[[ 11  22  33]\n",
      " [ 88 110 132]\n",
      " [231 264 297]]\n"
     ]
    }
   ],
   "source": [
    "br1 = np.arange(1,10).reshape(3,3)\n",
    "br2 = np.array([11,22,33]) #.reshape(1,3)\n",
    "print(br1)\n",
    "print(br2)\n",
    "# 스칼라와 연산\n",
    "print(\"=====스칼라와 연산=====\")\n",
    "print(br1)\n",
    "print(br1+3)\n",
    "print(br1*2)\n",
    "# 2D 와 1D 의 연산\n",
    "print(\"=====2D 와 1D 의 연산=====\")\n",
    "print(br2)\n",
    "print(br1+br2)\n",
    "print(br1*br2)"
   ]
  },
  {
   "cell_type": "code",
   "execution_count": 142,
   "metadata": {
    "colab": {
     "base_uri": "https://localhost:8080/"
    },
    "id": "cOxmUU6jJUL7",
    "outputId": "9f8a3279-caab-4362-dda5-26eb3353fe94"
   },
   "outputs": [
    {
     "name": "stdout",
     "output_type": "stream",
     "text": [
      "[[1 2 3]\n",
      " [4 5 6]\n",
      " [7 8 9]]\n",
      "[1 2 3 4 5 6 7 8 9]\n",
      "[1 2 3 4 5 6 7 8 9]\n"
     ]
    }
   ],
   "source": [
    "# flatten 처리\n",
    "ff = np.arange(1,10).reshape(3,3)\n",
    "print(ff)\n",
    "print(ff.reshape(9))\n",
    "print(ff.flatten())"
   ]
  },
  {
   "cell_type": "markdown",
   "metadata": {},
   "source": [
    "## Random number 발생"
   ]
  },
  {
   "cell_type": "markdown",
   "metadata": {},
   "source": [
    "- np.random.randint(): 균일 분포의 정수 난수\n",
    "- np.random.rand(): 0부터 1사이의 균일 분포 난수 생성\n",
    "- np.random.randn(): 표준 정규 분포 난수 생성\n",
    "- np.random.normal(): 정규 분포 난수 생성"
   ]
  },
  {
   "cell_type": "code",
   "execution_count": 2,
   "metadata": {},
   "outputs": [
    {
     "data": {
      "text/plain": [
       "array([[[207, 200, 128],\n",
       "        [ 18, 219,  48],\n",
       "        [229,   9, 142]],\n",
       "\n",
       "       [[ 79,  86, 123],\n",
       "        [102, 164,  71],\n",
       "        [185,  11,  92]],\n",
       "\n",
       "       [[ 66, 226,  12],\n",
       "        [191, 111,  12],\n",
       "        [147,  39, 106]]], dtype=int32)"
      ]
     },
     "execution_count": 2,
     "metadata": {},
     "output_type": "execute_result"
    }
   ],
   "source": [
    "# randomint\n",
    "import numpy as np\n",
    "x = np.random.randint(0,255,size=(3,3,3))\n",
    "x"
   ]
  },
  {
   "cell_type": "code",
   "execution_count": 22,
   "metadata": {},
   "outputs": [
    {
     "name": "stdout",
     "output_type": "stream",
     "text": [
      "평균값: 150.4814814814815 표준편차: 74.64998343894554 최소값: 9 최대값: 254\n"
     ]
    }
   ],
   "source": [
    "print('평균값:',np.mean(x),'표준편차:',np.std(x),'최소값:',x.min(),'최대값:',x.max())"
   ]
  },
  {
   "cell_type": "code",
   "execution_count": 18,
   "metadata": {},
   "outputs": [
    {
     "name": "stdout",
     "output_type": "stream",
     "text": [
      "2.64\n"
     ]
    }
   ],
   "source": [
    "size = (10,5)\n",
    "x = np.random.randint(1,5,size=size)\n",
    "x\n",
    "# print(np.mean(x))"
   ]
  },
  {
   "cell_type": "code",
   "execution_count": 17,
   "metadata": {},
   "outputs": [
    {
     "name": "stdout",
     "output_type": "stream",
     "text": [
      "0.5705644484523147\n"
     ]
    }
   ],
   "source": [
    "x = np.random.rand(10,5)\n",
    "x\n",
    "# print(np.mean(x))"
   ]
  },
  {
   "cell_type": "code",
   "execution_count": 20,
   "metadata": {},
   "outputs": [
    {
     "name": "stdout",
     "output_type": "stream",
     "text": [
      "[[ 0.83910698  6.28553653  6.85485048 12.05968352  7.21009255]\n",
      " [ 6.436378   -0.74663109  8.78526713  3.81588819  1.39299905]\n",
      " [ 8.18011442  1.14839697  6.21057208 -1.11016675  5.42320891]\n",
      " [ 6.60015033  6.55035278  1.63990847  6.2121961   6.38312882]\n",
      " [ 7.7502934   0.54880109  3.15057485  4.05290705 10.8432159 ]\n",
      " [ 4.61369315  7.23643155  4.16906499 -4.2766712   6.46108635]\n",
      " [ 2.64922891  7.65242669  3.50263448  2.51802497  4.38781477]\n",
      " [ 3.02004932  5.47854716  8.09875291  6.09640138  4.99872553]\n",
      " [ 2.87271659  1.39678526  6.36484813  5.98133061  6.03429542]\n",
      " [ 7.24518017  2.79951142  2.94860833  9.82764115  4.46396396]]\n",
      "4.86115835516668 3.0945388216559206 -4.276671196133371 12.059683515711084\n"
     ]
    }
   ],
   "source": [
    "x = np.random.normal(5,3,(10,5)) # 평균이 , 표준편차 3\n",
    "print(x)\n",
    "print(np.mean(x),np.std(x),x.min(),x.max())"
   ]
  },
  {
   "cell_type": "code",
   "execution_count": 23,
   "metadata": {},
   "outputs": [
    {
     "name": "stdout",
     "output_type": "stream",
     "text": [
      "[[ 0.88622113 -0.04588059  1.09625995  1.51250603 -0.00564959]\n",
      " [ 1.49447652 -0.91786022  0.05508113 -0.56833261 -0.16266836]\n",
      " [ 1.13905416 -1.03655969  0.10615337 -0.50136358 -1.0908648 ]\n",
      " [-0.60338969  0.25876535  0.4834776  -0.45495627 -1.15049889]\n",
      " [-1.61249772 -2.22310195  0.57325222 -0.56405371  0.66347666]\n",
      " [ 0.391537    0.90761     1.132846    1.72371016 -1.04165958]\n",
      " [-0.25614511  2.08813296  0.12671491  0.55953521 -0.19573362]\n",
      " [ 0.4836171   0.89086461 -0.63143571  1.50441435 -0.39921539]\n",
      " [ 0.40639706  1.8639294  -0.1853042   1.58357592 -0.78040146]\n",
      " [-0.50804567 -0.13605425 -1.22330541 -1.04551669  0.48294618]]\n",
      "0.10148120502061836 0.9663177839840664 -2.2231019451901957 2.088132959050271\n"
     ]
    }
   ],
   "source": [
    "x = np.random.randn(10,5)\n",
    "print(x)\n",
    "print(np.mean(x), np.std(x),x.min(),x.max())"
   ]
  },
  {
   "cell_type": "code",
   "execution_count": 25,
   "metadata": {},
   "outputs": [
    {
     "name": "stdout",
     "output_type": "stream",
     "text": [
      "x의 개수 14\n",
      "x의 개수 11\n",
      "0의 개수 3\n"
     ]
    }
   ],
   "source": [
    "x = np.array([3,4,45,43,65,0,0,0,24362,6,45,6,432,562,])\n",
    "print('x의 개수',len(x))\n",
    "print('x의 개수',np.count_nonzero(x))\n",
    "print('0의 개수',len(x) - np.count_nonzero(x))"
   ]
  },
  {
   "cell_type": "code",
   "execution_count": 27,
   "metadata": {},
   "outputs": [
    {
     "name": "stdout",
     "output_type": "stream",
     "text": [
      "1826.642857142857\n",
      "1826.642857142857\n",
      "39093356.8010204\n",
      "39093356.8010204\n",
      "6252.468056777291\n",
      "6252.468056777291\n",
      "24362\n",
      "0\n",
      "24.5\n"
     ]
    }
   ],
   "source": [
    "print(np.mean(x))\n",
    "print(x.mean())\n",
    "print(np.var(x))\n",
    "print(x.var())\n",
    "print(np.std(x))\n",
    "print(x.std())\n",
    "print(x.max())\n",
    "print(x.min())\n",
    "print(np.median(x))"
   ]
  },
  {
   "cell_type": "code",
   "execution_count": 28,
   "metadata": {},
   "outputs": [
    {
     "name": "stdout",
     "output_type": "stream",
     "text": [
      "0.0\n",
      "3.25\n",
      "24.5\n",
      "60.0\n",
      "24362.0\n"
     ]
    }
   ],
   "source": [
    "print(np.percentile(x,0)) # 최소값\n",
    "print(np.percentile(x,25)) # 제1사분위수\n",
    "print(np.percentile(x,50)) # 중앙값, 제2사분위수\n",
    "print(np.percentile(x,75)) # 제3사분위수\n",
    "print(np.percentile(x,100)) #최대값"
   ]
  },
  {
   "cell_type": "code",
   "execution_count": 24,
   "metadata": {},
   "outputs": [
    {
     "name": "stdout",
     "output_type": "stream",
     "text": [
      "27\n"
     ]
    }
   ],
   "source": [
    "print(len(x.flatten()))"
   ]
  },
  {
   "cell_type": "code",
   "execution_count": 12,
   "metadata": {},
   "outputs": [
    {
     "name": "stdout",
     "output_type": "stream",
     "text": [
      "27\n",
      "22\n"
     ]
    }
   ],
   "source": [
    "y = np.array([0,1,2,3,4,6,34,2,0,23,3,1,2,3,0,0,12,3,5,34,3,3,23,0,1,2,3]).reshape(3,3,3)\n",
    "print(len(y.flatten()))\n",
    "print(np.count_nonzero(y))"
   ]
  },
  {
   "cell_type": "markdown",
   "metadata": {},
   "source": [
    "# 판다스(pandas)"
   ]
  },
  {
   "cell_type": "markdown",
   "metadata": {},
   "source": [
    "- 시리즈(series)\n",
    "- 데이터프레임(dataframe)"
   ]
  },
  {
   "cell_type": "code",
   "execution_count": 3,
   "metadata": {},
   "outputs": [],
   "source": [
    "# !pip install pandas"
   ]
  },
  {
   "cell_type": "code",
   "execution_count": 1,
   "metadata": {},
   "outputs": [],
   "source": [
    "import numpy as np\n",
    "import pandas as pd"
   ]
  },
  {
   "cell_type": "code",
   "execution_count": 19,
   "metadata": {},
   "outputs": [
    {
     "name": "stdout",
     "output_type": "stream",
     "text": [
      "[1 2 3 4 5]\n",
      "0    1\n",
      "1    2\n",
      "2    3\n",
      "3    4\n",
      "4    5\n",
      "dtype: int64 <class 'pandas.core.series.Series'> RangeIndex(start=0, stop=5, step=1) [1 2 3 4 5] int64\n"
     ]
    }
   ],
   "source": [
    "# 판다스 기초 \n",
    "data1 = np.arange(1,6)\n",
    "print(data1)\n",
    "data2 = pd.Series(data1)\n",
    "print(data2, type(data2), data2.index, data2.values, data2.dtype)"
   ]
  },
  {
   "cell_type": "code",
   "execution_count": 20,
   "metadata": {},
   "outputs": [
    {
     "name": "stdout",
     "output_type": "stream",
     "text": [
      "0    1.00\n",
      "1    2.00\n",
      "2    3.14\n",
      "3    4.00\n",
      "4    5.00\n",
      "dtype: float64\n"
     ]
    }
   ],
   "source": [
    "# 판다스 시리즈의 데이터타입\n",
    "data3 = pd.Series([1,2,3.14,4,5]) #, dtype=\"float\")\n",
    "print(data3)"
   ]
  },
  {
   "cell_type": "code",
   "execution_count": 16,
   "metadata": {},
   "outputs": [
    {
     "name": "stdout",
     "output_type": "stream",
     "text": [
      "a    1\n",
      "b    2\n",
      "c    3\n",
      "d    4\n",
      "dtype: int64\n"
     ]
    }
   ],
   "source": [
    "# 판다스 시리즈의 인덱스설정\n",
    "data3 = pd.Series([1,2,3,4], index=['a','b','c','d'])\n",
    "print(data3)"
   ]
  },
  {
   "cell_type": "code",
   "execution_count": 45,
   "metadata": {},
   "outputs": [
    {
     "name": "stdout",
     "output_type": "stream",
     "text": [
      "korea      5182\n",
      "japan     12622\n",
      "china    141178\n",
      "usa       32976\n",
      "dtype: int64 Index(['korea', 'japan', 'china', 'usa'], dtype='object') [  5182  12622 141178  32976]\n",
      "1 (4,) 4\n",
      "32976\n",
      "32976\n"
     ]
    }
   ],
   "source": [
    "# 판다스 시리즈 딕셔너리데이터\n",
    "population_dict = {\n",
    "    'korea':5182,\n",
    "    'japan':12622,\n",
    "    'china':141178,\n",
    "    'usa': 32976\n",
    "}\n",
    "# population_dict.keys()\n",
    "# population_dict.values()\n",
    "# population_dict.items()\n",
    "country = pd.Series(population_dict)\n",
    "print(country, country.index, country.values)\n",
    "print(country.ndim, country.shape, country.size)\n",
    "# 시리즈 원소에 접근방법\n",
    "print(country.loc['usa'])\n",
    "print(country.iloc[3])"
   ]
  },
  {
   "cell_type": "code",
   "execution_count": 47,
   "metadata": {},
   "outputs": [
    {
     "data": {
      "text/html": [
       "<div>\n",
       "<style scoped>\n",
       "    .dataframe tbody tr th:only-of-type {\n",
       "        vertical-align: middle;\n",
       "    }\n",
       "\n",
       "    .dataframe tbody tr th {\n",
       "        vertical-align: top;\n",
       "    }\n",
       "\n",
       "    .dataframe thead th {\n",
       "        text-align: right;\n",
       "    }\n",
       "</style>\n",
       "<table border=\"1\" class=\"dataframe\">\n",
       "  <thead>\n",
       "    <tr style=\"text-align: right;\">\n",
       "      <th></th>\n",
       "      <th>A</th>\n",
       "      <th>B</th>\n",
       "      <th>C</th>\n",
       "    </tr>\n",
       "  </thead>\n",
       "  <tbody>\n",
       "    <tr>\n",
       "      <th>a</th>\n",
       "      <td>1</td>\n",
       "      <td>2</td>\n",
       "      <td>3</td>\n",
       "    </tr>\n",
       "    <tr>\n",
       "      <th>b</th>\n",
       "      <td>4</td>\n",
       "      <td>5</td>\n",
       "      <td>6</td>\n",
       "    </tr>\n",
       "    <tr>\n",
       "      <th>c</th>\n",
       "      <td>7</td>\n",
       "      <td>8</td>\n",
       "      <td>9</td>\n",
       "    </tr>\n",
       "  </tbody>\n",
       "</table>\n",
       "</div>"
      ],
      "text/plain": [
       "   A  B  C\n",
       "a  1  2  3\n",
       "b  4  5  6\n",
       "c  7  8  9"
      ]
     },
     "execution_count": 47,
     "metadata": {},
     "output_type": "execute_result"
    }
   ],
   "source": [
    "# 판다스 데이터 프레임\n",
    "df = pd.DataFrame([[1,2,3],[4,5,6],[7,8,9]],index=['a','b','c'],columns=['A','B','C'])\n",
    "df"
   ]
  },
  {
   "cell_type": "code",
   "execution_count": 76,
   "metadata": {},
   "outputs": [
    {
     "name": "stdout",
     "output_type": "stream",
     "text": [
      "인구수 시리즈 데이터:\n",
      "korea      5182\n",
      "japan     12622\n",
      "china    141178\n",
      "usa       32976\n",
      "dtype: int64\n",
      "GDP 시리즈 데이터:\n",
      "korea     169320000\n",
      "japan     516700000\n",
      "china     140925000\n",
      "usa      2041280000\n",
      "dtype: int64\n",
      "=========================\n",
      "데이터 프레임 생성:\n",
      "Index(['korea', 'japan', 'china', 'usa'], dtype='object', name='Country') Index(['population', 'gdp'], dtype='object', name='Info')\n",
      "[[      5182  169320000]\n",
      " [     12622  516700000]\n",
      " [    141178  140925000]\n",
      " [     32976 2041280000]] (4, 2) 8 2\n"
     ]
    }
   ],
   "source": [
    "# 테스트\n",
    "import numpy as np\n",
    "import pandas as pd\n",
    "\n",
    "# 두 개의 시리즈 데이터\n",
    "print(\"인구수 시리즈 데이터:\")\n",
    "population_dict = {\n",
    "    'korea':5182,\n",
    "    'japan':12622,\n",
    "    'china':141178,\n",
    "    'usa': 32976\n",
    "}\n",
    "population = pd.Series(population_dict)\n",
    "print(population)\n",
    "print(\"GDP 시리즈 데이터:\")\n",
    "GDP_dict = {\n",
    "    'korea':169320000,\n",
    "    'japan':516700000,\n",
    "    'china':140925000,\n",
    "    'usa': 2041280000\n",
    "}\n",
    "GDP = pd.Series(GDP_dict)\n",
    "print(GDP)\n",
    "print('='*25)\n",
    "print(\"데이터 프레임 생성:\")\n",
    "country = pd.DataFrame({'population':population,'gdp':GDP})\n",
    "country.index.name = \"Country\" # 인덱스 이름 지정\n",
    "country.columns.name = \"Info\" # 컬럼 이름 지정\n",
    "print(country.index, country.columns)\n",
    "print(country.values, country.shape, country.size,country.ndim)"
   ]
  },
  {
   "cell_type": "code",
   "execution_count": 83,
   "metadata": {},
   "outputs": [
    {
     "data": {
      "text/plain": [
       "(Info\n",
       " population       141178\n",
       " gdp           140925000\n",
       " Name: china, dtype: int64,\n",
       " Info\n",
       " population        12622\n",
       " gdp           516700000\n",
       " Name: japan, dtype: int64)"
      ]
     },
     "execution_count": 83,
     "metadata": {},
     "output_type": "execute_result"
    }
   ],
   "source": [
    "# 데이터 프레임의 요소 접근 방법, loc ,iloc\n",
    "country.loc['korea'],country.loc['usa']\n",
    "country.iloc[2],country.iloc[1]"
   ]
  },
  {
   "cell_type": "code",
   "execution_count": 90,
   "metadata": {},
   "outputs": [
    {
     "data": {
      "text/html": [
       "<div>\n",
       "<style scoped>\n",
       "    .dataframe tbody tr th:only-of-type {\n",
       "        vertical-align: middle;\n",
       "    }\n",
       "\n",
       "    .dataframe tbody tr th {\n",
       "        vertical-align: top;\n",
       "    }\n",
       "\n",
       "    .dataframe thead th {\n",
       "        text-align: right;\n",
       "    }\n",
       "</style>\n",
       "<table border=\"1\" class=\"dataframe\">\n",
       "  <thead>\n",
       "    <tr style=\"text-align: right;\">\n",
       "      <th>Info</th>\n",
       "      <th>population</th>\n",
       "    </tr>\n",
       "    <tr>\n",
       "      <th>Country</th>\n",
       "      <th></th>\n",
       "    </tr>\n",
       "  </thead>\n",
       "  <tbody>\n",
       "    <tr>\n",
       "      <th>korea</th>\n",
       "      <td>5182</td>\n",
       "    </tr>\n",
       "    <tr>\n",
       "      <th>japan</th>\n",
       "      <td>12622</td>\n",
       "    </tr>\n",
       "  </tbody>\n",
       "</table>\n",
       "</div>"
      ],
      "text/plain": [
       "Info     population\n",
       "Country            \n",
       "korea          5182\n",
       "japan         12622"
      ]
     },
     "execution_count": 90,
     "metadata": {},
     "output_type": "execute_result"
    }
   ],
   "source": [
    "country.loc['korea':'japan',:'population'] # <= x <= "
   ]
  },
  {
   "cell_type": "code",
   "execution_count": 95,
   "metadata": {},
   "outputs": [
    {
     "data": {
      "text/html": [
       "<div>\n",
       "<style scoped>\n",
       "    .dataframe tbody tr th:only-of-type {\n",
       "        vertical-align: middle;\n",
       "    }\n",
       "\n",
       "    .dataframe tbody tr th {\n",
       "        vertical-align: top;\n",
       "    }\n",
       "\n",
       "    .dataframe thead th {\n",
       "        text-align: right;\n",
       "    }\n",
       "</style>\n",
       "<table border=\"1\" class=\"dataframe\">\n",
       "  <thead>\n",
       "    <tr style=\"text-align: right;\">\n",
       "      <th>Info</th>\n",
       "      <th>population</th>\n",
       "    </tr>\n",
       "    <tr>\n",
       "      <th>Country</th>\n",
       "      <th></th>\n",
       "    </tr>\n",
       "  </thead>\n",
       "  <tbody>\n",
       "    <tr>\n",
       "      <th>korea</th>\n",
       "      <td>5182</td>\n",
       "    </tr>\n",
       "    <tr>\n",
       "      <th>japan</th>\n",
       "      <td>12622</td>\n",
       "    </tr>\n",
       "  </tbody>\n",
       "</table>\n",
       "</div>"
      ],
      "text/plain": [
       "Info     population\n",
       "Country            \n",
       "korea          5182\n",
       "japan         12622"
      ]
     },
     "execution_count": 95,
     "metadata": {},
     "output_type": "execute_result"
    }
   ],
   "source": [
    "country.iloc[0:2,:1] # <= x < "
   ]
  },
  {
   "cell_type": "code",
   "execution_count": 102,
   "metadata": {},
   "outputs": [
    {
     "data": {
      "text/html": [
       "<div>\n",
       "<style scoped>\n",
       "    .dataframe tbody tr th:only-of-type {\n",
       "        vertical-align: middle;\n",
       "    }\n",
       "\n",
       "    .dataframe tbody tr th {\n",
       "        vertical-align: top;\n",
       "    }\n",
       "\n",
       "    .dataframe thead th {\n",
       "        text-align: right;\n",
       "    }\n",
       "</style>\n",
       "<table border=\"1\" class=\"dataframe\">\n",
       "  <thead>\n",
       "    <tr style=\"text-align: right;\">\n",
       "      <th>Info</th>\n",
       "      <th>population</th>\n",
       "      <th>gdp</th>\n",
       "      <th>gdp_per</th>\n",
       "    </tr>\n",
       "    <tr>\n",
       "      <th>Country</th>\n",
       "      <th></th>\n",
       "      <th></th>\n",
       "      <th></th>\n",
       "    </tr>\n",
       "  </thead>\n",
       "  <tbody>\n",
       "    <tr>\n",
       "      <th>korea</th>\n",
       "      <td>5182</td>\n",
       "      <td>169320000</td>\n",
       "      <td>32674.642995</td>\n",
       "    </tr>\n",
       "    <tr>\n",
       "      <th>japan</th>\n",
       "      <td>12622</td>\n",
       "      <td>516700000</td>\n",
       "      <td>40936.460149</td>\n",
       "    </tr>\n",
       "    <tr>\n",
       "      <th>china</th>\n",
       "      <td>141178</td>\n",
       "      <td>140925000</td>\n",
       "      <td>998.207936</td>\n",
       "    </tr>\n",
       "    <tr>\n",
       "      <th>usa</th>\n",
       "      <td>32976</td>\n",
       "      <td>2041280000</td>\n",
       "      <td>61901.989326</td>\n",
       "    </tr>\n",
       "  </tbody>\n",
       "</table>\n",
       "</div>"
      ],
      "text/plain": [
       "Info     population         gdp       gdp_per\n",
       "Country                                      \n",
       "korea          5182   169320000  32674.642995\n",
       "japan         12622   516700000  40936.460149\n",
       "china        141178   140925000    998.207936\n",
       "usa           32976  2041280000  61901.989326"
      ]
     },
     "execution_count": 102,
     "metadata": {},
     "output_type": "execute_result"
    }
   ],
   "source": [
    "# 컬럼추가\n",
    "# country['test']=[11,22,33,44]\n",
    "# country = country.drop('test',axis=1)\n",
    "gdpper = country['gdp'] / country['population']\n",
    "country['gdp_per'] =  gdpper\n",
    "country"
   ]
  },
  {
   "cell_type": "code",
   "execution_count": 138,
   "metadata": {},
   "outputs": [
    {
     "data": {
      "text/html": [
       "<div>\n",
       "<style scoped>\n",
       "    .dataframe tbody tr th:only-of-type {\n",
       "        vertical-align: middle;\n",
       "    }\n",
       "\n",
       "    .dataframe tbody tr th {\n",
       "        vertical-align: top;\n",
       "    }\n",
       "\n",
       "    .dataframe thead th {\n",
       "        text-align: right;\n",
       "    }\n",
       "</style>\n",
       "<table border=\"1\" class=\"dataframe\">\n",
       "  <thead>\n",
       "    <tr style=\"text-align: right;\">\n",
       "      <th>Info</th>\n",
       "      <th>population</th>\n",
       "      <th>gdp</th>\n",
       "      <th>gdp_per</th>\n",
       "    </tr>\n",
       "    <tr>\n",
       "      <th>Country</th>\n",
       "      <th></th>\n",
       "      <th></th>\n",
       "      <th></th>\n",
       "    </tr>\n",
       "  </thead>\n",
       "  <tbody>\n",
       "    <tr>\n",
       "      <th>korea</th>\n",
       "      <td>5182.0</td>\n",
       "      <td>1.693200e+08</td>\n",
       "      <td>32674.642995</td>\n",
       "    </tr>\n",
       "    <tr>\n",
       "      <th>japan</th>\n",
       "      <td>12622.0</td>\n",
       "      <td>5.167000e+08</td>\n",
       "      <td>40936.460149</td>\n",
       "    </tr>\n",
       "    <tr>\n",
       "      <th>china</th>\n",
       "      <td>141178.0</td>\n",
       "      <td>1.409250e+08</td>\n",
       "      <td>998.207936</td>\n",
       "    </tr>\n",
       "    <tr>\n",
       "      <th>usa</th>\n",
       "      <td>32976.0</td>\n",
       "      <td>2.041280e+09</td>\n",
       "      <td>61901.989326</td>\n",
       "    </tr>\n",
       "    <tr>\n",
       "      <th>india</th>\n",
       "      <td>142222.0</td>\n",
       "      <td>1.505050e+08</td>\n",
       "      <td>1058.239935</td>\n",
       "    </tr>\n",
       "    <tr>\n",
       "      <th>africa</th>\n",
       "      <td>123456.0</td>\n",
       "      <td>7.777777e+06</td>\n",
       "      <td>NaN</td>\n",
       "    </tr>\n",
       "  </tbody>\n",
       "</table>\n",
       "</div>"
      ],
      "text/plain": [
       "Info     population           gdp       gdp_per\n",
       "Country                                        \n",
       "korea        5182.0  1.693200e+08  32674.642995\n",
       "japan       12622.0  5.167000e+08  40936.460149\n",
       "china      141178.0  1.409250e+08    998.207936\n",
       "usa         32976.0  2.041280e+09  61901.989326\n",
       "india      142222.0  1.505050e+08   1058.239935\n",
       "africa     123456.0  7.777777e+06           NaN"
      ]
     },
     "execution_count": 138,
     "metadata": {},
     "output_type": "execute_result"
    }
   ],
   "source": [
    "# 행추가 방법1\n",
    "country.loc['india'] = [142222,150505000,1212121]\n",
    "country.loc['india','gdp_per'] = country.loc['india','gdp']/country.loc['india','population']\n",
    "country"
   ]
  },
  {
   "cell_type": "code",
   "execution_count": 139,
   "metadata": {},
   "outputs": [
    {
     "data": {
      "text/html": [
       "<div>\n",
       "<style scoped>\n",
       "    .dataframe tbody tr th:only-of-type {\n",
       "        vertical-align: middle;\n",
       "    }\n",
       "\n",
       "    .dataframe tbody tr th {\n",
       "        vertical-align: top;\n",
       "    }\n",
       "\n",
       "    .dataframe thead th {\n",
       "        text-align: right;\n",
       "    }\n",
       "</style>\n",
       "<table border=\"1\" class=\"dataframe\">\n",
       "  <thead>\n",
       "    <tr style=\"text-align: right;\">\n",
       "      <th>Info</th>\n",
       "      <th>population</th>\n",
       "      <th>gdp</th>\n",
       "      <th>gdp_per</th>\n",
       "    </tr>\n",
       "    <tr>\n",
       "      <th>Country</th>\n",
       "      <th></th>\n",
       "      <th></th>\n",
       "      <th></th>\n",
       "    </tr>\n",
       "  </thead>\n",
       "  <tbody>\n",
       "    <tr>\n",
       "      <th>korea</th>\n",
       "      <td>5182.0</td>\n",
       "      <td>1.693200e+08</td>\n",
       "      <td>32674.642995</td>\n",
       "    </tr>\n",
       "    <tr>\n",
       "      <th>japan</th>\n",
       "      <td>12622.0</td>\n",
       "      <td>5.167000e+08</td>\n",
       "      <td>40936.460149</td>\n",
       "    </tr>\n",
       "    <tr>\n",
       "      <th>china</th>\n",
       "      <td>141178.0</td>\n",
       "      <td>1.409250e+08</td>\n",
       "      <td>998.207936</td>\n",
       "    </tr>\n",
       "    <tr>\n",
       "      <th>usa</th>\n",
       "      <td>32976.0</td>\n",
       "      <td>2.041280e+09</td>\n",
       "      <td>61901.989326</td>\n",
       "    </tr>\n",
       "    <tr>\n",
       "      <th>india</th>\n",
       "      <td>142222.0</td>\n",
       "      <td>1.505050e+08</td>\n",
       "      <td>1058.239935</td>\n",
       "    </tr>\n",
       "    <tr>\n",
       "      <th>africa</th>\n",
       "      <td>123456.0</td>\n",
       "      <td>7.777777e+06</td>\n",
       "      <td>NaN</td>\n",
       "    </tr>\n",
       "  </tbody>\n",
       "</table>\n",
       "</div>"
      ],
      "text/plain": [
       "Info     population           gdp       gdp_per\n",
       "Country                                        \n",
       "korea        5182.0  1.693200e+08  32674.642995\n",
       "japan       12622.0  5.167000e+08  40936.460149\n",
       "china      141178.0  1.409250e+08    998.207936\n",
       "usa         32976.0  2.041280e+09  61901.989326\n",
       "india      142222.0  1.505050e+08   1058.239935\n",
       "africa     123456.0  7.777777e+06           NaN"
      ]
     },
     "execution_count": 139,
     "metadata": {},
     "output_type": "execute_result"
    }
   ],
   "source": [
    "# 행추가 방법2\n",
    "africa = pd.Series( data =[123456,7777777],index=['population','gdp'])\n",
    "country.loc['africa']=africa\n",
    "# country.loc['africa','gdp_per'] = country.loc['africa','gdp']/country.loc['africa','population']\n",
    "country"
   ]
  },
  {
   "cell_type": "code",
   "execution_count": 140,
   "metadata": {},
   "outputs": [
    {
     "data": {
      "text/html": [
       "<div>\n",
       "<style scoped>\n",
       "    .dataframe tbody tr th:only-of-type {\n",
       "        vertical-align: middle;\n",
       "    }\n",
       "\n",
       "    .dataframe tbody tr th {\n",
       "        vertical-align: top;\n",
       "    }\n",
       "\n",
       "    .dataframe thead th {\n",
       "        text-align: right;\n",
       "    }\n",
       "</style>\n",
       "<table border=\"1\" class=\"dataframe\">\n",
       "  <thead>\n",
       "    <tr style=\"text-align: right;\">\n",
       "      <th>Info</th>\n",
       "      <th>population</th>\n",
       "      <th>gdp</th>\n",
       "      <th>gdp_per</th>\n",
       "    </tr>\n",
       "    <tr>\n",
       "      <th>Country</th>\n",
       "      <th></th>\n",
       "      <th></th>\n",
       "      <th></th>\n",
       "    </tr>\n",
       "  </thead>\n",
       "  <tbody>\n",
       "    <tr>\n",
       "      <th>korea</th>\n",
       "      <td>False</td>\n",
       "      <td>False</td>\n",
       "      <td>False</td>\n",
       "    </tr>\n",
       "    <tr>\n",
       "      <th>japan</th>\n",
       "      <td>False</td>\n",
       "      <td>False</td>\n",
       "      <td>False</td>\n",
       "    </tr>\n",
       "    <tr>\n",
       "      <th>china</th>\n",
       "      <td>False</td>\n",
       "      <td>False</td>\n",
       "      <td>False</td>\n",
       "    </tr>\n",
       "    <tr>\n",
       "      <th>usa</th>\n",
       "      <td>False</td>\n",
       "      <td>False</td>\n",
       "      <td>False</td>\n",
       "    </tr>\n",
       "    <tr>\n",
       "      <th>india</th>\n",
       "      <td>False</td>\n",
       "      <td>False</td>\n",
       "      <td>False</td>\n",
       "    </tr>\n",
       "    <tr>\n",
       "      <th>africa</th>\n",
       "      <td>False</td>\n",
       "      <td>False</td>\n",
       "      <td>True</td>\n",
       "    </tr>\n",
       "  </tbody>\n",
       "</table>\n",
       "</div>"
      ],
      "text/plain": [
       "Info     population    gdp  gdp_per\n",
       "Country                            \n",
       "korea         False  False    False\n",
       "japan         False  False    False\n",
       "china         False  False    False\n",
       "usa           False  False    False\n",
       "india         False  False    False\n",
       "africa        False  False     True"
      ]
     },
     "execution_count": 140,
     "metadata": {},
     "output_type": "execute_result"
    }
   ],
   "source": [
    "# 결측값(NaN) 확인\n",
    "country.isnull()#.sum()"
   ]
  },
  {
   "cell_type": "code",
   "execution_count": 141,
   "metadata": {},
   "outputs": [
    {
     "data": {
      "text/html": [
       "<div>\n",
       "<style scoped>\n",
       "    .dataframe tbody tr th:only-of-type {\n",
       "        vertical-align: middle;\n",
       "    }\n",
       "\n",
       "    .dataframe tbody tr th {\n",
       "        vertical-align: top;\n",
       "    }\n",
       "\n",
       "    .dataframe thead th {\n",
       "        text-align: right;\n",
       "    }\n",
       "</style>\n",
       "<table border=\"1\" class=\"dataframe\">\n",
       "  <thead>\n",
       "    <tr style=\"text-align: right;\">\n",
       "      <th>Info</th>\n",
       "      <th>population</th>\n",
       "      <th>gdp</th>\n",
       "      <th>gdp_per</th>\n",
       "    </tr>\n",
       "    <tr>\n",
       "      <th>Country</th>\n",
       "      <th></th>\n",
       "      <th></th>\n",
       "      <th></th>\n",
       "    </tr>\n",
       "  </thead>\n",
       "  <tbody>\n",
       "    <tr>\n",
       "      <th>korea</th>\n",
       "      <td>5182.0</td>\n",
       "      <td>1.693200e+08</td>\n",
       "      <td>32674.642995</td>\n",
       "    </tr>\n",
       "    <tr>\n",
       "      <th>japan</th>\n",
       "      <td>12622.0</td>\n",
       "      <td>5.167000e+08</td>\n",
       "      <td>40936.460149</td>\n",
       "    </tr>\n",
       "    <tr>\n",
       "      <th>china</th>\n",
       "      <td>141178.0</td>\n",
       "      <td>1.409250e+08</td>\n",
       "      <td>998.207936</td>\n",
       "    </tr>\n",
       "    <tr>\n",
       "      <th>usa</th>\n",
       "      <td>32976.0</td>\n",
       "      <td>2.041280e+09</td>\n",
       "      <td>61901.989326</td>\n",
       "    </tr>\n",
       "    <tr>\n",
       "      <th>india</th>\n",
       "      <td>142222.0</td>\n",
       "      <td>1.505050e+08</td>\n",
       "      <td>1058.239935</td>\n",
       "    </tr>\n",
       "  </tbody>\n",
       "</table>\n",
       "</div>"
      ],
      "text/plain": [
       "Info     population           gdp       gdp_per\n",
       "Country                                        \n",
       "korea        5182.0  1.693200e+08  32674.642995\n",
       "japan       12622.0  5.167000e+08  40936.460149\n",
       "china      141178.0  1.409250e+08    998.207936\n",
       "usa         32976.0  2.041280e+09  61901.989326\n",
       "india      142222.0  1.505050e+08   1058.239935"
      ]
     },
     "execution_count": 141,
     "metadata": {},
     "output_type": "execute_result"
    }
   ],
   "source": [
    "# 열제거 drop( 이름, axis=0 )\n",
    "country = country.drop('africa', axis=0) # inplace = True\n",
    "country"
   ]
  },
  {
   "cell_type": "code",
   "execution_count": 160,
   "metadata": {},
   "outputs": [
    {
     "data": {
      "text/html": [
       "<div>\n",
       "<style scoped>\n",
       "    .dataframe tbody tr th:only-of-type {\n",
       "        vertical-align: middle;\n",
       "    }\n",
       "\n",
       "    .dataframe tbody tr th {\n",
       "        vertical-align: top;\n",
       "    }\n",
       "\n",
       "    .dataframe thead th {\n",
       "        text-align: right;\n",
       "    }\n",
       "</style>\n",
       "<table border=\"1\" class=\"dataframe\">\n",
       "  <thead>\n",
       "    <tr style=\"text-align: right;\">\n",
       "      <th>Info</th>\n",
       "      <th>population</th>\n",
       "      <th>gdp</th>\n",
       "      <th>gdp_per</th>\n",
       "    </tr>\n",
       "    <tr>\n",
       "      <th>Country</th>\n",
       "      <th></th>\n",
       "      <th></th>\n",
       "      <th></th>\n",
       "    </tr>\n",
       "  </thead>\n",
       "  <tbody>\n",
       "    <tr>\n",
       "      <th>china</th>\n",
       "      <td>141178.0</td>\n",
       "      <td>140925000.0</td>\n",
       "      <td>998.207936</td>\n",
       "    </tr>\n",
       "    <tr>\n",
       "      <th>india</th>\n",
       "      <td>142222.0</td>\n",
       "      <td>150505000.0</td>\n",
       "      <td>1058.239935</td>\n",
       "    </tr>\n",
       "  </tbody>\n",
       "</table>\n",
       "</div>"
      ],
      "text/plain": [
       "Info     population          gdp      gdp_per\n",
       "Country                                      \n",
       "china      141178.0  140925000.0   998.207936\n",
       "india      142222.0  150505000.0  1058.239935"
      ]
     },
     "execution_count": 160,
     "metadata": {},
     "output_type": "execute_result"
    }
   ],
   "source": [
    "# 테스트 1 조건\n",
    "country[country['population'] > 140000]"
   ]
  },
  {
   "cell_type": "code",
   "execution_count": 162,
   "metadata": {},
   "outputs": [
    {
     "data": {
      "text/html": [
       "<div>\n",
       "<style scoped>\n",
       "    .dataframe tbody tr th:only-of-type {\n",
       "        vertical-align: middle;\n",
       "    }\n",
       "\n",
       "    .dataframe tbody tr th {\n",
       "        vertical-align: top;\n",
       "    }\n",
       "\n",
       "    .dataframe thead th {\n",
       "        text-align: right;\n",
       "    }\n",
       "</style>\n",
       "<table border=\"1\" class=\"dataframe\">\n",
       "  <thead>\n",
       "    <tr style=\"text-align: right;\">\n",
       "      <th>Info</th>\n",
       "      <th>population</th>\n",
       "    </tr>\n",
       "    <tr>\n",
       "      <th>Country</th>\n",
       "      <th></th>\n",
       "    </tr>\n",
       "  </thead>\n",
       "  <tbody>\n",
       "    <tr>\n",
       "      <th>japan</th>\n",
       "      <td>12622.0</td>\n",
       "    </tr>\n",
       "    <tr>\n",
       "      <th>usa</th>\n",
       "      <td>32976.0</td>\n",
       "    </tr>\n",
       "  </tbody>\n",
       "</table>\n",
       "</div>"
      ],
      "text/plain": [
       "Info     population\n",
       "Country            \n",
       "japan       12622.0\n",
       "usa         32976.0"
      ]
     },
     "execution_count": 162,
     "metadata": {},
     "output_type": "execute_result"
    }
   ],
   "source": [
    "# 테스트 2 조건 , 슬라이싱 (loc,iloc 필수)\n",
    "country[(country['population'] > 10000) & (country['population'] < 100000)].loc[:,:'population']"
   ]
  },
  {
   "cell_type": "markdown",
   "metadata": {},
   "source": [
    "#### 문제 1\n",
    "다음 데이터가 담긴 데이터 프레임을 만들어라."
   ]
  },
  {
   "attachments": {
    "a1c9dbbf-793f-4512-9b58-e7895aeb04c4.png": {
     "image/png": "[encoded data removed]"
    }
   },
   "cell_type": "markdown",
   "metadata": {},
   "source": [
    "![image.png](attachment:a1c9dbbf-793f-4512-9b58-e7895aeb04c4.png)"
   ]
  },
  {
   "cell_type": "markdown",
   "metadata": {},
   "source": [
    "#### 문제 2\n",
    "- 박철수의 국어와, 수학점수만 출력하라\n",
    "#### 문제 3\n",
    "- 수학이 70점 이상인 사람 모든 행을 출력하라\n",
    "#### 문제 4\n",
    "- 모든 과목의 평균점수를 마지막 컬럼에 넣고 \"평균\" 이라는 이름으로 만들어 넣어라\n",
    "#### 문제 5\n",
    "- 전학온 학생을 추가하라 (최자바 55 95 70)"
   ]
  },
  {
   "cell_type": "code",
   "execution_count": 166,
   "metadata": {},
   "outputs": [
    {
     "data": {
      "text/html": [
       "<div>\n",
       "<style scoped>\n",
       "    .dataframe tbody tr th:only-of-type {\n",
       "        vertical-align: middle;\n",
       "    }\n",
       "\n",
       "    .dataframe tbody tr th {\n",
       "        vertical-align: top;\n",
       "    }\n",
       "\n",
       "    .dataframe thead th {\n",
       "        text-align: right;\n",
       "    }\n",
       "</style>\n",
       "<table border=\"1\" class=\"dataframe\">\n",
       "  <thead>\n",
       "    <tr style=\"text-align: right;\">\n",
       "      <th></th>\n",
       "      <th>이름</th>\n",
       "      <th>국어</th>\n",
       "      <th>수학</th>\n",
       "      <th>영어</th>\n",
       "    </tr>\n",
       "  </thead>\n",
       "  <tbody>\n",
       "    <tr>\n",
       "      <th>0</th>\n",
       "      <td>홍길동</td>\n",
       "      <td>80</td>\n",
       "      <td>70</td>\n",
       "      <td>80</td>\n",
       "    </tr>\n",
       "    <tr>\n",
       "      <th>1</th>\n",
       "      <td>박철수</td>\n",
       "      <td>60</td>\n",
       "      <td>70</td>\n",
       "      <td>80</td>\n",
       "    </tr>\n",
       "    <tr>\n",
       "      <th>2</th>\n",
       "      <td>김영희</td>\n",
       "      <td>70</td>\n",
       "      <td>90</td>\n",
       "      <td>80</td>\n",
       "    </tr>\n",
       "  </tbody>\n",
       "</table>\n",
       "</div>"
      ],
      "text/plain": [
       "    이름  국어  수학  영어\n",
       "0  홍길동  80  70  80\n",
       "1  박철수  60  70  80\n",
       "2  김영희  70  90  80"
      ]
     },
     "execution_count": 166,
     "metadata": {},
     "output_type": "execute_result"
    }
   ],
   "source": [
    "# 기본적인 방법\n",
    "data = {\n",
    "    '이름':['홍길동','박철수','김영희'],\n",
    "    '국어':[80,60,70],\n",
    "    '수학':[70,70,90],\n",
    "    '영어':[80,80,80]\n",
    "}\n",
    "df = pd.DataFrame(data)\n",
    "df"
   ]
  },
  {
   "cell_type": "code",
   "execution_count": 167,
   "metadata": {},
   "outputs": [
    {
     "data": {
      "text/html": [
       "<div>\n",
       "<style scoped>\n",
       "    .dataframe tbody tr th:only-of-type {\n",
       "        vertical-align: middle;\n",
       "    }\n",
       "\n",
       "    .dataframe tbody tr th {\n",
       "        vertical-align: top;\n",
       "    }\n",
       "\n",
       "    .dataframe thead th {\n",
       "        text-align: right;\n",
       "    }\n",
       "</style>\n",
       "<table border=\"1\" class=\"dataframe\">\n",
       "  <thead>\n",
       "    <tr style=\"text-align: right;\">\n",
       "      <th></th>\n",
       "      <th>이름</th>\n",
       "      <th>국어</th>\n",
       "      <th>수학</th>\n",
       "      <th>영어</th>\n",
       "    </tr>\n",
       "  </thead>\n",
       "  <tbody>\n",
       "    <tr>\n",
       "      <th>0</th>\n",
       "      <td>홍길동</td>\n",
       "      <td>80</td>\n",
       "      <td>70</td>\n",
       "      <td>80</td>\n",
       "    </tr>\n",
       "    <tr>\n",
       "      <th>1</th>\n",
       "      <td>박철수</td>\n",
       "      <td>60</td>\n",
       "      <td>70</td>\n",
       "      <td>80</td>\n",
       "    </tr>\n",
       "    <tr>\n",
       "      <th>2</th>\n",
       "      <td>김영희</td>\n",
       "      <td>70</td>\n",
       "      <td>90</td>\n",
       "      <td>80</td>\n",
       "    </tr>\n",
       "  </tbody>\n",
       "</table>\n",
       "</div>"
      ],
      "text/plain": [
       "    이름  국어  수학  영어\n",
       "0  홍길동  80  70  80\n",
       "1  박철수  60  70  80\n",
       "2  김영희  70  90  80"
      ]
     },
     "execution_count": 167,
     "metadata": {},
     "output_type": "execute_result"
    }
   ],
   "source": [
    "# 키값쌍으로 리스트에 저장하는 방법\n",
    "data = [\n",
    "    {'이름':'홍길동','국어':80,'수학':70,'영어':80},\n",
    "    {'이름':'박철수','국어':60,'수학':70,'영어':80},\n",
    "    {'이름':'김영희','국어':70,'수학':90,'영어':80}]\n",
    "df = pd.DataFrame(data)\n",
    "df"
   ]
  },
  {
   "cell_type": "code",
   "execution_count": 215,
   "metadata": {},
   "outputs": [
    {
     "data": {
      "text/html": [
       "<div>\n",
       "<style scoped>\n",
       "    .dataframe tbody tr th:only-of-type {\n",
       "        vertical-align: middle;\n",
       "    }\n",
       "\n",
       "    .dataframe tbody tr th {\n",
       "        vertical-align: top;\n",
       "    }\n",
       "\n",
       "    .dataframe thead th {\n",
       "        text-align: right;\n",
       "    }\n",
       "</style>\n",
       "<table border=\"1\" class=\"dataframe\">\n",
       "  <thead>\n",
       "    <tr style=\"text-align: right;\">\n",
       "      <th></th>\n",
       "      <th>이름</th>\n",
       "      <th>국어</th>\n",
       "      <th>수학</th>\n",
       "      <th>영어</th>\n",
       "    </tr>\n",
       "  </thead>\n",
       "  <tbody>\n",
       "    <tr>\n",
       "      <th>0</th>\n",
       "      <td>홍길동</td>\n",
       "      <td>80</td>\n",
       "      <td>70</td>\n",
       "      <td>80</td>\n",
       "    </tr>\n",
       "    <tr>\n",
       "      <th>1</th>\n",
       "      <td>박철수</td>\n",
       "      <td>60</td>\n",
       "      <td>70</td>\n",
       "      <td>80</td>\n",
       "    </tr>\n",
       "    <tr>\n",
       "      <th>2</th>\n",
       "      <td>김영희</td>\n",
       "      <td>70</td>\n",
       "      <td>90</td>\n",
       "      <td>80</td>\n",
       "    </tr>\n",
       "  </tbody>\n",
       "</table>\n",
       "</div>"
      ],
      "text/plain": [
       "    이름  국어  수학  영어\n",
       "0  홍길동  80  70  80\n",
       "1  박철수  60  70  80\n",
       "2  김영희  70  90  80"
      ]
     },
     "execution_count": 215,
     "metadata": {},
     "output_type": "execute_result"
    }
   ],
   "source": [
    "# 리스트에 튜플로 저장하는 방법\n",
    "data = [\n",
    "    ('홍길동',80,70,80),\n",
    "    ('박철수',60,70,80),\n",
    "    ('김영희',70,90,80)]\n",
    "df = pd.DataFrame(data, columns=['이름','국어','수학','영어'])\n",
    "df"
   ]
  },
  {
   "cell_type": "code",
   "execution_count": 221,
   "metadata": {},
   "outputs": [],
   "source": [
    "import numpy as np\n",
    "# data0 = [\n",
    "#     ('홍길동',80,70,80),\n",
    "#     ('박철수',60,70,80),\n",
    "#     ('김영희',70,90,80)]\n",
    "# data = np.array(data0)\n",
    "data = np.array([['홍길동',80,70,80],['박철수',60,70,80],['김영희',70,90,80]])\n",
    "df = pd.DataFrame(data, columns=['이름','국어','수학','영어'])"
   ]
  },
  {
   "cell_type": "code",
   "execution_count": 222,
   "metadata": {},
   "outputs": [
    {
     "data": {
      "text/html": [
       "<div>\n",
       "<style scoped>\n",
       "    .dataframe tbody tr th:only-of-type {\n",
       "        vertical-align: middle;\n",
       "    }\n",
       "\n",
       "    .dataframe tbody tr th {\n",
       "        vertical-align: top;\n",
       "    }\n",
       "\n",
       "    .dataframe thead th {\n",
       "        text-align: right;\n",
       "    }\n",
       "</style>\n",
       "<table border=\"1\" class=\"dataframe\">\n",
       "  <thead>\n",
       "    <tr style=\"text-align: right;\">\n",
       "      <th></th>\n",
       "      <th>이름</th>\n",
       "      <th>국어</th>\n",
       "      <th>수학</th>\n",
       "      <th>영어</th>\n",
       "    </tr>\n",
       "  </thead>\n",
       "  <tbody>\n",
       "    <tr>\n",
       "      <th>0</th>\n",
       "      <td>홍길동</td>\n",
       "      <td>80</td>\n",
       "      <td>70</td>\n",
       "      <td>80</td>\n",
       "    </tr>\n",
       "    <tr>\n",
       "      <th>1</th>\n",
       "      <td>박철수</td>\n",
       "      <td>60</td>\n",
       "      <td>70</td>\n",
       "      <td>80</td>\n",
       "    </tr>\n",
       "    <tr>\n",
       "      <th>2</th>\n",
       "      <td>김영희</td>\n",
       "      <td>70</td>\n",
       "      <td>90</td>\n",
       "      <td>80</td>\n",
       "    </tr>\n",
       "  </tbody>\n",
       "</table>\n",
       "</div>"
      ],
      "text/plain": [
       "    이름  국어  수학  영어\n",
       "0  홍길동  80  70  80\n",
       "1  박철수  60  70  80\n",
       "2  김영희  70  90  80"
      ]
     },
     "execution_count": 222,
     "metadata": {},
     "output_type": "execute_result"
    }
   ],
   "source": [
    "# 1\n",
    "df"
   ]
  },
  {
   "cell_type": "code",
   "execution_count": 223,
   "metadata": {},
   "outputs": [
    {
     "data": {
      "text/html": [
       "<div>\n",
       "<style scoped>\n",
       "    .dataframe tbody tr th:only-of-type {\n",
       "        vertical-align: middle;\n",
       "    }\n",
       "\n",
       "    .dataframe tbody tr th {\n",
       "        vertical-align: top;\n",
       "    }\n",
       "\n",
       "    .dataframe thead th {\n",
       "        text-align: right;\n",
       "    }\n",
       "</style>\n",
       "<table border=\"1\" class=\"dataframe\">\n",
       "  <thead>\n",
       "    <tr style=\"text-align: right;\">\n",
       "      <th></th>\n",
       "      <th>이름</th>\n",
       "      <th>국어</th>\n",
       "      <th>수학</th>\n",
       "      <th>영어</th>\n",
       "    </tr>\n",
       "  </thead>\n",
       "  <tbody>\n",
       "    <tr>\n",
       "      <th>1</th>\n",
       "      <td>박철수</td>\n",
       "      <td>60</td>\n",
       "      <td>70</td>\n",
       "      <td>80</td>\n",
       "    </tr>\n",
       "  </tbody>\n",
       "</table>\n",
       "</div>"
      ],
      "text/plain": [
       "    이름  국어  수학  영어\n",
       "1  박철수  60  70  80"
      ]
     },
     "execution_count": 223,
     "metadata": {},
     "output_type": "execute_result"
    }
   ],
   "source": [
    "# 2\n",
    "df.loc[1:1]\n",
    "df.iloc[1:2]"
   ]
  },
  {
   "cell_type": "code",
   "execution_count": 224,
   "metadata": {},
   "outputs": [
    {
     "data": {
      "text/html": [
       "<div>\n",
       "<style scoped>\n",
       "    .dataframe tbody tr th:only-of-type {\n",
       "        vertical-align: middle;\n",
       "    }\n",
       "\n",
       "    .dataframe tbody tr th {\n",
       "        vertical-align: top;\n",
       "    }\n",
       "\n",
       "    .dataframe thead th {\n",
       "        text-align: right;\n",
       "    }\n",
       "</style>\n",
       "<table border=\"1\" class=\"dataframe\">\n",
       "  <thead>\n",
       "    <tr style=\"text-align: right;\">\n",
       "      <th></th>\n",
       "      <th>이름</th>\n",
       "      <th>국어</th>\n",
       "      <th>수학</th>\n",
       "      <th>영어</th>\n",
       "    </tr>\n",
       "  </thead>\n",
       "  <tbody>\n",
       "    <tr>\n",
       "      <th>0</th>\n",
       "      <td>홍길동</td>\n",
       "      <td>80</td>\n",
       "      <td>70</td>\n",
       "      <td>80</td>\n",
       "    </tr>\n",
       "    <tr>\n",
       "      <th>2</th>\n",
       "      <td>김영희</td>\n",
       "      <td>70</td>\n",
       "      <td>90</td>\n",
       "      <td>80</td>\n",
       "    </tr>\n",
       "  </tbody>\n",
       "</table>\n",
       "</div>"
      ],
      "text/plain": [
       "    이름  국어  수학  영어\n",
       "0  홍길동  80  70  80\n",
       "2  김영희  70  90  80"
      ]
     },
     "execution_count": 224,
     "metadata": {},
     "output_type": "execute_result"
    }
   ],
   "source": [
    "# 3\n",
    "# print(df['국어'].dtype)\n",
    "df[df['국어'].astype(int) >=70]"
   ]
  },
  {
   "cell_type": "code",
   "execution_count": 226,
   "metadata": {},
   "outputs": [
    {
     "name": "stdout",
     "output_type": "stream",
     "text": [
      "평균 float64\n"
     ]
    },
    {
     "data": {
      "text/html": [
       "<div>\n",
       "<style scoped>\n",
       "    .dataframe tbody tr th:only-of-type {\n",
       "        vertical-align: middle;\n",
       "    }\n",
       "\n",
       "    .dataframe tbody tr th {\n",
       "        vertical-align: top;\n",
       "    }\n",
       "\n",
       "    .dataframe thead th {\n",
       "        text-align: right;\n",
       "    }\n",
       "</style>\n",
       "<table border=\"1\" class=\"dataframe\">\n",
       "  <thead>\n",
       "    <tr style=\"text-align: right;\">\n",
       "      <th></th>\n",
       "      <th>이름</th>\n",
       "      <th>국어</th>\n",
       "      <th>수학</th>\n",
       "      <th>영어</th>\n",
       "      <th>평균</th>\n",
       "    </tr>\n",
       "  </thead>\n",
       "  <tbody>\n",
       "    <tr>\n",
       "      <th>0</th>\n",
       "      <td>홍길동</td>\n",
       "      <td>80</td>\n",
       "      <td>70</td>\n",
       "      <td>80</td>\n",
       "      <td>77.0</td>\n",
       "    </tr>\n",
       "    <tr>\n",
       "      <th>1</th>\n",
       "      <td>박철수</td>\n",
       "      <td>60</td>\n",
       "      <td>70</td>\n",
       "      <td>80</td>\n",
       "      <td>70.0</td>\n",
       "    </tr>\n",
       "    <tr>\n",
       "      <th>2</th>\n",
       "      <td>김영희</td>\n",
       "      <td>70</td>\n",
       "      <td>90</td>\n",
       "      <td>80</td>\n",
       "      <td>80.0</td>\n",
       "    </tr>\n",
       "  </tbody>\n",
       "</table>\n",
       "</div>"
      ],
      "text/plain": [
       "    이름  국어  수학  영어    평균\n",
       "0  홍길동  80  70  80  77.0\n",
       "1  박철수  60  70  80  70.0\n",
       "2  김영희  70  90  80  80.0"
      ]
     },
     "execution_count": 226,
     "metadata": {},
     "output_type": "execute_result"
    }
   ],
   "source": [
    "# 4\n",
    "df['평균'] = (df['국어'].astype(int) + df['수학'].astype(int) + df['영어'].astype(int))/3\n",
    "print('평균',df['평균'].dtype)\n",
    "df.round()"
   ]
  },
  {
   "cell_type": "code",
   "execution_count": 227,
   "metadata": {},
   "outputs": [
    {
     "data": {
      "text/html": [
       "<div>\n",
       "<style scoped>\n",
       "    .dataframe tbody tr th:only-of-type {\n",
       "        vertical-align: middle;\n",
       "    }\n",
       "\n",
       "    .dataframe tbody tr th {\n",
       "        vertical-align: top;\n",
       "    }\n",
       "\n",
       "    .dataframe thead th {\n",
       "        text-align: right;\n",
       "    }\n",
       "</style>\n",
       "<table border=\"1\" class=\"dataframe\">\n",
       "  <thead>\n",
       "    <tr style=\"text-align: right;\">\n",
       "      <th></th>\n",
       "      <th>이름</th>\n",
       "      <th>국어</th>\n",
       "      <th>수학</th>\n",
       "      <th>영어</th>\n",
       "      <th>평균</th>\n",
       "    </tr>\n",
       "  </thead>\n",
       "  <tbody>\n",
       "    <tr>\n",
       "      <th>0</th>\n",
       "      <td>홍길동</td>\n",
       "      <td>80</td>\n",
       "      <td>70</td>\n",
       "      <td>80</td>\n",
       "      <td>76.666667</td>\n",
       "    </tr>\n",
       "    <tr>\n",
       "      <th>1</th>\n",
       "      <td>박철수</td>\n",
       "      <td>60</td>\n",
       "      <td>70</td>\n",
       "      <td>80</td>\n",
       "      <td>70.000000</td>\n",
       "    </tr>\n",
       "    <tr>\n",
       "      <th>2</th>\n",
       "      <td>김영희</td>\n",
       "      <td>70</td>\n",
       "      <td>90</td>\n",
       "      <td>80</td>\n",
       "      <td>80.000000</td>\n",
       "    </tr>\n",
       "    <tr>\n",
       "      <th>3</th>\n",
       "      <td>최자바</td>\n",
       "      <td>55</td>\n",
       "      <td>95</td>\n",
       "      <td>70</td>\n",
       "      <td>77.000000</td>\n",
       "    </tr>\n",
       "  </tbody>\n",
       "</table>\n",
       "</div>"
      ],
      "text/plain": [
       "    이름  국어  수학  영어         평균\n",
       "0  홍길동  80  70  80  76.666667\n",
       "1  박철수  60  70  80  70.000000\n",
       "2  김영희  70  90  80  80.000000\n",
       "3  최자바  55  95  70  77.000000"
      ]
     },
     "execution_count": 227,
     "metadata": {},
     "output_type": "execute_result"
    }
   ],
   "source": [
    "# 5\n",
    "df.loc[3] = ('최자바',55,95,70,77)\n",
    "df"
   ]
  },
  {
   "cell_type": "code",
   "execution_count": 220,
   "metadata": {},
   "outputs": [
    {
     "ename": "SyntaxError",
     "evalue": "invalid syntax (3529324491.py, line 1)",
     "output_type": "error",
     "traceback": [
      "\u001b[1;36m  Cell \u001b[1;32mIn[220], line 1\u001b[1;36m\u001b[0m\n\u001b[1;33m    문제 2\u001b[0m\n\u001b[1;37m       ^\u001b[0m\n\u001b[1;31mSyntaxError\u001b[0m\u001b[1;31m:\u001b[0m invalid syntax\n"
     ]
    }
   ],
   "source": [
    "문제 2\n",
    "박철수의 국어와, 수학점수만 출력하라\n",
    "문제 3\n",
    "국어가 70점 이상인 사람 모든 행을 출력하라\n",
    "문제 4\n",
    "모든 과목의 평균점수를 마지막 컬럼에 넣고 \"평균\" 이라는 이름으로 만들어 넣어라\n",
    "문제 5\n",
    "전학온 학생을 추가하라 (최자바 55 95 70)"
   ]
  },
  {
   "cell_type": "code",
   "execution_count": null,
   "metadata": {},
   "outputs": [],
   "source": []
  },
  {
   "cell_type": "code",
   "execution_count": null,
   "metadata": {},
   "outputs": [],
   "source": []
  }
 ],
 "metadata": {
  "colab": {
   "provenance": [],
   "toc_visible": true
  },
  "kernelspec": {
   "display_name": "Python 3 (ipykernel)",
   "language": "python",
   "name": "python3"
  },
  "language_info": {
   "codemirror_mode": {
    "name": "ipython",
    "version": 3
   },
   "file_extension": ".py",
   "mimetype": "text/x-python",
   "name": "python",
   "nbconvert_exporter": "python",
   "pygments_lexer": "ipython3",
   "version": "3.13.1"
  }
 },
 "nbformat": 4,
 "nbformat_minor": 4
}
