{
 "cells": [
  {
   "cell_type": "code",
   "execution_count": 26,
   "id": "22763413-2513-4c0e-bf23-b6745c673430",
   "metadata": {},
   "outputs": [
    {
     "name": "stdout",
     "output_type": "stream",
     "text": [
      "shirt\n"
     ]
    }
   ],
   "source": [
    "# 1) 조건문의 참과 거짓\n",
    "a = \"Life is too short, you need python\"\n",
    "\n",
    "if \"wife\" in a: print(\"wife\")\n",
    "elif \"python\" in a and \"you\" not in a: print(\"python\")\n",
    "elif \"shirt\" not in a: print(\"shirt\")\n",
    "elif \"need\" in a: print(\"need\")\n",
    "else: print(\"none\")\n",
    "# shirt가 a에 없으므로 참이 되어 shirt라는 결괏값이 나온다."
   ]
  },
  {
   "cell_type": "code",
   "execution_count": 25,
   "id": "f7e4c79c-373d-4e35-8036-e41b1e38a036",
   "metadata": {},
   "outputs": [
    {
     "name": "stdout",
     "output_type": "stream",
     "text": [
      "166833\n"
     ]
    }
   ],
   "source": [
    "# 2) 3의 배수의 합 구하기\n",
    "result = 0\n",
    "i = 1\n",
    "while i <= 1000:\n",
    "    if i % 3 == 0:\n",
    "        result += i\n",
    "    i += 1\n",
    "\n",
    "print(result)"
   ]
  },
  {
   "cell_type": "code",
   "execution_count": 3,
   "id": "f9358e6e-71b1-4fc2-abaf-2e22b20f3e0e",
   "metadata": {},
   "outputs": [
    {
     "name": "stdout",
     "output_type": "stream",
     "text": [
      "*\n",
      "**\n",
      "***\n",
      "****\n",
      "*****\n"
     ]
    }
   ],
   "source": [
    "# 3) 별 표시하기\n",
    "i = 0 \n",
    "while True:\n",
    "    i += 1\n",
    "    if i > 5:break\n",
    "    print(i * \"*\")"
   ]
  },
  {
   "cell_type": "code",
   "execution_count": 4,
   "id": "a9af813a-022a-4092-a8c7-838cbb06ad21",
   "metadata": {
    "scrolled": true
   },
   "outputs": [
    {
     "name": "stdout",
     "output_type": "stream",
     "text": [
      "1\n",
      "2\n",
      "3\n",
      "4\n",
      "5\n",
      "6\n",
      "7\n",
      "8\n",
      "9\n",
      "10\n",
      "11\n",
      "12\n",
      "13\n",
      "14\n",
      "15\n",
      "16\n",
      "17\n",
      "18\n",
      "19\n",
      "20\n",
      "21\n",
      "22\n",
      "23\n",
      "24\n",
      "25\n",
      "26\n",
      "27\n",
      "28\n",
      "29\n",
      "30\n",
      "31\n",
      "32\n",
      "33\n",
      "34\n",
      "35\n",
      "36\n",
      "37\n",
      "38\n",
      "39\n",
      "40\n",
      "41\n",
      "42\n",
      "43\n",
      "44\n",
      "45\n",
      "46\n",
      "47\n",
      "48\n",
      "49\n",
      "50\n",
      "51\n",
      "52\n",
      "53\n",
      "54\n",
      "55\n",
      "56\n",
      "57\n",
      "58\n",
      "59\n",
      "60\n",
      "61\n",
      "62\n",
      "63\n",
      "64\n",
      "65\n",
      "66\n",
      "67\n",
      "68\n",
      "69\n",
      "70\n",
      "71\n",
      "72\n",
      "73\n",
      "74\n",
      "75\n",
      "76\n",
      "77\n",
      "78\n",
      "79\n",
      "80\n",
      "81\n",
      "82\n",
      "83\n",
      "84\n",
      "85\n",
      "86\n",
      "87\n",
      "88\n",
      "89\n",
      "90\n",
      "91\n",
      "92\n",
      "93\n",
      "94\n",
      "95\n",
      "96\n",
      "97\n",
      "98\n",
      "99\n",
      "100\n"
     ]
    }
   ],
   "source": [
    "# 4) 1부터 100까지 출력하기\n",
    "for i in range(1, 101):\n",
    "    print(i)"
   ]
  },
  {
   "cell_type": "code",
   "execution_count": 29,
   "id": "68cf9030-1b92-4785-b5d7-db95a55c0f04",
   "metadata": {},
   "outputs": [
    {
     "name": "stdout",
     "output_type": "stream",
     "text": [
      "79.0\n"
     ]
    }
   ],
   "source": [
    "# 5) 평균 점수 구하기\n",
    "A = [70, 60, 55, 75, 95, 90, 80, 80, 85, 100]\n",
    "total = 0\n",
    "for score in A:\n",
    "    total += score\n",
    "average = total / 10\n",
    "print(average)"
   ]
  },
  {
   "cell_type": "code",
   "execution_count": 24,
   "id": "68ce09f1-f926-4a0c-b069-d0859c04f54e",
   "metadata": {},
   "outputs": [
    {
     "name": "stdout",
     "output_type": "stream",
     "text": [
      "[2, 6, 10]\n"
     ]
    }
   ],
   "source": [
    "# 6) 리스트 컴프리헨션 사용하기-1\n",
    "numbers = [1, 2, 3, 4, 5]\n",
    "result = []\n",
    "for n in numbers:\n",
    "    if n % 2 == 1:\n",
    "        result.append(n * 2)\n",
    "print(result)"
   ]
  },
  {
   "cell_type": "code",
   "execution_count": 1,
   "id": "4e86f689-e599-481a-bcda-e49217fdae05",
   "metadata": {},
   "outputs": [
    {
     "name": "stdout",
     "output_type": "stream",
     "text": [
      "[2, 6, 10]\n"
     ]
    }
   ],
   "source": [
    "# 6) 리스트 컴프리헨션 사용하기-2\n",
    "numbers = [1, 2, 3, 4, 5]\n",
    "result = [n * 2 for n in numbers if n % 2 == 1]\n",
    "print(result)"
   ]
  },
  {
   "cell_type": "code",
   "execution_count": 17,
   "id": "4419c8ec-6224-429b-abe4-57f46c8e119c",
   "metadata": {},
   "outputs": [
    {
     "name": "stdout",
     "output_type": "stream",
     "text": [
      "로또 번호: [20, 26, 34, 36, 38, 44]\n"
     ]
    }
   ],
   "source": [
    "# 로또 생성기 문제\n",
    "# 1) 6가지 숫자가 선택되어야함\n",
    "# 2) 중복되면 안됨\n",
    "# 3) 오름차순으로 정리해야함\n",
    "# ===========================\n",
    "# 4) 10만회 돌리고 각각 번호가 나온 것을 카운팅해야함\n",
    "# 5) 각 번호를 퍼센트 내야함(소숫점 두자리)\n",
    "# 6) 제일 높게 나온 확률 순서대로 번호 3개 추천해줘야함\n",
    "import random as r \n",
    "lotto = []\n",
    "while len(lotto) < 6:\n",
    "    num = r.randint(1,46)\n",
    "    if num not in lotto:\n",
    "        lotto.append(num)\n",
    "\n",
    "lotto.sort()\n",
    "print(\"로또 번호:\", lotto)"
   ]
  },
  {
   "cell_type": "code",
   "execution_count": 33,
   "id": "ffa5682a-bc18-421f-898f-87cd403bba0d",
   "metadata": {
    "scrolled": true
   },
   "outputs": [
    {
     "name": "stdout",
     "output_type": "stream",
     "text": [
      "숫자1: 출현한 횟수는 8회 입니다.\n",
      "숫자2: 출현한 횟수는 18회 입니다.\n",
      "숫자3: 출현한 횟수는 18회 입니다.\n",
      "숫자4: 출현한 횟수는 10회 입니다.\n",
      "숫자5: 출현한 횟수는 15회 입니다.\n",
      "숫자6: 출현한 횟수는 10회 입니다.\n",
      "숫자7: 출현한 횟수는 6회 입니다.\n",
      "숫자8: 출현한 횟수는 12회 입니다.\n",
      "숫자9: 출현한 횟수는 14회 입니다.\n",
      "숫자10: 출현한 횟수는 14회 입니다.\n",
      "숫자11: 출현한 횟수는 11회 입니다.\n",
      "숫자12: 출현한 횟수는 12회 입니다.\n",
      "숫자13: 출현한 횟수는 7회 입니다.\n",
      "숫자14: 출현한 횟수는 10회 입니다.\n",
      "숫자15: 출현한 횟수는 7회 입니다.\n",
      "숫자16: 출현한 횟수는 9회 입니다.\n",
      "숫자17: 출현한 횟수는 14회 입니다.\n",
      "숫자18: 출현한 횟수는 8회 입니다.\n",
      "숫자19: 출현한 횟수는 13회 입니다.\n",
      "숫자20: 출현한 횟수는 17회 입니다.\n",
      "숫자21: 출현한 횟수는 11회 입니다.\n",
      "숫자22: 출현한 횟수는 14회 입니다.\n",
      "숫자23: 출현한 횟수는 10회 입니다.\n",
      "숫자24: 출현한 횟수는 11회 입니다.\n",
      "숫자25: 출현한 횟수는 11회 입니다.\n",
      "숫자26: 출현한 횟수는 16회 입니다.\n",
      "숫자27: 출현한 횟수는 16회 입니다.\n",
      "숫자28: 출현한 횟수는 15회 입니다.\n",
      "숫자29: 출현한 횟수는 14회 입니다.\n",
      "숫자30: 출현한 횟수는 15회 입니다.\n",
      "숫자31: 출현한 횟수는 12회 입니다.\n",
      "숫자32: 출현한 횟수는 14회 입니다.\n",
      "숫자33: 출현한 횟수는 16회 입니다.\n",
      "숫자34: 출현한 횟수는 19회 입니다.\n",
      "숫자35: 출현한 횟수는 16회 입니다.\n",
      "숫자36: 출현한 횟수는 13회 입니다.\n",
      "숫자37: 출현한 횟수는 17회 입니다.\n",
      "숫자38: 출현한 횟수는 15회 입니다.\n",
      "숫자39: 출현한 횟수는 14회 입니다.\n",
      "숫자40: 출현한 횟수는 12회 입니다.\n",
      "숫자41: 출현한 횟수는 17회 입니다.\n",
      "숫자42: 출현한 횟수는 17회 입니다.\n",
      "숫자43: 출현한 횟수는 14회 입니다.\n",
      "숫자44: 출현한 횟수는 16회 입니다.\n",
      "숫자45: 출현한 횟수는 22회 입니다.\n",
      "[8, 18, 18, 10, 15, 10, 6, 12, 14, 14, 11, 12, 7, 10, 7, 9, 14, 8, 13, 17, 11, 14, 10, 11, 11, 16, 16, 15, 14, 15, 12, 14, 16, 19, 16, 13, 17, 15, 14, 12, 17, 17, 14, 16, 22] True\n",
      "출현횟수 100에 대한 검증이 이상없습니다.\n"
     ]
    }
   ],
   "source": [
    "# 참고용 1\n",
    "import random\n",
    "ls = []\n",
    "la = []\n",
    "how = 100\n",
    "for h in range(how):\n",
    "    lotto = sorted(random.sample(range(1,46),6)) #6개 뽑아주세요\n",
    "    la.append(lotto)\n",
    "    ls = ls + lotto\n",
    "# print(la, type(la))\n",
    "ss = []\n",
    "for n in range(1,46):\n",
    "    ss.append(ls.count(n))\n",
    "    print(f'숫자{n}: 출현한 횟수는 {ls.count(n)}회 입니다.')\n",
    "print(ss,sum(ss) == how*6)\n",
    "if sum(ss) == (how*6):\n",
    "    print(f\"출현횟수 {how}에 대한 검증이 이상없습니다.\")"
   ]
  },
  {
   "cell_type": "code",
   "execution_count": 35,
   "id": "eb67abb9-d2bf-496f-bc2e-6a645488f65c",
   "metadata": {
    "scrolled": true
   },
   "outputs": [
    {
     "name": "stdout",
     "output_type": "stream",
     "text": [
      "{'num1': 18, 'num2': 11, 'num3': 13, 'num4': 11, 'num5': 10, 'num6': 13, 'num7': 8, 'num8': 11, 'num9': 13, 'num10': 14, 'num11': 12, 'num12': 13, 'num13': 18, 'num14': 16, 'num15': 12, 'num16': 11, 'num17': 15, 'num18': 10, 'num19': 17, 'num20': 10, 'num21': 15, 'num22': 12, 'num23': 18, 'num24': 18, 'num25': 13, 'num26': 18, 'num27': 7, 'num28': 15, 'num29': 16, 'num30': 21, 'num31': 14, 'num32': 12, 'num33': 14, 'num34': 15, 'num35': 22, 'num36': 15, 'num37': 13, 'num38': 13, 'num39': 10, 'num40': 12, 'num41': 11, 'num42': 9, 'num43': 8, 'num44': 13, 'num45': 10}\n",
      "600\n"
     ]
    }
   ],
   "source": [
    "# 참고용 2\n",
    "import random\n",
    "ls = []\n",
    "la = []\n",
    "how = 100\n",
    "for h in range(how):\n",
    "    lotto = sorted(random.sample(range(1,46),6)) #6개 뽑아주세요\n",
    "    la.append(lotto)\n",
    "    ls = ls + lotto\n",
    "dic = {}\n",
    "for n in range(1,46):\n",
    "    dic[f\"num{n}\"] = ls.count(n)\n",
    "    # print(f'숫자{n}: 출현한 횟수는 {ls.count(n)}회 입니다.')\n",
    "print(dic)\n",
    "print(sum(dic.values()))"
   ]
  },
  {
   "cell_type": "code",
   "execution_count": 43,
   "id": "502dd3e9-dd5f-4ea3-b608-71df27fb4bfa",
   "metadata": {},
   "outputs": [
    {
     "name": "stdout",
     "output_type": "stream",
     "text": [
      "로또 번호: [1, 5, 7, 9, 30, 33] 6\n"
     ]
    }
   ],
   "source": [
    "import random as r \n",
    "def 로또(파라미터=6, 매개변수=46): # =뒤에는 초기값(디폴트값)\n",
    "    lotto = []\n",
    "    while len(lotto) < 파라미터:\n",
    "        num = r.randint(1,매개변수)\n",
    "        if num not in lotto:\n",
    "            lotto.append(num)\n",
    "    \n",
    "    lotto.sort()\n",
    "    print(\"로또 번호:\", lotto, len(lotto))\n",
    "# 로또(10, 100) # 파라미터는 여기서 10, 매개변수는 100\n",
    "로또() # 여기서는 디폴트값이 들어감"
   ]
  },
  {
   "cell_type": "code",
   "execution_count": 38,
   "id": "f25d6ee5-b62d-49dc-8bb1-307fd5db0874",
   "metadata": {},
   "outputs": [
    {
     "name": "stdout",
     "output_type": "stream",
     "text": [
      "로또 번호: [2, 11, 15, 22, 27, 28] 6\n",
      "로또 번호: [6, 14, 16, 26, 31, 40] 6\n",
      "로또 번호: [5, 7, 9, 22, 24, 43] 6\n",
      "로또 번호: [14, 16, 26, 27, 28, 32] 6\n",
      "로또 번호: [2, 7, 12, 30, 37, 42] 6\n"
     ]
    }
   ],
   "source": [
    "# 참고용 3\n",
    "for n in range(5):\n",
    "    로또()"
   ]
  },
  {
   "cell_type": "code",
   "execution_count": 16,
   "id": "e42696b5-1865-4fee-992f-921f827ab0ff",
   "metadata": {
    "scrolled": true
   },
   "outputs": [
    {
     "name": "stdout",
     "output_type": "stream",
     "text": [
      "100000회 나왔습니다.\n",
      "1번이 2281번(2.28%) 등장하였습니다.\n",
      "2번이 2167번(2.17%) 등장하였습니다.\n",
      "3번이 2193번(2.19%) 등장하였습니다.\n",
      "4번이 2241번(2.24%) 등장하였습니다.\n",
      "5번이 2283번(2.28%) 등장하였습니다.\n",
      "6번이 2244번(2.24%) 등장하였습니다.\n",
      "7번이 2208번(2.21%) 등장하였습니다.\n",
      "8번이 2247번(2.25%) 등장하였습니다.\n",
      "9번이 2290번(2.29%) 등장하였습니다.\n",
      "10번이 2246번(2.25%) 등장하였습니다.\n",
      "11번이 2229번(2.23%) 등장하였습니다.\n",
      "12번이 2256번(2.26%) 등장하였습니다.\n",
      "13번이 2220번(2.22%) 등장하였습니다.\n",
      "14번이 2286번(2.29%) 등장하였습니다.\n",
      "15번이 2188번(2.19%) 등장하였습니다.\n",
      "16번이 2180번(2.18%) 등장하였습니다.\n",
      "17번이 2338번(2.34%) 등장하였습니다.\n",
      "18번이 2251번(2.25%) 등장하였습니다.\n",
      "19번이 2272번(2.27%) 등장하였습니다.\n",
      "20번이 2176번(2.18%) 등장하였습니다.\n",
      "21번이 2218번(2.22%) 등장하였습니다.\n",
      "22번이 2152번(2.15%) 등장하였습니다.\n",
      "23번이 2173번(2.17%) 등장하였습니다.\n",
      "24번이 2218번(2.22%) 등장하였습니다.\n",
      "25번이 2288번(2.29%) 등장하였습니다.\n",
      "26번이 2245번(2.25%) 등장하였습니다.\n",
      "27번이 2264번(2.26%) 등장하였습니다.\n",
      "28번이 2256번(2.26%) 등장하였습니다.\n",
      "29번이 2127번(2.13%) 등장하였습니다.\n",
      "30번이 2219번(2.22%) 등장하였습니다.\n",
      "31번이 2197번(2.20%) 등장하였습니다.\n",
      "32번이 2194번(2.19%) 등장하였습니다.\n",
      "33번이 2193번(2.19%) 등장하였습니다.\n",
      "34번이 2207번(2.21%) 등장하였습니다.\n",
      "35번이 2192번(2.19%) 등장하였습니다.\n",
      "36번이 2188번(2.19%) 등장하였습니다.\n",
      "37번이 2244번(2.24%) 등장하였습니다.\n",
      "38번이 2223번(2.22%) 등장하였습니다.\n",
      "39번이 2245번(2.25%) 등장하였습니다.\n",
      "40번이 2267번(2.27%) 등장하였습니다.\n",
      "41번이 2191번(2.19%) 등장하였습니다.\n",
      "42번이 2113번(2.11%) 등장하였습니다.\n",
      "43번이 2264번(2.26%) 등장하였습니다.\n",
      "44번이 2194번(2.19%) 등장하였습니다.\n",
      "45번이 2132번(2.13%) 등장하였습니다.\n"
     ]
    },
    {
     "ename": "TypeError",
     "evalue": "'int' object is not iterable",
     "output_type": "error",
     "traceback": [
      "\u001b[1;31m---------------------------------------------------------------------------\u001b[0m",
      "\u001b[1;31mTypeError\u001b[0m                                 Traceback (most recent call last)",
      "Cell \u001b[1;32mIn[16], line 60\u001b[0m\n\u001b[0;32m     57\u001b[0m \u001b[38;5;28mprint\u001b[39m(\u001b[38;5;124mf\u001b[39m\u001b[38;5;124m\"\u001b[39m\u001b[38;5;124m44번이 \u001b[39m\u001b[38;5;132;01m{\u001b[39;00mbox\u001b[38;5;241m.\u001b[39mcount(\u001b[38;5;241m44\u001b[39m)\u001b[38;5;132;01m}\u001b[39;00m\u001b[38;5;124m번(\u001b[39m\u001b[38;5;132;01m{\u001b[39;00m(box\u001b[38;5;241m.\u001b[39mcount(\u001b[38;5;241m44\u001b[39m)\u001b[38;5;241m/\u001b[39m\u001b[38;5;28mlen\u001b[39m(box))\u001b[38;5;241m*\u001b[39m\u001b[38;5;241m100\u001b[39m\u001b[38;5;132;01m:\u001b[39;00m\u001b[38;5;124m.2f\u001b[39m\u001b[38;5;132;01m}\u001b[39;00m\u001b[38;5;124m%) 등장하였습니다.\u001b[39m\u001b[38;5;124m\"\u001b[39m)\n\u001b[0;32m     58\u001b[0m \u001b[38;5;28mprint\u001b[39m(\u001b[38;5;124mf\u001b[39m\u001b[38;5;124m\"\u001b[39m\u001b[38;5;124m45번이 \u001b[39m\u001b[38;5;132;01m{\u001b[39;00mbox\u001b[38;5;241m.\u001b[39mcount(\u001b[38;5;241m45\u001b[39m)\u001b[38;5;132;01m}\u001b[39;00m\u001b[38;5;124m번(\u001b[39m\u001b[38;5;132;01m{\u001b[39;00m(box\u001b[38;5;241m.\u001b[39mcount(\u001b[38;5;241m45\u001b[39m)\u001b[38;5;241m/\u001b[39m\u001b[38;5;28mlen\u001b[39m(box))\u001b[38;5;241m*\u001b[39m\u001b[38;5;241m100\u001b[39m\u001b[38;5;132;01m:\u001b[39;00m\u001b[38;5;124m.2f\u001b[39m\u001b[38;5;132;01m}\u001b[39;00m\u001b[38;5;124m%) 등장하였습니다.\u001b[39m\u001b[38;5;124m\"\u001b[39m)\n\u001b[1;32m---> 60\u001b[0m \u001b[38;5;28mprint\u001b[39m(target, \u001b[38;5;124m'\u001b[39m\u001b[38;5;124m제일 확률 높은 번호:\u001b[39m\u001b[38;5;124m'\u001b[39m,\u001b[38;5;28;43mmax\u001b[39;49m\u001b[43m(\u001b[49m\u001b[38;5;28;43mint\u001b[39;49m\u001b[43m(\u001b[49m\u001b[43mtarget\u001b[49m\u001b[43m)\u001b[49m\u001b[43m)\u001b[49m)\n",
      "\u001b[1;31mTypeError\u001b[0m: 'int' object is not iterable"
     ]
    }
   ],
   "source": [
    "import random as r\n",
    "box = []\n",
    "num = 0\n",
    "target = 100000\n",
    "while num < target:\n",
    "    num = num + 1\n",
    "    ran = r.randint(1, 45)\n",
    "    box.append(ran)\n",
    "if target == len(box):\n",
    "    print(f\"{target}회 나왔습니다.\")\n",
    "else:\n",
    "    print(f\"검증 결과 횟수 이상이 있습니다. 이유:({target}회 목표로 동작하였으나, {len(box)}으로 측정되었습니다.)\")\n",
    "\n",
    "print(f\"1번이 {box.count(1)}번({(box.count(1)/len(box))*100:.2f}%) 등장하였습니다.\")\n",
    "print(f\"2번이 {box.count(2)}번({(box.count(2)/len(box))*100:.2f}%) 등장하였습니다.\")\n",
    "print(f\"3번이 {box.count(3)}번({(box.count(3)/len(box))*100:.2f}%) 등장하였습니다.\")\n",
    "print(f\"4번이 {box.count(4)}번({(box.count(4)/len(box))*100:.2f}%) 등장하였습니다.\")\n",
    "print(f\"5번이 {box.count(5)}번({(box.count(5)/len(box))*100:.2f}%) 등장하였습니다.\")\n",
    "print(f\"6번이 {box.count(6)}번({(box.count(6)/len(box))*100:.2f}%) 등장하였습니다.\")\n",
    "print(f\"7번이 {box.count(7)}번({(box.count(7)/len(box))*100:.2f}%) 등장하였습니다.\")\n",
    "print(f\"8번이 {box.count(8)}번({(box.count(8)/len(box))*100:.2f}%) 등장하였습니다.\")\n",
    "print(f\"9번이 {box.count(9)}번({(box.count(9)/len(box))*100:.2f}%) 등장하였습니다.\")\n",
    "print(f\"10번이 {box.count(10)}번({(box.count(10)/len(box))*100:.2f}%) 등장하였습니다.\")\n",
    "print(f\"11번이 {box.count(11)}번({(box.count(11)/len(box))*100:.2f}%) 등장하였습니다.\")\n",
    "print(f\"12번이 {box.count(12)}번({(box.count(12)/len(box))*100:.2f}%) 등장하였습니다.\")\n",
    "print(f\"13번이 {box.count(13)}번({(box.count(13)/len(box))*100:.2f}%) 등장하였습니다.\")\n",
    "print(f\"14번이 {box.count(14)}번({(box.count(14)/len(box))*100:.2f}%) 등장하였습니다.\")\n",
    "print(f\"15번이 {box.count(15)}번({(box.count(15)/len(box))*100:.2f}%) 등장하였습니다.\")\n",
    "print(f\"16번이 {box.count(16)}번({(box.count(16)/len(box))*100:.2f}%) 등장하였습니다.\")\n",
    "print(f\"17번이 {box.count(17)}번({(box.count(17)/len(box))*100:.2f}%) 등장하였습니다.\")\n",
    "print(f\"18번이 {box.count(18)}번({(box.count(18)/len(box))*100:.2f}%) 등장하였습니다.\")\n",
    "print(f\"19번이 {box.count(19)}번({(box.count(19)/len(box))*100:.2f}%) 등장하였습니다.\")\n",
    "print(f\"20번이 {box.count(20)}번({(box.count(20)/len(box))*100:.2f}%) 등장하였습니다.\")\n",
    "print(f\"21번이 {box.count(21)}번({(box.count(21)/len(box))*100:.2f}%) 등장하였습니다.\")\n",
    "print(f\"22번이 {box.count(22)}번({(box.count(22)/len(box))*100:.2f}%) 등장하였습니다.\")\n",
    "print(f\"23번이 {box.count(23)}번({(box.count(23)/len(box))*100:.2f}%) 등장하였습니다.\")\n",
    "print(f\"24번이 {box.count(24)}번({(box.count(24)/len(box))*100:.2f}%) 등장하였습니다.\")\n",
    "print(f\"25번이 {box.count(25)}번({(box.count(25)/len(box))*100:.2f}%) 등장하였습니다.\")\n",
    "print(f\"26번이 {box.count(26)}번({(box.count(26)/len(box))*100:.2f}%) 등장하였습니다.\")\n",
    "print(f\"27번이 {box.count(27)}번({(box.count(27)/len(box))*100:.2f}%) 등장하였습니다.\")\n",
    "print(f\"28번이 {box.count(28)}번({(box.count(28)/len(box))*100:.2f}%) 등장하였습니다.\")\n",
    "print(f\"29번이 {box.count(29)}번({(box.count(29)/len(box))*100:.2f}%) 등장하였습니다.\")\n",
    "print(f\"30번이 {box.count(30)}번({(box.count(30)/len(box))*100:.2f}%) 등장하였습니다.\")\n",
    "print(f\"31번이 {box.count(31)}번({(box.count(31)/len(box))*100:.2f}%) 등장하였습니다.\")\n",
    "print(f\"32번이 {box.count(32)}번({(box.count(32)/len(box))*100:.2f}%) 등장하였습니다.\")\n",
    "print(f\"33번이 {box.count(33)}번({(box.count(33)/len(box))*100:.2f}%) 등장하였습니다.\")\n",
    "print(f\"34번이 {box.count(34)}번({(box.count(34)/len(box))*100:.2f}%) 등장하였습니다.\")\n",
    "print(f\"35번이 {box.count(35)}번({(box.count(35)/len(box))*100:.2f}%) 등장하였습니다.\")\n",
    "print(f\"36번이 {box.count(36)}번({(box.count(36)/len(box))*100:.2f}%) 등장하였습니다.\")\n",
    "print(f\"37번이 {box.count(37)}번({(box.count(37)/len(box))*100:.2f}%) 등장하였습니다.\")\n",
    "print(f\"38번이 {box.count(38)}번({(box.count(38)/len(box))*100:.2f}%) 등장하였습니다.\")\n",
    "print(f\"39번이 {box.count(39)}번({(box.count(39)/len(box))*100:.2f}%) 등장하였습니다.\")\n",
    "print(f\"40번이 {box.count(40)}번({(box.count(40)/len(box))*100:.2f}%) 등장하였습니다.\")\n",
    "print(f\"41번이 {box.count(41)}번({(box.count(41)/len(box))*100:.2f}%) 등장하였습니다.\")\n",
    "print(f\"42번이 {box.count(42)}번({(box.count(42)/len(box))*100:.2f}%) 등장하였습니다.\")\n",
    "print(f\"43번이 {box.count(43)}번({(box.count(43)/len(box))*100:.2f}%) 등장하였습니다.\")\n",
    "print(f\"44번이 {box.count(44)}번({(box.count(44)/len(box))*100:.2f}%) 등장하였습니다.\")\n",
    "print(f\"45번이 {box.count(45)}번({(box.count(45)/len(box))*100:.2f}%) 등장하였습니다.\")\n",
    "\n",
    "print(target, '제일 확률 높은 번호:',max(int(target)))"
   ]
  },
  {
   "cell_type": "code",
   "execution_count": null,
   "id": "cbebdcdf-7b96-4a1f-8680-7a54dd4e7537",
   "metadata": {},
   "outputs": [],
   "source": []
  }
 ],
 "metadata": {
  "kernelspec": {
   "display_name": "Python 3 (ipykernel)",
   "language": "python",
   "name": "python3"
  },
  "language_info": {
   "codemirror_mode": {
    "name": "ipython",
    "version": 3
   },
   "file_extension": ".py",
   "mimetype": "text/x-python",
   "name": "python",
   "nbconvert_exporter": "python",
   "pygments_lexer": "ipython3",
   "version": "3.13.1"
  }
 },
 "nbformat": 4,
 "nbformat_minor": 5
}
