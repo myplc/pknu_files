{
 "cells": [
  {
   "cell_type": "code",
   "execution_count": null,
   "id": "5c3ab8f6",
   "metadata": {},
   "outputs": [
    {
     "name": "stdout",
     "output_type": "stream",
     "text": [
      "정확도: 1.0\n"
     ]
    }
   ],
   "source": [
    "import pandas as pd\n",
    "import numpy as np\n",
    "from sklearn.model_selection import train_test_split\n",
    "from sklearn.neighbors import KNeighborsClassifier\n",
    "from sklearn.metrics import accuracy_score\n",
    "\n",
    "\n",
    "# 데이터 준비\n",
    "data = {\n",
    "    \"단맛\": [8, 2, 6, 9, 3, 4, 7, 2, 5, 7, 1, 10, 4, 5, 6, 3, 8, 2, 9, 1],\n",
    "    \"신맛\": [2, 8, 6, 1, 7, 3, 2, 2, 5, 1, 9, 1, 6, 5, 4, 8, 3, 9, 2, 8],\n",
    "    \"간식종류\": [\n",
    "        \"초콜릿\", \"젤리\", \"젤리\", \"초콜릿\", \"젤리\",\n",
    "        \"감자칩\", \"초콜릿\", \"감자칩\", \"젤리\", \"초콜릿\",\n",
    "        \"젤리\", \"초콜릿\", \"감자칩\", \"젤리\", \"감자칩\",\n",
    "        \"젤리\", \"초콜릿\", \"젤리\", \"초콜릿\", \"젤리\"\n",
    "    ]\n",
    "}\n",
    "\n",
    "df = pd.DataFrame(data)\n",
    "\n",
    "# 1. 입출력 분리\n",
    "X = df[[\"단맛\",\"신맛\"]]\n",
    "Y = df[\"간식종류\"]\n",
    "\n",
    "# 2. 훈련/ 테스트 데이터 분리\n",
    "X_train, X_test, Y_train, Y_test = train_test_split(X, Y, test_size=0.3, random_state = 42)\n",
    "\n",
    "# 3. KNN 분류\n",
    "knn = KNeighborsClassifier(n_neighbors=3)\n",
    "knn.fit(X_train, Y_train)\n",
    "Y_pred = knn.predict(X_test)\n",
    "\n",
    "# 4. 정확도 출력\n",
    "print(\"정확도:\", accuracy_score(Y_test, Y_pred))\n"
   ]
  },
  {
   "cell_type": "code",
   "execution_count": 12,
   "id": "139630a8",
   "metadata": {},
   "outputs": [
    {
     "name": "stdout",
     "output_type": "stream",
     "text": [
      "추천 간식: ['감자칩']\n"
     ]
    }
   ],
   "source": [
    "X_new = pd.DataFrame([[5, 3]], columns=[\"단맛\",\"신맛\"])\n",
    "print(\"추천 간식:\", knn.predict(X_new))"
   ]
  },
  {
   "cell_type": "code",
   "execution_count": 13,
   "id": "afcc1697",
   "metadata": {},
   "outputs": [
    {
     "name": "stdout",
     "output_type": "stream",
     "text": [
      "정확도: 1.0\n"
     ]
    }
   ],
   "source": [
    "import pandas as pd\n",
    "import numpy as np\n",
    "from sklearn.model_selection import train_test_split\n",
    "from sklearn.neighbors import KNeighborsClassifier\n",
    "from sklearn.metrics import accuracy_score\n",
    "\n",
    "\n",
    "# 데이터 준비\n",
    "\n",
    "data = {\n",
    "    \"취침시각\": [22.5, 23, 0, 1, 2, 22, 23.5, 0.5, 21.5, 1.5, 23, 0.2, 22.8, 2.2, 21.8],\n",
    "    \"수면시간\": [8, 8, 7, 6, 5, 7.5, 8, 5.5, 9, 6.5, 7, 6, 8, 5, 9],\n",
    "    \"유형\": [\"아침형\", \"아침형\", \"저녁형\", \"저녁형\", \"저녁형\", \"아침형\", \"아침형\", \"저녁형\", \"아침형\", \"저녁형\", \"아침형\", \"저녁형\", \"아침형\", \"저녁형\", \"아침형\"]\n",
    "}\n",
    "\n",
    "df = pd.DataFrame(data)\n",
    "\n",
    "# 1. 입출력 분리\n",
    "X = df[[\"취침시각\",\"수면시간\"]]\n",
    "Y = df[\"유형\"]\n",
    "\n",
    "# 2. 훈련/ 테스트 데이터 분리\n",
    "X_train, X_test, Y_train, Y_test = train_test_split(X, Y, test_size=0.3, random_state = 42)\n",
    "\n",
    "# 3. KNN 분류\n",
    "knn = KNeighborsClassifier(n_neighbors=3)\n",
    "knn.fit(X_train, Y_train)\n",
    "Y_pred = knn.predict(X_test)\n",
    "\n",
    "# 4. 정확도 출력\n",
    "print(\"정확도:\", accuracy_score(Y_test, Y_pred))\n"
   ]
  },
  {
   "cell_type": "code",
   "execution_count": 15,
   "id": "2ad508bc",
   "metadata": {},
   "outputs": [
    {
     "name": "stdout",
     "output_type": "stream",
     "text": [
      "당신의 유형은: ['아침형']\n"
     ]
    }
   ],
   "source": [
    "Y_new = pd.DataFrame([[12, 6]], columns=[\"취침시각\",\"수면시간\"]) # 취침시각과 수면시각 입력\n",
    "print(\"당신의 유형은:\", knn.predict(Y_new))"
   ]
  },
  {
   "cell_type": "code",
   "execution_count": null,
   "id": "d7895cf4",
   "metadata": {},
   "outputs": [],
   "source": []
  }
 ],
 "metadata": {
  "kernelspec": {
   "display_name": "Python 3 (ipykernel)",
   "language": "python",
   "name": "python3"
  },
  "language_info": {
   "codemirror_mode": {
    "name": "ipython",
    "version": 3
   },
   "file_extension": ".py",
   "mimetype": "text/x-python",
   "name": "python",
   "nbconvert_exporter": "python",
   "pygments_lexer": "ipython3",
   "version": "3.13.1"
  }
 },
 "nbformat": 4,
 "nbformat_minor": 5
}
