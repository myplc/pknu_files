{
 "cells": [
  {
   "cell_type": "markdown",
   "id": "fa528559-c7cf-4812-9d23-1e2c0b9396e4",
   "metadata": {},
   "source": [
    "<strong>1. 평균 점수 구하기</strong>"
   ]
  },
  {
   "cell_type": "code",
   "execution_count": 2,
   "id": "a76b7754-4bb5-42d6-81f7-8b7288b1a97e",
   "metadata": {},
   "outputs": [
    {
     "name": "stdout",
     "output_type": "stream",
     "text": [
      "홍길동씨의 평균 점수는 70.0입니다.\n"
     ]
    }
   ],
   "source": [
    "kor = 80\n",
    "eng = 75\n",
    "met = 55\n",
    "avg = (kor + eng + met)/3\n",
    "print(f\"홍길동씨의 평균 점수는 {avg}입니다.\")"
   ]
  },
  {
   "cell_type": "markdown",
   "id": "e5f20a93-d7a6-4003-8c6e-c365a9077f80",
   "metadata": {},
   "source": [
    "<strong>2. 홀수, 짝수 판별하기</strong>"
   ]
  },
  {
   "cell_type": "code",
   "execution_count": 3,
   "id": "684e7b4f-3bb7-4dc6-8cdb-dfe1adf46e97",
   "metadata": {},
   "outputs": [],
   "source": [
    "# 주어진 수를 2로 나누었을 때 0으로 딱 떨어지면 찍수, 아니면 홀수"
   ]
  },
  {
   "cell_type": "markdown",
   "id": "eb91f64f-d91c-479e-9fd6-ff8fa5f8957b",
   "metadata": {},
   "source": [
    "<strong>3. 주민등록번호 나누기</strong>"
   ]
  },
  {
   "cell_type": "code",
   "execution_count": 7,
   "id": "d24db702-0d7e-4b9e-907e-2a163ffdf3bf",
   "metadata": {},
   "outputs": [
    {
     "name": "stdout",
     "output_type": "stream",
     "text": [
      "881120\n",
      "1068234\n"
     ]
    }
   ],
   "source": [
    "pin = \"881120-1068234\"\n",
    "yymmdd = pin[:6]\n",
    "num = pin[7:]\n",
    "print(yymmdd)\n",
    "print(num)"
   ]
  },
  {
   "cell_type": "markdown",
   "id": "f6463e34-b25a-48cc-83a1-f5fd611390d4",
   "metadata": {},
   "source": [
    "<strong>4. 주민등록번호 인덱싱</strong>"
   ]
  },
  {
   "cell_type": "code",
   "execution_count": 8,
   "id": "c76c4628-2803-469b-9a5b-64f692b7d14a",
   "metadata": {},
   "outputs": [
    {
     "name": "stdout",
     "output_type": "stream",
     "text": [
      "1\n"
     ]
    }
   ],
   "source": [
    "pin = \"881120-1068234\"\n",
    "print(pin[7])"
   ]
  },
  {
   "cell_type": "markdown",
   "id": "79f0c056-a8c4-4d4d-bc59-2e952f5ad792",
   "metadata": {},
   "source": [
    "<strong>5. 문자열 바꾸기</strong>"
   ]
  },
  {
   "cell_type": "code",
   "execution_count": 10,
   "id": "0a23f7a5-2511-487f-b221-89cb9ad7dedc",
   "metadata": {},
   "outputs": [
    {
     "name": "stdout",
     "output_type": "stream",
     "text": [
      "a#b#c#d\n"
     ]
    }
   ],
   "source": [
    "a = \"a:b:c:d\"\n",
    "b = a.replace(\":\",\"#\")\n",
    "print(b)"
   ]
  },
  {
   "cell_type": "markdown",
   "id": "52edc890-270c-45f0-a80f-9ca350da86f2",
   "metadata": {},
   "source": [
    "<strong>6. 리스트 역순 정렬하기</strong>"
   ]
  },
  {
   "cell_type": "code",
   "execution_count": 14,
   "id": "bc134f2b-e8b8-4601-b68b-57bdc335c902",
   "metadata": {},
   "outputs": [
    {
     "name": "stdout",
     "output_type": "stream",
     "text": [
      "[1, 2, 3, 4, 5]\n",
      "[5, 4, 3, 2, 1]\n"
     ]
    }
   ],
   "source": [
    "a = [1,3,5,4,2]\n",
    "a.sort()\n",
    "print(a)\n",
    "a.reverse()\n",
    "print(a)"
   ]
  },
  {
   "cell_type": "markdown",
   "id": "eba711d4-a76a-49a0-8ec3-a9beb798e9a9",
   "metadata": {},
   "source": [
    "<strong>7. 리스트를 문자열로 만들기</strong>"
   ]
  },
  {
   "cell_type": "code",
   "execution_count": 17,
   "id": "ece70785-79c8-4ff9-ac4b-e4f59f18e58f",
   "metadata": {},
   "outputs": [
    {
     "name": "stdout",
     "output_type": "stream",
     "text": [
      "Life is too short\n"
     ]
    }
   ],
   "source": [
    "a = ['Life', 'is', 'too', 'short']\n",
    "result = \" \".join(['Life', 'is', 'too', 'short'])\n",
    "print(result)"
   ]
  },
  {
   "cell_type": "markdown",
   "id": "c98d3e84-b7c1-4055-a54c-77ca248515eb",
   "metadata": {},
   "source": [
    "<strong>8. 튜플 더하기</strong>"
   ]
  },
  {
   "cell_type": "code",
   "execution_count": 34,
   "id": "b92a0e1e-cf0f-4ea2-b76d-75f791153908",
   "metadata": {},
   "outputs": [
    {
     "name": "stdout",
     "output_type": "stream",
     "text": [
      "(1, 2, 3, 4)\n"
     ]
    }
   ],
   "source": [
    "a = (1,2,3)\n",
    "b = (4,)\n",
    "aa = a + b\n",
    "print(aa)"
   ]
  },
  {
   "cell_type": "markdown",
   "id": "162c90c9-e373-4b19-a1dd-dfbf594f4deb",
   "metadata": {},
   "source": [
    "<strong>9. 딕셔너리의 키</strong>"
   ]
  },
  {
   "cell_type": "code",
   "execution_count": 40,
   "id": "bb9a1fdf-8009-491d-abe8-93a443acafda",
   "metadata": {},
   "outputs": [],
   "source": [
    "a = dict()\n",
    "a\n",
    "# 오류 발생하는 경우와 이유\n",
    "a['name'] = 'python'\n",
    "a[('a',)] = 'python'\n",
    "# a[[1]] = 'python'  <--- 오류발생 : 딕셔너리의 키값에는 리스트를 쓸 수 없음\n",
    "a[250] = 'python'"
   ]
  },
  {
   "cell_type": "markdown",
   "id": "0f828383-e191-48d4-9d53-2c9aac185fd5",
   "metadata": {},
   "source": [
    "<strong>10. 딕셔너리 값 추출하기</strong>"
   ]
  },
  {
   "cell_type": "code",
   "execution_count": 47,
   "id": "ce4488bb-efad-496a-8763-1fc5bd3f7a78",
   "metadata": {},
   "outputs": [
    {
     "name": "stdout",
     "output_type": "stream",
     "text": [
      "{'A': 90, 'C': 70}\n",
      "80\n"
     ]
    }
   ],
   "source": [
    "a = {'A':90, 'B':80, 'C':70}\n",
    "result = a.pop('B')\n",
    "print(a)\n",
    "print(result)"
   ]
  },
  {
   "cell_type": "markdown",
   "id": "af9a92db-9a6c-49d0-9f2d-953af652e49f",
   "metadata": {},
   "source": [
    "<strong>11. 리스트에서 중복 제거하기</strong>"
   ]
  },
  {
   "cell_type": "code",
   "execution_count": 54,
   "id": "eebe2976-1934-4fcf-aeb8-20b89dece5f2",
   "metadata": {},
   "outputs": [
    {
     "name": "stdout",
     "output_type": "stream",
     "text": [
      "[1, 2, 3, 4, 5]\n"
     ]
    }
   ],
   "source": [
    "a = [1,1,1,2,2,3,3,3,4,4,5]\n",
    "aSet = set(a)\n",
    "b = list(aSet)\n",
    "print(b)"
   ]
  },
  {
   "cell_type": "markdown",
   "id": "c50633db-f625-403f-ab5d-efb333bf3942",
   "metadata": {},
   "source": [
    "<strong>12. 파이썬 변수</strong>"
   ]
  },
  {
   "cell_type": "code",
   "execution_count": 57,
   "id": "264e668f-2792-4cf2-8516-b4b9de92d789",
   "metadata": {},
   "outputs": [
    {
     "name": "stdout",
     "output_type": "stream",
     "text": [
      "[1, 4, 3]\n"
     ]
    },
    {
     "data": {
      "text/plain": [
       "True"
      ]
     },
     "execution_count": 57,
     "metadata": {},
     "output_type": "execute_result"
    }
   ],
   "source": [
    "a = b = [1, 2, 3]\n",
    "a[1] = 4\n",
    "print(b)\n",
    "\n",
    "# b의 두 번째 요소값도 변경된다.\n",
    "# 같은 객체를 가리키고있기 때문\n",
    "a is b"
   ]
  }
 ],
 "metadata": {
  "kernelspec": {
   "display_name": "Python 3 (ipykernel)",
   "language": "python",
   "name": "python3"
  },
  "language_info": {
   "codemirror_mode": {
    "name": "ipython",
    "version": 3
   },
   "file_extension": ".py",
   "mimetype": "text/x-python",
   "name": "python",
   "nbconvert_exporter": "python",
   "pygments_lexer": "ipython3",
   "version": "3.13.1"
  }
 },
 "nbformat": 4,
 "nbformat_minor": 5
}
