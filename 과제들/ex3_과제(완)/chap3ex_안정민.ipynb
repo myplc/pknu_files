{
 "cells": [
  {
   "cell_type": "markdown",
   "id": "0d148d80-4665-427d-a3fe-e7e50f59486f",
   "metadata": {},
   "source": [
    "<strong>1. 조건문의 참과 거짓</strong>"
   ]
  },
  {
   "cell_type": "code",
   "execution_count": 3,
   "id": "0c706767-f27d-4719-b1a4-298b74fbebff",
   "metadata": {},
   "outputs": [
    {
     "name": "stdout",
     "output_type": "stream",
     "text": [
      "shirt\n"
     ]
    }
   ],
   "source": [
    "a = \"Life is too short, you need python\"\n",
    "\n",
    "if \"wife\" in a:  print(\"wife\")\n",
    "elif \"python\" in a and \"you\" not in a:  print(\"python\")\n",
    "elif \"shirt\" not in a:  print(\"shirt\")\n",
    "elif \"need\" in a:  print(\"need\")\n",
    "else:  print(\"none\")"
   ]
  },
  {
   "cell_type": "markdown",
   "id": "d9c244ad-7165-42f7-9c02-702699f1c52c",
   "metadata": {},
   "source": [
    "<strong>2. 3의 배수의 합 구하기</strong>"
   ]
  },
  {
   "cell_type": "code",
   "execution_count": 4,
   "id": "bfdeb987-a189-4338-9950-fd168f7ae73f",
   "metadata": {},
   "outputs": [
    {
     "name": "stdout",
     "output_type": "stream",
     "text": [
      "166833\n"
     ]
    }
   ],
   "source": [
    "result = 0\n",
    "i = 1\n",
    "while i <= 1000:\n",
    "    if i%3 == 0:\n",
    "        result += i\n",
    "    i += 1\n",
    "\n",
    "print(result)"
   ]
  },
  {
   "cell_type": "markdown",
   "id": "45d7cd0a-2a94-4314-afb3-c318227cc560",
   "metadata": {},
   "source": [
    "<strong>3. 별 표시하기</strong>"
   ]
  },
  {
   "cell_type": "code",
   "execution_count": 8,
   "id": "b9a9220f-8e6a-41dc-8649-4e0a42e54895",
   "metadata": {},
   "outputs": [
    {
     "name": "stdout",
     "output_type": "stream",
     "text": [
      "*\n",
      "**\n",
      "***\n",
      "****\n",
      "*****\n"
     ]
    }
   ],
   "source": [
    "i = 0\n",
    "while True:\n",
    "    i += 1\n",
    "    if i > 5 :  break\n",
    "    print(\"*\"*i)"
   ]
  },
  {
   "cell_type": "markdown",
   "id": "53635352-701a-4e24-a088-a6bf8b451977",
   "metadata": {},
   "source": [
    "<strong>4. 1부터 100까지 출력하기</strong>"
   ]
  },
  {
   "cell_type": "code",
   "execution_count": 11,
   "id": "052c1a31-2dd6-4795-b5d2-461eeb980616",
   "metadata": {},
   "outputs": [
    {
     "name": "stdout",
     "output_type": "stream",
     "text": [
      "1 2 3 4 5 6 7 8 9 10 \n",
      "\n",
      "11 12 13 14 15 16 17 18 19 20 \n",
      "\n",
      "21 22 23 24 25 26 27 28 29 30 \n",
      "\n",
      "31 32 33 34 35 36 37 38 39 40 \n",
      "\n",
      "41 42 43 44 45 46 47 48 49 50 \n",
      "\n",
      "51 52 53 54 55 56 57 58 59 60 \n",
      "\n",
      "61 62 63 64 65 66 67 68 69 70 \n",
      "\n",
      "71 72 73 74 75 76 77 78 79 80 \n",
      "\n",
      "81 82 83 84 85 86 87 88 89 90 \n",
      "\n",
      "91 92 93 94 95 96 97 98 99 100 \n",
      "\n"
     ]
    }
   ],
   "source": [
    "for i in range(1,101):\n",
    "    print(f'{i} ',end='')\n",
    "    if i%10 == 0:\n",
    "        print('\\n')"
   ]
  },
  {
   "cell_type": "markdown",
   "id": "8cc63839-765a-4105-ada2-b348641ac816",
   "metadata": {},
   "source": [
    "<strong>5. 평균 점수 구하기</strong>"
   ]
  },
  {
   "cell_type": "code",
   "execution_count": 13,
   "id": "e1a0d21d-380c-4953-aeea-87e667ce06c1",
   "metadata": {},
   "outputs": [
    {
     "name": "stdout",
     "output_type": "stream",
     "text": [
      "79.0\n"
     ]
    }
   ],
   "source": [
    "A = [70, 60, 55, 75, 95, 90, 80, 80, 85, 100]\n",
    "total = 0\n",
    "for score in A:\n",
    "    total += score\n",
    "average = total/len(A)\n",
    "print(average)"
   ]
  },
  {
   "cell_type": "markdown",
   "id": "2ca95325-4c76-47ac-9602-fe72363427c8",
   "metadata": {},
   "source": [
    "<strong>6. 리스트 컴프리헨션 사용하기</strong>"
   ]
  },
  {
   "cell_type": "code",
   "execution_count": 18,
   "id": "cbc2819b-2b4b-4124-8dca-c52b4cbf40f5",
   "metadata": {},
   "outputs": [
    {
     "name": "stdout",
     "output_type": "stream",
     "text": [
      "[2, 6, 10]\n"
     ]
    }
   ],
   "source": [
    "# 홀수만 골라서 2 곱하기\n",
    "# 일반 for문\n",
    "numbers = [1, 2, 3, 4, 5]\n",
    "result = []\n",
    "for n in numbers:\n",
    "    if n % 2 == 1:\n",
    "        result.append(n*2)\n",
    "print(result)"
   ]
  },
  {
   "cell_type": "code",
   "execution_count": 20,
   "id": "59fb9206-4557-451d-8863-91471085061a",
   "metadata": {},
   "outputs": [
    {
     "name": "stdout",
     "output_type": "stream",
     "text": [
      "[2, 6, 10]\n"
     ]
    }
   ],
   "source": [
    "# 컴프리헨션\n",
    "numbers = [1, 2, 3, 4, 5]\n",
    "result = [odd*2 for odd in numbers if odd%2 != 0]\n",
    "print(result)"
   ]
  }
 ],
 "metadata": {
  "kernelspec": {
   "display_name": "Python 3 (ipykernel)",
   "language": "python",
   "name": "python3"
  },
  "language_info": {
   "codemirror_mode": {
    "name": "ipython",
    "version": 3
   },
   "file_extension": ".py",
   "mimetype": "text/x-python",
   "name": "python",
   "nbconvert_exporter": "python",
   "pygments_lexer": "ipython3",
   "version": "3.13.1"
  }
 },
 "nbformat": 4,
 "nbformat_minor": 5
}
