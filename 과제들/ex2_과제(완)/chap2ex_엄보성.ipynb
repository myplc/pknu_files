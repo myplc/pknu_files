{
 "cells": [
  {
   "cell_type": "code",
   "execution_count": 10,
   "id": "6b5793cf-6f31-47b9-924e-09be392c7114",
   "metadata": {},
   "outputs": [
    {
     "name": "stdout",
     "output_type": "stream",
     "text": [
      "평균은 70.0\n"
     ]
    }
   ],
   "source": [
    "# 01 평균 점수 구하기\n",
    "\n",
    "sub = {\"국어\": 80, \"영어\": 75, \"수학\": 55}\n",
    "\n",
    "ev = int(sub[\"국어\"]) + int(sub[\"영어\"]) + int(sub[\"수학\"])\n",
    "\n",
    "ev = ev / len(sub)\n",
    "\n",
    "print(f'평균은 {ev}')"
   ]
  },
  {
   "cell_type": "code",
   "execution_count": 9,
   "id": "833b484e-7280-44db-af3c-af2beb30c8a4",
   "metadata": {},
   "outputs": [
    {
     "name": "stdout",
     "output_type": "stream",
     "text": [
      "13은 홀수\n"
     ]
    }
   ],
   "source": [
    "# 02 홀수, 짝수 판별하기\n",
    "\n",
    "num = 13 \n",
    "\n",
    "if num % 2:\n",
    "    print(f'{num}은 홀수')\n",
    "else: \n",
    "    print(f'{num}은 짝수')"
   ]
  },
  {
   "cell_type": "code",
   "execution_count": 14,
   "id": "66a103cc-b556-4b3f-b2d7-68e3bbf2888d",
   "metadata": {},
   "outputs": [
    {
     "name": "stdout",
     "output_type": "stream",
     "text": [
      "881120\n",
      "1068234\n"
     ]
    }
   ],
   "source": [
    "# 03 주민등록번호 나누기\n",
    "\n",
    "pin = \"881120-1068234\"\n",
    "\n",
    "yyyymmdd = pin.split('-')[0]\n",
    "num = pin.split('-')[1]\n",
    "\n",
    "print(yyyymmdd)\n",
    "print(num)"
   ]
  },
  {
   "cell_type": "code",
   "execution_count": 25,
   "id": "8948be08-4f0c-43f3-be22-f8551a51c271",
   "metadata": {},
   "outputs": [
    {
     "name": "stdout",
     "output_type": "stream",
     "text": [
      "1\n"
     ]
    }
   ],
   "source": [
    "# 04 주민등록번호 인덱싱\n",
    "\n",
    "pin = \"881120-1068234\"\n",
    "\n",
    "print(pin[-7])"
   ]
  },
  {
   "cell_type": "code",
   "execution_count": 20,
   "id": "ac30b8ec-e399-4ffa-afc5-13192124efbd",
   "metadata": {},
   "outputs": [
    {
     "name": "stdout",
     "output_type": "stream",
     "text": [
      "a#b#c#d\n"
     ]
    }
   ],
   "source": [
    "# 05 문자열 바꾸기\n",
    "\n",
    "a = \"a:b:c:d\"\n",
    "b = a.replace(':', '#')\n",
    "print(b)"
   ]
  },
  {
   "cell_type": "code",
   "execution_count": 24,
   "id": "b7ebe728-2efa-4a3d-820f-87918f527bfd",
   "metadata": {},
   "outputs": [
    {
     "name": "stdout",
     "output_type": "stream",
     "text": [
      "[5, 4, 3, 2, 1]\n"
     ]
    }
   ],
   "source": [
    "# 06 리스트 역순 정렬하기\n",
    "\n",
    "a = [1, 3, 5, 4, 2]\n",
    "a.sort()\n",
    "a.reverse()\n",
    "print(a)"
   ]
  },
  {
   "cell_type": "code",
   "execution_count": 33,
   "id": "f45d8c39-98df-45e0-8e5b-7b4c1b17b5f3",
   "metadata": {},
   "outputs": [
    {
     "name": "stdout",
     "output_type": "stream",
     "text": [
      "Life is too short\n"
     ]
    }
   ],
   "source": [
    "# 07 리스트를 문자열로 만들기\n",
    "\n",
    "a = ['Life', \"is\", 'too', 'short']\n",
    "result = ' '.join(a)\n",
    "print(result)"
   ]
  },
  {
   "cell_type": "code",
   "execution_count": 48,
   "id": "885b8c8e-8ae2-4bc5-bf74-94161103d236",
   "metadata": {},
   "outputs": [
    {
     "name": "stdout",
     "output_type": "stream",
     "text": [
      "(1, 2, 3, 4)\n"
     ]
    }
   ],
   "source": [
    "# 08 튜플 더하기\n",
    "\n",
    "a = (1, 2, 3)\n",
    "a = a + (4,)\n",
    "print(a)"
   ]
  },
  {
   "cell_type": "code",
   "execution_count": 66,
   "id": "c871a891-e7f9-4b4e-bd47-467ddf52eb72",
   "metadata": {},
   "outputs": [
    {
     "name": "stdout",
     "output_type": "stream",
     "text": [
      "{'name': 'python', ('a',): 'python', 250: 'python'}\n"
     ]
    }
   ],
   "source": [
    "# 09 딕셔너리의 키\n",
    "\n",
    "a = dict()\n",
    "\n",
    "a['name'] = 'python'\n",
    "a[('a',)] = 'python'\n",
    "# a[[1]] = 'python'  # <- key 값에 list는 쓸 수 없다.\n",
    "a[250] = 'python'\n",
    "\n",
    "print(a)\n",
    "\n",
    "\n"
   ]
  },
  {
   "cell_type": "code",
   "execution_count": 55,
   "id": "c53d2ca5-e7c7-4220-b86f-1f232c5f28ae",
   "metadata": {},
   "outputs": [
    {
     "name": "stdout",
     "output_type": "stream",
     "text": [
      "{'A': 90, 'C': 70}\n",
      "80\n"
     ]
    }
   ],
   "source": [
    "# 10 딕셔너리 값 추출하기\n",
    "\n",
    "a = {'A':90, 'B':80, 'C':70}\n",
    "\n",
    "result = a.pop('B')\n",
    "print(a)\n",
    "print(result)"
   ]
  },
  {
   "cell_type": "code",
   "execution_count": 64,
   "id": "f1d278f8-505d-4119-bafa-d53eeb4d4bd6",
   "metadata": {},
   "outputs": [
    {
     "name": "stdout",
     "output_type": "stream",
     "text": [
      "[1, 2, 3, 4, 5]\n"
     ]
    }
   ],
   "source": [
    "# 11 리스트에서 중복 제거하기\n",
    "\n",
    "a = [1, 1, 1, 2, 2, 3, 3, 3, 4, 4, 5]\n",
    "\n",
    "aSet = set(a)\n",
    "b = list(aSet)\n",
    "print(b)\n"
   ]
  },
  {
   "cell_type": "code",
   "execution_count": 65,
   "id": "868c55d7-8ef3-4207-8f87-c433791b4ae7",
   "metadata": {},
   "outputs": [
    {
     "name": "stdout",
     "output_type": "stream",
     "text": [
      "[1, 4, 3]\n"
     ]
    }
   ],
   "source": [
    "# 12 파이썬 변수\n",
    "\n",
    "a = b = [1, 2, 3]\n",
    "a[1] = 4\n",
    "print(b)\n",
    "\n",
    "# 같은 메모리 공간을 참조하고 있기 때문"
   ]
  },
  {
   "cell_type": "code",
   "execution_count": null,
   "id": "7462498a-4e4e-4fc5-98eb-59ef91e50f7e",
   "metadata": {},
   "outputs": [],
   "source": []
  }
 ],
 "metadata": {
  "kernelspec": {
   "display_name": "Python 3 (ipykernel)",
   "language": "python",
   "name": "python3"
  },
  "language_info": {
   "codemirror_mode": {
    "name": "ipython",
    "version": 3
   },
   "file_extension": ".py",
   "mimetype": "text/x-python",
   "name": "python",
   "nbconvert_exporter": "python",
   "pygments_lexer": "ipython3",
   "version": "3.13.1"
  }
 },
 "nbformat": 4,
 "nbformat_minor": 5
}
