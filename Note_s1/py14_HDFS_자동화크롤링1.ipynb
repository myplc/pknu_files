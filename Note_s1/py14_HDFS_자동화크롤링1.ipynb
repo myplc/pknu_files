{
 "cells": [
  {
   "cell_type": "code",
   "execution_count": 32,
   "id": "a4f7ff8f-5abc-4469-a001-9e733f1234a3",
   "metadata": {},
   "outputs": [],
   "source": [
    "from selenium import webdriver\n",
    "from selenium.webdriver.common.action_chains import ActionChains\n",
    "from selenium.webdriver.support.ui import Select, WebDriverWait\n",
    "from selenium.webdriver.support import expected_conditions as EC\n",
    "from selenium.webdriver.chrome.service import Service\n",
    "from selenium.webdriver.chrome.options import Options\n",
    "from selenium.webdriver.common.by import By\n",
    "import pandas as pd\n",
    "import time"
   ]
  },
  {
   "cell_type": "code",
   "execution_count": null,
   "id": "d9e9201b-1b2b-46c5-95bd-a47deac74999",
   "metadata": {},
   "outputs": [],
   "source": [
    "# Chrome 옵션 설정\n",
    "options = Options()\n",
    "options.binary_location = \"..\\\\chrome-win64\\\\chrome.exe\" # chrome 경로 설정\n",
    "options.add_argument(\"--no-sandbox\") # sandbox 설정\n",
    "options.add_argument(\"--headless=new\")  # 헤드리스\n",
    "options.add_argument(\"--disable-dev-shm-usage\") # 공유메모리 설정\n",
    "options.add_argument(\"--window-size=1920,1080\") # 화면크기설정 , 반응형 웹 대비\n",
    "# options.add_argument(\"--disable-gpu\") # GPU 비활성화\n",
    "\n",
    "# ChromeDriver 설정\n",
    "service = Service(\"..\\\\chromedriver.exe\")\n",
    "driver = webdriver.Chrome(service=service, options=options)\n",
    "driver.get(\"https://www.opinet.co.kr/\")\n",
    "print(driver.title)\n",
    "time.sleep(4)\n",
    "\n",
    "# 요소찾기\n",
    "hover_element = driver.find_element(By.CSS_SELECTOR, \"#header > div > ul > li:nth-child(1) > a\")\n",
    "menu_option = driver.find_element(By.CSS_SELECTOR, \"#header > div > ul > li:nth-child(1) > ul > li:nth-child(1) > a\")\n",
    "\n",
    "# 마우스 호버 엑션\n",
    "actions = ActionChains(driver)\n",
    "actions.move_to_element(hover_element).perform()\n",
    "\n",
    "# # 약간의 시간을 기다린 후 클릭\n",
    "time.sleep(1)\n",
    "menu_option.click()\n",
    "time.sleep(3)\n",
    "print(\"주유소검색중\")\n",
    "\n",
    "# 입력창 선택 후 검색\n",
    "wait = WebDriverWait(driver, 10)\n",
    "select_element = wait.until(EC.presence_of_element_located((By.ID, \"SIGUNGU_NM0\")))\n",
    "select = Select(select_element)\n",
    "option_count = len(select.options)\n",
    "time.sleep(3)\n",
    "# 전체 옵션 반복\n",
    "try:\n",
    "    for i in range(1,option_count):\n",
    "        # 리로딩될 때 셀렉트가 깨지는것 방지\n",
    "        select_element = wait.until(EC.presence_of_element_located((By.ID, \"SIGUNGU_NM0\")))\n",
    "        select = Select(select_element)        \n",
    "        print(\"순회시작:\",i,'/',option_count - 1)\n",
    "        time.sleep(2)  # 대기  \n",
    "        select.select_by_index(i)\n",
    "        print(f\"{i}번 옵션 선택\")\n",
    "        # 옵션 선택 후 상세링크가 나타날 때까지 기다리기\n",
    "        down = wait.until(EC.presence_of_element_located((By.CSS_SELECTOR, \"#templ_list0  div > a\")))\n",
    "        down.click()\n",
    "        time.sleep(4)  # 대기\n",
    "except Exception as e:\n",
    "    print(\"요소를 못찾았음. 실패...\",e)"
   ]
  },
  {
   "cell_type": "code",
   "execution_count": 33,
   "id": "54b4df13-17b9-42ec-91d7-c4415fca1f6a",
   "metadata": {},
   "outputs": [],
   "source": [
    "# 파일 원하는 위치로 옮김\n",
    "import os\n",
    "import shutil\n",
    "source_folder = \"C:\\\\Users\\\\Admin\\\\Downloads\\\\\"\n",
    "destination_folder = \"C:\\\\Users\\\\Admin\\\\Downloads\\\\HDFS전송준비\"\n",
    "\n",
    "# 폴더가 없으면 자동 생성\n",
    "os.makedirs(destination_folder, exist_ok=True)\n",
    "\n",
    "# 폴더 내 파일 반복\n",
    "for file_name in os.listdir(source_folder):\n",
    "    if file_name.startswith(\"지역_위치별(주유소)\"):\n",
    "        src_path = os.path.join(source_folder, file_name)\n",
    "        dst_path = os.path.join(destination_folder, file_name)\n",
    "        shutil.move(src_path, dst_path)\n",
    "        print(f\"Moved: {file_name}\")"
   ]
  },
  {
   "cell_type": "code",
   "execution_count": 36,
   "id": "c62f1e65-1168-408f-9278-642ee2995c05",
   "metadata": {},
   "outputs": [],
   "source": [
    "# !pip install hdfs"
   ]
  },
  {
   "cell_type": "code",
   "execution_count": 38,
   "id": "2ee1c455-45e1-4091-b492-96385fb62e53",
   "metadata": {},
   "outputs": [
    {
     "name": "stdout",
     "output_type": "stream",
     "text": [
      "업로드 완료: 지역_위치별(주유소) (1).xls\n",
      "업로드 완료: 지역_위치별(주유소) (10).xls\n",
      "업로드 완료: 지역_위치별(주유소) (11).xls\n",
      "업로드 완료: 지역_위치별(주유소) (12).xls\n",
      "업로드 완료: 지역_위치별(주유소) (13).xls\n",
      "업로드 완료: 지역_위치별(주유소) (14).xls\n",
      "업로드 완료: 지역_위치별(주유소) (15).xls\n",
      "업로드 완료: 지역_위치별(주유소) (2).xls\n",
      "업로드 완료: 지역_위치별(주유소) (3).xls\n",
      "업로드 완료: 지역_위치별(주유소) (4).xls\n",
      "업로드 완료: 지역_위치별(주유소) (5).xls\n",
      "업로드 완료: 지역_위치별(주유소) (6).xls\n",
      "업로드 완료: 지역_위치별(주유소) (7).xls\n",
      "업로드 완료: 지역_위치별(주유소) (8).xls\n",
      "업로드 완료: 지역_위치별(주유소) (9).xls\n",
      "업로드 완료: 지역_위치별(주유소).xls\n"
     ]
    }
   ],
   "source": [
    "# 하둡으로 전송\n",
    "from hdfs import InsecureClient\n",
    "local_folder = \"C:/Users/Admin/Downloads/HDFS전송준비\"\n",
    "hdfs = InsecureClient(\"http://namenode:9870\", user=\"hadoop\")\n",
    "\n",
    "hdfs_folder = \"/user/hadoop/autoupload\"\n",
    "\n",
    "for file_name in os.listdir(local_folder):\n",
    "    local_path = os.path.join(local_folder, file_name)\n",
    "    hdfs_path = f\"{hdfs_folder}/{file_name}\"\n",
    "    if os.path.isfile(local_path):\n",
    "        hdfs.upload(hdfs_path=hdfs_path, local_path=local_path, overwrite=True)\n",
    "        print(f\"업로드 완료: {file_name}\")        "
   ]
  },
  {
   "cell_type": "code",
   "execution_count": null,
   "id": "c22077e7-b911-45fd-a5d5-710c76474d63",
   "metadata": {},
   "outputs": [],
   "source": []
  }
 ],
 "metadata": {
  "kernelspec": {
   "display_name": "Python 3 (ipykernel)",
   "language": "python",
   "name": "python3"
  },
  "language_info": {
   "codemirror_mode": {
    "name": "ipython",
    "version": 3
   },
   "file_extension": ".py",
   "mimetype": "text/x-python",
   "name": "python",
   "nbconvert_exporter": "python",
   "pygments_lexer": "ipython3",
   "version": "3.13.1"
  }
 },
 "nbformat": 4,
 "nbformat_minor": 5
}
