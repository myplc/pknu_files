{
 "cells": [
  {
   "cell_type": "markdown",
   "id": "e604f300-da84-4dbb-97e3-f508a7650302",
   "metadata": {},
   "source": [
    "# 모듈"
   ]
  },
  {
   "cell_type": "markdown",
   "id": "52e467f3-61bd-4b3f-8981-eb8fd5c0f9fe",
   "metadata": {},
   "source": [
    "## 모듈 만들기"
   ]
  },
  {
   "cell_type": "code",
   "execution_count": 4,
   "id": "43d14db1-b2ce-470d-8ea6-a23b8fcc0bd3",
   "metadata": {},
   "outputs": [],
   "source": [
    "# 모듈 만들기 - mod1.py\n",
    "# def add(a, b):\n",
    "#     return a + b\n",
    "# def sub(a, b):\n",
    "#     return a - b"
   ]
  },
  {
   "cell_type": "code",
   "execution_count": 6,
   "id": "2839580e-11af-479d-823f-ff448a2c6fd9",
   "metadata": {},
   "outputs": [
    {
     "name": "stdout",
     "output_type": "stream",
     "text": [
      "33\n",
      "11\n"
     ]
    }
   ],
   "source": [
    "import mod1\n",
    "print(mod1.add(11,22))\n",
    "print(mod1.sub(33,22))"
   ]
  },
  {
   "cell_type": "code",
   "execution_count": 7,
   "id": "066bff95-922b-4371-bf69-c215cfe283f2",
   "metadata": {},
   "outputs": [],
   "source": [
    "with open(\"mod2.py\",\"w\") as f:\n",
    "    data=\"\"\"def mul(a,b):\n",
    "    return a*b\n",
    "def div(a,b):\n",
    "    return a/b\"\"\"\n",
    "    f.write(data)"
   ]
  },
  {
   "cell_type": "code",
   "execution_count": 9,
   "id": "cfc0cf0b-32dd-47d6-b09a-bde333b8f6fd",
   "metadata": {},
   "outputs": [
    {
     "name": "stdout",
     "output_type": "stream",
     "text": [
      "12\n",
      "2.0\n"
     ]
    }
   ],
   "source": [
    "import mod2\n",
    "print(mod2.mul(3,4))\n",
    "print(mod2.div(8,4))"
   ]
  },
  {
   "cell_type": "code",
   "execution_count": 2,
   "id": "4f70831a-7c28-4f10-a26d-9d191fb919f7",
   "metadata": {},
   "outputs": [
    {
     "name": "stdout",
     "output_type": "stream",
     "text": [
      "33\n",
      "11\n",
      "12\n",
      "2.0\n"
     ]
    }
   ],
   "source": [
    "import mod1 , mod2\n",
    "print(mod1.add(11,22))\n",
    "print(mod1.sub(33,22))\n",
    "print(mod2.mul(3,4))\n",
    "print(mod2.div(8,4))"
   ]
  },
  {
   "cell_type": "code",
   "execution_count": 1,
   "id": "721474d3-2d9f-4f20-8d5e-a8ca4680ca09",
   "metadata": {},
   "outputs": [
    {
     "name": "stdout",
     "output_type": "stream",
     "text": [
      "33\n",
      "11\n",
      "12\n",
      "2.0\n"
     ]
    }
   ],
   "source": [
    "# import mod1 as m1\n",
    "# import mod2 as m2\n",
    "import mod1 as m1 , mod2 as m2\n",
    "print(m1.add(11,22))\n",
    "print(m1.sub(33,22))\n",
    "print(m2.mul(3,4))\n",
    "print(m2.div(8,4))"
   ]
  },
  {
   "cell_type": "code",
   "execution_count": 2,
   "id": "a7c25531-4d9d-4d58-937a-32e4b71ddd77",
   "metadata": {},
   "outputs": [
    {
     "name": "stdout",
     "output_type": "stream",
     "text": [
      "77\n"
     ]
    }
   ],
   "source": [
    "from mod1 import add , sub\n",
    "print(add(33,44))"
   ]
  },
  {
   "cell_type": "code",
   "execution_count": 3,
   "id": "83221551-65c4-44d5-acba-81309889d019",
   "metadata": {},
   "outputs": [
    {
     "name": "stdout",
     "output_type": "stream",
     "text": [
      "20\n"
     ]
    }
   ],
   "source": [
    "from mod2 import *\n",
    "print(mul(4,5))"
   ]
  },
  {
   "cell_type": "markdown",
   "id": "7e60f954-92c8-421a-b1df-fdac58f89ccf",
   "metadata": {},
   "source": [
    "## `__main__` 의 의미"
   ]
  },
  {
   "cell_type": "code",
   "execution_count": 6,
   "id": "80f84c52-0e95-403d-a4fb-1d8805f85b60",
   "metadata": {},
   "outputs": [],
   "source": [
    "with open(\"mod1.py\",\"a\") as f:\n",
    "    text = \"\"\"\\nprint(add(1,4))\\nprint(sub(4,2))\"\"\"\n",
    "    f.write(text)"
   ]
  },
  {
   "cell_type": "markdown",
   "id": "2c5b3a61-72d5-4042-84a1-8664493de13b",
   "metadata": {},
   "source": [
    "매직커멘드\n",
    "- %%bash : 리눅스\n",
    "- %%cmd : 윈도우"
   ]
  },
  {
   "cell_type": "code",
   "execution_count": 1,
   "id": "77040e84-301f-4b13-8f84-a6e0a2661414",
   "metadata": {},
   "outputs": [
    {
     "name": "stdout",
     "output_type": "stream",
     "text": [
      "Microsoft Windows [Version 10.0.26100.2894]\n",
      "(c) Microsoft Corporation. All rights reserved.\n",
      "\n",
      "ys\\code>python mod1.py\n",
      "5\n",
      "2\n",
      "__main__\n",
      "�� ���Ϸ� ������ �Ǿ����.\n",
      "\n",
      "D:\\kys\\code>"
     ]
    }
   ],
   "source": [
    "%%cmd\n",
    "python mod1.py"
   ]
  },
  {
   "cell_type": "code",
   "execution_count": 2,
   "id": "099829dc-1ef5-44b7-b0da-cfa90842c9bb",
   "metadata": {},
   "outputs": [
    {
     "name": "stdout",
     "output_type": "stream",
     "text": [
      "5\n",
      "2\n",
      "mod1\n",
      "전 모듈로 임포트 되었어요.\n"
     ]
    },
    {
     "data": {
      "text/plain": [
       "['__builtins__',\n",
       " '__cached__',\n",
       " '__doc__',\n",
       " '__file__',\n",
       " '__loader__',\n",
       " '__name__',\n",
       " '__package__',\n",
       " '__spec__',\n",
       " 'add',\n",
       " 'sub']"
      ]
     },
     "execution_count": 2,
     "metadata": {},
     "output_type": "execute_result"
    }
   ],
   "source": [
    "import mod1\n",
    "dir(mod1)"
   ]
  },
  {
   "cell_type": "code",
   "execution_count": 4,
   "id": "680c9048-5619-4681-90ee-5bc83a9d5c68",
   "metadata": {},
   "outputs": [
    {
     "name": "stdout",
     "output_type": "stream",
     "text": [
      "삼성전자 : 55,900원\n"
     ]
    }
   ],
   "source": [
    "# import requests as req\n",
    "# url = \"https://finance.naver.com/sise/sise_market_sum.naver\"\n",
    "# web = req.get(url)\n",
    "# html = web.text\n",
    "# # print(html)\n",
    "# f1 = html.find('삼성전자')\n",
    "# # print(html[f1:f1 + 100].find('<td class=\"number\">'))\n",
    "# print('삼성전자 : '+html[f1:f1 + 100][19:50].replace('<td class=\"number\">',\"\").replace('</td>',\"\").replace('\\n',\"\")+\"원\")"
   ]
  },
  {
   "cell_type": "code",
   "execution_count": 6,
   "id": "e598b5d7-ba05-435e-ac70-81f14253c342",
   "metadata": {},
   "outputs": [
    {
     "data": {
      "text/plain": [
       "'삼성물산: <121,500원'"
      ]
     },
     "execution_count": 6,
     "metadata": {},
     "output_type": "execute_result"
    }
   ],
   "source": [
    "import sam\n",
    "sam.sam('삼성물산')"
   ]
  },
  {
   "cell_type": "markdown",
   "id": "ae6c4abe-3fa7-4dda-ab00-ca2d14da1cdf",
   "metadata": {},
   "source": [
    "## 클래스나 변수등을 포함한 모듈"
   ]
  },
  {
   "cell_type": "code",
   "execution_count": 8,
   "id": "805a04d8-c310-468f-bf2d-c0b241434905",
   "metadata": {},
   "outputs": [],
   "source": [
    "with open(\"mod3.py\",\"w\") as f:\n",
    "    text = \"\"\"PI = 3.141592\\n\\nclass Math:\\n\\tdef solv(self,r):\\n\\t\\treturn PI * (r**2)\\n\\ndef add(a,b):\\n\\treturn a+b\"\"\"     \n",
    "    f.write(text)"
   ]
  },
  {
   "cell_type": "code",
   "execution_count": 4,
   "id": "8ca38004-fd45-4734-8aef-b482b60c68e4",
   "metadata": {},
   "outputs": [
    {
     "name": "stdout",
     "output_type": "stream",
     "text": [
      "Microsoft Windows [Version 10.0.26100.2894]\n",
      "(c) Microsoft Corporation. All rights reserved.\n",
      "\n",
      "ys\\code>set PYTHONPATH=D:\\\\kys\\\\code\n",
      "\n",
      "D:\\kys\\code>"
     ]
    }
   ],
   "source": [
    "%%cmd\n",
    "set PYTHONPATH=D:\\\\kys\\\\code"
   ]
  },
  {
   "cell_type": "markdown",
   "id": "71222c5c-1394-4e4a-9291-0950e1cd51d5",
   "metadata": {},
   "source": [
    "- CMD 에서 set PYTHONPATH=D:\\kys\\code\\mymod\n",
    "- PS 에서 $env:PYTHONPATH=\"D:\\kys\\code\\mymod\""
   ]
  },
  {
   "cell_type": "code",
   "execution_count": 1,
   "id": "46e40996-de31-4b2d-867b-ef02b9ee3dab",
   "metadata": {},
   "outputs": [
    {
     "ename": "ModuleNotFoundError",
     "evalue": "No module named 'mod3'",
     "output_type": "error",
     "traceback": [
      "\u001b[1;31m---------------------------------------------------------------------------\u001b[0m",
      "\u001b[1;31mModuleNotFoundError\u001b[0m                       Traceback (most recent call last)",
      "Cell \u001b[1;32mIn[1], line 1\u001b[0m\n\u001b[1;32m----> 1\u001b[0m \u001b[38;5;28;01mimport\u001b[39;00m\u001b[38;5;250m \u001b[39m\u001b[38;5;21;01mmod3\u001b[39;00m\n\u001b[0;32m      2\u001b[0m \u001b[38;5;66;03m# 변수\u001b[39;00m\n\u001b[0;32m      3\u001b[0m \u001b[38;5;28mprint\u001b[39m(mod3\u001b[38;5;241m.\u001b[39mPI)\n",
      "\u001b[1;31mModuleNotFoundError\u001b[0m: No module named 'mod3'"
     ]
    }
   ],
   "source": [
    "import mod3\n",
    "# 변수\n",
    "print(mod3.PI)\n",
    "# 클래스\n",
    "a = mod3.Math()\n",
    "print(a.solv(10))\n",
    "# 함수\n",
    "print(mod3.add(mod3.PI, 4.4))"
   ]
  },
  {
   "cell_type": "markdown",
   "id": "40355155-5d36-4cb6-b147-423462d178cd",
   "metadata": {},
   "source": [
    "## 다른 디렉터리에 있는 모듈 불러오는 방법"
   ]
  },
  {
   "cell_type": "code",
   "execution_count": 2,
   "id": "de596e64-5258-43b2-929b-c3b69537e312",
   "metadata": {},
   "outputs": [
    {
     "data": {
      "text/plain": [
       "['C:\\\\Users\\\\Admin\\\\AppData\\\\Local\\\\Programs\\\\Python\\\\Python313\\\\python313.zip',\n",
       " 'C:\\\\Users\\\\Admin\\\\AppData\\\\Local\\\\Programs\\\\Python\\\\Python313\\\\DLLs',\n",
       " 'C:\\\\Users\\\\Admin\\\\AppData\\\\Local\\\\Programs\\\\Python\\\\Python313\\\\Lib',\n",
       " 'C:\\\\Users\\\\Admin\\\\AppData\\\\Local\\\\Programs\\\\Python\\\\Python313',\n",
       " '',\n",
       " 'C:\\\\Users\\\\Admin\\\\AppData\\\\Local\\\\Programs\\\\Python\\\\Python313\\\\Lib\\\\site-packages',\n",
       " 'C:\\\\Users\\\\Admin\\\\AppData\\\\Local\\\\Programs\\\\Python\\\\Python313\\\\Lib\\\\site-packages\\\\win32',\n",
       " 'C:\\\\Users\\\\Admin\\\\AppData\\\\Local\\\\Programs\\\\Python\\\\Python313\\\\Lib\\\\site-packages\\\\win32\\\\lib',\n",
       " 'C:\\\\Users\\\\Admin\\\\AppData\\\\Local\\\\Programs\\\\Python\\\\Python313\\\\Lib\\\\site-packages\\\\Pythonwin']"
      ]
     },
     "execution_count": 2,
     "metadata": {},
     "output_type": "execute_result"
    }
   ],
   "source": [
    "import sys\n",
    "sys.path"
   ]
  },
  {
   "cell_type": "code",
   "execution_count": 3,
   "id": "833a7e11-9f05-4604-8463-ba7c05d48c66",
   "metadata": {},
   "outputs": [
    {
     "data": {
      "text/plain": [
       "['C:\\\\Users\\\\Admin\\\\AppData\\\\Local\\\\Programs\\\\Python\\\\Python313\\\\python313.zip',\n",
       " 'C:\\\\Users\\\\Admin\\\\AppData\\\\Local\\\\Programs\\\\Python\\\\Python313\\\\DLLs',\n",
       " 'C:\\\\Users\\\\Admin\\\\AppData\\\\Local\\\\Programs\\\\Python\\\\Python313\\\\Lib',\n",
       " 'C:\\\\Users\\\\Admin\\\\AppData\\\\Local\\\\Programs\\\\Python\\\\Python313',\n",
       " '',\n",
       " 'C:\\\\Users\\\\Admin\\\\AppData\\\\Local\\\\Programs\\\\Python\\\\Python313\\\\Lib\\\\site-packages',\n",
       " 'C:\\\\Users\\\\Admin\\\\AppData\\\\Local\\\\Programs\\\\Python\\\\Python313\\\\Lib\\\\site-packages\\\\win32',\n",
       " 'C:\\\\Users\\\\Admin\\\\AppData\\\\Local\\\\Programs\\\\Python\\\\Python313\\\\Lib\\\\site-packages\\\\win32\\\\lib',\n",
       " 'C:\\\\Users\\\\Admin\\\\AppData\\\\Local\\\\Programs\\\\Python\\\\Python313\\\\Lib\\\\site-packages\\\\Pythonwin',\n",
       " 'D:\\\\kys\\\\code\\\\mymod']"
      ]
     },
     "execution_count": 3,
     "metadata": {},
     "output_type": "execute_result"
    }
   ],
   "source": [
    "sys.path.append('D:\\\\kys\\\\code\\\\mymod') # 초기화하면 사라짐\n",
    "sys.path"
   ]
  },
  {
   "cell_type": "code",
   "execution_count": 3,
   "id": "624bcc87-3ee2-415d-8cae-78ea3bc5526c",
   "metadata": {},
   "outputs": [
    {
     "name": "stdout",
     "output_type": "stream",
     "text": [
      "Requirement already satisfied: pip in c:\\users\\admin\\appdata\\local\\programs\\python\\python313\\lib\\site-packages (25.0)\n",
      "Collecting pip\n",
      "  Downloading pip-25.0.1-py3-none-any.whl.metadata (3.7 kB)\n",
      "Downloading pip-25.0.1-py3-none-any.whl (1.8 MB)\n",
      "   ---------------------------------------- 0.0/1.8 MB ? eta -:--:--\n",
      "   ---------------------------------- ----- 1.6/1.8 MB 7.7 MB/s eta 0:00:01\n",
      "   ---------------------------------------- 1.8/1.8 MB 6.7 MB/s eta 0:00:00\n",
      "Installing collected packages: pip\n",
      "  Attempting uninstall: pip\n",
      "    Found existing installation: pip 25.0\n",
      "    Uninstalling pip-25.0:\n",
      "      Successfully uninstalled pip-25.0\n",
      "Successfully installed pip-25.0.1\n"
     ]
    }
   ],
   "source": [
    "# !python.exe -m pip install --upgrade pip\n",
    "# !pip install python-dotenv"
   ]
  },
  {
   "cell_type": "code",
   "execution_count": 1,
   "id": "119f0ef8-6a87-4a52-ae7e-1db15277242e",
   "metadata": {},
   "outputs": [
    {
     "name": "stdout",
     "output_type": "stream",
     "text": [
      "my phone 010-7777-7777zz\n",
      "https://www.google.com\n",
      "이게 될까??  모르겠어요.!\n"
     ]
    }
   ],
   "source": [
    "from dotenv import load_dotenv\n",
    "import os\n",
    "\n",
    "# .env 파일 로드\n",
    "load_dotenv()\n",
    "\n",
    "SKEY = os.getenv(\"SECRET_KEY\")\n",
    "print(SKEY)\n",
    "DBUG = os.getenv(\"DEBUG\")\n",
    "print(DBUG)\n",
    "TEST = os.getenv(\"TEST\")\n",
    "print(TEST)"
   ]
  },
  {
   "cell_type": "code",
   "execution_count": 1,
   "id": "8f82f60f-1d76-4841-a7ab-bdbaef3d6ccd",
   "metadata": {},
   "outputs": [
    {
     "name": "stdout",
     "output_type": "stream",
     "text": [
      "======================================================================\n",
      "[속보] 국힘 39%·민주 38% 정당지지도 오차범위 내 접전\n",
      "정당 지지도가 국민의힘 39%, 더불어민주당 38%로 나타났다는 여론조사 결과가 14일 발표됐다. 한국갤럽이 지난 11∼13일 전국 만 18세 이상 남녀 1004명을 대상으로 조사(95% 신뢰수준에 표본오차 ±3.1%포인트)한 결과, 2월... \n",
      "http://www.kado.net/news/articleView.html?idxno=1293547\n",
      "======================================================================\n",
      "[속보] 홍준표 &quot;명태균 '황금폰'에 내 목소리 있는지 확인해 보라&quot;\n",
      "홍준표 대구시장은 ‘황금폰’ 논란에 반박하며 “거기에 내 목소리가 저장돼 있는지도 확인해 보라”고 밝혔다. 홍 시장은 14일 자신의 SNS(사회관계망서비스)를 통해 “명태균 황금폰에 전·현직 국회의원 육성이... \n",
      "https://www.kyeonggi.com/article/20250214580010\n",
      "======================================================================\n",
      "[속보]홍준표 “명태균 황금폰에 내 목소리 있으면 폭로해보라”\n",
      "명태균 “황금폰에 전현직 국회의원 140명 육성 저장” 주장에 반박 洪 “저급한 사람들, 모두 감옥에 가야 할 것” 홍준표 대구시장은 정치 브로커로 알려진 명태균씨측 변호사가 명씨의 ‘황금폰’에 전현직 국회의원... \n",
      "https://www.munhwa.com/news/view.html?no=2025021401039910126004\n",
      "======================================================================\n",
      "[속보] 정권유지 40%·정권교체 51%…국힘 39% 민주 38%[한국갤럽]\n",
      "국민의힘 정당 지지도가 39%, 더불어민주당 정당 지지도가 38%를 기록했다는 여론조사 결과가 14일 나왔다. 한국갤럽이 지난 11일부터 13일까지 전국 만 18세 이상 남녀 1004명을 대상으로 조사(95% 신뢰수준에 표본오차 ±3.... \n",
      "https://www.busan.com/view/busan/view.php?code=2025021410503254064\n",
      "======================================================================\n",
      "[속보] 1월 취업자 13.5만명 증가…한 달 만에 증가 전환\n",
      "지난달 취업자가 한 달 만에 다시 증가했지만 건설업에서 집계 이래 최대 규모로 줄었고 양질의 일자리로 꼽히는 제조업 일자리도 감소세가 이어졌다. 청년층(15∼29세) 취업자도 크게 줄면서 고용률 낙폭도... \n",
      "https://www.hankyung.com/article/2025021449297\n"
     ]
    }
   ],
   "source": [
    "# 네이버 검색 API 예제 - 블로그 검색\n",
    "import os\n",
    "import sys\n",
    "import urllib.request\n",
    "from dotenv import load_dotenv\n",
    "import json\n",
    "\n",
    "load_dotenv()\n",
    "client_id =  os.environ.get(\"MY_ID\")\n",
    "client_secret = os.environ.get(\"MY_SECRET\")\n",
    "\n",
    "encText = urllib.parse.quote(\"속보\")\n",
    "url = \"https://openapi.naver.com/v1/search/news.json?query=\" + encText + '&display=5&start=1&sort=sim'\n",
    "# JSON 결과\n",
    "request = urllib.request.Request(url)\n",
    "request.add_header(\"X-Naver-Client-Id\",client_id)\n",
    "request.add_header(\"X-Naver-Client-Secret\",client_secret)\n",
    "response = urllib.request.urlopen(request)\n",
    "rescode = response.getcode()\n",
    "if(rescode==200):\n",
    "    response_body = response.read()\n",
    "    result = response_body.decode('utf-8')\n",
    "    data = json.loads(result)\n",
    "    ldata = data['items']\n",
    "    for n in ldata:\n",
    "        print('='*70)\n",
    "        print(n['title'].replace('<b>','').replace('</b>',''))\n",
    "        print(n['description'])\n",
    "        print(n['originallink'])\n",
    "else:\n",
    "    print(\"Error Code:\" + rescode)"
   ]
  },
  {
   "cell_type": "code",
   "execution_count": 2,
   "id": "8949ede1-ae4e-44e1-a06b-de9c45ae4b77",
   "metadata": {},
   "outputs": [
    {
     "name": "stdout",
     "output_type": "stream",
     "text": [
      "[{'title': '[<b>속보</b>] 국힘 39%·민주 38% 정당지지도 오차범위 내 접전', 'originallink': 'http://www.kado.net/news/articleView.html?idxno=1293547', 'link': 'https://n.news.naver.com/mnews/article/654/0000106087?sid=100', 'description': '정당 지지도가 국민의힘 39%, 더불어민주당 38%로 나타났다는 여론조사 결과가 14일 발표됐다. 한국갤럽이 지난 11∼13일 전국 만 18세 이상 남녀 1004명을 대상으로 조사(95% 신뢰수준에 표본오차 ±3.1%포인트)한 결과, 2월... ', 'pubDate': 'Fri, 14 Feb 2025 11:02:00 +0900'}, {'title': \"[<b>속보</b>] 홍준표 &quot;명태균 '황금폰'에 내 목소리 있는지 확인해 보라&quot;\", 'originallink': 'https://www.kyeonggi.com/article/20250214580010', 'link': 'https://n.news.naver.com/mnews/article/666/0000064415?sid=100', 'description': '홍준표 대구시장은 ‘황금폰’ 논란에 반박하며 “거기에 내 목소리가 저장돼 있는지도 확인해 보라”고 밝혔다. 홍 시장은 14일 자신의 SNS(사회관계망서비스)를 통해 “명태균 황금폰에 전·현직 국회의원 육성이... ', 'pubDate': 'Fri, 14 Feb 2025 11:06:00 +0900'}, {'title': '[<b>속보</b>]홍준표 “명태균 황금폰에 내 목소리 있으면 폭로해보라”', 'originallink': 'https://www.munhwa.com/news/view.html?no=2025021401039910126004', 'link': 'https://n.news.naver.com/mnews/article/021/0002690123?sid=100', 'description': '명태균 “황금폰에 전현직 국회의원 140명 육성 저장” 주장에 반박 洪 “저급한 사람들, 모두 감옥에 가야 할 것” 홍준표 대구시장은 정치 브로커로 알려진 명태균씨측 변호사가 명씨의 ‘황금폰’에 전현직 국회의원... ', 'pubDate': 'Fri, 14 Feb 2025 10:51:00 +0900'}, {'title': '[<b>속보</b>] 정권유지 40%·정권교체 51%…국힘 39% 민주 38%[한국갤럽]', 'originallink': 'https://www.busan.com/view/busan/view.php?code=2025021410503254064', 'link': 'https://n.news.naver.com/mnews/article/082/0001311775?sid=100', 'description': '국민의힘 정당 지지도가 39%, 더불어민주당 정당 지지도가 38%를 기록했다는 여론조사 결과가 14일 나왔다. 한국갤럽이 지난 11일부터 13일까지 전국 만 18세 이상 남녀 1004명을 대상으로 조사(95% 신뢰수준에 표본오차 ±3.... ', 'pubDate': 'Fri, 14 Feb 2025 10:52:00 +0900'}, {'title': '[<b>속보</b>] 1월 취업자 13.5만명 증가…한 달 만에 증가 전환', 'originallink': 'https://www.hankyung.com/article/2025021449297', 'link': 'https://n.news.naver.com/mnews/article/015/0005094106?sid=102', 'description': '지난달 취업자가 한 달 만에 다시 증가했지만 건설업에서 집계 이래 최대 규모로 줄었고 양질의 일자리로 꼽히는 제조업 일자리도 감소세가 이어졌다. 청년층(15∼29세) 취업자도 크게 줄면서 고용률 낙폭도... ', 'pubDate': 'Fri, 14 Feb 2025 08:07:00 +0900'}]\n"
     ]
    }
   ],
   "source": [
    " print(ldata)"
   ]
  },
  {
   "cell_type": "code",
   "execution_count": 4,
   "id": "f40d8dfd-d3e4-44a5-9783-e9159198e2f5",
   "metadata": {},
   "outputs": [
    {
     "name": "stdout",
     "output_type": "stream",
     "text": [
      "Collecting qrcode\n",
      "  Downloading qrcode-8.0-py3-none-any.whl.metadata (17 kB)\n",
      "Requirement already satisfied: colorama in c:\\users\\admin\\appdata\\local\\programs\\python\\python313\\lib\\site-packages (from qrcode) (0.4.6)\n",
      "Downloading qrcode-8.0-py3-none-any.whl (45 kB)\n",
      "Installing collected packages: qrcode\n",
      "Successfully installed qrcode-8.0\n"
     ]
    }
   ],
   "source": [
    "!pip install qrcode"
   ]
  },
  {
   "cell_type": "code",
   "execution_count": 14,
   "id": "0bb6acfa-d27a-4db0-b8ff-02c723cbd1ed",
   "metadata": {},
   "outputs": [],
   "source": [
    "import qrcode\n",
    "\n",
    "def qrcode_maker(text,filename='qr.png'):\n",
    "    qr = qrcode.make(text)\n",
    "    qr.save(filename)\n",
    "\n",
    "qrcode_maker('안녕하세요. 누구입니다!! ^^')\n",
    "# qrcode_maker('www.naver.com','naver.png')"
   ]
  },
  {
   "cell_type": "code",
   "execution_count": 19,
   "id": "3b55d115-bf3f-4544-a517-f25f0057b90d",
   "metadata": {},
   "outputs": [
    {
     "data": {
      "text/html": [
       "<img src=\"qr.png\" width=100>"
      ],
      "text/plain": [
       "<IPython.core.display.HTML object>"
      ]
     },
     "metadata": {},
     "output_type": "display_data"
    }
   ],
   "source": [
    "from IPython.display import display , HTML\n",
    "from PIL import Image\n",
    "\n",
    "image_path = \"qr.png\"\n",
    "img = Image.open(image_path)\n",
    "htmlcode = '<img src=\"qr.png\" width=100>'\n",
    "display(HTML(htmlcode))\n",
    "# display(img)"
   ]
  },
  {
   "cell_type": "code",
   "execution_count": 3,
   "id": "439a1197-f87e-422b-9f53-72564850657a",
   "metadata": {},
   "outputs": [
    {
     "data": {
      "text/plain": [
       "True"
      ]
     },
     "execution_count": 3,
     "metadata": {},
     "output_type": "execute_result"
    }
   ],
   "source": [
    "\"싫어\" in \"오늘 답답하지만 할만해, 멋져!! 싫어\""
   ]
  },
  {
   "cell_type": "markdown",
   "id": "0f3736ff-a8b5-4604-8069-8644b5015739",
   "metadata": {},
   "source": [
    "# 패키지"
   ]
  },
  {
   "cell_type": "markdown",
   "id": "0f309ca8-ab24-48e7-ae0a-fd1bf03cb0ac",
   "metadata": {},
   "source": [
    "## 패키지 만들기"
   ]
  },
  {
   "cell_type": "code",
   "execution_count": 3,
   "id": "fe309d59-4c10-4ba3-af63-04a59f3ab388",
   "metadata": {},
   "outputs": [],
   "source": [
    "# %%cmd\n",
    "# set PYTHONPATH=D:\\kys\\code\\game"
   ]
  },
  {
   "cell_type": "code",
   "execution_count": 6,
   "id": "a118767a-38a8-4b2b-affb-e632e7dd10d3",
   "metadata": {},
   "outputs": [
    {
     "name": "stdout",
     "output_type": "stream",
     "text": [
      "에코\n",
      "랜더링\n"
     ]
    }
   ],
   "source": [
    "# 테스트 1 명시적이다. 그렇지만 길다.\n",
    "import game.sound.echo\n",
    "import game.graphic.render\n",
    "game.sound.echo.echo_test()\n",
    "game.graphic.render.render_test()"
   ]
  },
  {
   "cell_type": "code",
   "execution_count": null,
   "id": "3fae3b3f-981f-4c55-828f-e6466fc76148",
   "metadata": {},
   "outputs": [],
   "source": [
    "# 짧지만 중복의 위험이 있다. 그리고 명시적이진 않다.\n",
    "from game.echo_v import echo_test as ev\n",
    "from game.echo import echo_test as e\n",
    "ev()\n",
    "e()"
   ]
  },
  {
   "cell_type": "code",
   "execution_count": 8,
   "id": "c7478077-7d61-4cd7-b505-ddf7c5f6f799",
   "metadata": {},
   "outputs": [
    {
     "name": "stdout",
     "output_type": "stream",
     "text": [
      "3.6\n",
      "The version of this game is 3.6\n"
     ]
    }
   ],
   "source": [
    "# __init__.py 를 사용하기\n",
    "import game\n",
    "print(game.VERSION)\n",
    "game.print_version_info()"
   ]
  },
  {
   "cell_type": "code",
   "execution_count": 9,
   "id": "087a1661-7263-47c8-8ff0-ea0f565ca168",
   "metadata": {},
   "outputs": [],
   "source": [
    "# __init__.py 은 한번만 로드됨\n",
    "import game"
   ]
  },
  {
   "cell_type": "code",
   "execution_count": 2,
   "id": "0b5f4123-236b-48de-a51f-3c71f06b6604",
   "metadata": {},
   "outputs": [
    {
     "name": "stdout",
     "output_type": "stream",
     "text": [
      "랜더링\n"
     ]
    }
   ],
   "source": [
    "# __init__.py 는 패키지내에 내 모듈을 미리 import 할 수 있다.\n",
    "game.render_test()"
   ]
  },
  {
   "cell_type": "code",
   "execution_count": 3,
   "id": "674a2d79-bd53-4acd-836e-082f4a683290",
   "metadata": {},
   "outputs": [],
   "source": [
    "import game.graphic"
   ]
  },
  {
   "cell_type": "code",
   "execution_count": 5,
   "id": "117866b4-1eb0-4683-9f48-a03d9e4501f6",
   "metadata": {},
   "outputs": [
    {
     "name": "stdout",
     "output_type": "stream",
     "text": [
      "The version of this graphic of game is 3.7\n"
     ]
    }
   ],
   "source": [
    "game.graphic.print_version_info()"
   ]
  },
  {
   "cell_type": "code",
   "execution_count": 1,
   "id": "744bc7b6-a51d-4c99-b7c2-7f0f39548395",
   "metadata": {},
   "outputs": [
    {
     "name": "stdout",
     "output_type": "stream",
     "text": [
      "Initializing Game...\n"
     ]
    }
   ],
   "source": [
    "# __all__ 사용하기\n",
    "from game.graphic import *"
   ]
  },
  {
   "cell_type": "code",
   "execution_count": 2,
   "id": "0a87eb52-74e5-46e2-af70-43644351da3d",
   "metadata": {},
   "outputs": [
    {
     "name": "stdout",
     "output_type": "stream",
     "text": [
      "비디오에코\n"
     ]
    }
   ],
   "source": [
    "echo.echo_test()"
   ]
  },
  {
   "cell_type": "code",
   "execution_count": 1,
   "id": "65b5b19c-fad9-4133-a048-62d9bb2cd5ec",
   "metadata": {},
   "outputs": [
    {
     "name": "stdout",
     "output_type": "stream",
     "text": [
      "Initializing Game...\n"
     ]
    }
   ],
   "source": [
    "# relative 패키지\n",
    "from game.graphic.render import render_test"
   ]
  },
  {
   "cell_type": "code",
   "execution_count": 3,
   "id": "c0f1b952-7a35-49cc-bbb8-d46af8044bb2",
   "metadata": {},
   "outputs": [
    {
     "name": "stdout",
     "output_type": "stream",
     "text": [
      "랜더링\n",
      "에코\n"
     ]
    }
   ],
   "source": [
    "# 비디오 에코가 아닌 사운드 에코 호출\n",
    "render_test()"
   ]
  },
  {
   "cell_type": "markdown",
   "id": "04ba58af-a516-445a-b96b-b2a1a006e37a",
   "metadata": {},
   "source": [
    "# 예외 처리"
   ]
  },
  {
   "cell_type": "markdown",
   "id": "abd14576-dd33-42e6-923f-d7153547ac7b",
   "metadata": {},
   "source": [
    "## 오류발생\n",
    "- 오타\n",
    "- 존재 하지않는 파일을 지정 또는 사용\n",
    "- 문법 오류\n",
    "- 수학적 오류\n",
    "- 인덱스 오류\n",
    "## 오류 예외 처리 기법\n",
    "- try-except 문\n",
    "- try-finally 문\n",
    "- 여러개의 오류 처리\n",
    "- try-else 문"
   ]
  },
  {
   "cell_type": "code",
   "execution_count": 10,
   "id": "497e81b0-8cc2-41fa-aeed-045c97e5e49f",
   "metadata": {},
   "outputs": [],
   "source": [
    "# f = open('뜬금파일','r')\n",
    "# FileNotFoundError: [Errno 2] No such file or directory: '뜬금파일'"
   ]
  },
  {
   "cell_type": "code",
   "execution_count": 12,
   "id": "29b9ddca-6ebe-43f0-b91b-711f9b62d3e7",
   "metadata": {},
   "outputs": [],
   "source": [
    "# 4/0\n",
    "# ZeroDivisionError: division by zero"
   ]
  },
  {
   "cell_type": "code",
   "execution_count": 13,
   "id": "46421cdb-9e9c-440e-a423-76c7177ac9ec",
   "metadata": {},
   "outputs": [],
   "source": [
    "# a = [1,2,3]\n",
    "# print(a[7])\n",
    "# IndexError: list index out of range"
   ]
  },
  {
   "cell_type": "code",
   "execution_count": 6,
   "id": "de1d9e8b-e553-4cc3-ac0f-26cc33129f21",
   "metadata": {},
   "outputs": [
    {
     "name": "stdout",
     "output_type": "stream",
     "text": [
      "없는거 찾지마, 혼자있고싶어.\n",
      "[Errno 2] No such file or directory: '뜬금파일'\n",
      "코드 작성을 마칩니다.\n"
     ]
    }
   ],
   "source": [
    "# 테스트 1\n",
    "try:\n",
    "    f = open('뜬금파일','r')\n",
    "except FileNotFoundError as e:\n",
    "    if e:\n",
    "        print('없는거 찾지마, 혼자있고싶어.')\n",
    "    print(e)\n",
    "finally:\n",
    "    print('코드 작성을 마칩니다.')\n"
   ]
  },
  {
   "cell_type": "code",
   "execution_count": 8,
   "id": "ddeaded1-a0e1-4c97-bc03-8aa40cce775a",
   "metadata": {},
   "outputs": [
    {
     "name": "stdout",
     "output_type": "stream",
     "text": [
      "0으로 나눌 수 없어요 division by zero\n"
     ]
    }
   ],
   "source": [
    "# 지정한 이름의 예외처리, as 로 별칭가능.\n",
    "try:\n",
    "    4/0\n",
    "except ZeroDivisionError as e:\n",
    "    print('0으로 나눌 수 없어요',e)"
   ]
  },
  {
   "cell_type": "code",
   "execution_count": 3,
   "id": "1e3eb0e6-003b-485e-922b-63fc40e7a358",
   "metadata": {},
   "outputs": [
    {
     "name": "stdout",
     "output_type": "stream",
     "text": [
      "0으로 나누지마세요\n"
     ]
    }
   ],
   "source": [
    "# try-except-finally 3단계도 가능, finally는 에러가나도 무조건 처리하는 것(여기서는 파일 닫기)\n",
    "try:\n",
    "    f = open('foo.txt','w')\n",
    "    f.write(4/0)\n",
    "except:\n",
    "    print(\"0으로 나누지마세요\")\n",
    "finally:\n",
    "    f.close()"
   ]
  },
  {
   "cell_type": "code",
   "execution_count": 6,
   "id": "3524d1c5-dc62-4c82-8d78-2512e7824f1d",
   "metadata": {},
   "outputs": [
    {
     "name": "stdout",
     "output_type": "stream",
     "text": [
      "tuple index out of range\n"
     ]
    }
   ],
   "source": [
    "# 테스트 해볼것 2개 이상의 오류를 동일하게 처리\n",
    "try:\n",
    "    a =1,2\n",
    "    print(a[512])\n",
    "    4/0\n",
    "except (ZeroDivisionError, IndexError) as e:\n",
    "    print(e)"
   ]
  },
  {
   "cell_type": "code",
   "execution_count": 20,
   "id": "4d3066a0-d957-4225-9d7d-ba1bdc7849ba",
   "metadata": {},
   "outputs": [
    {
     "name": "stdin",
     "output_type": "stream",
     "text": [
      "나이를 입력하세요 22\n"
     ]
    },
    {
     "name": "stdout",
     "output_type": "stream",
     "text": [
      "환영합니다.\n",
      "====================\n",
      "분석끝.\n"
     ]
    }
   ],
   "source": [
    "# try-else 문\n",
    "try:\n",
    "    age = int(input(\"나이를 입력하세요\"))\n",
    "except:\n",
    "    print(\"입력이 정확하지 않습니다.\")\n",
    "else:\n",
    "    if age <= 18:\n",
    "        print('미성년자는 출입금지')\n",
    "    else:\n",
    "        print('환영합니다.')\n",
    "finally:\n",
    "    print('='*20+'\\n분석끝.')"
   ]
  },
  {
   "cell_type": "code",
   "execution_count": 22,
   "id": "0f8369f4-95df-4bd5-bd06-c6ba8e715732",
   "metadata": {},
   "outputs": [
    {
     "name": "stdin",
     "output_type": "stream",
     "text": [
      "나이를 입력하세요 11\n"
     ]
    },
    {
     "name": "stdout",
     "output_type": "stream",
     "text": [
      "미성년자는 출입금지\n",
      "====================\n",
      "분석끝.\n"
     ]
    }
   ],
   "source": [
    "# try-else 문 생략\n",
    "try:\n",
    "    age = int(input(\"나이를 입력하세요\"))\n",
    "    if age <= 18:\n",
    "        print('미성년자는 출입금지')\n",
    "    else:\n",
    "        print('환영합니다.')\n",
    "except:\n",
    "    print(\"입력이 정확하지 않습니다.\")\n",
    "finally:\n",
    "    print('='*20+'\\n분석끝.')"
   ]
  },
  {
   "cell_type": "code",
   "execution_count": 31,
   "id": "7a14ad4b-9e2c-4400-8202-e5f91ab06a2b",
   "metadata": {},
   "outputs": [
    {
     "name": "stdout",
     "output_type": "stream",
     "text": [
      "반가워\n"
     ]
    }
   ],
   "source": [
    "# 오류 회피하기\n",
    "try:\n",
    "    print('반가워')\n",
    "    f= open('없는파일','r') # 이 에러지점부터 이후로는 처리안함.\n",
    "    print('안녕')\n",
    "except FileNotFoundError:\n",
    "    pass"
   ]
  },
  {
   "cell_type": "code",
   "execution_count": 46,
   "id": "e2d8e9f6-0a95-41bd-8c03-881c1091cb70",
   "metadata": {},
   "outputs": [
    {
     "name": "stdout",
     "output_type": "stream",
     "text": [
      "난 독수리다\n"
     ]
    }
   ],
   "source": [
    "# 오류 일부러 발생시키기 (클래스 상속기반)\n",
    "class Bird:\n",
    "    def fly(self):\n",
    "        raise NotImplementedError\n",
    "\n",
    "class Eagle(Bird):\n",
    "    # pass\n",
    "    def fly(self):\n",
    "        print('난 독수리다')\n",
    "\n",
    "eagle = Eagle()\n",
    "eagle.fly()"
   ]
  },
  {
   "cell_type": "code",
   "execution_count": 52,
   "id": "3a389c3f-c4f0-48a8-92de-fb2aedc7c07a",
   "metadata": {},
   "outputs": [],
   "source": [
    "# 예외 만들기\n",
    "class MyError(Exception):\n",
    "    pass"
   ]
  },
  {
   "cell_type": "code",
   "execution_count": 53,
   "id": "2f84c74a-4833-484e-a70d-d417fafa0f2a",
   "metadata": {},
   "outputs": [],
   "source": [
    "def say_nick(nick):\n",
    "    if nick  == '바보':\n",
    "        raise MyError()\n",
    "    print(nick)"
   ]
  },
  {
   "cell_type": "code",
   "execution_count": 55,
   "id": "45d413b2-11fd-4522-9619-42435a8e83cb",
   "metadata": {},
   "outputs": [
    {
     "ename": "MyError",
     "evalue": "",
     "output_type": "error",
     "traceback": [
      "\u001b[1;31m---------------------------------------------------------------------------\u001b[0m",
      "\u001b[1;31mMyError\u001b[0m                                   Traceback (most recent call last)",
      "Cell \u001b[1;32mIn[55], line 1\u001b[0m\n\u001b[1;32m----> 1\u001b[0m \u001b[43msay_nick\u001b[49m\u001b[43m(\u001b[49m\u001b[38;5;124;43m\"\u001b[39;49m\u001b[38;5;124;43m바보\u001b[39;49m\u001b[38;5;124;43m\"\u001b[39;49m\u001b[43m)\u001b[49m\n",
      "Cell \u001b[1;32mIn[53], line 3\u001b[0m, in \u001b[0;36msay_nick\u001b[1;34m(nick)\u001b[0m\n\u001b[0;32m      1\u001b[0m \u001b[38;5;28;01mdef\u001b[39;00m\u001b[38;5;250m \u001b[39m\u001b[38;5;21msay_nick\u001b[39m(nick):\n\u001b[0;32m      2\u001b[0m     \u001b[38;5;28;01mif\u001b[39;00m nick  \u001b[38;5;241m==\u001b[39m \u001b[38;5;124m'\u001b[39m\u001b[38;5;124m바보\u001b[39m\u001b[38;5;124m'\u001b[39m:\n\u001b[1;32m----> 3\u001b[0m         \u001b[38;5;28;01mraise\u001b[39;00m MyError()\n\u001b[0;32m      4\u001b[0m     \u001b[38;5;28mprint\u001b[39m(nick)\n",
      "\u001b[1;31mMyError\u001b[0m: "
     ]
    }
   ],
   "source": [
    "say_nick(\"바보\")"
   ]
  },
  {
   "cell_type": "code",
   "execution_count": 61,
   "id": "fbf074fc-b88b-41d8-823b-9c2ab67324a5",
   "metadata": {},
   "outputs": [
    {
     "name": "stdout",
     "output_type": "stream",
     "text": [
      "천사\n",
      "욕하지마 바보아냐 욕하지마 그래도 사람은 착해\n"
     ]
    }
   ],
   "source": [
    "try:\n",
    "    say_nick(\"천사\")\n",
    "    say_nick(\"바보\")\n",
    "except MyError as e:\n",
    "    print(\"욕하지마 바보아냐\", e)"
   ]
  },
  {
   "cell_type": "code",
   "execution_count": 62,
   "id": "ce0a57ca-7317-4e69-bc3c-1bad437ea2af",
   "metadata": {},
   "outputs": [],
   "source": [
    "class MyError(Exception):\n",
    "    def __str__(self):\n",
    "        return \"욕하지마 그래도 사람은 착해\""
   ]
  },
  {
   "cell_type": "code",
   "execution_count": null,
   "id": "9a4b7baa-29ae-4707-b80b-97fe36f962d5",
   "metadata": {},
   "outputs": [],
   "source": []
  }
 ],
 "metadata": {
  "kernelspec": {
   "display_name": "Python 3 (ipykernel)",
   "language": "python",
   "name": "python3"
  },
  "language_info": {
   "codemirror_mode": {
    "name": "ipython",
    "version": 3
   },
   "file_extension": ".py",
   "mimetype": "text/x-python",
   "name": "python",
   "nbconvert_exporter": "python",
   "pygments_lexer": "ipython3",
   "version": "3.13.1"
  }
 },
 "nbformat": 4,
 "nbformat_minor": 5
}
