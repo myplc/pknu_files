{
 "cells": [
  {
   "cell_type": "markdown",
   "id": "329e232f-72a6-4b17-82ea-3cf30863c6ee",
   "metadata": {},
   "source": [
    "# 조건문의 참과 거짓"
   ]
  },
  {
   "cell_type": "code",
   "execution_count": 1,
   "id": "ecb069fd-7b38-46c5-99aa-8b88a8343519",
   "metadata": {},
   "outputs": [
    {
     "name": "stdout",
     "output_type": "stream",
     "text": [
      "shirt\n"
     ]
    }
   ],
   "source": [
    "a = \"Life is too short, you need python\"\n",
    "\n",
    "if \"wife\" in a:\n",
    "    print(\"wife\")\n",
    "elif \"python\" in a and \"you\" not in a:\n",
    "    print(\"python\")\n",
    "elif \"shirt\" not in a:\n",
    "    print(\"shirt\")\n",
    "elif \"need\" in a:\n",
    "    print(\"need\")\n",
    "else:\n",
    "    print(\"none\")"
   ]
  },
  {
   "cell_type": "markdown",
   "id": "70475b70-8309-4f79-bc49-d70c0c440f53",
   "metadata": {},
   "source": [
    "# 3의 배수의 합 구하기 "
   ]
  },
  {
   "cell_type": "code",
   "execution_count": 2,
   "id": "d2741247-8d6b-463c-84de-6106df433f2f",
   "metadata": {},
   "outputs": [
    {
     "name": "stdout",
     "output_type": "stream",
     "text": [
      "166833\n"
     ]
    }
   ],
   "source": [
    "result = 0\n",
    "i = 1\n",
    "while i <= 1000:\n",
    "    if i % 3 == 0:\n",
    "        result += i\n",
    "    i += 1\n",
    "\n",
    "print(result)\n"
   ]
  },
  {
   "cell_type": "markdown",
   "id": "b1ba8d6b-c86b-4c0e-bfb3-f3badaee86e9",
   "metadata": {},
   "source": [
    "# 별 표시하기"
   ]
  },
  {
   "cell_type": "code",
   "execution_count": 5,
   "id": "2aa0fca0-39d3-4831-9df1-dc01bb01e6f3",
   "metadata": {},
   "outputs": [
    {
     "name": "stdout",
     "output_type": "stream",
     "text": [
      "*\n",
      "**\n",
      "***\n",
      "****\n",
      "*****\n"
     ]
    }
   ],
   "source": [
    "i = 0\n",
    "while True:\n",
    "    i += 1\n",
    "    if i > 5:\n",
    "        break\n",
    "    print(\"*\" * i)"
   ]
  },
  {
   "cell_type": "markdown",
   "id": "d0ab6114-2bd6-44ab-8e21-c4d8e1f8ca08",
   "metadata": {},
   "source": [
    "# 1부터 100까지 출력하기"
   ]
  },
  {
   "cell_type": "code",
   "execution_count": 10,
   "id": "f5f0b894-a184-4aac-9677-f17d688e155f",
   "metadata": {},
   "outputs": [
    {
     "name": "stdout",
     "output_type": "stream",
     "text": [
      "1\n",
      "2\n",
      "3\n",
      "4\n",
      "5\n",
      "6\n",
      "7\n",
      "8\n",
      "9\n",
      "10\n",
      "11\n",
      "12\n",
      "13\n",
      "14\n",
      "15\n",
      "16\n",
      "17\n",
      "18\n",
      "19\n",
      "20\n",
      "21\n",
      "22\n",
      "23\n",
      "24\n",
      "25\n",
      "26\n",
      "27\n",
      "28\n",
      "29\n",
      "30\n",
      "31\n",
      "32\n",
      "33\n",
      "34\n",
      "35\n",
      "36\n",
      "37\n",
      "38\n",
      "39\n",
      "40\n",
      "41\n",
      "42\n",
      "43\n",
      "44\n",
      "45\n",
      "46\n",
      "47\n",
      "48\n",
      "49\n",
      "50\n",
      "51\n",
      "52\n",
      "53\n",
      "54\n",
      "55\n",
      "56\n",
      "57\n",
      "58\n",
      "59\n",
      "60\n",
      "61\n",
      "62\n",
      "63\n",
      "64\n",
      "65\n",
      "66\n",
      "67\n",
      "68\n",
      "69\n",
      "70\n",
      "71\n",
      "72\n",
      "73\n",
      "74\n",
      "75\n",
      "76\n",
      "77\n",
      "78\n",
      "79\n",
      "80\n",
      "81\n",
      "82\n",
      "83\n",
      "84\n",
      "85\n",
      "86\n",
      "87\n",
      "88\n",
      "89\n",
      "90\n",
      "91\n",
      "92\n",
      "93\n",
      "94\n",
      "95\n",
      "96\n",
      "97\n",
      "98\n",
      "99\n",
      "100\n"
     ]
    }
   ],
   "source": [
    "for i in range(1,101):\n",
    "    print(i)"
   ]
  },
  {
   "cell_type": "markdown",
   "id": "2c067ae7-b704-44a0-a5fb-f171168235b4",
   "metadata": {},
   "source": [
    "# 평균 점수 구하기"
   ]
  },
  {
   "cell_type": "code",
   "execution_count": 15,
   "id": "9f9f3e52-2270-475d-9eb8-73a9635a0bd3",
   "metadata": {},
   "outputs": [
    {
     "name": "stdout",
     "output_type": "stream",
     "text": [
      "평균: 79.0\n"
     ]
    }
   ],
   "source": [
    "A = [70, 60, 55, 75, 95, 90, 80, 80, 85, 100]\n",
    "total = 0\n",
    "for score in A:\n",
    "    total += score\n",
    "average = total / len(A)\n",
    "print(f'평균: {average}')"
   ]
  },
  {
   "cell_type": "markdown",
   "id": "318e63e9-b3a7-45bc-8a6e-85faa6bb51e0",
   "metadata": {},
   "source": [
    "# 리스트 컴프리헨션 사용하기"
   ]
  },
  {
   "cell_type": "code",
   "execution_count": 20,
   "id": "56812bb6-0ca8-4f4d-ad1d-7313a459346a",
   "metadata": {},
   "outputs": [
    {
     "name": "stdout",
     "output_type": "stream",
     "text": [
      "[2, 6, 10]\n"
     ]
    }
   ],
   "source": [
    "numbers = [1,2,3,4,5]\n",
    "result = []\n",
    "for n in numbers:\n",
    "    if n % 2 == 1:\n",
    "        result.append(n * 2)\n",
    "print(result)"
   ]
  },
  {
   "cell_type": "code",
   "execution_count": 18,
   "id": "dc49626c-55c9-496e-bcfc-928f75c55efc",
   "metadata": {},
   "outputs": [
    {
     "name": "stdout",
     "output_type": "stream",
     "text": [
      "[2, 6, 10]\n"
     ]
    }
   ],
   "source": [
    "numbers = [1,2,3,4,5]\n",
    "result = [n * 2 for n in numbers if n % 2 ==1]\n",
    "print(result)"
   ]
  }
 ],
 "metadata": {
  "kernelspec": {
   "display_name": "Python 3 (ipykernel)",
   "language": "python",
   "name": "python3"
  },
  "language_info": {
   "codemirror_mode": {
    "name": "ipython",
    "version": 3
   },
   "file_extension": ".py",
   "mimetype": "text/x-python",
   "name": "python",
   "nbconvert_exporter": "python",
   "pygments_lexer": "ipython3",
   "version": "3.13.1"
  }
 },
 "nbformat": 4,
 "nbformat_minor": 5
}
