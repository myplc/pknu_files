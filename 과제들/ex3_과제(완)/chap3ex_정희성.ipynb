{
 "cells": [
  {
   "cell_type": "code",
   "execution_count": null,
   "id": "6ec83c63-929a-4ade-a5b7-5d752354e0d0",
   "metadata": {},
   "outputs": [],
   "source": [
    "# Q1\n",
    "print(\"answer : shirt\")"
   ]
  },
  {
   "cell_type": "code",
   "execution_count": null,
   "id": "b0d9f2b9-e2c7-40a4-986e-e374df663d01",
   "metadata": {},
   "outputs": [],
   "source": [
    "# Q2\n",
    "result = 0\n",
    "i = 1\n",
    "while i <= 1000:\n",
    "    if i % 3 == 0:\n",
    "        result += i\n",
    "    i += 1\n",
    "\n",
    "print(result)"
   ]
  },
  {
   "cell_type": "code",
   "execution_count": null,
   "id": "043bf3ef-30ab-45af-9498-0a45f00d14a0",
   "metadata": {},
   "outputs": [],
   "source": [
    "# Q3\n",
    "i = 0\n",
    "while True:\n",
    "    i += 1\n",
    "    if i > 5 : break\n",
    "    print('*' * i)"
   ]
  },
  {
   "cell_type": "code",
   "execution_count": null,
   "id": "871f3b41-58eb-4c65-8fad-387141fbcf6a",
   "metadata": {},
   "outputs": [],
   "source": [
    "# Q4\n",
    "for i in range(1,101):\n",
    "    print(i)"
   ]
  },
  {
   "cell_type": "code",
   "execution_count": null,
   "id": "e242c5ce-6c52-49ba-bfb0-6612e453bb51",
   "metadata": {},
   "outputs": [],
   "source": [
    "# Q5\n",
    "A = [70, 60, 55, 75, 95, 90, 80, 80, 85, 100]\n",
    "total = 0\n",
    "for score in A:\n",
    "    total += score\n",
    "average = total / len(A)\n",
    "print(average)"
   ]
  },
  {
   "cell_type": "code",
   "execution_count": null,
   "id": "306870d7-3e38-4a3b-8e9d-f0060f8c68af",
   "metadata": {},
   "outputs": [],
   "source": [
    "# Q6\n",
    "numbers = [1,2,3,4,5]\n",
    "result = [n * 2 for n in numbers if n % 2 == 1]\n",
    "print(result)"
   ]
  },
  {
   "cell_type": "code",
   "execution_count": null,
   "id": "1dea042c-4ef5-4464-b112-052b5feb9734",
   "metadata": {},
   "outputs": [],
   "source": [
    "# 로또 생성기\n",
    "import random\n",
    "\n",
    "lotto = []\n",
    "lotto_box = []\n",
    "try_num = 100000\n",
    "\n",
    "while len(lotto_bFox) < try_num:\n",
    "    while len(lotto) < 6 :\n",
    "        random_number = random.randint(1,45)\n",
    "        if random_number not in lotto:\n",
    "            lotto.append(random_number)\n",
    "    lotto.sort()\n",
    "    lotto_box.append(lotto)\n",
    "    lotto = []\n",
    "\n",
    "count = []\n",
    "count_box = []\n",
    "\n",
    "for j in range(try_num):\n",
    "    for i in range(1,46):\n",
    "        count.append(lotto_box[j].count(i))\n",
    "    count_box.append(count)\n",
    "    count = []\n",
    "\n",
    "index_num = []\n",
    "for i in range(45):\n",
    "    index_num.append(0)\n",
    "\n",
    "for i in range(try_num):\n",
    "    for j in range(45):\n",
    "        if count_box[i][j] == 1:\n",
    "            index_num[j] += 1\n",
    "\n",
    "copy_indexNum = sorted(index_num,reverse=True)\n",
    "      \n",
    "print('=' * 30)\n",
    "for i in range(45):\n",
    "    print(f\"{i + 1}번 : {index_num[i]}번, 확률 : {index_num[i]/try_num*100:.2f}%\")\n",
    "print('=' * 30)\n",
    "print(f\"추천 숫자 3개:{index_num.index(copy_indexNum[0]) + 1}번,{index_num.index(copy_indexNum[1]) + 1}번,{index_num.index(copy_indexNum[2]) + 1}번\")\n"
   ]
  }
 ],
 "metadata": {
  "kernelspec": {
   "display_name": "Python 3 (ipykernel)",
   "language": "python",
   "name": "python3"
  },
  "language_info": {
   "codemirror_mode": {
    "name": "ipython",
    "version": 3
   },
   "file_extension": ".py",
   "mimetype": "text/x-python",
   "name": "python",
   "nbconvert_exporter": "python",
   "pygments_lexer": "ipython3",
   "version": "3.13.1"
  }
 },
 "nbformat": 4,
 "nbformat_minor": 5
}
