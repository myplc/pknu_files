{
 "cells": [
  {
   "cell_type": "markdown",
   "id": "5665930a-5201-4dcf-920f-b1a1ebc46060",
   "metadata": {},
   "source": [
    "## 02장. 되새김 문제"
   ]
  },
  {
   "cell_type": "markdown",
   "id": "6bd23717-a2ef-44fa-8f87-492c40302b5f",
   "metadata": {},
   "source": [
    "#### 홍길동씨 평균 점수 구하기"
   ]
  },
  {
   "cell_type": "code",
   "execution_count": 1,
   "id": "0a6ee60a-e31f-41d9-9fa0-b77762638233",
   "metadata": {
    "tags": []
   },
   "outputs": [
    {
     "name": "stdout",
     "output_type": "stream",
     "text": [
      "홍길동 씨의 평균 점수는: 70.0점입니다.\n"
     ]
    }
   ],
   "source": [
    "hong = {'국어': 80, '수학': 55, '영어' : 75}\n",
    "score = list(hong.values())\n",
    "\n",
    "print(f'홍길동 씨의 평균 점수는: {sum(score)/len(score)}점입니다.')"
   ]
  },
  {
   "cell_type": "markdown",
   "id": "6ac181a8-d5f7-43b9-9e39-641cab057956",
   "metadata": {},
   "source": [
    "#### 홀수, 짝수 판별하기"
   ]
  },
  {
   "cell_type": "code",
   "execution_count": 2,
   "id": "9a294de0-c5b8-45bd-8369-99a05eb5531a",
   "metadata": {
    "tags": []
   },
   "outputs": [
    {
     "name": "stdin",
     "output_type": "stream",
     "text": [
      "홀짝을 판별하고 싶은 숫자를 입력하세요:  13\n"
     ]
    },
    {
     "name": "stdout",
     "output_type": "stream",
     "text": [
      "13은 홀수입니다.\n"
     ]
    }
   ],
   "source": [
    "a = int(input('홀짝을 판별하고 싶은 숫자를 입력하세요: '))\n",
    "\n",
    "def int_a(a) :\n",
    "    if a % 2 == 0 :\n",
    "        return f'{a}는 짝수입니다.'\n",
    "    else :\n",
    "        return f'{a}은 홀수입니다.'\n",
    "    \n",
    "print(int_a(a))"
   ]
  },
  {
   "cell_type": "markdown",
   "id": "00d81785-5cb4-4a88-8718-187fd31b9484",
   "metadata": {},
   "source": [
    "#### 주민등록번호 나누기"
   ]
  },
  {
   "cell_type": "code",
   "execution_count": 3,
   "id": "36e4530f-3365-4960-9585-dc2692a77df2",
   "metadata": {
    "tags": []
   },
   "outputs": [
    {
     "name": "stdout",
     "output_type": "stream",
     "text": [
      "1988년 11월 20일\n",
      "068234\n"
     ]
    }
   ],
   "source": [
    "from datetime import datetime\n",
    "\n",
    "hongPin = \"881120-1068234\"\n",
    "\n",
    "y = hongPin[0:6]\n",
    "n = hongPin[8:]\n",
    "\n",
    "print(f'19{y[0:2]}년 {y[2:4]}월 {y[4:6]}일')\n",
    "print(n)"
   ]
  },
  {
   "cell_type": "markdown",
   "id": "89d6bada-b66c-4c73-b47d-f8fbca9bf6e5",
   "metadata": {},
   "source": [
    "#### 주민등록번호 인덱싱"
   ]
  },
  {
   "cell_type": "code",
   "execution_count": 4,
   "id": "3be1880c-5dfd-4a6a-b821-3c77f1f6f1d7",
   "metadata": {
    "tags": []
   },
   "outputs": [
    {
     "name": "stdout",
     "output_type": "stream",
     "text": [
      "남자입니다.\n"
     ]
    }
   ],
   "source": [
    "hongPin2 = \"881120-1068234\"\n",
    "\n",
    "def jender(hongPin2) :\n",
    "    str0 = int(hongPin2[7])\n",
    "    if str0 == 1 or str0 == 3 :\n",
    "        return '남자입니다.'\n",
    "    else :\n",
    "        return '여자입니다.'\n",
    "\n",
    "print(jender(hongPin2))"
   ]
  },
  {
   "cell_type": "markdown",
   "id": "d1ccc606-9a29-4faa-b9c0-edf7880a896a",
   "metadata": {},
   "source": [
    "#### 문자열 바꾸기"
   ]
  },
  {
   "cell_type": "code",
   "execution_count": 5,
   "id": "a3ffd47b-4ba1-41a3-b888-a10de561d0c6",
   "metadata": {
    "tags": []
   },
   "outputs": [
    {
     "name": "stdout",
     "output_type": "stream",
     "text": [
      "a#b#c#d\n"
     ]
    }
   ],
   "source": [
    "a = \"a:b:c:d\"\n",
    "b = a.replace(':', '#')\n",
    "print(b)"
   ]
  },
  {
   "cell_type": "markdown",
   "id": "04e2b7c4-afca-4ec0-b2de-150cd0e8afd4",
   "metadata": {},
   "source": [
    "#### 리스트 역순 정렬하기"
   ]
  },
  {
   "cell_type": "code",
   "execution_count": 6,
   "id": "b05ff619-2aef-4deb-b4a7-e195dd47f4f0",
   "metadata": {
    "tags": []
   },
   "outputs": [
    {
     "name": "stdout",
     "output_type": "stream",
     "text": [
      "[1, 2, 3, 4, 5]\n",
      "[5, 4, 3, 2, 1]\n"
     ]
    }
   ],
   "source": [
    "lst = [1, 2, 5, 4, 3]\n",
    "\n",
    "c = lst.copy()\n",
    "\n",
    "c.sort()\n",
    "print(c)\n",
    "\n",
    "c.reverse()\n",
    "print(c)"
   ]
  },
  {
   "cell_type": "markdown",
   "id": "759c7a7d-a3c3-4c0d-bb9e-1bebb676913e",
   "metadata": {},
   "source": [
    "#### 리스트를 문자열로 만들기"
   ]
  },
  {
   "cell_type": "code",
   "execution_count": 7,
   "id": "a8cfcd20-6e05-4a02-81c9-c16b2b141e3d",
   "metadata": {
    "tags": []
   },
   "outputs": [
    {
     "name": "stdout",
     "output_type": "stream",
     "text": [
      "Life is too short\n"
     ]
    }
   ],
   "source": [
    "a = ['Life', 'is', 'too', 'short']\n",
    "result = ' '.join(a)\n",
    "print(result)"
   ]
  },
  {
   "cell_type": "markdown",
   "id": "97792bec-de0f-450f-b055-c948d9269cee",
   "metadata": {},
   "source": [
    "#### 튜플 더하기"
   ]
  },
  {
   "cell_type": "code",
   "execution_count": 8,
   "id": "25d41954-72a2-4306-ab7f-9a558fecb60c",
   "metadata": {
    "tags": []
   },
   "outputs": [
    {
     "name": "stdout",
     "output_type": "stream",
     "text": [
      "(1, 2, 3, 4)\n"
     ]
    }
   ],
   "source": [
    "a = (1, 2, 3)\n",
    "a = a + (4, )\n",
    "print(a)"
   ]
  },
  {
   "cell_type": "markdown",
   "id": "a7c75c6d-9ee3-4ae7-948f-3e5742f16430",
   "metadata": {},
   "source": [
    "#### 딕셔너리의 키"
   ]
  },
  {
   "cell_type": "code",
   "execution_count": 14,
   "id": "2906633e-2b23-447c-87c4-e9f57e9088d2",
   "metadata": {
    "tags": []
   },
   "outputs": [],
   "source": [
    "a = dict()\n",
    "\n",
    "a['name'] = 'python' #기본형\n",
    "# a[(a,)] = 'python' #타입에러\n",
    "# a[[1]] = 'p' #타입에러\n",
    "a[250] = 'python'"
   ]
  },
  {
   "cell_type": "code",
   "execution_count": 10,
   "id": "b538ee4f-221e-4ce7-a026-397ec557d683",
   "metadata": {
    "tags": []
   },
   "outputs": [
    {
     "data": {
      "text/plain": [
       "{'name': 'python', 250: 'python'}"
      ]
     },
     "execution_count": 10,
     "metadata": {},
     "output_type": "execute_result"
    }
   ],
   "source": [
    "a"
   ]
  },
  {
   "cell_type": "markdown",
   "id": "c3498c77-094e-45b6-8588-dce64ce49b54",
   "metadata": {},
   "source": [
    "#### 딕셔너리 값 추출하기"
   ]
  },
  {
   "cell_type": "code",
   "execution_count": 11,
   "id": "61c2008c-74e2-4398-862f-c7af627b0c55",
   "metadata": {
    "tags": []
   },
   "outputs": [
    {
     "name": "stdout",
     "output_type": "stream",
     "text": [
      "{'A': 90, 'C': 70}\n",
      "80\n"
     ]
    }
   ],
   "source": [
    "a = {'A': 90, 'B': 80, 'C': 70}\n",
    "result = a.pop('B')\n",
    "print(a)\n",
    "print(result)"
   ]
  },
  {
   "cell_type": "markdown",
   "id": "7a2eab4c-be4d-4cb0-ad34-fa1fa17b48f0",
   "metadata": {},
   "source": [
    "#### 리스트에서 중복 제거하기"
   ]
  },
  {
   "cell_type": "code",
   "execution_count": 12,
   "id": "e51141f4-ed6a-49a5-8057-fb769a79cd58",
   "metadata": {
    "tags": []
   },
   "outputs": [
    {
     "name": "stdout",
     "output_type": "stream",
     "text": [
      "{1, 2, 3, 4, 5}\n",
      "[1, 2, 3, 4, 5]\n"
     ]
    }
   ],
   "source": [
    "a = [1, 1, 1, 2, 2, 3, 3, 3, 4, 4, 5]\n",
    "aSet = set(a)\n",
    "print(aSet)\n",
    "\n",
    "b = list(aSet)\n",
    "print(b)"
   ]
  },
  {
   "cell_type": "markdown",
   "id": "24d18504-62d7-4f98-94bc-b30ec176130c",
   "metadata": {},
   "source": [
    "#### 파이썬 변수"
   ]
  },
  {
   "cell_type": "code",
   "execution_count": 13,
   "id": "5f63b142-7282-4ed5-9cf1-a67c9068697d",
   "metadata": {
    "tags": []
   },
   "outputs": [
    {
     "name": "stdout",
     "output_type": "stream",
     "text": [
      "[1, 2, 3]\n",
      "[1, 2, 3]\n",
      "[1, 4, 3]\n",
      "[1, 4, 3]\n"
     ]
    }
   ],
   "source": [
    "a = b = [1, 2, 3]\n",
    "print(a)\n",
    "print(b)\n",
    "\n",
    "a[1] = 4\n",
    "print(a)\n",
    "print(b) #a와 b가 같은 리스트를 가리키고 있기 때문"
   ]
  },
  {
   "cell_type": "code",
   "execution_count": null,
   "id": "babe644b-7dc6-4ea8-bd61-3b8f714e1d40",
   "metadata": {},
   "outputs": [],
   "source": []
  }
 ],
 "metadata": {
  "kernelspec": {
   "display_name": "Python 3 (ipykernel)",
   "language": "python",
   "name": "python3"
  },
  "language_info": {
   "codemirror_mode": {
    "name": "ipython",
    "version": 3
   },
   "file_extension": ".py",
   "mimetype": "text/x-python",
   "name": "python",
   "nbconvert_exporter": "python",
   "pygments_lexer": "ipython3",
   "version": "3.11.5"
  }
 },
 "nbformat": 4,
 "nbformat_minor": 5
}
