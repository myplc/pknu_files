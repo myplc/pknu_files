{
 "cells": [
  {
   "cell_type": "markdown",
   "id": "3a4b5321-360f-4995-b2d5-5fb9b2e5aa1e",
   "metadata": {},
   "source": [
    "# 되새김 문제"
   ]
  },
  {
   "cell_type": "code",
   "execution_count": 2,
   "id": "494e4e09-4bf8-4dd3-a2c3-0a06360ec436",
   "metadata": {},
   "outputs": [
    {
     "name": "stdout",
     "output_type": "stream",
     "text": [
      "70.0\n"
     ]
    }
   ],
   "source": [
    "# 1. 평균 점수 구하기\n",
    "kor = 80\n",
    "eng = 75\n",
    "math = 55\n",
    "\n",
    "average = (kor + eng + math)/3\n",
    "print(average)"
   ]
  },
  {
   "cell_type": "code",
   "execution_count": 13,
   "id": "c2209f6d-9017-46dc-974d-51568456565f",
   "metadata": {},
   "outputs": [
    {
     "name": "stdin",
     "output_type": "stream",
     "text": [
      "원하는 숫자를 적으세요 13\n"
     ]
    },
    {
     "name": "stdout",
     "output_type": "stream",
     "text": [
      "1  => 0 이면 짝수이고 1 이면 홀수입니다.\n"
     ]
    }
   ],
   "source": [
    "# 2. 홀수, 짝수 판별하기\n",
    "num = int(input(\"원하는 숫자를 적으세요\"))\n",
    "result = num%2\n",
    "print(result,\" => 0 이면 짝수이고 1 이면 홀수입니다.\") "
   ]
  },
  {
   "cell_type": "code",
   "execution_count": 19,
   "id": "6b1587ae-bee7-4cbf-ab34-88b56a594b90",
   "metadata": {},
   "outputs": [
    {
     "name": "stdout",
     "output_type": "stream",
     "text": [
      "881120\n",
      "1068234\n"
     ]
    }
   ],
   "source": [
    "# 3. 주민등록번호 나누기\n",
    "pin = \"881120-1068234\"\n",
    "yyymmdd = pin[:6]\n",
    "num = pin[-7:]\n",
    "print(yyymmdd)\n",
    "print(num)"
   ]
  },
  {
   "cell_type": "code",
   "execution_count": 23,
   "id": "f446fa48-e044-4022-bfc3-fbc88e91cdb5",
   "metadata": {},
   "outputs": [
    {
     "name": "stdout",
     "output_type": "stream",
     "text": [
      "1\n"
     ]
    }
   ],
   "source": [
    "# 4. 주민등록번호 인덱싱\n",
    "pin = \"881120-1068234\"\n",
    "print(pin[7:8])"
   ]
  },
  {
   "cell_type": "code",
   "execution_count": 25,
   "id": "99fdce12-55b3-4fbb-a9ea-7d16bd74e45c",
   "metadata": {},
   "outputs": [
    {
     "name": "stdout",
     "output_type": "stream",
     "text": [
      "a#b#c#d\n"
     ]
    }
   ],
   "source": [
    "# 5. 문자열 바꾸기\n",
    "a = \"a:b:c:d\"\n",
    "b = a.replace(\":\",\"#\")\n",
    "print(b)"
   ]
  },
  {
   "cell_type": "code",
   "execution_count": 36,
   "id": "8a9a93df-cf62-4e66-8e6b-fd34303b7691",
   "metadata": {},
   "outputs": [
    {
     "name": "stdout",
     "output_type": "stream",
     "text": [
      "[5, 4, 3, 2, 1]\n"
     ]
    }
   ],
   "source": [
    "# 6. 리스트 역순 정렬하기\n",
    "a = [1,3,5,4,2]\n",
    "a.sort()\n",
    "a.reverse()\n",
    "print(a)"
   ]
  },
  {
   "cell_type": "code",
   "execution_count": 40,
   "id": "35a571aa-7b93-4554-87a8-31255755556b",
   "metadata": {},
   "outputs": [
    {
     "name": "stdout",
     "output_type": "stream",
     "text": [
      "Life is too short\n"
     ]
    }
   ],
   "source": [
    "# 7. 리스트를 문자열로 만들기\n",
    "a = ['Life', 'is', 'too', 'short']\n",
    "result = ' '.join(a)\n",
    "print(result)"
   ]
  },
  {
   "cell_type": "code",
   "execution_count": 43,
   "id": "92bca568-118a-4a7f-a019-414b98a0fdfd",
   "metadata": {},
   "outputs": [
    {
     "name": "stdout",
     "output_type": "stream",
     "text": [
      "(1, 2, 3, 4)\n"
     ]
    }
   ],
   "source": [
    "# 8. 튜플 더하기\n",
    "a = (1, 2, 3)\n",
    "b = (4,)\n",
    "a = a + b\n",
    "print(a)"
   ]
  },
  {
   "cell_type": "code",
   "execution_count": 46,
   "id": "13f67eda-6dde-4ff5-8796-4b9f787bf2d5",
   "metadata": {},
   "outputs": [
    {
     "name": "stdout",
     "output_type": "stream",
     "text": [
      "{}\n"
     ]
    },
    {
     "ename": "TypeError",
     "evalue": "unhashable type: 'list'",
     "output_type": "error",
     "traceback": [
      "\u001b[1;31m---------------------------------------------------------------------------\u001b[0m",
      "\u001b[1;31mTypeError\u001b[0m                                 Traceback (most recent call last)",
      "Cell \u001b[1;32mIn[46], line 6\u001b[0m\n\u001b[0;32m      4\u001b[0m a[\u001b[38;5;124m'\u001b[39m\u001b[38;5;124mname\u001b[39m\u001b[38;5;124m'\u001b[39m] \u001b[38;5;241m=\u001b[39m \u001b[38;5;124m'\u001b[39m\u001b[38;5;124mpython\u001b[39m\u001b[38;5;124m'\u001b[39m\n\u001b[0;32m      5\u001b[0m a[(\u001b[38;5;124m'\u001b[39m\u001b[38;5;124ma\u001b[39m\u001b[38;5;124m'\u001b[39m,)] \u001b[38;5;241m=\u001b[39m \u001b[38;5;124m'\u001b[39m\u001b[38;5;124mpython\u001b[39m\u001b[38;5;124m'\u001b[39m\n\u001b[1;32m----> 6\u001b[0m \u001b[43ma\u001b[49m\u001b[43m[\u001b[49m\u001b[43m[\u001b[49m\u001b[38;5;241;43m1\u001b[39;49m\u001b[43m]\u001b[49m\u001b[43m]\u001b[49m \u001b[38;5;241m=\u001b[39m \u001b[38;5;124m'\u001b[39m\u001b[38;5;124mpython\u001b[39m\u001b[38;5;124m'\u001b[39m \u001b[38;5;66;03m#키에 리스트는 쓸 수 없기 때문\u001b[39;00m\n\u001b[0;32m      7\u001b[0m a[\u001b[38;5;241m250\u001b[39m] \u001b[38;5;241m=\u001b[39m \u001b[38;5;124m'\u001b[39m\u001b[38;5;124mpython\u001b[39m\u001b[38;5;124m'\u001b[39m\n",
      "\u001b[1;31mTypeError\u001b[0m: unhashable type: 'list'"
     ]
    }
   ],
   "source": [
    "# 9 딕셔너리의 키\n",
    "a = dict()\n",
    "print(a)\n",
    "a['name'] = 'python'\n",
    "a[('a',)] = 'python'\n",
    "a[[1]] = 'python' #키에 리스트는 쓸 수 없기 때문\n",
    "a[250] = 'python'"
   ]
  },
  {
   "cell_type": "code",
   "execution_count": 44,
   "id": "a8ff2285-6626-4f6f-85bc-b61500de539a",
   "metadata": {},
   "outputs": [
    {
     "name": "stdout",
     "output_type": "stream",
     "text": [
      "{'A': 90, 'C': 70}\n",
      "80\n"
     ]
    }
   ],
   "source": [
    "# 10. 딕셔너리 값 추출하기\n",
    "a = {'A':90, 'B':80, 'C':70}\n",
    "result = a.pop('B')\n",
    "print(a)\n",
    "print(result)"
   ]
  },
  {
   "cell_type": "code",
   "execution_count": 47,
   "id": "62ad3deb-a27b-42b7-8c5e-f99cd2d2084a",
   "metadata": {},
   "outputs": [
    {
     "name": "stdout",
     "output_type": "stream",
     "text": [
      "[1, 2, 3, 4, 5]\n"
     ]
    }
   ],
   "source": [
    "# 11. 리스트에서 중복 제거하기\n",
    "a = [1, 1, 1, 2, 2, 3, 3, 3, 4, 4, 5]\n",
    "aSet = set(a)\n",
    "b = list(aSet)\n",
    "print(b)"
   ]
  },
  {
   "cell_type": "code",
   "execution_count": 49,
   "id": "ae82c926-4a7b-47f7-903f-4ceece743f6a",
   "metadata": {},
   "outputs": [
    {
     "name": "stdout",
     "output_type": "stream",
     "text": [
      "[1, 4, 3]\n"
     ]
    }
   ],
   "source": [
    "# 12.파이썬 변수\n",
    "a = b = [1,2,3]\n",
    "a[1] = 4\n",
    "print(b)\n",
    "# 위치 1인 2가 4로 대치되어 [1, 4, 3]이 된다.\n",
    "# a = b이기 때문에 a값이 바뀌면 b 값도 바뀐다."
   ]
  },
  {
   "cell_type": "code",
   "execution_count": null,
   "id": "160a2f6f-319c-4eb7-a8c3-690f01ff1653",
   "metadata": {},
   "outputs": [],
   "source": []
  },
  {
   "cell_type": "code",
   "execution_count": null,
   "id": "5a92cb73-ee67-451f-b867-9542057786e3",
   "metadata": {},
   "outputs": [],
   "source": []
  }
 ],
 "metadata": {
  "kernelspec": {
   "display_name": "Python 3 (ipykernel)",
   "language": "python",
   "name": "python3"
  },
  "language_info": {
   "codemirror_mode": {
    "name": "ipython",
    "version": 3
   },
   "file_extension": ".py",
   "mimetype": "text/x-python",
   "name": "python",
   "nbconvert_exporter": "python",
   "pygments_lexer": "ipython3",
   "version": "3.13.1"
  }
 },
 "nbformat": 4,
 "nbformat_minor": 5
}
