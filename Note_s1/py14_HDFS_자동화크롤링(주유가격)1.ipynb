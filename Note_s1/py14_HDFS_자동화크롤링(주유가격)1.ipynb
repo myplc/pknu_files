{
 "cells": [
  {
   "cell_type": "code",
   "execution_count": 1,
   "id": "ba638ca4-21b8-4f2a-961b-b124584f5bb8",
   "metadata": {},
   "outputs": [],
   "source": [
    "from selenium import webdriver\n",
    "from selenium.webdriver.common.action_chains import ActionChains\n",
    "from selenium.webdriver.support.ui import Select, WebDriverWait\n",
    "from selenium.webdriver.support import expected_conditions as EC\n",
    "from selenium.webdriver.chrome.service import Service\n",
    "from selenium.webdriver.chrome.options import Options\n",
    "from selenium.webdriver.common.by import By\n",
    "import pandas as pd\n",
    "import time"
   ]
  },
  {
   "cell_type": "code",
   "execution_count": 2,
   "id": "b4331892-c0c8-4a71-90dd-c18597f8f488",
   "metadata": {},
   "outputs": [
    {
     "name": "stdout",
     "output_type": "stream",
     "text": [
      "싼 주유소 찾기 오피넷\n",
      "주유소검색중\n",
      "순회시작: 1 / 16\n",
      "1번 옵션 선택\n",
      "순회시작: 2 / 16\n",
      "2번 옵션 선택\n",
      "순회시작: 3 / 16\n",
      "3번 옵션 선택\n",
      "순회시작: 4 / 16\n",
      "4번 옵션 선택\n"
     ]
    }
   ],
   "source": [
    "# Chrome 옵션 설정\n",
    "options = Options()\n",
    "options.binary_location = \"..\\\\chrome-win64\\\\chrome.exe\" # chrome 경로 설정\n",
    "options.add_argument(\"--no-sandbox\") # sandbox 설정\n",
    "options.add_argument(\"--headless=new\")  # 헤드리스\n",
    "options.add_argument(\"--disable-dev-shm-usage\") # 공유메모리 설정\n",
    "options.add_argument(\"--window-size=1920,1080\") # 화면크기설정 , 반응형 웹 대비\n",
    "options.add_argument(\"--user-agent=Mozilla/5.0 (Windows NT 10.0; Win64; x64) AppleWebKit/537.36 (KHTML, like Gecko) Chrome/113.0.5672.126 Safari/537.36\")\n",
    "# options.add_argument(\"--disable-gpu\") # GPU 비활성화\n",
    "\n",
    "# ChromeDriver 설정\n",
    "service = Service(\"..\\\\chromedriver.exe\")\n",
    "driver = webdriver.Chrome(service=service, options=options)\n",
    "driver.get(\"https://www.opinet.co.kr/\")  # https://www.opinet.co.kr/searRgSelect.do\n",
    "print(driver.title)\n",
    "time.sleep(4)\n",
    "\n",
    "# 요소찾기\n",
    "hover_element = driver.find_element(By.CSS_SELECTOR, \"#header > div > ul > li:nth-child(1) > a\")\n",
    "menu_option = driver.find_element(By.CSS_SELECTOR, \"#header > div > ul > li:nth-child(1) > ul > li:nth-child(1) > a\")\n",
    "\n",
    "# 마우스 호버 엑션\n",
    "actions = ActionChains(driver)\n",
    "actions.move_to_element(hover_element).perform()\n",
    "\n",
    "# # 약간의 시간을 기다린 후 클릭\n",
    "time.sleep(1)\n",
    "menu_option.click()\n",
    "time.sleep(3)\n",
    "print(\"주유소검색중\")\n",
    "\n",
    "# 입력창 선택 후 검색\n",
    "wait = WebDriverWait(driver, 10)\n",
    "select_element = wait.until(EC.presence_of_element_located((By.ID, \"SIGUNGU_NM0\")))\n",
    "select = Select(select_element)\n",
    "option_count = len(select.options)\n",
    "time.sleep(3)\n",
    "# 전체 옵션 반복\n",
    "try:\n",
    "    for i in range(1,option_count):\n",
    "        # 리로딩될 때 셀렉트가 깨지는것 방지\n",
    "        select_element = wait.until(EC.presence_of_element_located((By.ID, \"SIGUNGU_NM0\")))\n",
    "        select = Select(select_element)        \n",
    "        print(\"순회시작:\",i,'/',option_count - 1)\n",
    "        time.sleep(2)  # 대기  \n",
    "        select.select_by_index(i)\n",
    "        print(f\"{i}번 옵션 선택\")\n",
    "        # 옵션 선택 후 상세링크가 나타날 때까지 기다리기\n",
    "        down = wait.until(EC.presence_of_element_located((By.CSS_SELECTOR, \"#templ_list0  div > a\")))\n",
    "        down.click()\n",
    "        time.sleep(4)  # 대기\n",
    "except Exception as e:\n",
    "    print(\"요소를 못찾았음. 실패...\",e)"
   ]
  },
  {
   "cell_type": "code",
   "execution_count": 8,
   "id": "5f4adcd2-c515-42cd-b70a-4cf2120349e2",
   "metadata": {},
   "outputs": [],
   "source": [
    "service.stop()"
   ]
  },
  {
   "cell_type": "code",
   "execution_count": 5,
   "id": "bed277ef-6063-4045-b64b-8bdb709320e3",
   "metadata": {},
   "outputs": [],
   "source": [
    "# import os\n",
    "# os.listdir(\"C:\\\\Users\\\\Admin\\\\Downloads\")"
   ]
  },
  {
   "cell_type": "code",
   "execution_count": 7,
   "id": "95cc0aa7-e4e0-4070-a00c-7f9ad44495da",
   "metadata": {},
   "outputs": [
    {
     "name": "stdout",
     "output_type": "stream",
     "text": [
      "Moved: 지역_위치별(주유소) (1).xls\n",
      "Moved: 지역_위치별(주유소) (2).xls\n",
      "Moved: 지역_위치별(주유소) (3).xls\n",
      "Moved: 지역_위치별(주유소).xls\n"
     ]
    }
   ],
   "source": [
    "# 다운받은 파일을 업로드를 위해 옮기기\n",
    "import os\n",
    "import shutil\n",
    "source_folder = \"C:\\\\Users\\\\Admin\\\\Downloads\\\\\"\n",
    "destination_folder = source_folder + \"HDFS전송준비\"\n",
    "\n",
    "os.makedirs(destination_folder, exist_ok=True)\n",
    "for file_name in os.listdir(source_folder):\n",
    "    if file_name.startswith(\"지역_위치별(주유소)\"):\n",
    "        src_path = os.path.join(source_folder, file_name)\n",
    "        dst_path = os.path.join(destination_folder, file_name)\n",
    "        shutil.move(src_path , dst_path)\n",
    "        print(f\"Moved: {file_name}\")"
   ]
  },
  {
   "cell_type": "code",
   "execution_count": 16,
   "id": "e1d34e86-1930-4da4-848d-7e91c7968232",
   "metadata": {},
   "outputs": [
    {
     "name": "stdout",
     "output_type": "stream",
     "text": [
      "업로드 완료: 지역_위치별(주유소) (1).xls\n",
      "업로드 완료: 지역_위치별(주유소) (10).xls\n",
      "업로드 완료: 지역_위치별(주유소) (11).xls\n",
      "업로드 완료: 지역_위치별(주유소) (12).xls\n",
      "업로드 완료: 지역_위치별(주유소) (13).xls\n",
      "업로드 완료: 지역_위치별(주유소) (14).xls\n",
      "업로드 완료: 지역_위치별(주유소) (15).xls\n",
      "업로드 완료: 지역_위치별(주유소) (2).xls\n",
      "업로드 완료: 지역_위치별(주유소) (3).xls\n",
      "업로드 완료: 지역_위치별(주유소) (4).xls\n",
      "업로드 완료: 지역_위치별(주유소) (5).xls\n",
      "업로드 완료: 지역_위치별(주유소) (6).xls\n",
      "업로드 완료: 지역_위치별(주유소) (7).xls\n",
      "업로드 완료: 지역_위치별(주유소) (8).xls\n",
      "업로드 완료: 지역_위치별(주유소) (9).xls\n",
      "업로드 완료: 지역_위치별(주유소).xls\n"
     ]
    }
   ],
   "source": [
    "# 업로드 준비중인 파일을 하둡으로 업로드\n",
    "from hdfs import InsecureClient\n",
    "local_folder = \"C:\\\\Users\\\\Admin\\\\Downloads\\\\HDFS전송준비\"\n",
    "hdfs = InsecureClient(\"http://namenode:9870\", user=\"hadoop\")\n",
    "\n",
    "hdfs_folder = \"/user/hadoop/upload_oil\"\n",
    "\n",
    "for file_name in os.listdir(local_folder):\n",
    "    local_path = os.path.join(local_folder, file_name)\n",
    "    hdfs_path = hdfs_folder+'/' + file_name\n",
    "    # print(hdfs_path)\n",
    "    hdfs.upload(hdfs_path=hdfs_path , local_path=local_path, overwrite= True)\n",
    "    print(f\"업로드 완료: {file_name}\")"
   ]
  },
  {
   "cell_type": "code",
   "execution_count": 10,
   "id": "123b0ab9-a4b9-41de-9196-e80bc4311029",
   "metadata": {},
   "outputs": [
    {
     "data": {
      "text/plain": [
       "['월분기연간인구동향출생2.csv',\n",
       " '200812_201312_연령별인구현황_연간.csv',\n",
       " '201412_201912_연령별인구현황_연간.csv',\n",
       " '202012_202412_연령별인구현황_연간.csv',\n",
       " 'LICENSE.txt',\n",
       " 'autoupload']"
      ]
     },
     "execution_count": 10,
     "metadata": {},
     "output_type": "execute_result"
    }
   ],
   "source": [
    "hdfs.list('/user/hadoop/')"
   ]
  },
  {
   "cell_type": "code",
   "execution_count": null,
   "id": "792139f9-f7c7-4bd0-a285-763715b6c56c",
   "metadata": {},
   "outputs": [],
   "source": []
  }
 ],
 "metadata": {
  "kernelspec": {
   "display_name": "Python 3 (ipykernel)",
   "language": "python",
   "name": "python3"
  },
  "language_info": {
   "codemirror_mode": {
    "name": "ipython",
    "version": 3
   },
   "file_extension": ".py",
   "mimetype": "text/x-python",
   "name": "python",
   "nbconvert_exporter": "python",
   "pygments_lexer": "ipython3",
   "version": "3.13.1"
  }
 },
 "nbformat": 4,
 "nbformat_minor": 5
}
