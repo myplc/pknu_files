{
 "cells": [
  {
   "cell_type": "code",
   "execution_count": 2,
   "id": "5945b617",
   "metadata": {},
   "outputs": [],
   "source": [
    "# !pip install ultralytics opencv-python matplotlib"
   ]
  },
  {
   "cell_type": "code",
   "execution_count": 1,
   "id": "e1a7aa5c",
   "metadata": {},
   "outputs": [],
   "source": [
    "# 셀 2: YOLO 모델 로드 및 영상 캡처 코드\n",
    "from ultralytics import YOLO\n",
    "import cv2\n",
    "import threading\n",
    "from IPython.display import display, clear_output\n",
    "import PIL.Image\n",
    "import numpy as np\n",
    "\n",
    "# 모델 불러오기 (YOLOv8n: 경량 모델)\n",
    "model = YOLO('yolov8n.pt')\n",
    "\n",
    "# 웹캠 열기 (노트북 기본 카메라는 일반적으로 index 0)\n",
    "cap = cv2.VideoCapture(0)\n",
    "\n",
    "def detect_and_display():\n",
    "    while True:\n",
    "        ret, frame = cap.read()\n",
    "        if not ret:\n",
    "            break\n",
    "\n",
    "        # 객체 탐지 수행\n",
    "        results = model(frame)[0]\n",
    "        annotated_frame = results.plot()\n",
    "\n",
    "        # BGR → RGB 변환 후 이미지 표시\n",
    "        img_rgb = cv2.cvtColor(annotated_frame, cv2.COLOR_BGR2RGB)\n",
    "        pil_img = PIL.Image.fromarray(img_rgb)\n",
    "\n",
    "        # Jupyter 출력\n",
    "        clear_output(wait=True)\n",
    "        display(pil_img)\n",
    "\n",
    "        # 0.1초 대기 (프레임 속도 조절)\n",
    "        if cv2.waitKey(100) & 0xFF == 27:\n",
    "            break\n",
    "\n",
    "# 스레드로 실행 (Jupyter에서 끊기지 않게)\n",
    "threading.Thread(target=detect_and_display).start()\n"
   ]
  },
  {
   "cell_type": "code",
   "execution_count": null,
   "id": "becc2fae-bdb9-46be-b19b-8767db3b51d3",
   "metadata": {},
   "outputs": [],
   "source": []
  }
 ],
 "metadata": {
  "kernelspec": {
   "display_name": "Python 3 (ipykernel)",
   "language": "python",
   "name": "python3"
  }
 },
 "nbformat": 4,
 "nbformat_minor": 5
}
