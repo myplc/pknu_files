get_ipython().getoutput("pip install mysql-connector-python")


import mysql.connector

try:
    conn1 = mysql.connector.connect(
        host="mysql", # MySQL 서버1 주소
        user="root",
        password="1234"
    )
    conn2 = mysql.connector.connect(
        host="210.119.14.60", # MySQL 서버2 주소
        user="root",
        password="1234"
    )    
    if conn1.is_connected():
        print("MySQL 서버1에 성공적으로 연결되었습니다.")
    if conn2.is_connected():
        print("MySQL 서버2에 성공적으로 연결되었습니다.")
except mysql.connector.Error as err:
    print("MySQL 연결 실패:", err)
finally:
    if all([conn1.is_connected(),conn2.is_connected()]):
        print("연결중...")


# 커서 생성
cursor1 = conn1.cursor()
cursor2 = conn2.cursor()
que = "CREATE DATABASE IF NOT EXISTS ysdb"
cursor1.execute(que)
cursor2.execute(que)
conn1.close()
conn2.close()


# MySQL 에 연결
conn1 = mysql.connector.connect(
        host="mysql", # MySQL 서버 주소
        user="root",
        password="1234",
        database="ysdb" # 사용할 데이터 베이스
    )
conn2 = mysql.connector.connect(
        host="210.119.14.60", # MySQL 서버 주소
        user="root",
        password="1234",
        database="ysdb" # 사용할 데이터 베이스
    )
cursor1 = conn1.cursor()
cursor2 = conn2.cursor()
print("MySQL 연결 성공!")


# 테이블 생성
query = "CREATE TABLE IF NOT EXISTS users(id INT AUTO_INCREMENT PRIMARY KEY ,name VARCHAR(50), age INT, city VARCHAR(50))"
cursor1.execute(query)
cursor2.execute(query)
print("테이블 생성완료")


# 여러개의 데이터 삽입
sql = "INSERT INTO users (name, age, city) VALUES (%s, %s, %s)"
m_values=[("superman",33,"Busan"),("Cutegirl",17,"jeju"),("Coolboy",22,"Jeju")]
cursor1.executemany(sql, m_values)
cursor2.executemany(sql, m_values)
conn1.commit()
conn2.commit()
print("여러개의 데이터를 두대의 DB에 삽입 완료!")


# 모든 데이터 조회
que = "SELECT * FROM users"
cursor1.execute(que)
users1 = cursor1.fetchall()
cursor2.execute(que)
users2 = cursor2.fetchall()
# print(users)
print("=====서버1의 내용=====")
for user in users1:
    print(user)
print("=====서버2의 내용=====")
for user in users2:
    print(user)



