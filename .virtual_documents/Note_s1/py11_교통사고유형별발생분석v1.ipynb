


import matplotlib
import matplotlib.pyplot as plt
import matplotlib.font_manager as fm
import matplotlib.dates as mdates

import pandas as pd

# font 설정 D2coding
d2_path = "./ref/D2Coding-Ver1.3.2-20180524.ttf"
fm.fontManager.addfont(d2_path)
matplotlib.rcParams["font.family"] = "D2Coding"


file_path = "./ref/전국교통사고다발지역표준데이터.csv"
ori = pd.read_csv(file_path, encoding="EUC-KR")
ori.tail()


ori_data = ori.copy()
ori_data = ori.groupby('사고유형구분')['사고건수'].sum().reset_index(name="count")
ori_data = ori_data.sort_values('count',ascending=False)
ori_data = ori_data.rename(columns={'사고유형구분':'type'}) #, '사고건수':'count'})
ori_data


ori_data.plot(
    kind = 'pie',
    y='count',
    labels = ori_data['type'] ,
    figsize=(7,7) ,
    startangle=90 ,
    autopct='%2.1f%%',
    title="각 사고 유형별 총 발생 통계",
    cmap = matplotlib.cm.Blues
)
# )
plt.savefig('./chart/accident.png')
plt.show()


# import numpy as np

# ex_data = ori.copy()
# ex_data = ex_data.rename(columns={'사고유형구분': 'type'})

# unique_types = ex_data['type'].unique()
# arr_data = np.array(ex_data['type'])

# # 각 type별로 필터링하여 리스트 저장
# data_list = [ex_data[arr_data == t] for t in unique_types]
# print(data_list)


ex_data = ori.copy()
ex_data= ex_data.rename(columns={'사고연도':'year','사고유형구분':'type','사고건수':'accident'})
ex_data
arr_data = list(set(ex_data['type']))
data_list=[]
for t in arr_data:
    data_list.append(ex_data[ex_data['type']== t])
print(arr_data,data_list)

# 단축
# data_list = [group for _ , group in ex_data.groupby('type')]


total_list=[]
for d in data_list:
    result = d.groupby('year')["accident"].sum().reset_index(name='count')
    total_list.append(result)

# print(arr_data,total_list)

for i in range(len(arr_data)):    
    total_list[i].plot(
    kind = 'pie',
    y = 'count',
    labels = total_list[i]['year'],
    figsize=(7,7),
    startangle=90,
    autopct = '%.1f%%',
    title = f'연도별 {arr_data[i]} 사고 발생 통계',
    cmap = matplotlib.cm.Blues)
    plt.savefig(f'./chart/chart{i}.png')


from IPython.display import display, HTML
# HTML 생성
html = f"""
<div style="display: flex ;flex-wrap:wrap;width:1000px;">
    <div style="flex: 1; min-width:300px";>
        <div style="padding: 10px 0 10px 80px;">
        <h3>Data Table</h3>
        {ori_data.to_html(index=False)}
        </div>
    </div>"""
for v in range(len(arr_data)):
    html += f"""<div style="flex: 1; padding: 10px; min-width:300px">
            <h3>Pie Chart{v+1}</h3>
            <img src="./chart/chart{v}.png" alt="Pie Chart">
        </div>"""
html+=f"""</div> """
    # HTML 표시
# print(html)
display(HTML(html))


import matplotlib.pyplot as plt
fig , axs = plt.subplots(2,2,figsize=(10,8)) # 2 x 2 서브플롯 생성

axs[0,0].plot([1,2,3],[4,5,6])
axs[0,1].scatter([1,2,3],[5,7,6]) 
axs[1,0].bar(['A','B','C'],[4,7,5])
axs[1,1].hist([1,1,2,3,4,5,1,2,3,2],bins=10)

plt.tight_layout()
plt.show()


map_data = ori.copy
map_data


get_ipython().getoutput("pip install folium")
get_ipython().getoutput("pip install ipython")



