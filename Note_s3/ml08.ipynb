{
 "cells": [
  {
   "cell_type": "code",
   "execution_count": 13,
   "id": "3a4954ff",
   "metadata": {},
   "outputs": [
    {
     "name": "stdout",
     "output_type": "stream",
     "text": [
      "data_chart   data_ref\t lec_mldl_01  lec_py_s2  lec_py_s3-c  test.html\n",
      "data_output  docker_DB3  lec_py_s1    lec_py_s3  my_sb\n"
     ]
    }
   ],
   "source": [
    "!ls ./data"
   ]
  },
  {
   "cell_type": "code",
   "execution_count": null,
   "id": "7393de5d",
   "metadata": {},
   "outputs": [
    {
     "name": "stdout",
     "output_type": "stream",
     "text": [
      "0개의 프레임을 ROI 마킹 포함하여 추출완료.\n"
     ]
    }
   ],
   "source": [
    "import cv2\n",
    "import os\n",
    "\n",
    "# 윈도우 기반\n",
    "# video_path = '.\\\\Note_s3\\\\car.mp4' # 영상 원본 경로\n",
    "# output_path = '.\\\\Note_s3\\\\frames_ROI' # 추출 경로\n",
    "# ROI1_path = output_path+'\\\\ROI1' # ROI1 하위에 폴더생성\n",
    "# ROI2_path = output_path+'\\\\ROI2' # ROI2 하위에 폴더생성\n",
    "\n",
    "# 도커 리눅스 기반\n",
    "video_path = './Note_s3/car.mp4' # 영상 원본 경로\n",
    "output_path = './Note_s3/frames_ROI' # 추출 경로\n",
    "ROI1_path = output_path+'/ROI1' # ROI1 하위에 폴더생성\n",
    "ROI2_path = output_path+'/ROI2' # ROI2 하위에 폴더생성\n",
    "\n",
    "os.makedirs(output_path, exist_ok=True)\n",
    "os.makedirs(ROI1_path, exist_ok=True)\n",
    "os.makedirs(ROI2_path, exist_ok=True)\n",
    "\n",
    "cap = cv2.VideoCapture(video_path)\n",
    "\n",
    "# ROI 정의 ( x, y, w, h)\n",
    "# x1, y1 = 108, 93\n",
    "# x2, y2 = 569, 163\n",
    "# roi1 = (x1, y1 , 361 - x1 ,152 - y1 ) # ROI1: 왼쪽 상단\n",
    "# roi2 = (x2, y2 , 625 - x2 ,224 - y2 ) # ROI2: 오른쪽 상단\n",
    "\n",
    "frame_count = 0\n",
    "while True:\n",
    "    ret , frame = cap.read()\n",
    "    if not ret: break\n",
    "    # x1, y1, w1, h1 = roi1\n",
    "    # cv2.rectangle(frame, (x1, y1), (x1 + w1, y1 + h1), (0, 255, 0), 2)\n",
    "\n",
    "    # ROI 1 마킹: 초록색\n",
    "    cv2.rectangle(frame, (108, 93),(202, 180),(0, 255, 0), 2)\n",
    "    # ROI 2 마킹: 파란색\n",
    "    cv2.rectangle(frame, (569, 163),(625, 224),(255, 0, 0), 2)\n",
    "\n",
    "    # 마킹한 전체\n",
    "    frame_filename = os.path.join(output_path, f\"frame_ROI{frame_count:04d}.jpg\")\n",
    "    cv2.imwrite(frame_filename, frame)\n",
    "\n",
    "    # ROI1 크롭\n",
    "    roi1_crop = frame[93:180, 108:202] # x,y 가 뒤집어짐\n",
    "    roi1_filename = os.path.join(ROI1_path, f\"frame_ROI1_crop{frame_count:04d}.jpg\")\n",
    "    cv2.imwrite(roi1_filename, roi1_crop)\n",
    "\n",
    "     # ROI2 크롭\n",
    "    roi2_crop = frame[163:224, 569:625] # x,y 가 뒤집어짐\n",
    "    roi2_filename = os.path.join(ROI2_path, f\"frame_ROI2_crop{frame_count:04d}.jpg\")\n",
    "    cv2.imwrite(roi2_filename, roi2_crop)\n",
    "\n",
    "    frame_count += 1\n",
    "cap.release()\n",
    "print(f'{frame_count}개의 프레임을 ROI 마킹 포함하여 추출완료.')"
   ]
  },
  {
   "cell_type": "code",
   "execution_count": 2,
   "id": "4ba555a0",
   "metadata": {},
   "outputs": [],
   "source": [
    "import matplotlib.pyplot as plt\n",
    "cap = cv2.VideoCapture(video_path)\n",
    "\n",
    "ret , frame = cap.read()\n",
    "if ret:\n",
    "    frame_rgb = cv2.cvtColor(frame, cv2.COLOR_BGR2RGB)\n",
    "    plt.imshow(frame_rgb)\n",
    "    plt.title(\"car\")\n",
    "    plt.axis(\"off\")\n",
    "    plt.show()\n"
   ]
  },
  {
   "cell_type": "code",
   "execution_count": 3,
   "id": "3fd0a7cf",
   "metadata": {},
   "outputs": [
    {
     "ename": "error",
     "evalue": "OpenCV(4.12.0) /io/opencv/modules/imgcodecs/src/loadsave.cpp:1146: error: (-215:Assertion failed) !_img.empty() in function 'imwrite'\n",
     "output_type": "error",
     "traceback": [
      "\u001b[0;31m---------------------------------------------------------------------------\u001b[0m",
      "\u001b[0;31merror\u001b[0m                                     Traceback (most recent call last)",
      "Cell \u001b[0;32mIn[3], line 7\u001b[0m\n\u001b[1;32m      5\u001b[0m ret , frame \u001b[38;5;241m=\u001b[39m cap\u001b[38;5;241m.\u001b[39mread()\n\u001b[1;32m      6\u001b[0m pick \u001b[38;5;241m=\u001b[39m os\u001b[38;5;241m.\u001b[39mpath\u001b[38;5;241m.\u001b[39mjoin(\u001b[38;5;124m\"\u001b[39m\u001b[38;5;124m.\u001b[39m\u001b[38;5;130;01m\\\\\u001b[39;00m\u001b[38;5;124mNote_s3\u001b[39m\u001b[38;5;130;01m\\\\\u001b[39;00m\u001b[38;5;124m\"\u001b[39m, \u001b[38;5;124mf\u001b[39m\u001b[38;5;124m\"\u001b[39m\u001b[38;5;124mframe_\u001b[39m\u001b[38;5;132;01m{\u001b[39;00mposition\u001b[38;5;132;01m}\u001b[39;00m\u001b[38;5;124m.jpg\u001b[39m\u001b[38;5;124m\"\u001b[39m)\n\u001b[0;32m----> 7\u001b[0m \u001b[43mcv2\u001b[49m\u001b[38;5;241;43m.\u001b[39;49m\u001b[43mimwrite\u001b[49m\u001b[43m(\u001b[49m\u001b[43mpick\u001b[49m\u001b[43m,\u001b[49m\u001b[43mframe\u001b[49m\u001b[43m)\u001b[49m\n\u001b[1;32m      8\u001b[0m cap\u001b[38;5;241m.\u001b[39mrelease()\n\u001b[1;32m      9\u001b[0m \u001b[38;5;28mprint\u001b[39m(\u001b[38;5;124m\"\u001b[39m\u001b[38;5;124m프레임의 행렬크기\u001b[39m\u001b[38;5;124m\"\u001b[39m, frame\u001b[38;5;241m.\u001b[39mshape) \u001b[38;5;66;03m# y, x 바뀜\u001b[39;00m\n",
      "\u001b[0;31merror\u001b[0m: OpenCV(4.12.0) /io/opencv/modules/imgcodecs/src/loadsave.cpp:1146: error: (-215:Assertion failed) !_img.empty() in function 'imwrite'\n"
     ]
    }
   ],
   "source": [
    "# 특정 프레임 이동 후 저장\n",
    "cap = cv2.VideoCapture(video_path)\n",
    "position = 229\n",
    "cap.set(cv2.CAP_PROP_POS_FRAMES, position)\n",
    "ret , frame = cap.read()\n",
    "pick = os.path.join(\".\\\\Note_s3\\\\\", f\"frame_{position}.jpg\")\n",
    "cv2.imwrite(pick,frame)\n",
    "cap.release()\n",
    "print(\"프레임의 행렬크기\", frame.shape) # y, x 바뀜"
   ]
  },
  {
   "cell_type": "code",
   "execution_count": null,
   "id": "79d3a7d0",
   "metadata": {},
   "outputs": [],
   "source": []
  }
 ],
 "metadata": {
  "kernelspec": {
   "display_name": "Python 3 (ipykernel)",
   "language": "python",
   "name": "python3"
  }
 },
 "nbformat": 4,
 "nbformat_minor": 5
}
